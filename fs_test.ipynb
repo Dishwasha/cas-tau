{
 "cells": [
  {
   "cell_type": "code",
   "execution_count": 76,
   "metadata": {},
   "outputs": [],
   "source": [
    "import astropy.coordinates as coord\n",
    "from astropy.table import QTable, vstack\n",
    "\n",
    "import astropy.units as u\n",
    "from astropy.coordinates.sky_coordinate import SkyCoord\n",
    "from astropy.units import Quantity\n",
    "from astroquery.gaia import Gaia\n",
    "from astroquery.simbad import Simbad\n",
    "import pandas as pd\n",
    "import pickle\n",
    "import os\n"
   ]
  },
  {
   "cell_type": "code",
   "execution_count": 77,
   "metadata": {},
   "outputs": [],
   "source": [
    "import matplotlib.pyplot as plt\n",
    "from matplotlib.pyplot import cm\n",
    "import numpy as np\n",
    "import pandas as pd "
   ]
  },
  {
   "cell_type": "code",
   "execution_count": 78,
   "metadata": {},
   "outputs": [
    {
     "output_type": "stream",
     "name": "stdout",
     "text": "kevin_leo_mcmanus\n"
    }
   ],
   "source": [
    "!whoami"
   ]
  },
  {
   "cell_type": "code",
   "execution_count": 79,
   "metadata": {},
   "outputs": [],
   "source": [
    "from fieldstars import fieldstars as fs"
   ]
  },
  {
   "cell_type": "code",
   "execution_count": 80,
   "metadata": {},
   "outputs": [],
   "source": [
    "fstars = fs('alpha-per vicinity')\n",
    "fstars.conesearch(52.074625695066345*u.degree, 48.932707471347136*u.degree, 1.0*u.degree, plx_error_thresh=5, r_est=(175,185))"
   ]
  },
  {
   "cell_type": "code",
   "execution_count": 81,
   "metadata": {},
   "outputs": [
    {
     "output_type": "stream",
     "name": "stdout",
     "text": "SELECT \n\t\t source_id\n\t\t,ra\n\t\t,dec\n\t\t,parallax\n\t\t,pmra\n\t\t,pmdec\n\t\t,radial_velocity\n\t\t,phot_g_mean_mag\n\t\t,phot_bp_mean_mag\n\t\t,phot_rp_mean_mag\n\t\t,r_est\nFROM gaiadr2_complements.geometric_distance gd\n\tINNER JOIN gaiadr2.gaia_source gs using (source_id) \nWHERE \n\tCONTAINS(POINT('', gs.ra, gs.dec), \n\t\tCIRCLE('', 52.074625695066345, 48.932707471347136, 1.0)) = 1 \n\tAND gd.r_est BETWEEN 175 AND 185\n\tAND parallax_over_error >= 5\n"
    }
   ],
   "source": [
    "print(fstars.tap_query_string)"
   ]
  },
  {
   "cell_type": "code",
   "execution_count": 82,
   "metadata": {},
   "outputs": [
    {
     "output_type": "execute_result",
     "data": {
      "text/plain": "'alpha-per vicinity'"
     },
     "metadata": {},
     "execution_count": 82
    }
   ],
   "source": [
    "fstars.name"
   ]
  },
  {
   "cell_type": "code",
   "execution_count": 83,
   "metadata": {},
   "outputs": [
    {
     "output_type": "execute_result",
     "data": {
      "text/plain": "89"
     },
     "metadata": {},
     "execution_count": 83
    }
   ],
   "source": [
    "len(fstars.objs)"
   ]
  },
  {
   "cell_type": "code",
   "execution_count": 84,
   "metadata": {},
   "outputs": [
    {
     "output_type": "display_data",
     "data": {
      "text/plain": "<Figure size 432x288 with 1 Axes>",
      "image/svg+xml": "<?xml version=\"1.0\" encoding=\"utf-8\" standalone=\"no\"?>\n<!DOCTYPE svg PUBLIC \"-//W3C//DTD SVG 1.1//EN\"\n  \"http://www.w3.org/Graphics/SVG/1.1/DTD/svg11.dtd\">\n<!-- Created with matplotlib (https://matplotlib.org/) -->\n<svg height=\"251.343252pt\" version=\"1.1\" viewBox=\"0 0 374.123437 251.343252\" width=\"374.123437pt\" xmlns=\"http://www.w3.org/2000/svg\" xmlns:xlink=\"http://www.w3.org/1999/xlink\">\n <defs>\n  <style type=\"text/css\">\n*{stroke-linecap:butt;stroke-linejoin:round;}\n  </style>\n </defs>\n <g id=\"figure_1\">\n  <g id=\"patch_1\">\n   <path d=\"M 0 251.343252 \nL 374.123437 251.343252 \nL 374.123437 0 \nL 0 0 \nz\n\" style=\"fill:none;\"/>\n  </g>\n  <g id=\"axes_1\">\n   <g id=\"patch_2\">\n    <path d=\"M 28.942188 227.465127 \nL 363.742188 227.465127 \nL 363.742188 10.025127 \nL 28.942188 10.025127 \nz\n\" style=\"fill:#ffffff;\"/>\n   </g>\n   <g id=\"PathCollection_1\">\n    <defs>\n     <path d=\"M 0 0.5 \nC 0.132602 0.5 0.25979 0.447317 0.353553 0.353553 \nC 0.447317 0.25979 0.5 0.132602 0.5 0 \nC 0.5 -0.132602 0.447317 -0.25979 0.353553 -0.353553 \nC 0.25979 -0.447317 0.132602 -0.5 0 -0.5 \nC -0.132602 -0.5 -0.25979 -0.447317 -0.353553 -0.353553 \nC -0.447317 -0.25979 -0.5 -0.132602 -0.5 0 \nC -0.5 0.132602 -0.447317 0.25979 -0.353553 0.353553 \nC -0.25979 0.447317 -0.132602 0.5 0 0.5 \nz\n\" id=\"mbecbd13b3b\" style=\"stroke:#0000ff;\"/>\n    </defs>\n    <g clip-path=\"url(#pdaa112e928)\">\n     <use style=\"fill:#0000ff;stroke:#0000ff;\" x=\"259.079724\" xlink:href=\"#mbecbd13b3b\" y=\"179.331627\"/>\n     <use style=\"fill:#0000ff;stroke:#0000ff;\" x=\"228.351878\" xlink:href=\"#mbecbd13b3b\" y=\"164.791958\"/>\n     <use style=\"fill:#0000ff;stroke:#0000ff;\" x=\"251.073683\" xlink:href=\"#mbecbd13b3b\" y=\"172.486774\"/>\n     <use style=\"fill:#0000ff;stroke:#0000ff;\" x=\"145.182325\" xlink:href=\"#mbecbd13b3b\" y=\"109.059858\"/>\n     <use style=\"fill:#0000ff;stroke:#0000ff;\" x=\"155.833845\" xlink:href=\"#mbecbd13b3b\" y=\"119.631384\"/>\n     <use style=\"fill:#0000ff;stroke:#0000ff;\" x=\"258.025747\" xlink:href=\"#mbecbd13b3b\" y=\"176.917699\"/>\n     <use style=\"fill:#0000ff;stroke:#0000ff;\" x=\"160.980004\" xlink:href=\"#mbecbd13b3b\" y=\"122.799833\"/>\n     <use style=\"fill:#0000ff;stroke:#0000ff;\" x=\"258.537889\" xlink:href=\"#mbecbd13b3b\" y=\"199.108105\"/>\n     <use style=\"fill:#0000ff;stroke:#0000ff;\" x=\"223.765594\" xlink:href=\"#mbecbd13b3b\" y=\"199.025661\"/>\n     <use style=\"fill:#0000ff;stroke:#0000ff;\" x=\"230.561312\" xlink:href=\"#mbecbd13b3b\" y=\"175.252291\"/>\n     <use style=\"fill:#0000ff;stroke:#0000ff;\" x=\"280.240999\" xlink:href=\"#mbecbd13b3b\" y=\"194.010221\"/>\n     <use style=\"fill:#0000ff;stroke:#0000ff;\" x=\"269.922605\" xlink:href=\"#mbecbd13b3b\" y=\"189.797636\"/>\n     <use style=\"fill:#0000ff;stroke:#0000ff;\" x=\"86.331374\" xlink:href=\"#mbecbd13b3b\" y=\"51.973142\"/>\n     <use style=\"fill:#0000ff;stroke:#0000ff;\" x=\"136.132737\" xlink:href=\"#mbecbd13b3b\" y=\"101.142005\"/>\n     <use style=\"fill:#0000ff;stroke:#0000ff;\" x=\"141.737024\" xlink:href=\"#mbecbd13b3b\" y=\"109.437756\"/>\n     <use style=\"fill:#0000ff;stroke:#0000ff;\" x=\"266.068347\" xlink:href=\"#mbecbd13b3b\" y=\"191.339318\"/>\n     <use style=\"fill:#0000ff;stroke:#0000ff;\" x=\"78.378761\" xlink:href=\"#mbecbd13b3b\" y=\"19.938854\"/>\n     <use style=\"fill:#0000ff;stroke:#0000ff;\" x=\"271.797903\" xlink:href=\"#mbecbd13b3b\" y=\"192.983288\"/>\n     <use style=\"fill:#0000ff;stroke:#0000ff;\" x=\"242.138933\" xlink:href=\"#mbecbd13b3b\" y=\"214.306174\"/>\n     <use style=\"fill:#0000ff;stroke:#0000ff;\" x=\"138.760548\" xlink:href=\"#mbecbd13b3b\" y=\"101.285261\"/>\n     <use style=\"fill:#0000ff;stroke:#0000ff;\" x=\"259.026882\" xlink:href=\"#mbecbd13b3b\" y=\"178.158666\"/>\n     <use style=\"fill:#0000ff;stroke:#0000ff;\" x=\"213.419156\" xlink:href=\"#mbecbd13b3b\" y=\"146.980974\"/>\n     <use style=\"fill:#0000ff;stroke:#0000ff;\" x=\"244.356616\" xlink:href=\"#mbecbd13b3b\" y=\"191.502465\"/>\n     <use style=\"fill:#0000ff;stroke:#0000ff;\" x=\"135.588667\" xlink:href=\"#mbecbd13b3b\" y=\"101.645492\"/>\n     <use style=\"fill:#0000ff;stroke:#0000ff;\" x=\"240.48054\" xlink:href=\"#mbecbd13b3b\" y=\"214.670047\"/>\n     <use style=\"fill:#0000ff;stroke:#0000ff;\" x=\"255.919922\" xlink:href=\"#mbecbd13b3b\" y=\"198.813334\"/>\n     <use style=\"fill:#0000ff;stroke:#0000ff;\" x=\"220.380054\" xlink:href=\"#mbecbd13b3b\" y=\"154.120774\"/>\n     <use style=\"fill:#0000ff;stroke:#0000ff;\" x=\"128.155432\" xlink:href=\"#mbecbd13b3b\" y=\"88.785672\"/>\n     <use style=\"fill:#0000ff;stroke:#0000ff;\" x=\"250.082021\" xlink:href=\"#mbecbd13b3b\" y=\"173.560696\"/>\n     <use style=\"fill:#0000ff;stroke:#0000ff;\" x=\"287.4014\" xlink:href=\"#mbecbd13b3b\" y=\"203.018135\"/>\n     <use style=\"fill:#0000ff;stroke:#0000ff;\" x=\"266.337296\" xlink:href=\"#mbecbd13b3b\" y=\"182.125963\"/>\n     <use style=\"fill:#0000ff;stroke:#0000ff;\" x=\"179.387561\" xlink:href=\"#mbecbd13b3b\" y=\"134.094209\"/>\n     <use style=\"fill:#0000ff;stroke:#0000ff;\" x=\"246.949731\" xlink:href=\"#mbecbd13b3b\" y=\"168.324422\"/>\n     <use style=\"fill:#0000ff;stroke:#0000ff;\" x=\"212.140824\" xlink:href=\"#mbecbd13b3b\" y=\"149.212569\"/>\n     <use style=\"fill:#0000ff;stroke:#0000ff;\" x=\"205.387944\" xlink:href=\"#mbecbd13b3b\" y=\"145.943024\"/>\n     <use style=\"fill:#0000ff;stroke:#0000ff;\" x=\"254.693209\" xlink:href=\"#mbecbd13b3b\" y=\"186.622815\"/>\n     <use style=\"fill:#0000ff;stroke:#0000ff;\" x=\"266.733216\" xlink:href=\"#mbecbd13b3b\" y=\"197.001121\"/>\n     <use style=\"fill:#0000ff;stroke:#0000ff;\" x=\"247.751841\" xlink:href=\"#mbecbd13b3b\" y=\"172.505273\"/>\n     <use style=\"fill:#0000ff;stroke:#0000ff;\" x=\"155.018112\" xlink:href=\"#mbecbd13b3b\" y=\"115.167161\"/>\n     <use style=\"fill:#0000ff;stroke:#0000ff;\" x=\"158.64892\" xlink:href=\"#mbecbd13b3b\" y=\"123.555066\"/>\n     <use style=\"fill:#0000ff;stroke:#0000ff;\" x=\"240.501879\" xlink:href=\"#mbecbd13b3b\" y=\"165.967458\"/>\n     <use style=\"fill:#0000ff;stroke:#0000ff;\" x=\"96.537032\" xlink:href=\"#mbecbd13b3b\" y=\"64.840192\"/>\n     <use style=\"fill:#0000ff;stroke:#0000ff;\" x=\"187.546914\" xlink:href=\"#mbecbd13b3b\" y=\"182.645174\"/>\n     <use style=\"fill:#0000ff;stroke:#0000ff;\" x=\"236.39932\" xlink:href=\"#mbecbd13b3b\" y=\"177.531955\"/>\n     <use style=\"fill:#0000ff;stroke:#0000ff;\" x=\"211.718403\" xlink:href=\"#mbecbd13b3b\" y=\"149.325559\"/>\n     <use style=\"fill:#0000ff;stroke:#0000ff;\" x=\"234.271304\" xlink:href=\"#mbecbd13b3b\" y=\"160.813627\"/>\n     <use style=\"fill:#0000ff;stroke:#0000ff;\" x=\"277.517986\" xlink:href=\"#mbecbd13b3b\" y=\"202.853548\"/>\n     <use style=\"fill:#0000ff;stroke:#0000ff;\" x=\"160.179543\" xlink:href=\"#mbecbd13b3b\" y=\"122.615228\"/>\n     <use style=\"fill:#0000ff;stroke:#0000ff;\" x=\"158.312441\" xlink:href=\"#mbecbd13b3b\" y=\"119.769059\"/>\n     <use style=\"fill:#0000ff;stroke:#0000ff;\" x=\"268.393737\" xlink:href=\"#mbecbd13b3b\" y=\"204.988451\"/>\n     <use style=\"fill:#0000ff;stroke:#0000ff;\" x=\"253.586124\" xlink:href=\"#mbecbd13b3b\" y=\"217.551401\"/>\n     <use style=\"fill:#0000ff;stroke:#0000ff;\" x=\"98.94597\" xlink:href=\"#mbecbd13b3b\" y=\"65.411142\"/>\n     <use style=\"fill:#0000ff;stroke:#0000ff;\" x=\"93.724884\" xlink:href=\"#mbecbd13b3b\" y=\"62.042536\"/>\n     <use style=\"fill:#0000ff;stroke:#0000ff;\" x=\"230.547902\" xlink:href=\"#mbecbd13b3b\" y=\"159.892391\"/>\n     <use style=\"fill:#0000ff;stroke:#0000ff;\" x=\"240.782003\" xlink:href=\"#mbecbd13b3b\" y=\"163.352476\"/>\n     <use style=\"fill:#0000ff;stroke:#0000ff;\" x=\"241.967155\" xlink:href=\"#mbecbd13b3b\" y=\"169.781995\"/>\n     <use style=\"fill:#0000ff;stroke:#0000ff;\" x=\"110.497782\" xlink:href=\"#mbecbd13b3b\" y=\"72.148534\"/>\n     <use style=\"fill:#0000ff;stroke:#0000ff;\" x=\"256.092552\" xlink:href=\"#mbecbd13b3b\" y=\"181.508835\"/>\n     <use style=\"fill:#0000ff;stroke:#0000ff;\" x=\"126.040028\" xlink:href=\"#mbecbd13b3b\" y=\"87.839357\"/>\n     <use style=\"fill:#0000ff;stroke:#0000ff;\" x=\"143.512171\" xlink:href=\"#mbecbd13b3b\" y=\"108.892122\"/>\n     <use style=\"fill:#0000ff;stroke:#0000ff;\" x=\"87.095728\" xlink:href=\"#mbecbd13b3b\" y=\"46.772231\"/>\n     <use style=\"fill:#0000ff;stroke:#0000ff;\" x=\"242.639633\" xlink:href=\"#mbecbd13b3b\" y=\"169.641155\"/>\n     <use style=\"fill:#0000ff;stroke:#0000ff;\" x=\"141.942009\" xlink:href=\"#mbecbd13b3b\" y=\"105.399082\"/>\n     <use style=\"fill:#0000ff;stroke:#0000ff;\" x=\"293.363186\" xlink:href=\"#mbecbd13b3b\" y=\"205.433546\"/>\n     <use style=\"fill:#0000ff;stroke:#0000ff;\" x=\"155.562927\" xlink:href=\"#mbecbd13b3b\" y=\"120.399793\"/>\n     <use style=\"fill:#0000ff;stroke:#0000ff;\" x=\"258.435184\" xlink:href=\"#mbecbd13b3b\" y=\"182.708476\"/>\n     <use style=\"fill:#0000ff;stroke:#0000ff;\" x=\"156.154199\" xlink:href=\"#mbecbd13b3b\" y=\"111.953756\"/>\n     <use style=\"fill:#0000ff;stroke:#0000ff;\" x=\"99.554803\" xlink:href=\"#mbecbd13b3b\" y=\"67.059147\"/>\n     <use style=\"fill:#0000ff;stroke:#0000ff;\" x=\"149.957948\" xlink:href=\"#mbecbd13b3b\" y=\"115.944359\"/>\n     <use style=\"fill:#0000ff;stroke:#0000ff;\" x=\"144.196783\" xlink:href=\"#mbecbd13b3b\" y=\"110.408351\"/>\n     <use style=\"fill:#0000ff;stroke:#0000ff;\" x=\"277.458704\" xlink:href=\"#mbecbd13b3b\" y=\"193.283065\"/>\n     <use style=\"fill:#0000ff;stroke:#0000ff;\" x=\"142.223995\" xlink:href=\"#mbecbd13b3b\" y=\"107.975908\"/>\n     <use style=\"fill:#0000ff;stroke:#0000ff;\" x=\"259.091325\" xlink:href=\"#mbecbd13b3b\" y=\"182.35381\"/>\n     <use style=\"fill:#0000ff;stroke:#0000ff;\" x=\"281.300084\" xlink:href=\"#mbecbd13b3b\" y=\"206.498624\"/>\n     <use style=\"fill:#0000ff;stroke:#0000ff;\" x=\"156.555121\" xlink:href=\"#mbecbd13b3b\" y=\"121.480138\"/>\n     <use style=\"fill:#0000ff;stroke:#0000ff;\" x=\"248.642767\" xlink:href=\"#mbecbd13b3b\" y=\"166.342823\"/>\n     <use style=\"fill:#0000ff;stroke:#0000ff;\" x=\"225.616838\" xlink:href=\"#mbecbd13b3b\" y=\"191.523863\"/>\n     <use style=\"fill:#0000ff;stroke:#0000ff;\" x=\"262.525397\" xlink:href=\"#mbecbd13b3b\" y=\"186.347077\"/>\n     <use style=\"fill:#0000ff;stroke:#0000ff;\" x=\"226.369777\" xlink:href=\"#mbecbd13b3b\" y=\"156.031679\"/>\n     <use style=\"fill:#0000ff;stroke:#0000ff;\" x=\"236.485103\" xlink:href=\"#mbecbd13b3b\" y=\"164.832473\"/>\n     <use style=\"fill:#0000ff;stroke:#0000ff;\" x=\"165.131308\" xlink:href=\"#mbecbd13b3b\" y=\"128.119626\"/>\n     <use style=\"fill:#0000ff;stroke:#0000ff;\" x=\"82.979892\" xlink:href=\"#mbecbd13b3b\" y=\"31.033215\"/>\n     <use style=\"fill:#0000ff;stroke:#0000ff;\" x=\"247.20511\" xlink:href=\"#mbecbd13b3b\" y=\"194.079698\"/>\n     <use style=\"fill:#0000ff;stroke:#0000ff;\" x=\"252.718293\" xlink:href=\"#mbecbd13b3b\" y=\"176.355379\"/>\n     <use style=\"fill:#0000ff;stroke:#0000ff;\" x=\"247.007736\" xlink:href=\"#mbecbd13b3b\" y=\"166.593265\"/>\n     <use style=\"fill:#0000ff;stroke:#0000ff;\" x=\"238.381686\" xlink:href=\"#mbecbd13b3b\" y=\"171.827208\"/>\n     <use style=\"fill:#0000ff;stroke:#0000ff;\" x=\"253.360918\" xlink:href=\"#mbecbd13b3b\" y=\"177.270334\"/>\n    </g>\n   </g>\n   <g id=\"matplotlib.axis_1\">\n    <g id=\"xtick_1\">\n     <g id=\"line2d_1\">\n      <defs>\n       <path d=\"M 0 0 \nL 0 3.5 \n\" id=\"m066cd3865a\" style=\"stroke:#000000;stroke-width:0.8;\"/>\n      </defs>\n      <g>\n       <use style=\"stroke:#000000;stroke-width:0.8;\" x=\"28.942188\" xlink:href=\"#m066cd3865a\" y=\"227.465127\"/>\n      </g>\n     </g>\n     <g id=\"text_1\">\n      <!-- −1 -->\n      <defs>\n       <path d=\"M 10.59375 35.5 \nL 73.1875 35.5 \nL 73.1875 27.203125 \nL 10.59375 27.203125 \nz\n\" id=\"DejaVuSans-8722\"/>\n       <path d=\"M 12.40625 8.296875 \nL 28.515625 8.296875 \nL 28.515625 63.921875 \nL 10.984375 60.40625 \nL 10.984375 69.390625 \nL 28.421875 72.90625 \nL 38.28125 72.90625 \nL 38.28125 8.296875 \nL 54.390625 8.296875 \nL 54.390625 0 \nL 12.40625 0 \nz\n\" id=\"DejaVuSans-49\"/>\n      </defs>\n      <g transform=\"translate(21.571094 242.063565)scale(0.1 -0.1)\">\n       <use xlink:href=\"#DejaVuSans-8722\"/>\n       <use x=\"83.789062\" xlink:href=\"#DejaVuSans-49\"/>\n      </g>\n     </g>\n    </g>\n    <g id=\"xtick_2\">\n     <g id=\"line2d_2\">\n      <g>\n       <use style=\"stroke:#000000;stroke-width:0.8;\" x=\"84.742188\" xlink:href=\"#m066cd3865a\" y=\"227.465127\"/>\n      </g>\n     </g>\n     <g id=\"text_2\">\n      <!-- 0 -->\n      <defs>\n       <path d=\"M 31.78125 66.40625 \nQ 24.171875 66.40625 20.328125 58.90625 \nQ 16.5 51.421875 16.5 36.375 \nQ 16.5 21.390625 20.328125 13.890625 \nQ 24.171875 6.390625 31.78125 6.390625 \nQ 39.453125 6.390625 43.28125 13.890625 \nQ 47.125 21.390625 47.125 36.375 \nQ 47.125 51.421875 43.28125 58.90625 \nQ 39.453125 66.40625 31.78125 66.40625 \nz\nM 31.78125 74.21875 \nQ 44.046875 74.21875 50.515625 64.515625 \nQ 56.984375 54.828125 56.984375 36.375 \nQ 56.984375 17.96875 50.515625 8.265625 \nQ 44.046875 -1.421875 31.78125 -1.421875 \nQ 19.53125 -1.421875 13.0625 8.265625 \nQ 6.59375 17.96875 6.59375 36.375 \nQ 6.59375 54.828125 13.0625 64.515625 \nQ 19.53125 74.21875 31.78125 74.21875 \nz\n\" id=\"DejaVuSans-48\"/>\n      </defs>\n      <g transform=\"translate(81.560937 242.063565)scale(0.1 -0.1)\">\n       <use xlink:href=\"#DejaVuSans-48\"/>\n      </g>\n     </g>\n    </g>\n    <g id=\"xtick_3\">\n     <g id=\"line2d_3\">\n      <g>\n       <use style=\"stroke:#000000;stroke-width:0.8;\" x=\"140.542188\" xlink:href=\"#m066cd3865a\" y=\"227.465127\"/>\n      </g>\n     </g>\n     <g id=\"text_3\">\n      <!-- 1 -->\n      <g transform=\"translate(137.360938 242.063565)scale(0.1 -0.1)\">\n       <use xlink:href=\"#DejaVuSans-49\"/>\n      </g>\n     </g>\n    </g>\n    <g id=\"xtick_4\">\n     <g id=\"line2d_4\">\n      <g>\n       <use style=\"stroke:#000000;stroke-width:0.8;\" x=\"196.342187\" xlink:href=\"#m066cd3865a\" y=\"227.465127\"/>\n      </g>\n     </g>\n     <g id=\"text_4\">\n      <!-- 2 -->\n      <defs>\n       <path d=\"M 19.1875 8.296875 \nL 53.609375 8.296875 \nL 53.609375 0 \nL 7.328125 0 \nL 7.328125 8.296875 \nQ 12.9375 14.109375 22.625 23.890625 \nQ 32.328125 33.6875 34.8125 36.53125 \nQ 39.546875 41.84375 41.421875 45.53125 \nQ 43.3125 49.21875 43.3125 52.78125 \nQ 43.3125 58.59375 39.234375 62.25 \nQ 35.15625 65.921875 28.609375 65.921875 \nQ 23.96875 65.921875 18.8125 64.3125 \nQ 13.671875 62.703125 7.8125 59.421875 \nL 7.8125 69.390625 \nQ 13.765625 71.78125 18.9375 73 \nQ 24.125 74.21875 28.421875 74.21875 \nQ 39.75 74.21875 46.484375 68.546875 \nQ 53.21875 62.890625 53.21875 53.421875 \nQ 53.21875 48.921875 51.53125 44.890625 \nQ 49.859375 40.875 45.40625 35.40625 \nQ 44.1875 33.984375 37.640625 27.21875 \nQ 31.109375 20.453125 19.1875 8.296875 \nz\n\" id=\"DejaVuSans-50\"/>\n      </defs>\n      <g transform=\"translate(193.160937 242.063565)scale(0.1 -0.1)\">\n       <use xlink:href=\"#DejaVuSans-50\"/>\n      </g>\n     </g>\n    </g>\n    <g id=\"xtick_5\">\n     <g id=\"line2d_5\">\n      <g>\n       <use style=\"stroke:#000000;stroke-width:0.8;\" x=\"252.142187\" xlink:href=\"#m066cd3865a\" y=\"227.465127\"/>\n      </g>\n     </g>\n     <g id=\"text_5\">\n      <!-- 3 -->\n      <defs>\n       <path d=\"M 40.578125 39.3125 \nQ 47.65625 37.796875 51.625 33 \nQ 55.609375 28.21875 55.609375 21.1875 \nQ 55.609375 10.40625 48.1875 4.484375 \nQ 40.765625 -1.421875 27.09375 -1.421875 \nQ 22.515625 -1.421875 17.65625 -0.515625 \nQ 12.796875 0.390625 7.625 2.203125 \nL 7.625 11.71875 \nQ 11.71875 9.328125 16.59375 8.109375 \nQ 21.484375 6.890625 26.8125 6.890625 \nQ 36.078125 6.890625 40.9375 10.546875 \nQ 45.796875 14.203125 45.796875 21.1875 \nQ 45.796875 27.640625 41.28125 31.265625 \nQ 36.765625 34.90625 28.71875 34.90625 \nL 20.21875 34.90625 \nL 20.21875 43.015625 \nL 29.109375 43.015625 \nQ 36.375 43.015625 40.234375 45.921875 \nQ 44.09375 48.828125 44.09375 54.296875 \nQ 44.09375 59.90625 40.109375 62.90625 \nQ 36.140625 65.921875 28.71875 65.921875 \nQ 24.65625 65.921875 20.015625 65.03125 \nQ 15.375 64.15625 9.8125 62.3125 \nL 9.8125 71.09375 \nQ 15.4375 72.65625 20.34375 73.4375 \nQ 25.25 74.21875 29.59375 74.21875 \nQ 40.828125 74.21875 47.359375 69.109375 \nQ 53.90625 64.015625 53.90625 55.328125 \nQ 53.90625 49.265625 50.4375 45.09375 \nQ 46.96875 40.921875 40.578125 39.3125 \nz\n\" id=\"DejaVuSans-51\"/>\n      </defs>\n      <g transform=\"translate(248.960937 242.063565)scale(0.1 -0.1)\">\n       <use xlink:href=\"#DejaVuSans-51\"/>\n      </g>\n     </g>\n    </g>\n    <g id=\"xtick_6\">\n     <g id=\"line2d_6\">\n      <g>\n       <use style=\"stroke:#000000;stroke-width:0.8;\" x=\"307.942187\" xlink:href=\"#m066cd3865a\" y=\"227.465127\"/>\n      </g>\n     </g>\n     <g id=\"text_6\">\n      <!-- 4 -->\n      <defs>\n       <path d=\"M 37.796875 64.3125 \nL 12.890625 25.390625 \nL 37.796875 25.390625 \nz\nM 35.203125 72.90625 \nL 47.609375 72.90625 \nL 47.609375 25.390625 \nL 58.015625 25.390625 \nL 58.015625 17.1875 \nL 47.609375 17.1875 \nL 47.609375 0 \nL 37.796875 0 \nL 37.796875 17.1875 \nL 4.890625 17.1875 \nL 4.890625 26.703125 \nz\n\" id=\"DejaVuSans-52\"/>\n      </defs>\n      <g transform=\"translate(304.760938 242.063565)scale(0.1 -0.1)\">\n       <use xlink:href=\"#DejaVuSans-52\"/>\n      </g>\n     </g>\n    </g>\n    <g id=\"xtick_7\">\n     <g id=\"line2d_7\">\n      <g>\n       <use style=\"stroke:#000000;stroke-width:0.8;\" x=\"363.742188\" xlink:href=\"#m066cd3865a\" y=\"227.465127\"/>\n      </g>\n     </g>\n     <g id=\"text_7\">\n      <!-- 5 -->\n      <defs>\n       <path d=\"M 10.796875 72.90625 \nL 49.515625 72.90625 \nL 49.515625 64.59375 \nL 19.828125 64.59375 \nL 19.828125 46.734375 \nQ 21.96875 47.46875 24.109375 47.828125 \nQ 26.265625 48.1875 28.421875 48.1875 \nQ 40.625 48.1875 47.75 41.5 \nQ 54.890625 34.8125 54.890625 23.390625 \nQ 54.890625 11.625 47.5625 5.09375 \nQ 40.234375 -1.421875 26.90625 -1.421875 \nQ 22.3125 -1.421875 17.546875 -0.640625 \nQ 12.796875 0.140625 7.71875 1.703125 \nL 7.71875 11.625 \nQ 12.109375 9.234375 16.796875 8.0625 \nQ 21.484375 6.890625 26.703125 6.890625 \nQ 35.15625 6.890625 40.078125 11.328125 \nQ 45.015625 15.765625 45.015625 23.390625 \nQ 45.015625 31 40.078125 35.4375 \nQ 35.15625 39.890625 26.703125 39.890625 \nQ 22.75 39.890625 18.8125 39.015625 \nQ 14.890625 38.140625 10.796875 36.28125 \nz\n\" id=\"DejaVuSans-53\"/>\n      </defs>\n      <g transform=\"translate(360.560938 242.063565)scale(0.1 -0.1)\">\n       <use xlink:href=\"#DejaVuSans-53\"/>\n      </g>\n     </g>\n    </g>\n   </g>\n   <g id=\"matplotlib.axis_2\">\n    <g id=\"ytick_1\">\n     <g id=\"line2d_8\">\n      <defs>\n       <path d=\"M 0 0 \nL -3.5 0 \n\" id=\"m50a47e6c73\" style=\"stroke:#000000;stroke-width:0.8;\"/>\n      </defs>\n      <g>\n       <use style=\"stroke:#000000;stroke-width:0.8;\" x=\"28.942188\" xlink:href=\"#m50a47e6c73\" y=\"10.999219\"/>\n      </g>\n     </g>\n     <g id=\"text_8\">\n      <!-- −2 -->\n      <g transform=\"translate(7.2 14.798437)scale(0.1 -0.1)\">\n       <use xlink:href=\"#DejaVuSans-8722\"/>\n       <use x=\"83.789062\" xlink:href=\"#DejaVuSans-50\"/>\n      </g>\n     </g>\n    </g>\n    <g id=\"ytick_2\">\n     <g id=\"line2d_9\">\n      <g>\n       <use style=\"stroke:#000000;stroke-width:0.8;\" x=\"28.942188\" xlink:href=\"#m50a47e6c73\" y=\"37.170498\"/>\n      </g>\n     </g>\n     <g id=\"text_9\">\n      <!-- 0 -->\n      <g transform=\"translate(15.579688 40.969716)scale(0.1 -0.1)\">\n       <use xlink:href=\"#DejaVuSans-48\"/>\n      </g>\n     </g>\n    </g>\n    <g id=\"ytick_3\">\n     <g id=\"line2d_10\">\n      <g>\n       <use style=\"stroke:#000000;stroke-width:0.8;\" x=\"28.942188\" xlink:href=\"#m50a47e6c73\" y=\"63.341777\"/>\n      </g>\n     </g>\n     <g id=\"text_10\">\n      <!-- 2 -->\n      <g transform=\"translate(15.579688 67.140995)scale(0.1 -0.1)\">\n       <use xlink:href=\"#DejaVuSans-50\"/>\n      </g>\n     </g>\n    </g>\n    <g id=\"ytick_4\">\n     <g id=\"line2d_11\">\n      <g>\n       <use style=\"stroke:#000000;stroke-width:0.8;\" x=\"28.942188\" xlink:href=\"#m50a47e6c73\" y=\"89.513056\"/>\n      </g>\n     </g>\n     <g id=\"text_11\">\n      <!-- 4 -->\n      <g transform=\"translate(15.579688 93.312274)scale(0.1 -0.1)\">\n       <use xlink:href=\"#DejaVuSans-52\"/>\n      </g>\n     </g>\n    </g>\n    <g id=\"ytick_5\">\n     <g id=\"line2d_12\">\n      <g>\n       <use style=\"stroke:#000000;stroke-width:0.8;\" x=\"28.942188\" xlink:href=\"#m50a47e6c73\" y=\"115.684335\"/>\n      </g>\n     </g>\n     <g id=\"text_12\">\n      <!-- 6 -->\n      <defs>\n       <path d=\"M 33.015625 40.375 \nQ 26.375 40.375 22.484375 35.828125 \nQ 18.609375 31.296875 18.609375 23.390625 \nQ 18.609375 15.53125 22.484375 10.953125 \nQ 26.375 6.390625 33.015625 6.390625 \nQ 39.65625 6.390625 43.53125 10.953125 \nQ 47.40625 15.53125 47.40625 23.390625 \nQ 47.40625 31.296875 43.53125 35.828125 \nQ 39.65625 40.375 33.015625 40.375 \nz\nM 52.59375 71.296875 \nL 52.59375 62.3125 \nQ 48.875 64.0625 45.09375 64.984375 \nQ 41.3125 65.921875 37.59375 65.921875 \nQ 27.828125 65.921875 22.671875 59.328125 \nQ 17.53125 52.734375 16.796875 39.40625 \nQ 19.671875 43.65625 24.015625 45.921875 \nQ 28.375 48.1875 33.59375 48.1875 \nQ 44.578125 48.1875 50.953125 41.515625 \nQ 57.328125 34.859375 57.328125 23.390625 \nQ 57.328125 12.15625 50.6875 5.359375 \nQ 44.046875 -1.421875 33.015625 -1.421875 \nQ 20.359375 -1.421875 13.671875 8.265625 \nQ 6.984375 17.96875 6.984375 36.375 \nQ 6.984375 53.65625 15.1875 63.9375 \nQ 23.390625 74.21875 37.203125 74.21875 \nQ 40.921875 74.21875 44.703125 73.484375 \nQ 48.484375 72.75 52.59375 71.296875 \nz\n\" id=\"DejaVuSans-54\"/>\n      </defs>\n      <g transform=\"translate(15.579688 119.483553)scale(0.1 -0.1)\">\n       <use xlink:href=\"#DejaVuSans-54\"/>\n      </g>\n     </g>\n    </g>\n    <g id=\"ytick_6\">\n     <g id=\"line2d_13\">\n      <g>\n       <use style=\"stroke:#000000;stroke-width:0.8;\" x=\"28.942188\" xlink:href=\"#m50a47e6c73\" y=\"141.855614\"/>\n      </g>\n     </g>\n     <g id=\"text_13\">\n      <!-- 8 -->\n      <defs>\n       <path d=\"M 31.78125 34.625 \nQ 24.75 34.625 20.71875 30.859375 \nQ 16.703125 27.09375 16.703125 20.515625 \nQ 16.703125 13.921875 20.71875 10.15625 \nQ 24.75 6.390625 31.78125 6.390625 \nQ 38.8125 6.390625 42.859375 10.171875 \nQ 46.921875 13.96875 46.921875 20.515625 \nQ 46.921875 27.09375 42.890625 30.859375 \nQ 38.875 34.625 31.78125 34.625 \nz\nM 21.921875 38.8125 \nQ 15.578125 40.375 12.03125 44.71875 \nQ 8.5 49.078125 8.5 55.328125 \nQ 8.5 64.0625 14.71875 69.140625 \nQ 20.953125 74.21875 31.78125 74.21875 \nQ 42.671875 74.21875 48.875 69.140625 \nQ 55.078125 64.0625 55.078125 55.328125 \nQ 55.078125 49.078125 51.53125 44.71875 \nQ 48 40.375 41.703125 38.8125 \nQ 48.828125 37.15625 52.796875 32.3125 \nQ 56.78125 27.484375 56.78125 20.515625 \nQ 56.78125 9.90625 50.3125 4.234375 \nQ 43.84375 -1.421875 31.78125 -1.421875 \nQ 19.734375 -1.421875 13.25 4.234375 \nQ 6.78125 9.90625 6.78125 20.515625 \nQ 6.78125 27.484375 10.78125 32.3125 \nQ 14.796875 37.15625 21.921875 38.8125 \nz\nM 18.3125 54.390625 \nQ 18.3125 48.734375 21.84375 45.5625 \nQ 25.390625 42.390625 31.78125 42.390625 \nQ 38.140625 42.390625 41.71875 45.5625 \nQ 45.3125 48.734375 45.3125 54.390625 \nQ 45.3125 60.0625 41.71875 63.234375 \nQ 38.140625 66.40625 31.78125 66.40625 \nQ 25.390625 66.40625 21.84375 63.234375 \nQ 18.3125 60.0625 18.3125 54.390625 \nz\n\" id=\"DejaVuSans-56\"/>\n      </defs>\n      <g transform=\"translate(15.579688 145.654832)scale(0.1 -0.1)\">\n       <use xlink:href=\"#DejaVuSans-56\"/>\n      </g>\n     </g>\n    </g>\n    <g id=\"ytick_7\">\n     <g id=\"line2d_14\">\n      <g>\n       <use style=\"stroke:#000000;stroke-width:0.8;\" x=\"28.942188\" xlink:href=\"#m50a47e6c73\" y=\"168.026893\"/>\n      </g>\n     </g>\n     <g id=\"text_14\">\n      <!-- 10 -->\n      <g transform=\"translate(9.217188 171.826111)scale(0.1 -0.1)\">\n       <use xlink:href=\"#DejaVuSans-49\"/>\n       <use x=\"63.623047\" xlink:href=\"#DejaVuSans-48\"/>\n      </g>\n     </g>\n    </g>\n    <g id=\"ytick_8\">\n     <g id=\"line2d_15\">\n      <g>\n       <use style=\"stroke:#000000;stroke-width:0.8;\" x=\"28.942188\" xlink:href=\"#m50a47e6c73\" y=\"194.198172\"/>\n      </g>\n     </g>\n     <g id=\"text_15\">\n      <!-- 12 -->\n      <g transform=\"translate(9.217188 197.99739)scale(0.1 -0.1)\">\n       <use xlink:href=\"#DejaVuSans-49\"/>\n       <use x=\"63.623047\" xlink:href=\"#DejaVuSans-50\"/>\n      </g>\n     </g>\n    </g>\n    <g id=\"ytick_9\">\n     <g id=\"line2d_16\">\n      <g>\n       <use style=\"stroke:#000000;stroke-width:0.8;\" x=\"28.942188\" xlink:href=\"#m50a47e6c73\" y=\"220.369451\"/>\n      </g>\n     </g>\n     <g id=\"text_16\">\n      <!-- 14 -->\n      <g transform=\"translate(9.217188 224.168669)scale(0.1 -0.1)\">\n       <use xlink:href=\"#DejaVuSans-49\"/>\n       <use x=\"63.623047\" xlink:href=\"#DejaVuSans-52\"/>\n      </g>\n     </g>\n    </g>\n   </g>\n   <g id=\"patch_3\">\n    <path d=\"M 28.942188 227.465127 \nL 28.942188 10.025127 \n\" style=\"fill:none;stroke:#000000;stroke-linecap:square;stroke-linejoin:miter;stroke-width:0.8;\"/>\n   </g>\n   <g id=\"patch_4\">\n    <path d=\"M 363.742188 227.465127 \nL 363.742188 10.025127 \n\" style=\"fill:none;stroke:#000000;stroke-linecap:square;stroke-linejoin:miter;stroke-width:0.8;\"/>\n   </g>\n   <g id=\"patch_5\">\n    <path d=\"M 28.942188 227.465127 \nL 363.742188 227.465127 \n\" style=\"fill:none;stroke:#000000;stroke-linecap:square;stroke-linejoin:miter;stroke-width:0.8;\"/>\n   </g>\n   <g id=\"patch_6\">\n    <path d=\"M 28.942188 10.025127 \nL 363.742188 10.025127 \n\" style=\"fill:none;stroke:#000000;stroke-linecap:square;stroke-linejoin:miter;stroke-width:0.8;\"/>\n   </g>\n   <g id=\"legend_1\">\n    <g id=\"patch_7\">\n     <path d=\"M 237.695312 32.703252 \nL 356.742188 32.703252 \nQ 358.742188 32.703252 358.742188 30.703252 \nL 358.742188 17.025127 \nQ 358.742188 15.025127 356.742188 15.025127 \nL 237.695312 15.025127 \nQ 235.695312 15.025127 235.695312 17.025127 \nL 235.695312 30.703252 \nQ 235.695312 32.703252 237.695312 32.703252 \nz\n\" style=\"fill:#ffffff;opacity:0.8;stroke:#cccccc;stroke-linejoin:miter;\"/>\n    </g>\n    <g id=\"PathCollection_2\">\n     <g>\n      <use style=\"fill:#0000ff;stroke:#0000ff;\" x=\"249.695312\" xlink:href=\"#mbecbd13b3b\" y=\"23.998565\"/>\n     </g>\n    </g>\n    <g id=\"text_17\">\n     <!-- alpha-per vicinity -->\n     <defs>\n      <path d=\"M 34.28125 27.484375 \nQ 23.390625 27.484375 19.1875 25 \nQ 14.984375 22.515625 14.984375 16.5 \nQ 14.984375 11.71875 18.140625 8.90625 \nQ 21.296875 6.109375 26.703125 6.109375 \nQ 34.1875 6.109375 38.703125 11.40625 \nQ 43.21875 16.703125 43.21875 25.484375 \nL 43.21875 27.484375 \nz\nM 52.203125 31.203125 \nL 52.203125 0 \nL 43.21875 0 \nL 43.21875 8.296875 \nQ 40.140625 3.328125 35.546875 0.953125 \nQ 30.953125 -1.421875 24.3125 -1.421875 \nQ 15.921875 -1.421875 10.953125 3.296875 \nQ 6 8.015625 6 15.921875 \nQ 6 25.140625 12.171875 29.828125 \nQ 18.359375 34.515625 30.609375 34.515625 \nL 43.21875 34.515625 \nL 43.21875 35.40625 \nQ 43.21875 41.609375 39.140625 45 \nQ 35.0625 48.390625 27.6875 48.390625 \nQ 23 48.390625 18.546875 47.265625 \nQ 14.109375 46.140625 10.015625 43.890625 \nL 10.015625 52.203125 \nQ 14.9375 54.109375 19.578125 55.046875 \nQ 24.21875 56 28.609375 56 \nQ 40.484375 56 46.34375 49.84375 \nQ 52.203125 43.703125 52.203125 31.203125 \nz\n\" id=\"DejaVuSans-97\"/>\n      <path d=\"M 9.421875 75.984375 \nL 18.40625 75.984375 \nL 18.40625 0 \nL 9.421875 0 \nz\n\" id=\"DejaVuSans-108\"/>\n      <path d=\"M 18.109375 8.203125 \nL 18.109375 -20.796875 \nL 9.078125 -20.796875 \nL 9.078125 54.6875 \nL 18.109375 54.6875 \nL 18.109375 46.390625 \nQ 20.953125 51.265625 25.265625 53.625 \nQ 29.59375 56 35.59375 56 \nQ 45.5625 56 51.78125 48.09375 \nQ 58.015625 40.1875 58.015625 27.296875 \nQ 58.015625 14.40625 51.78125 6.484375 \nQ 45.5625 -1.421875 35.59375 -1.421875 \nQ 29.59375 -1.421875 25.265625 0.953125 \nQ 20.953125 3.328125 18.109375 8.203125 \nz\nM 48.6875 27.296875 \nQ 48.6875 37.203125 44.609375 42.84375 \nQ 40.53125 48.484375 33.40625 48.484375 \nQ 26.265625 48.484375 22.1875 42.84375 \nQ 18.109375 37.203125 18.109375 27.296875 \nQ 18.109375 17.390625 22.1875 11.75 \nQ 26.265625 6.109375 33.40625 6.109375 \nQ 40.53125 6.109375 44.609375 11.75 \nQ 48.6875 17.390625 48.6875 27.296875 \nz\n\" id=\"DejaVuSans-112\"/>\n      <path d=\"M 54.890625 33.015625 \nL 54.890625 0 \nL 45.90625 0 \nL 45.90625 32.71875 \nQ 45.90625 40.484375 42.875 44.328125 \nQ 39.84375 48.1875 33.796875 48.1875 \nQ 26.515625 48.1875 22.3125 43.546875 \nQ 18.109375 38.921875 18.109375 30.90625 \nL 18.109375 0 \nL 9.078125 0 \nL 9.078125 75.984375 \nL 18.109375 75.984375 \nL 18.109375 46.1875 \nQ 21.34375 51.125 25.703125 53.5625 \nQ 30.078125 56 35.796875 56 \nQ 45.21875 56 50.046875 50.171875 \nQ 54.890625 44.34375 54.890625 33.015625 \nz\n\" id=\"DejaVuSans-104\"/>\n      <path d=\"M 4.890625 31.390625 \nL 31.203125 31.390625 \nL 31.203125 23.390625 \nL 4.890625 23.390625 \nz\n\" id=\"DejaVuSans-45\"/>\n      <path d=\"M 56.203125 29.59375 \nL 56.203125 25.203125 \nL 14.890625 25.203125 \nQ 15.484375 15.921875 20.484375 11.0625 \nQ 25.484375 6.203125 34.421875 6.203125 \nQ 39.59375 6.203125 44.453125 7.46875 \nQ 49.3125 8.734375 54.109375 11.28125 \nL 54.109375 2.78125 \nQ 49.265625 0.734375 44.1875 -0.34375 \nQ 39.109375 -1.421875 33.890625 -1.421875 \nQ 20.796875 -1.421875 13.15625 6.1875 \nQ 5.515625 13.8125 5.515625 26.8125 \nQ 5.515625 40.234375 12.765625 48.109375 \nQ 20.015625 56 32.328125 56 \nQ 43.359375 56 49.78125 48.890625 \nQ 56.203125 41.796875 56.203125 29.59375 \nz\nM 47.21875 32.234375 \nQ 47.125 39.59375 43.09375 43.984375 \nQ 39.0625 48.390625 32.421875 48.390625 \nQ 24.90625 48.390625 20.390625 44.140625 \nQ 15.875 39.890625 15.1875 32.171875 \nz\n\" id=\"DejaVuSans-101\"/>\n      <path d=\"M 41.109375 46.296875 \nQ 39.59375 47.171875 37.8125 47.578125 \nQ 36.03125 48 33.890625 48 \nQ 26.265625 48 22.1875 43.046875 \nQ 18.109375 38.09375 18.109375 28.8125 \nL 18.109375 0 \nL 9.078125 0 \nL 9.078125 54.6875 \nL 18.109375 54.6875 \nL 18.109375 46.1875 \nQ 20.953125 51.171875 25.484375 53.578125 \nQ 30.03125 56 36.53125 56 \nQ 37.453125 56 38.578125 55.875 \nQ 39.703125 55.765625 41.0625 55.515625 \nz\n\" id=\"DejaVuSans-114\"/>\n      <path id=\"DejaVuSans-32\"/>\n      <path d=\"M 2.984375 54.6875 \nL 12.5 54.6875 \nL 29.59375 8.796875 \nL 46.6875 54.6875 \nL 56.203125 54.6875 \nL 35.6875 0 \nL 23.484375 0 \nz\n\" id=\"DejaVuSans-118\"/>\n      <path d=\"M 9.421875 54.6875 \nL 18.40625 54.6875 \nL 18.40625 0 \nL 9.421875 0 \nz\nM 9.421875 75.984375 \nL 18.40625 75.984375 \nL 18.40625 64.59375 \nL 9.421875 64.59375 \nz\n\" id=\"DejaVuSans-105\"/>\n      <path d=\"M 48.78125 52.59375 \nL 48.78125 44.1875 \nQ 44.96875 46.296875 41.140625 47.34375 \nQ 37.3125 48.390625 33.40625 48.390625 \nQ 24.65625 48.390625 19.8125 42.84375 \nQ 14.984375 37.3125 14.984375 27.296875 \nQ 14.984375 17.28125 19.8125 11.734375 \nQ 24.65625 6.203125 33.40625 6.203125 \nQ 37.3125 6.203125 41.140625 7.25 \nQ 44.96875 8.296875 48.78125 10.40625 \nL 48.78125 2.09375 \nQ 45.015625 0.34375 40.984375 -0.53125 \nQ 36.96875 -1.421875 32.421875 -1.421875 \nQ 20.0625 -1.421875 12.78125 6.34375 \nQ 5.515625 14.109375 5.515625 27.296875 \nQ 5.515625 40.671875 12.859375 48.328125 \nQ 20.21875 56 33.015625 56 \nQ 37.15625 56 41.109375 55.140625 \nQ 45.0625 54.296875 48.78125 52.59375 \nz\n\" id=\"DejaVuSans-99\"/>\n      <path d=\"M 54.890625 33.015625 \nL 54.890625 0 \nL 45.90625 0 \nL 45.90625 32.71875 \nQ 45.90625 40.484375 42.875 44.328125 \nQ 39.84375 48.1875 33.796875 48.1875 \nQ 26.515625 48.1875 22.3125 43.546875 \nQ 18.109375 38.921875 18.109375 30.90625 \nL 18.109375 0 \nL 9.078125 0 \nL 9.078125 54.6875 \nL 18.109375 54.6875 \nL 18.109375 46.1875 \nQ 21.34375 51.125 25.703125 53.5625 \nQ 30.078125 56 35.796875 56 \nQ 45.21875 56 50.046875 50.171875 \nQ 54.890625 44.34375 54.890625 33.015625 \nz\n\" id=\"DejaVuSans-110\"/>\n      <path d=\"M 18.3125 70.21875 \nL 18.3125 54.6875 \nL 36.8125 54.6875 \nL 36.8125 47.703125 \nL 18.3125 47.703125 \nL 18.3125 18.015625 \nQ 18.3125 11.328125 20.140625 9.421875 \nQ 21.96875 7.515625 27.59375 7.515625 \nL 36.8125 7.515625 \nL 36.8125 0 \nL 27.59375 0 \nQ 17.1875 0 13.234375 3.875 \nQ 9.28125 7.765625 9.28125 18.015625 \nL 9.28125 47.703125 \nL 2.6875 47.703125 \nL 2.6875 54.6875 \nL 9.28125 54.6875 \nL 9.28125 70.21875 \nz\n\" id=\"DejaVuSans-116\"/>\n      <path d=\"M 32.171875 -5.078125 \nQ 28.375 -14.84375 24.75 -17.8125 \nQ 21.140625 -20.796875 15.09375 -20.796875 \nL 7.90625 -20.796875 \nL 7.90625 -13.28125 \nL 13.1875 -13.28125 \nQ 16.890625 -13.28125 18.9375 -11.515625 \nQ 21 -9.765625 23.484375 -3.21875 \nL 25.09375 0.875 \nL 2.984375 54.6875 \nL 12.5 54.6875 \nL 29.59375 11.921875 \nL 46.6875 54.6875 \nL 56.203125 54.6875 \nz\n\" id=\"DejaVuSans-121\"/>\n     </defs>\n     <g transform=\"translate(267.695312 26.623565)scale(0.1 -0.1)\">\n      <use xlink:href=\"#DejaVuSans-97\"/>\n      <use x=\"61.279297\" xlink:href=\"#DejaVuSans-108\"/>\n      <use x=\"89.0625\" xlink:href=\"#DejaVuSans-112\"/>\n      <use x=\"152.539062\" xlink:href=\"#DejaVuSans-104\"/>\n      <use x=\"215.917969\" xlink:href=\"#DejaVuSans-97\"/>\n      <use x=\"277.197266\" xlink:href=\"#DejaVuSans-45\"/>\n      <use x=\"313.28125\" xlink:href=\"#DejaVuSans-112\"/>\n      <use x=\"376.757812\" xlink:href=\"#DejaVuSans-101\"/>\n      <use x=\"438.28125\" xlink:href=\"#DejaVuSans-114\"/>\n      <use x=\"479.394531\" xlink:href=\"#DejaVuSans-32\"/>\n      <use x=\"511.181641\" xlink:href=\"#DejaVuSans-118\"/>\n      <use x=\"570.361328\" xlink:href=\"#DejaVuSans-105\"/>\n      <use x=\"598.144531\" xlink:href=\"#DejaVuSans-99\"/>\n      <use x=\"653.125\" xlink:href=\"#DejaVuSans-105\"/>\n      <use x=\"680.908203\" xlink:href=\"#DejaVuSans-110\"/>\n      <use x=\"744.287109\" xlink:href=\"#DejaVuSans-105\"/>\n      <use x=\"772.070312\" xlink:href=\"#DejaVuSans-116\"/>\n      <use x=\"811.279297\" xlink:href=\"#DejaVuSans-121\"/>\n     </g>\n    </g>\n   </g>\n  </g>\n </g>\n <defs>\n  <clipPath id=\"pdaa112e928\">\n   <rect height=\"217.44\" width=\"334.8\" x=\"28.942188\" y=\"10.025127\"/>\n  </clipPath>\n </defs>\n</svg>\n",
      "image/png": "[encoded data removed]"
     },
     "metadata": {
      "needs_background": "light"
     }
    }
   ],
   "source": [
    "fstars.plot_hrdiagram()"
   ]
  },
  {
   "cell_type": "code",
   "execution_count": 85,
   "metadata": {},
   "outputs": [
    {
     "output_type": "execute_result",
     "data": {
      "text/plain": "(51.87527679521976, 48.939076757482255)"
     },
     "metadata": {},
     "execution_count": 85
    }
   ],
   "source": [
    "fstars.objs.ra.mean(), fstars.objs.dec.mean()"
   ]
  },
  {
   "cell_type": "code",
   "execution_count": 86,
   "metadata": {},
   "outputs": [],
   "source": [
    "clust_c = SkyCoord(ra=52.074625695066345*u.degree, dec =  48.932707471347136*u.degree )"
   ]
  },
  {
   "cell_type": "code",
   "execution_count": 87,
   "metadata": {},
   "outputs": [
    {
     "output_type": "execute_result",
     "data": {
      "text/plain": "<SkyCoord (ICRS): (ra, dec) in deg\n    (52.0746257, 48.93270747)>"
     },
     "metadata": {},
     "execution_count": 87
    }
   ],
   "source": [
    "clust_c"
   ]
  },
  {
   "cell_type": "code",
   "execution_count": 88,
   "metadata": {},
   "outputs": [],
   "source": [
    "objs_c = SkyCoord(ra=np.array(fstars.objs.ra)*u.degree, dec=np.array(fstars.objs.dec)*u.degree)"
   ]
  },
  {
   "cell_type": "code",
   "execution_count": 89,
   "metadata": {},
   "outputs": [],
   "source": [
    "sep = clust_c.separation(objs_c)"
   ]
  },
  {
   "cell_type": "code",
   "execution_count": 90,
   "metadata": {},
   "outputs": [
    {
     "output_type": "error",
     "ename": "NameError",
     "evalue": "name 'zz' is not defined",
     "traceback": [
      "\u001b[0;31m---------------------------------------------------------------------------\u001b[0m",
      "\u001b[0;31mNameError\u001b[0m                                 Traceback (most recent call last)",
      "\u001b[0;32m<ipython-input-90-b29240103a14>\u001b[0m in \u001b[0;36m<module>\u001b[0;34m\u001b[0m\n\u001b[0;32m----> 1\u001b[0;31m \u001b[0mzz\u001b[0m\u001b[0;34m+\u001b[0m\u001b[0mplt\u001b[0m\u001b[0;34m.\u001b[0m\u001b[0mhist\u001b[0m\u001b[0;34m(\u001b[0m\u001b[0msep\u001b[0m\u001b[0;34m.\u001b[0m\u001b[0mvalue\u001b[0m\u001b[0;34m)\u001b[0m\u001b[0;34m\u001b[0m\u001b[0;34m\u001b[0m\u001b[0m\n\u001b[0m",
      "\u001b[0;31mNameError\u001b[0m: name 'zz' is not defined"
     ]
    }
   ],
   "source": [
    "zz+plt.hist(sep.value)"
   ]
  },
  {
   "cell_type": "code",
   "execution_count": 91,
   "metadata": {},
   "outputs": [],
   "source": [
    "from cluster import cluster as cl"
   ]
  },
  {
   "cell_type": "code",
   "execution_count": 92,
   "metadata": {},
   "outputs": [],
   "source": [
    "alpha_per = cl('alpha_per','./data/J_A+A_628_A66')"
   ]
  },
  {
   "cell_type": "code",
   "execution_count": 93,
   "metadata": {},
   "outputs": [
    {
     "output_type": "execute_result",
     "data": {
      "text/plain": "       RAdeg      DEdeg            SourceCP    RVCP  e_RVCP    PlxCP  \\\n0  34.813290  52.493074  455075360092433920 -9999.0 -9999.0  5.77091   \n1  35.010252  52.664085  455037048980464896 -9999.0 -9999.0  5.63410   \n2  35.076013  52.480215  455026156947855872 -9999.0 -9999.0  5.46087   \n3  35.095645  48.516677  355242590505237888 -9999.0 -9999.0  5.89340   \n4  35.202351  49.437643  355343947436467200 -9999.0 -9999.0  5.82667   \n\n    e_PlxCP   GmagCP  pmRACP  e_pmRACP  ...  Mode   RV  e_RV  o_RV     rest  \\\n0  0.109942  16.5334  27.646     0.350  ...     0  0.0   0.0     0  171.669   \n1  1.095480  20.3099  18.664     2.195  ...     0  0.0   0.0     0  189.235   \n2  1.454370  20.3340  21.394     3.404  ...     0  0.0   0.0     0  211.700   \n3  0.077502  15.8404  27.676     0.134  ...     0  0.0   0.0     0  167.334   \n4  0.286555  17.6887  36.234     0.626  ...     1  0.0   0.0     0  170.884   \n\n    b_rest   B_rest     rlen  ResFlag  ModFlag  \n0  168.464  174.996  827.580        1        1  \n1  149.916  256.777  834.032        1        1  \n2  126.050  725.565  828.804        1        1  \n3  165.175  169.549  686.124        1        1  \n4  162.705  179.914  721.461        1        1  \n\n[5 rows x 82 columns]",
      "text/html": "<div>\n<style scoped>\n    .dataframe tbody tr th:only-of-type {\n        vertical-align: middle;\n    }\n\n    .dataframe tbody tr th {\n        vertical-align: top;\n    }\n\n    .dataframe thead th {\n        text-align: right;\n    }\n</style>\n<table border=\"1\" class=\"dataframe\">\n  <thead>\n    <tr style=\"text-align: right;\">\n      <th></th>\n      <th>RAdeg</th>\n      <th>DEdeg</th>\n      <th>SourceCP</th>\n      <th>RVCP</th>\n      <th>e_RVCP</th>\n      <th>PlxCP</th>\n      <th>e_PlxCP</th>\n      <th>GmagCP</th>\n      <th>pmRACP</th>\n      <th>e_pmRACP</th>\n      <th>...</th>\n      <th>Mode</th>\n      <th>RV</th>\n      <th>e_RV</th>\n      <th>o_RV</th>\n      <th>rest</th>\n      <th>b_rest</th>\n      <th>B_rest</th>\n      <th>rlen</th>\n      <th>ResFlag</th>\n      <th>ModFlag</th>\n    </tr>\n  </thead>\n  <tbody>\n    <tr>\n      <th>0</th>\n      <td>34.813290</td>\n      <td>52.493074</td>\n      <td>455075360092433920</td>\n      <td>-9999.0</td>\n      <td>-9999.0</td>\n      <td>5.77091</td>\n      <td>0.109942</td>\n      <td>16.5334</td>\n      <td>27.646</td>\n      <td>0.350</td>\n      <td>...</td>\n      <td>0</td>\n      <td>0.0</td>\n      <td>0.0</td>\n      <td>0</td>\n      <td>171.669</td>\n      <td>168.464</td>\n      <td>174.996</td>\n      <td>827.580</td>\n      <td>1</td>\n      <td>1</td>\n    </tr>\n    <tr>\n      <th>1</th>\n      <td>35.010252</td>\n      <td>52.664085</td>\n      <td>455037048980464896</td>\n      <td>-9999.0</td>\n      <td>-9999.0</td>\n      <td>5.63410</td>\n      <td>1.095480</td>\n      <td>20.3099</td>\n      <td>18.664</td>\n      <td>2.195</td>\n      <td>...</td>\n      <td>0</td>\n      <td>0.0</td>\n      <td>0.0</td>\n      <td>0</td>\n      <td>189.235</td>\n      <td>149.916</td>\n      <td>256.777</td>\n      <td>834.032</td>\n      <td>1</td>\n      <td>1</td>\n    </tr>\n    <tr>\n      <th>2</th>\n      <td>35.076013</td>\n      <td>52.480215</td>\n      <td>455026156947855872</td>\n      <td>-9999.0</td>\n      <td>-9999.0</td>\n      <td>5.46087</td>\n      <td>1.454370</td>\n      <td>20.3340</td>\n      <td>21.394</td>\n      <td>3.404</td>\n      <td>...</td>\n      <td>0</td>\n      <td>0.0</td>\n      <td>0.0</td>\n      <td>0</td>\n      <td>211.700</td>\n      <td>126.050</td>\n      <td>725.565</td>\n      <td>828.804</td>\n      <td>1</td>\n      <td>1</td>\n    </tr>\n    <tr>\n      <th>3</th>\n      <td>35.095645</td>\n      <td>48.516677</td>\n      <td>355242590505237888</td>\n      <td>-9999.0</td>\n      <td>-9999.0</td>\n      <td>5.89340</td>\n      <td>0.077502</td>\n      <td>15.8404</td>\n      <td>27.676</td>\n      <td>0.134</td>\n      <td>...</td>\n      <td>0</td>\n      <td>0.0</td>\n      <td>0.0</td>\n      <td>0</td>\n      <td>167.334</td>\n      <td>165.175</td>\n      <td>169.549</td>\n      <td>686.124</td>\n      <td>1</td>\n      <td>1</td>\n    </tr>\n    <tr>\n      <th>4</th>\n      <td>35.202351</td>\n      <td>49.437643</td>\n      <td>355343947436467200</td>\n      <td>-9999.0</td>\n      <td>-9999.0</td>\n      <td>5.82667</td>\n      <td>0.286555</td>\n      <td>17.6887</td>\n      <td>36.234</td>\n      <td>0.626</td>\n      <td>...</td>\n      <td>1</td>\n      <td>0.0</td>\n      <td>0.0</td>\n      <td>0</td>\n      <td>170.884</td>\n      <td>162.705</td>\n      <td>179.914</td>\n      <td>721.461</td>\n      <td>1</td>\n      <td>1</td>\n    </tr>\n  </tbody>\n</table>\n<p>5 rows × 82 columns</p>\n</div>"
     },
     "metadata": {},
     "execution_count": 93
    }
   ],
   "source": [
    "alpha_per.objs.head()"
   ]
  },
  {
   "cell_type": "code",
   "execution_count": 94,
   "metadata": {},
   "outputs": [
    {
     "output_type": "execute_result",
     "data": {
      "text/plain": "Index(['RAdeg', 'DEdeg', 'SourceCP', 'RVCP', 'e_RVCP', 'PlxCP', 'e_PlxCP',\n       'GmagCP', 'pmRACP', 'e_pmRACP', 'pmDECP', 'e_pmDECP', 'bx', 'by', 'bz',\n       'vx', 'vy', 'vz', 'c', 'distC', 'Source', 'Plx', 'e_Plx', 'pmRA',\n       'e_pmRA', 'pmDE', 'e_pmDE', 'RADEcor', 'RAPlxcor', 'RApmRAcor',\n       'RApmDEcor', 'DEPlxcor', 'DEpmRAcor', 'DEpmDEcor', 'PlxpmRAcor',\n       'PlxpmDEcor', 'pmRApmDEcor', 'NAL', 'NAC', 'NgAL', 'NbAL', 'gofAL',\n       'chi2AL', 'epsi', 'sepsi', 'Solved', 'APF', 'WAL', 'pscol', 'e_pscol',\n       'fvarpi', 'MatchObsA', 'Nper', 'amax', 'MatchObs', 'Dup', 'o_Gmag',\n       'FG', 'e_FG', 'RFG', 'Gmag', 'o_BPmag', 'FBP', 'e_FBP', 'RFBP', 'BPmag',\n       'o_RPmag', 'FRP', 'e_FRP', 'RFRP', 'RPmag', 'E(BR/RP)', 'Mode', 'RV',\n       'e_RV', 'o_RV', 'rest', 'b_rest', 'B_rest', 'rlen', 'ResFlag',\n       'ModFlag'],\n      dtype='object')"
     },
     "metadata": {},
     "execution_count": 94
    }
   ],
   "source": [
    "alpha_per.objs.columns"
   ]
  },
  {
   "cell_type": "code",
   "execution_count": 95,
   "metadata": {},
   "outputs": [],
   "source": [
    "colmapper= {'source_id':'SourceCP', 'ra':'RAdeg', 'dec':'DEdeg','parallax':'Plx',\n",
    "            'pmra':'pmRA', 'pmdec':'pmDE', 'radial_velocity':'RVCP',\n",
    "            'phot_g_mean_mag':'Gmag', 'phot_bp_mean_mag':'BPmag', 'phot_rp_mean_mag':'RPmag','r_est':'rest'}"
   ]
  },
  {
   "cell_type": "code",
   "execution_count": 96,
   "metadata": {},
   "outputs": [
    {
     "output_type": "execute_result",
     "data": {
      "text/plain": "['SourceCP',\n 'RAdeg',\n 'DEdeg',\n 'Plx',\n 'pmRA',\n 'pmDE',\n 'RVCP',\n 'Gmag',\n 'BPmag',\n 'RPmag',\n 'rest']"
     },
     "metadata": {},
     "execution_count": 96
    }
   ],
   "source": [
    "[k for k in colmapper.values()]"
   ]
  },
  {
   "cell_type": "markdown",
   "metadata": {},
   "source": [
    "```\n",
    "def from_pandas(df, colmapper, name=None):\n",
    "\n",
    "    my_fs = fs(name=name)\n",
    "    src_cols = [c for c in colmapper.values()]\n",
    "    dest_cols = [c for c in colmapper.keys()]\n",
    "\n",
    "    arg_df = df.reset_index()\n",
    "\n",
    "    inv_cols = set(src_cols).difference(arg_df.columns)\n",
    "    if len(inv_cols) != 0:\n",
    "        raise ValueError('invalid source column(s): '+str(inv_cols))\n",
    "    # case 1: too few dest columns given\n",
    "    missing_cols = set(__column_list).difference(dest_cols)\n",
    "    if len(missing_cols) != 0:\n",
    "        raise ValueError('Missing column mapping for: '+str(missinig_columns))\n",
    "    # case 2: too many dest columns given:\n",
    "    extra_cols = set(dest_cols).difference(__column_list)\n",
    "    if len(extra_cols) != 0:\n",
    "        raise ValueError('Invalid destination column supplied: '+str(extra_cols))\n",
    "    #swap the keys and values for purposes of renaming:\n",
    "    col_renamer = {s:d for s,d in zip(src_cols, dest_cols)}\n",
    "    my_fs.objs = arg_df[src_cols].rename(columns = col_renamer, copy=True)\n",
    "\n",
    "    my_fs.objs.set_index('source_id', inplace=True)\n",
    "    return my_fs\n",
    "```"
   ]
  },
  {
   "cell_type": "code",
   "execution_count": 97,
   "metadata": {},
   "outputs": [],
   "source": [
    "new_fs = from_pandas(alpha_per.objs, colmapper, 'new')"
   ]
  },
  {
   "cell_type": "code",
   "execution_count": 98,
   "metadata": {},
   "outputs": [
    {
     "output_type": "execute_result",
     "data": {
      "text/plain": "                           ra        dec  parallax    pmra   pmdec  \\\nsource_id                                                            \n455075360092433920  34.813290  52.493074    5.7999  27.646 -19.901   \n455037048980464896  35.010252  52.664085    5.6581  18.664 -20.069   \n455026156947855872  35.076013  52.480215    5.4758  21.394  -2.636   \n355242590505237888  35.095645  48.516677    5.9488  27.676 -19.837   \n355343947436467200  35.202351  49.437643    5.8477  36.234 -24.237   \n\n                    radial_velocity  phot_g_mean_mag  phot_bp_mean_mag  \\\nsource_id                                                                \n455075360092433920          -9999.0          16.5334         18.378500   \n455037048980464896          -9999.0          20.3099         21.707800   \n455026156947855872          -9999.0          20.3340         21.061501   \n355242590505237888          -9999.0          15.8404         17.374001   \n355343947436467200          -9999.0          17.6887         19.016600   \n\n                    phot_rp_mean_mag    r_est  \nsource_id                                      \n455075360092433920         15.233000  171.669  \n455037048980464896         18.835100  189.235  \n455026156947855872         19.076401  211.700  \n355242590505237888         14.629200  167.334  \n355343947436467200         16.304399  170.884  ",
      "text/html": "<div>\n<style scoped>\n    .dataframe tbody tr th:only-of-type {\n        vertical-align: middle;\n    }\n\n    .dataframe tbody tr th {\n        vertical-align: top;\n    }\n\n    .dataframe thead th {\n        text-align: right;\n    }\n</style>\n<table border=\"1\" class=\"dataframe\">\n  <thead>\n    <tr style=\"text-align: right;\">\n      <th></th>\n      <th>ra</th>\n      <th>dec</th>\n      <th>parallax</th>\n      <th>pmra</th>\n      <th>pmdec</th>\n      <th>radial_velocity</th>\n      <th>phot_g_mean_mag</th>\n      <th>phot_bp_mean_mag</th>\n      <th>phot_rp_mean_mag</th>\n      <th>r_est</th>\n    </tr>\n    <tr>\n      <th>source_id</th>\n      <th></th>\n      <th></th>\n      <th></th>\n      <th></th>\n      <th></th>\n      <th></th>\n      <th></th>\n      <th></th>\n      <th></th>\n      <th></th>\n    </tr>\n  </thead>\n  <tbody>\n    <tr>\n      <th>455075360092433920</th>\n      <td>34.813290</td>\n      <td>52.493074</td>\n      <td>5.7999</td>\n      <td>27.646</td>\n      <td>-19.901</td>\n      <td>-9999.0</td>\n      <td>16.5334</td>\n      <td>18.378500</td>\n      <td>15.233000</td>\n      <td>171.669</td>\n    </tr>\n    <tr>\n      <th>455037048980464896</th>\n      <td>35.010252</td>\n      <td>52.664085</td>\n      <td>5.6581</td>\n      <td>18.664</td>\n      <td>-20.069</td>\n      <td>-9999.0</td>\n      <td>20.3099</td>\n      <td>21.707800</td>\n      <td>18.835100</td>\n      <td>189.235</td>\n    </tr>\n    <tr>\n      <th>455026156947855872</th>\n      <td>35.076013</td>\n      <td>52.480215</td>\n      <td>5.4758</td>\n      <td>21.394</td>\n      <td>-2.636</td>\n      <td>-9999.0</td>\n      <td>20.3340</td>\n      <td>21.061501</td>\n      <td>19.076401</td>\n      <td>211.700</td>\n    </tr>\n    <tr>\n      <th>355242590505237888</th>\n      <td>35.095645</td>\n      <td>48.516677</td>\n      <td>5.9488</td>\n      <td>27.676</td>\n      <td>-19.837</td>\n      <td>-9999.0</td>\n      <td>15.8404</td>\n      <td>17.374001</td>\n      <td>14.629200</td>\n      <td>167.334</td>\n    </tr>\n    <tr>\n      <th>355343947436467200</th>\n      <td>35.202351</td>\n      <td>49.437643</td>\n      <td>5.8477</td>\n      <td>36.234</td>\n      <td>-24.237</td>\n      <td>-9999.0</td>\n      <td>17.6887</td>\n      <td>19.016600</td>\n      <td>16.304399</td>\n      <td>170.884</td>\n    </tr>\n  </tbody>\n</table>\n</div>"
     },
     "metadata": {},
     "execution_count": 98
    }
   ],
   "source": [
    "new_fs.objs.head()"
   ]
  },
  {
   "cell_type": "code",
   "execution_count": 99,
   "metadata": {},
   "outputs": [
    {
     "output_type": "execute_result",
     "data": {
      "text/plain": "       RAdeg      DEdeg            SourceCP    RVCP  e_RVCP    PlxCP  \\\n0  34.813290  52.493074  455075360092433920 -9999.0 -9999.0  5.77091   \n1  35.010252  52.664085  455037048980464896 -9999.0 -9999.0  5.63410   \n2  35.076013  52.480215  455026156947855872 -9999.0 -9999.0  5.46087   \n3  35.095645  48.516677  355242590505237888 -9999.0 -9999.0  5.89340   \n4  35.202351  49.437643  355343947436467200 -9999.0 -9999.0  5.82667   \n\n    e_PlxCP   GmagCP  pmRACP  e_pmRACP  ...  Mode   RV  e_RV  o_RV     rest  \\\n0  0.109942  16.5334  27.646     0.350  ...     0  0.0   0.0     0  171.669   \n1  1.095480  20.3099  18.664     2.195  ...     0  0.0   0.0     0  189.235   \n2  1.454370  20.3340  21.394     3.404  ...     0  0.0   0.0     0  211.700   \n3  0.077502  15.8404  27.676     0.134  ...     0  0.0   0.0     0  167.334   \n4  0.286555  17.6887  36.234     0.626  ...     1  0.0   0.0     0  170.884   \n\n    b_rest   B_rest     rlen  ResFlag  ModFlag  \n0  168.464  174.996  827.580        1        1  \n1  149.916  256.777  834.032        1        1  \n2  126.050  725.565  828.804        1        1  \n3  165.175  169.549  686.124        1        1  \n4  162.705  179.914  721.461        1        1  \n\n[5 rows x 82 columns]",
      "text/html": "<div>\n<style scoped>\n    .dataframe tbody tr th:only-of-type {\n        vertical-align: middle;\n    }\n\n    .dataframe tbody tr th {\n        vertical-align: top;\n    }\n\n    .dataframe thead th {\n        text-align: right;\n    }\n</style>\n<table border=\"1\" class=\"dataframe\">\n  <thead>\n    <tr style=\"text-align: right;\">\n      <th></th>\n      <th>RAdeg</th>\n      <th>DEdeg</th>\n      <th>SourceCP</th>\n      <th>RVCP</th>\n      <th>e_RVCP</th>\n      <th>PlxCP</th>\n      <th>e_PlxCP</th>\n      <th>GmagCP</th>\n      <th>pmRACP</th>\n      <th>e_pmRACP</th>\n      <th>...</th>\n      <th>Mode</th>\n      <th>RV</th>\n      <th>e_RV</th>\n      <th>o_RV</th>\n      <th>rest</th>\n      <th>b_rest</th>\n      <th>B_rest</th>\n      <th>rlen</th>\n      <th>ResFlag</th>\n      <th>ModFlag</th>\n    </tr>\n  </thead>\n  <tbody>\n    <tr>\n      <th>0</th>\n      <td>34.813290</td>\n      <td>52.493074</td>\n      <td>455075360092433920</td>\n      <td>-9999.0</td>\n      <td>-9999.0</td>\n      <td>5.77091</td>\n      <td>0.109942</td>\n      <td>16.5334</td>\n      <td>27.646</td>\n      <td>0.350</td>\n      <td>...</td>\n      <td>0</td>\n      <td>0.0</td>\n      <td>0.0</td>\n      <td>0</td>\n      <td>171.669</td>\n      <td>168.464</td>\n      <td>174.996</td>\n      <td>827.580</td>\n      <td>1</td>\n      <td>1</td>\n    </tr>\n    <tr>\n      <th>1</th>\n      <td>35.010252</td>\n      <td>52.664085</td>\n      <td>455037048980464896</td>\n      <td>-9999.0</td>\n      <td>-9999.0</td>\n      <td>5.63410</td>\n      <td>1.095480</td>\n      <td>20.3099</td>\n      <td>18.664</td>\n      <td>2.195</td>\n      <td>...</td>\n      <td>0</td>\n      <td>0.0</td>\n      <td>0.0</td>\n      <td>0</td>\n      <td>189.235</td>\n      <td>149.916</td>\n      <td>256.777</td>\n      <td>834.032</td>\n      <td>1</td>\n      <td>1</td>\n    </tr>\n    <tr>\n      <th>2</th>\n      <td>35.076013</td>\n      <td>52.480215</td>\n      <td>455026156947855872</td>\n      <td>-9999.0</td>\n      <td>-9999.0</td>\n      <td>5.46087</td>\n      <td>1.454370</td>\n      <td>20.3340</td>\n      <td>21.394</td>\n      <td>3.404</td>\n      <td>...</td>\n      <td>0</td>\n      <td>0.0</td>\n      <td>0.0</td>\n      <td>0</td>\n      <td>211.700</td>\n      <td>126.050</td>\n      <td>725.565</td>\n      <td>828.804</td>\n      <td>1</td>\n      <td>1</td>\n    </tr>\n    <tr>\n      <th>3</th>\n      <td>35.095645</td>\n      <td>48.516677</td>\n      <td>355242590505237888</td>\n      <td>-9999.0</td>\n      <td>-9999.0</td>\n      <td>5.89340</td>\n      <td>0.077502</td>\n      <td>15.8404</td>\n      <td>27.676</td>\n      <td>0.134</td>\n      <td>...</td>\n      <td>0</td>\n      <td>0.0</td>\n      <td>0.0</td>\n      <td>0</td>\n      <td>167.334</td>\n      <td>165.175</td>\n      <td>169.549</td>\n      <td>686.124</td>\n      <td>1</td>\n      <td>1</td>\n    </tr>\n    <tr>\n      <th>4</th>\n      <td>35.202351</td>\n      <td>49.437643</td>\n      <td>355343947436467200</td>\n      <td>-9999.0</td>\n      <td>-9999.0</td>\n      <td>5.82667</td>\n      <td>0.286555</td>\n      <td>17.6887</td>\n      <td>36.234</td>\n      <td>0.626</td>\n      <td>...</td>\n      <td>1</td>\n      <td>0.0</td>\n      <td>0.0</td>\n      <td>0</td>\n      <td>170.884</td>\n      <td>162.705</td>\n      <td>179.914</td>\n      <td>721.461</td>\n      <td>1</td>\n      <td>1</td>\n    </tr>\n  </tbody>\n</table>\n<p>5 rows × 82 columns</p>\n</div>"
     },
     "metadata": {},
     "execution_count": 99
    }
   ],
   "source": [
    "alpha_per.objs.head()"
   ]
  },
  {
   "cell_type": "code",
   "execution_count": 100,
   "metadata": {},
   "outputs": [
    {
     "output_type": "execute_result",
     "data": {
      "text/plain": "'new'"
     },
     "metadata": {},
     "execution_count": 100
    }
   ],
   "source": [
    "new_fs.name"
   ]
  },
  {
   "cell_type": "code",
   "execution_count": null,
   "metadata": {},
   "outputs": [],
   "source": []
  }
 ],
 "metadata": {
  "language_info": {
   "codemirror_mode": {
    "name": "ipython",
    "version": 3
   },
   "file_extension": ".py",
   "mimetype": "text/x-python",
   "name": "python",
   "nbconvert_exporter": "python",
   "pygments_lexer": "ipython3",
   "version": "3.7.7-final"
  },
  "orig_nbformat": 2,
  "kernelspec": {
   "name": "astro",
   "display_name": "astro"
  }
 },
 "nbformat": 4,
 "nbformat_minor": 2
}
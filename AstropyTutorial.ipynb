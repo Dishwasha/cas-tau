{
  "nbformat": 4,
  "nbformat_minor": 0,
  "metadata": {
    "colab": {
      "name": "AstropyTutorial",
      "provenance": [],
      "collapsed_sections": [
        "CJZJ-6QyVaqL",
        "v6IxNFQrVjM_",
        "o5nhQkN-WyjH"
      ],
      "toc_visible": true,
      "authorship_tag": "ABX9TyOkU/c9W/xgt2aPGD147B2q",
      "include_colab_link": true
    },
    "kernelspec": {
      "name": "python3",
      "display_name": "Python 3"
    }
  },
  "cells": [
    {
      "cell_type": "markdown",
      "metadata": {
        "id": "view-in-github",
        "colab_type": "text"
      },
      "source": [
        "<a href=\"https://colab.research.google.com/github/kevinmcmanus/cas-tau/blob/master/AstropyTutorial.ipynb\" target=\"_parent\"><img src=\"https://colab.research.google.com/assets/colab-badge.svg\" alt=\"Open In Colab\"/></a>"
      ]
    },
    {
      "cell_type": "markdown",
      "metadata": {
        "id": "bwu91h1kTzxX",
        "colab_type": "text"
      },
      "source": [
        "# Introduction to Astropy"
      ]
    },
    {
      "cell_type": "markdown",
      "metadata": {
        "id": "9kla2x1ZU_aH",
        "colab_type": "text"
      },
      "source": [
        "## Fancy Plots"
      ]
    },
    {
      "cell_type": "markdown",
      "metadata": {
        "id": "giGvXKwddpTx",
        "colab_type": "text"
      },
      "source": [
        "### Bunch of Set Up Stuff"
      ]
    },
    {
      "cell_type": "code",
      "metadata": {
        "id": "aIh00hmAkZ4Y",
        "colab_type": "code",
        "colab": {
          "base_uri": "https://localhost:8080/",
          "height": 377
        },
        "outputId": "f57f8b27-8e1a-42f5-f3a9-af70cd900feb"
      },
      "source": [
        "!pip install astroquery"
      ],
      "execution_count": 16,
      "outputs": [
        {
          "output_type": "stream",
          "text": [
            "Requirement already satisfied: astroquery in /usr/local/lib/python3.6/dist-packages (0.4.1)\n",
            "Requirement already satisfied: html5lib>=0.999 in /usr/local/lib/python3.6/dist-packages (from astroquery) (1.0.1)\n",
            "Requirement already satisfied: beautifulsoup4>=4.3.2 in /usr/local/lib/python3.6/dist-packages (from astroquery) (4.6.3)\n",
            "Requirement already satisfied: numpy in /usr/local/lib/python3.6/dist-packages (from astroquery) (1.18.5)\n",
            "Requirement already satisfied: six in /usr/local/lib/python3.6/dist-packages (from astroquery) (1.15.0)\n",
            "Requirement already satisfied: keyring>=4.0 in /usr/local/lib/python3.6/dist-packages (from astroquery) (21.2.1)\n",
            "Requirement already satisfied: requests>=2.4.3 in /usr/local/lib/python3.6/dist-packages (from astroquery) (2.23.0)\n",
            "Requirement already satisfied: astropy>=3.1 in /usr/local/lib/python3.6/dist-packages (from astroquery) (4.0.1.post1)\n",
            "Requirement already satisfied: webencodings in /usr/local/lib/python3.6/dist-packages (from html5lib>=0.999->astroquery) (0.5.1)\n",
            "Requirement already satisfied: importlib-metadata; python_version < \"3.8\" in /usr/local/lib/python3.6/dist-packages (from keyring>=4.0->astroquery) (1.7.0)\n",
            "Requirement already satisfied: SecretStorage>=3; sys_platform == \"linux\" in /usr/local/lib/python3.6/dist-packages (from keyring>=4.0->astroquery) (3.1.2)\n",
            "Requirement already satisfied: jeepney>=0.4.2; sys_platform == \"linux\" in /usr/local/lib/python3.6/dist-packages (from keyring>=4.0->astroquery) (0.4.3)\n",
            "Requirement already satisfied: chardet<4,>=3.0.2 in /usr/local/lib/python3.6/dist-packages (from requests>=2.4.3->astroquery) (3.0.4)\n",
            "Requirement already satisfied: idna<3,>=2.5 in /usr/local/lib/python3.6/dist-packages (from requests>=2.4.3->astroquery) (2.10)\n",
            "Requirement already satisfied: certifi>=2017.4.17 in /usr/local/lib/python3.6/dist-packages (from requests>=2.4.3->astroquery) (2020.6.20)\n",
            "Requirement already satisfied: urllib3!=1.25.0,!=1.25.1,<1.26,>=1.21.1 in /usr/local/lib/python3.6/dist-packages (from requests>=2.4.3->astroquery) (1.24.3)\n",
            "Requirement already satisfied: zipp>=0.5 in /usr/local/lib/python3.6/dist-packages (from importlib-metadata; python_version < \"3.8\"->keyring>=4.0->astroquery) (3.1.0)\n",
            "Requirement already satisfied: cryptography in /usr/local/lib/python3.6/dist-packages (from SecretStorage>=3; sys_platform == \"linux\"->keyring>=4.0->astroquery) (3.0)\n",
            "Requirement already satisfied: cffi!=1.11.3,>=1.8 in /usr/local/lib/python3.6/dist-packages (from cryptography->SecretStorage>=3; sys_platform == \"linux\"->keyring>=4.0->astroquery) (1.14.1)\n",
            "Requirement already satisfied: pycparser in /usr/local/lib/python3.6/dist-packages (from cffi!=1.11.3,>=1.8->cryptography->SecretStorage>=3; sys_platform == \"linux\"->keyring>=4.0->astroquery) (2.20)\n"
          ],
          "name": "stdout"
        }
      ]
    },
    {
      "cell_type": "code",
      "metadata": {
        "id": "yqshz8qL5uHF",
        "colab_type": "code",
        "colab": {}
      },
      "source": [
        "# libraries for general data mashing and plotting\n",
        "import numpy as np\n",
        "import pandas as pd\n",
        "\n",
        "import matplotlib.pyplot as plt\n",
        "\n",
        "import matplotlib.colors as colors\n",
        "%matplotlib inline"
      ],
      "execution_count": 17,
      "outputs": []
    },
    {
      "cell_type": "code",
      "metadata": {
        "id": "SImke3C09SL7",
        "colab_type": "code",
        "colab": {}
      },
      "source": [
        "from astropy.coordinates import Angle, Distance\n",
        "from astropy.units import Quantity\n",
        "import astropy.units as u\n",
        "from astroquery.simbad import Simbad\n",
        "import astropy.coordinates as coord\n",
        "from astropy.coordinates.sky_coordinate import SkyCoord\n",
        "from astropy.table import QTable, Table, vstack\n",
        "from astropy.units import Quantity"
      ],
      "execution_count": 18,
      "outputs": []
    },
    {
      "cell_type": "markdown",
      "metadata": {
        "id": "sg77QN4A_Noz",
        "colab_type": "text"
      },
      "source": [
        "### Construct HR-Diagram for the Pleiades with Gaia Data"
      ]
    },
    {
      "cell_type": "markdown",
      "metadata": {
        "id": "CxvHxXow_VzA",
        "colab_type": "text"
      },
      "source": [
        "A first approximation to obtaining the members of the Pleiades open cluster is to execute a cone search of the Gaia Archive using astrometrics from Simbad.\n",
        "In the case fo the Pleiades, these are:\n",
        "```\n",
        "ra = 56.75 degree\n",
        "dec = 24.1167 degree\n",
        "parallax = 7.364 mas\n",
        "pmra = 19.997 mas/year\n",
        "pmdec = -45.548 mas/year\n",
        "```"
      ]
    },
    {
      "cell_type": "code",
      "metadata": {
        "id": "hrpxUt1at-ao",
        "colab_type": "code",
        "colab": {
          "base_uri": "https://localhost:8080/",
          "height": 309
        },
        "outputId": "0886c0ae-c228-4b72-b457-146051faf138"
      },
      "source": [
        "from astroquery.gaia import Gaia\n",
        "\n",
        "# construct ADL query using astrometrics from above, add some obs quality constraints\n",
        "job3 = Gaia.launch_job(\"SELECT source_id, ra, dec, phot_g_mean_mag, phot_bp_mean_mag, phot_rp_mean_mag, parallax \\\n",
        "    FROM gaiadr2.gaia_source \\\n",
        "    WHERE CONTAINS(POINT('ICRS',gaiadr2.gaia_source.ra,gaiadr2.gaia_source.dec),CIRCLE('ICRS',56.75,24.1167,2))=1 \\\n",
        "    AND abs(pmra_error/pmra)<0.10 \\\n",
        "    AND abs(pmdec_error/pmdec)<0.10 \\\n",
        "    AND pmra IS NOT NULL AND abs(pmra)>0 \\\n",
        "    AND pmdec IS NOT NULL AND abs(pmdec)>0 \\\n",
        "    AND pmra BETWEEN 15 AND 25 \\\n",
        "    AND pmdec BETWEEN -55 AND -40;\")\n",
        "pleiades_table = job3.get_results()\n",
        "\n",
        "#examine first 10 records\n",
        "pleiades_table[0:10]"
      ],
      "execution_count": 19,
      "outputs": [
        {
          "output_type": "execute_result",
          "data": {
            "text/html": [
              "<i>Table length=10</i>\n",
              "<table id=\"table139863076180712\" class=\"table-striped table-bordered table-condensed\">\n",
              "<thead><tr><th>source_id</th><th>ra</th><th>dec</th><th>phot_g_mean_mag</th><th>phot_bp_mean_mag</th><th>phot_rp_mean_mag</th><th>parallax</th></tr></thead>\n",
              "<thead><tr><th></th><th>deg</th><th>deg</th><th>mag</th><th>mag</th><th>mag</th><th>mas</th></tr></thead>\n",
              "<thead><tr><th>int64</th><th>float64</th><th>float64</th><th>float32</th><th>float32</th><th>float32</th><th>float64</th></tr></thead>\n",
              "<tr><td>65693075278791552</td><td>58.45209641024671</td><td>23.485778193170404</td><td>15.684173</td><td>16.8151</td><td>14.622672</td><td>3.4866299261260667</td></tr>\n",
              "<tr><td>65674039981117056</td><td>57.937676685851116</td><td>23.279746731942588</td><td>20.107876</td><td>20.954243</td><td>18.825369</td><td>2.406580185988847</td></tr>\n",
              "<tr><td>65607760048708608</td><td>58.10969274598988</td><td>23.06037344119279</td><td>20.119907</td><td>20.536541</td><td>18.868631</td><td>0.31213309023545693</td></tr>\n",
              "<tr><td>69877988331531904</td><td>55.930095532879015</td><td>25.0805015068784</td><td>7.4981666</td><td>7.581719</td><td>7.3928056</td><td>8.027063450746246</td></tr>\n",
              "<tr><td>68585851713901952</td><td>55.461602524301505</td><td>25.27623121881423</td><td>19.361774</td><td>21.501656</td><td>18.033218</td><td>4.548594558832415</td></tr>\n",
              "<tr><td>64933621980897536</td><td>57.17084229066591</td><td>23.237979114981755</td><td>16.102013</td><td>17.91502</td><td>14.798337</td><td>8.509836138095356</td></tr>\n",
              "<tr><td>66816187748666624</td><td>56.99900482385139</td><td>24.731092856679197</td><td>12.923352</td><td>13.676245</td><td>12.085092</td><td>6.493298083217951</td></tr>\n",
              "<tr><td>64884208379713152</td><td>57.01650068097936</td><td>22.876860506461384</td><td>20.06</td><td>20.551508</td><td>19.022774</td><td>0.30017444741805516</td></tr>\n",
              "<tr><td>68269265381151744</td><td>55.86575939894856</td><td>24.270604215586683</td><td>16.45421</td><td>17.672592</td><td>15.3263035</td><td>2.6750747340243386</td></tr>\n",
              "<tr><td>65056900424989056</td><td>55.96071495202503</td><td>23.09643792836741</td><td>18.819933</td><td>20.513311</td><td>17.42275</td><td>3.0528928489717915</td></tr>\n",
              "</table>"
            ],
            "text/plain": [
              "<Table length=10>\n",
              "    source_id             ra         ... phot_rp_mean_mag       parallax     \n",
              "                         deg         ...       mag                mas        \n",
              "      int64            float64       ...     float32            float64      \n",
              "----------------- ------------------ ... ---------------- -------------------\n",
              "65693075278791552  58.45209641024671 ...        14.622672  3.4866299261260667\n",
              "65674039981117056 57.937676685851116 ...        18.825369   2.406580185988847\n",
              "65607760048708608  58.10969274598988 ...        18.868631 0.31213309023545693\n",
              "69877988331531904 55.930095532879015 ...        7.3928056   8.027063450746246\n",
              "68585851713901952 55.461602524301505 ...        18.033218   4.548594558832415\n",
              "64933621980897536  57.17084229066591 ...        14.798337   8.509836138095356\n",
              "66816187748666624  56.99900482385139 ...        12.085092   6.493298083217951\n",
              "64884208379713152  57.01650068097936 ...        19.022774 0.30017444741805516\n",
              "68269265381151744  55.86575939894856 ...       15.3263035  2.6750747340243386\n",
              "65056900424989056  55.96071495202503 ...         17.42275  3.0528928489717915"
            ]
          },
          "metadata": {
            "tags": []
          },
          "execution_count": 19
        }
      ]
    },
    {
      "cell_type": "code",
      "metadata": {
        "id": "cGDF-Nxk7sqd",
        "colab_type": "code",
        "colab": {}
      },
      "source": [
        "#from astropy.coordinates import Distance\n",
        "#from astropy.units import Quantity\n",
        "# get distance from parallax\n",
        "distance = Distance(parallax=Quantity(pleiades_table['parallax']))\n",
        "\n",
        "#absolute magnitude is the apparent magnitude (phot_g_mean_mag) scaled up to a standard distance of 10pc.  distmod does this\n",
        "abs_mag=pleiades_table['phot_g_mean_mag'] - distance.distmod\n",
        "star_color = pleiades_table['phot_bp_mean_mag'] - pleiades_table['phot_rp_mean_mag']"
      ],
      "execution_count": 20,
      "outputs": []
    },
    {
      "cell_type": "code",
      "metadata": {
        "id": "NWW42Ya49Y-R",
        "colab_type": "code",
        "colab": {
          "base_uri": "https://localhost:8080/",
          "height": 423
        },
        "outputId": "3600e2f7-d035-4a66-dd76-8d8806ab3442"
      },
      "source": [
        "#ready to plot!\n",
        "fig = plt.figure(figsize=(8,6))\n",
        "ax = fig.add_subplot(111)\n",
        "\n",
        "ax.scatter(star_color, abs_mag, s=4)\n",
        "ax.invert_yaxis()\n",
        "\n",
        "ax.set_title('Color-Magnitude Diagram: Pleiades')\n",
        "ax.set_xlabel(r'Color: $BP\\ - \\ RP$')\n",
        "ax.set_ylabel(r'Absolute Magnitude: $m_g - distmod$')"
      ],
      "execution_count": 21,
      "outputs": [
        {
          "output_type": "execute_result",
          "data": {
            "text/plain": [
              "Text(0, 0.5, 'Absolute Magnitude: $m_g - distmod$')"
            ]
          },
          "metadata": {
            "tags": []
          },
          "execution_count": 21
        },
        {
          "output_type": "display_data",
          "data": {
            "image/png": "[encoded data removed]",
            "text/plain": [
              "<Figure size 576x432 with 1 Axes>"
            ]
          },
          "metadata": {
            "tags": [],
            "needs_background": "light"
          }
        }
      ]
    },
    {
      "cell_type": "markdown",
      "metadata": {
        "id": "ZrMvYXbEIpMO",
        "colab_type": "text"
      },
      "source": [
        "### Galactic Hydrogen Plot"
      ]
    },
    {
      "cell_type": "markdown",
      "metadata": {
        "id": "xKytM3sT6sD8",
        "colab_type": "text"
      },
      "source": [
        "#### Fetch the Hydrogen Data"
      ]
    },
    {
      "cell_type": "markdown",
      "metadata": {
        "id": "DqQCCkaG9S0t",
        "colab_type": "text"
      },
      "source": [
        "Data from the [HI4PI: A full-sky HI survey based on EBHIS and GASS](https://arxiv.org/abs/1610.06175)\n",
        "\n",
        "Data File format:\n",
        "```\n",
        "Byte-by-byte Description of file: nhi_hpx.dat\n",
        "--------------------------------------------------------------------------------\n",
        "   Bytes Format  Units   Label     Explanations\n",
        "--------------------------------------------------------------------------------\n",
        "   1-  8  I8     ---     HPX       HPX index (HPXINDEX)\n",
        "  10- 18  F9.5   deg     RAdeg     Right ascension (J2000)\n",
        "  20- 28  F9.5   deg     DEdeg     Declination (J2000)\n",
        "  30- 38  F9.5   deg     GLON      Galactic longitude (J2000)\n",
        "  40- 48  F9.5   deg     GLAT      Galactic latitude (J2000)\n",
        "  50- 71  E22.15 cm-2    NHI       HI column density\n",
        "--------------------------------------------------------------------------------\n",
        "```"
      ]
    },
    {
      "cell_type": "code",
      "metadata": {
        "id": "91wtUtWa8rPB",
        "colab_type": "code",
        "colab": {
          "base_uri": "https://localhost:8080/",
          "height": 34
        },
        "outputId": "82ba4410-386b-46c4-8cfa-996015a8c21f"
      },
      "source": [
        "url = 'https://cdsarc.unistra.fr/ftp/J/A+A/594/A116/nhi_hpx.dat.gz'\n",
        "cols = ['HPX', 'RAdeg','DEdeg','GLON','GLAT', 'NHI']\n",
        "\n",
        "hi4pi = pd.read_csv(url, delim_whitespace=True, names=cols, header=None)\n",
        "print(f'hi4pi has {len(hi4pi)} records')\n"
      ],
      "execution_count": 22,
      "outputs": [
        {
          "output_type": "stream",
          "text": [
            "hi4pi has 12582912 records\n"
          ],
          "name": "stdout"
        }
      ]
    },
    {
      "cell_type": "code",
      "metadata": {
        "id": "eolsrBm298bR",
        "colab_type": "code",
        "colab": {
          "base_uri": "https://localhost:8080/",
          "height": 204
        },
        "outputId": "bda46100-2a2e-429c-8470-90e2ceb4de56"
      },
      "source": [
        "hi4pi.head()"
      ],
      "execution_count": 11,
      "outputs": [
        {
          "output_type": "execute_result",
          "data": {
            "text/html": [
              "<div>\n",
              "<style scoped>\n",
              "    .dataframe tbody tr th:only-of-type {\n",
              "        vertical-align: middle;\n",
              "    }\n",
              "\n",
              "    .dataframe tbody tr th {\n",
              "        vertical-align: top;\n",
              "    }\n",
              "\n",
              "    .dataframe thead th {\n",
              "        text-align: right;\n",
              "    }\n",
              "</style>\n",
              "<table border=\"1\" class=\"dataframe\">\n",
              "  <thead>\n",
              "    <tr style=\"text-align: right;\">\n",
              "      <th></th>\n",
              "      <th>HPX</th>\n",
              "      <th>RAdeg</th>\n",
              "      <th>DEdeg</th>\n",
              "      <th>GLON</th>\n",
              "      <th>GLAT</th>\n",
              "      <th>NHI</th>\n",
              "    </tr>\n",
              "  </thead>\n",
              "  <tbody>\n",
              "    <tr>\n",
              "      <th>0</th>\n",
              "      <td>0</td>\n",
              "      <td>192.90971</td>\n",
              "      <td>27.13788</td>\n",
              "      <td>45.0</td>\n",
              "      <td>89.95431</td>\n",
              "      <td>9.174280e+19</td>\n",
              "    </tr>\n",
              "    <tr>\n",
              "      <th>1</th>\n",
              "      <td>1</td>\n",
              "      <td>192.84877</td>\n",
              "      <td>27.17301</td>\n",
              "      <td>135.0</td>\n",
              "      <td>89.95431</td>\n",
              "      <td>9.244184e+19</td>\n",
              "    </tr>\n",
              "    <tr>\n",
              "      <th>2</th>\n",
              "      <td>2</td>\n",
              "      <td>192.80931</td>\n",
              "      <td>27.11878</td>\n",
              "      <td>225.0</td>\n",
              "      <td>89.95431</td>\n",
              "      <td>9.394214e+19</td>\n",
              "    </tr>\n",
              "    <tr>\n",
              "      <th>3</th>\n",
              "      <td>3</td>\n",
              "      <td>192.87024</td>\n",
              "      <td>27.08366</td>\n",
              "      <td>315.0</td>\n",
              "      <td>89.95431</td>\n",
              "      <td>9.281170e+19</td>\n",
              "    </tr>\n",
              "    <tr>\n",
              "      <th>4</th>\n",
              "      <td>4</td>\n",
              "      <td>192.96046</td>\n",
              "      <td>27.11176</td>\n",
              "      <td>22.5</td>\n",
              "      <td>89.90863</td>\n",
              "      <td>9.085496e+19</td>\n",
              "    </tr>\n",
              "  </tbody>\n",
              "</table>\n",
              "</div>"
            ],
            "text/plain": [
              "   HPX      RAdeg     DEdeg   GLON      GLAT           NHI\n",
              "0    0  192.90971  27.13788   45.0  89.95431  9.174280e+19\n",
              "1    1  192.84877  27.17301  135.0  89.95431  9.244184e+19\n",
              "2    2  192.80931  27.11878  225.0  89.95431  9.394214e+19\n",
              "3    3  192.87024  27.08366  315.0  89.95431  9.281170e+19\n",
              "4    4  192.96046  27.11176   22.5  89.90863  9.085496e+19"
            ]
          },
          "metadata": {
            "tags": []
          },
          "execution_count": 11
        }
      ]
    },
    {
      "cell_type": "code",
      "metadata": {
        "id": "rpQmy0PR_a5q",
        "colab_type": "code",
        "colab": {}
      },
      "source": [
        "#don't run this code -- takes 20 minutes\n",
        "#fig = plt.figure(figsize=(12,12))\n",
        "#ax = fig.add_subplot(111)\n",
        "#ax.scatter(hi4pi.RAdeg, hi4pi.DEdeg, c=hi4pi.NHI, cmap='gnuplot')\n",
        "#ax.invert_xaxis()"
      ],
      "execution_count": null,
      "outputs": []
    },
    {
      "cell_type": "markdown",
      "metadata": {
        "id": "14m3-H126ggQ",
        "colab_type": "text"
      },
      "source": [
        "#### Crunch the Data Array"
      ]
    },
    {
      "cell_type": "code",
      "metadata": {
        "id": "84h4FR_-CmaY",
        "colab_type": "code",
        "colab": {
          "base_uri": "https://localhost:8080/",
          "height": 34
        },
        "outputId": "44255f29-7491-4eab-e90d-c5763b9859e8"
      },
      "source": [
        "#round to 1/10 degree precision\n",
        "hi4pi['RAdeg1'] = np.round(hi4pi.RAdeg,1)\n",
        "hi4pi['DEdeg1'] = np.round(hi4pi.DEdeg, 1)\n",
        "hi4pi['GLAT1'] = np.round(hi4pi.GLAT,1)\n",
        "hi4pi['GLON1'] = np.round(hi4pi.GLON,1)\n",
        "\n",
        "#get the mean NHI value at the new precision level, rename the columns to good ol' ra and dec\n",
        "\n",
        "#equatorial coords\n",
        "hi4pi_eq = hi4pi[['RAdeg1', 'DEdeg1', 'NHI']].groupby(['RAdeg1','DEdeg1']).mean().reset_index()\n",
        "hi4pi_eq.rename(columns={\"RAdeg1\":\"ra\", \"DEdeg1\":\"dec\"}, inplace=True)\n",
        "\n",
        "#galactic coords\n",
        "hi4pi_gal = hi4pi[['GLON1', 'GLAT1', 'NHI']].groupby(['GLON1','GLAT1']).mean().reset_index()\n",
        "hi4pi_gal.rename(columns={\"GLON1\":\"l\", \"GLAT1\":\"b\"}, inplace=True)\n",
        "\n",
        "#convert everybody to angles and wrap the longitude\n",
        "hi4pi_eq.ra = Angle(np.array(hi4pi_eq.ra)*u.degree).wrap_at(180*u.degree)\n",
        "hi4pi_eq.dec = Angle(np.array(hi4pi_eq.dec)*u.degree)\n",
        "\n",
        "hi4pi_gal.l = Angle(np.array(hi4pi_gal.l)*u.degree).wrap_at(180*u.degree)\n",
        "hi4pi_gal.b = Angle(np.array(hi4pi_gal.b)*u.degree)\n",
        "\n",
        "#create the image arrays\n",
        "#note declination and lattitude in 'x' (row) positions and ra and longitude in 'y' (column) positions\n",
        "image_eq = pd.pivot_table(hi4pi_eq,index='dec',columns='ra', values='NHI',aggfunc=np.mean).to_numpy( copy=True)\n",
        "\n",
        "image_gal = pd.pivot_table(hi4pi_gal,index='b',columns='l', values='NHI',aggfunc=np.mean).to_numpy( copy=True)\n",
        "image_eq.shape, image_gal.shape\n"
      ],
      "execution_count": 23,
      "outputs": [
        {
          "output_type": "execute_result",
          "data": {
            "text/plain": [
              "((1801, 3600), (1801, 3600))"
            ]
          },
          "metadata": {
            "tags": []
          },
          "execution_count": 23
        }
      ]
    },
    {
      "cell_type": "code",
      "metadata": {
        "id": "KJ1APFmAECI2",
        "colab_type": "code",
        "colab": {}
      },
      "source": [
        "# create x and y axis vectors for eq. and gal. coords\n",
        "ra_vec = Angle(np.linspace(hi4pi_eq.ra.min(), hi4pi_eq.ra.max(), image_eq.shape[1], endpoint=False)*u.degree)\n",
        "dec_vec= Angle(np.linspace(hi4pi_eq.dec.min(), hi4pi_eq.dec.max(), image_eq.shape[0], endpoint=False)*u.degree)\n",
        "\n",
        "l_vec = Angle(np.linspace(hi4pi_gal.l.min(), hi4pi_gal.l.max(), image_gal.shape[1], endpoint=False)*u.degree)\n",
        "b_vec = Angle(np.linspace(hi4pi_gal.b.min(), hi4pi_gal.b.max(), image_gal.shape[0], endpoint=False)*u.degree)"
      ],
      "execution_count": 24,
      "outputs": []
    },
    {
      "cell_type": "markdown",
      "metadata": {
        "id": "NfgcdJuB65tm",
        "colab_type": "text"
      },
      "source": [
        "#### Create Plots"
      ]
    },
    {
      "cell_type": "code",
      "metadata": {
        "id": "6rSxioSAbsZz",
        "colab_type": "code",
        "colab": {
          "base_uri": "https://localhost:8080/",
          "height": 433
        },
        "outputId": "ea878459-2ae2-4657-c479-364ab247c8fd"
      },
      "source": [
        "# plot in equatorial coordinates\n",
        "\n",
        "fig = plt.figure(figsize=(9,6))\n",
        "ax = fig.add_subplot(111, projection='mollweide')\n",
        "pcm = ax.pcolormesh(ra_vec.radian,\n",
        "           dec_vec.radian,\n",
        "           image_eq,\n",
        "           cmap='viridis', norm=colors.LogNorm())\n",
        "ax.grid()\n",
        "ax.set_title('Neutral Hydrogen Density\\nEquatorial Coordinates')\n",
        "\n",
        "plt.colorbar(pcm, orientation='horizontal',label='Column Density')\n"
      ],
      "execution_count": 27,
      "outputs": [
        {
          "output_type": "execute_result",
          "data": {
            "text/plain": [
              "<matplotlib.colorbar.Colorbar at 0x7f34643575c0>"
            ]
          },
          "metadata": {
            "tags": []
          },
          "execution_count": 27
        },
        {
          "output_type": "stream",
          "text": [
            "/usr/local/lib/python3.6/dist-packages/matplotlib/colors.py:1171: RuntimeWarning: invalid value encountered in less_equal\n",
            "  mask |= resdat <= 0\n"
          ],
          "name": "stderr"
        },
        {
          "output_type": "display_data",
          "data": {
            "image/png": "[encoded data removed]",
            "text/plain": [
              "<Figure size 648x432 with 2 Axes>"
            ]
          },
          "metadata": {
            "tags": [],
            "needs_background": "light"
          }
        }
      ]
    },
    {
      "cell_type": "code",
      "metadata": {
        "id": "M5cZ7VZIEGDb",
        "colab_type": "code",
        "colab": {
          "base_uri": "https://localhost:8080/",
          "height": 433
        },
        "outputId": "7ce51eb2-6f61-44c2-ff82-6365b9256f27"
      },
      "source": [
        "fig = plt.figure(figsize=(9,6))\n",
        "ax = fig.add_subplot(111, projection='mollweide')\n",
        "pcm=ax.pcolormesh(l_vec.radian,\n",
        "           b_vec.radian,\n",
        "           image_gal,\n",
        "           cmap='viridis', norm=colors.LogNorm())\n",
        "ax.grid()\n",
        "ax.set_title('Neutral Hydrogen Density\\nGalactic Coordinates')\n",
        "\n",
        "plt.colorbar(pcm, orientation='horizontal',label='Column Density')\n"
      ],
      "execution_count": 26,
      "outputs": [
        {
          "output_type": "execute_result",
          "data": {
            "text/plain": [
              "<matplotlib.colorbar.Colorbar at 0x7f34644ba240>"
            ]
          },
          "metadata": {
            "tags": []
          },
          "execution_count": 26
        },
        {
          "output_type": "stream",
          "text": [
            "/usr/local/lib/python3.6/dist-packages/matplotlib/colors.py:1171: RuntimeWarning: invalid value encountered in less_equal\n",
            "  mask |= resdat <= 0\n"
          ],
          "name": "stderr"
        },
        {
          "output_type": "display_data",
          "data": {
            "image/png": "[encoded data removed]",
            "text/plain": [
              "<Figure size 648x432 with 2 Axes>"
            ]
          },
          "metadata": {
            "tags": [],
            "needs_background": "light"
          }
        }
      ]
    },
    {
      "cell_type": "markdown",
      "metadata": {
        "id": "Ai-8WKSbWFja",
        "colab_type": "text"
      },
      "source": [
        "Astropy is a collecction of Python libraries for use in Astronomy. Its capabilities are vast.  See these two links for an overview and to get an idea of the capabilities Astropy provides:\n",
        "\n",
        "[Learn Astropy](http://learn.astropy.org/)\n",
        "\n",
        "[Astropy Tutorials](http://learn.astropy.org/tutorials.html)\n",
        "\n",
        "In this tutorial, we'll just scratch surface to give you a hands-on encounter with Astropy. After this tutorial you'll know where to look for more information."
      ]
    },
    {
      "cell_type": "markdown",
      "metadata": {
        "id": "aLkW2ebQUBmZ",
        "colab_type": "text"
      },
      "source": [
        "## Basics"
      ]
    },
    {
      "cell_type": "markdown",
      "metadata": {
        "id": "VjKo6-4Njuv-",
        "colab_type": "text"
      },
      "source": [
        "To install Astropy on your local machine, execute the following:\n",
        "```\n",
        "pip install astropy\n",
        "```\n",
        "or if you're using Anaconda to manage your Python environments\n",
        "```\n",
        "conda install astropy\n",
        "```\n",
        "\n",
        "In the environment provided by Google Colab, astropy is already provided so we don't need to do anything.\n",
        "\n",
        "The next few sub-sections demonstrate some operations with Constants, Units and Coordinates that the more advanced Astropy modules rely on."
      ]
    },
    {
      "cell_type": "markdown",
      "metadata": {
        "id": "XHGcCIZqUIvi",
        "colab_type": "text"
      },
      "source": [
        "### Constants"
      ]
    },
    {
      "cell_type": "markdown",
      "metadata": {
        "id": "oioyOnNLXvUl",
        "colab_type": "text"
      },
      "source": [
        "Many (most) astronomical calculations involve constants: speed of light, graviational constant, Stefan-Boltzman constant and the like.  Astropy provides many of these, in a module called (what else) `constants`\n",
        "\n",
        "For a more in-depth discussion of Astropy contants, see: \n",
        "[Constants Tutorial](https://docs.astropy.org/en/stable/constants/index.html)"
      ]
    },
    {
      "cell_type": "code",
      "metadata": {
        "id": "7DoGHMzwXAxb",
        "colab_type": "code",
        "colab": {}
      },
      "source": [
        "# need the constants module\n",
        "import astropy.constants as const"
      ],
      "execution_count": null,
      "outputs": []
    },
    {
      "cell_type": "code",
      "metadata": {
        "id": "sGraqf9-XNCh",
        "colab_type": "code",
        "colab": {
          "base_uri": "https://localhost:8080/",
          "height": 42
        },
        "outputId": "7fdb15e5-f9da-4c5b-eec4-998beefd9940"
      },
      "source": [
        "# Gravitational constant G\n",
        "const.G"
      ],
      "execution_count": null,
      "outputs": [
        {
          "output_type": "execute_result",
          "data": {
            "text/latex": "$6.6743 \\times 10^{-11} \\; \\mathrm{\\frac{m^{3}}{kg\\,s^{2}}}$",
            "text/plain": [
              "<<class 'astropy.constants.codata2018.CODATA2018'> name='Gravitational constant' value=6.6743e-11 uncertainty=1.5e-15 unit='m3 / (kg s2)' reference='CODATA 2018'>"
            ]
          },
          "metadata": {
            "tags": []
          },
          "execution_count": 2
        }
      ]
    },
    {
      "cell_type": "code",
      "metadata": {
        "id": "ar6jghyxXafz",
        "colab_type": "code",
        "colab": {
          "base_uri": "https://localhost:8080/",
          "height": 102
        },
        "outputId": "93a5bf52-85c6-44ea-c1dc-faf9296bc2d5"
      },
      "source": [
        "print(const.G)"
      ],
      "execution_count": null,
      "outputs": [
        {
          "output_type": "stream",
          "text": [
            "  Name   = Gravitational constant\n",
            "  Value  = 6.6743e-11\n",
            "  Uncertainty  = 1.5e-15\n",
            "  Unit  = m3 / (kg s2)\n",
            "  Reference = CODATA 2018\n"
          ],
          "name": "stdout"
        }
      ]
    },
    {
      "cell_type": "code",
      "metadata": {
        "id": "iF9uAfwVXtcb",
        "colab_type": "code",
        "colab": {
          "base_uri": "https://localhost:8080/",
          "height": 102
        },
        "outputId": "0b6354a9-89be-45d2-be0a-9863053039cf"
      },
      "source": [
        "#Planck's constant\n",
        "print (const.h)"
      ],
      "execution_count": null,
      "outputs": [
        {
          "output_type": "stream",
          "text": [
            "  Name   = Planck constant\n",
            "  Value  = 6.62607015e-34\n",
            "  Uncertainty  = 0.0\n",
            "  Unit  = J s\n",
            "  Reference = CODATA 2018\n"
          ],
          "name": "stdout"
        }
      ]
    },
    {
      "cell_type": "code",
      "metadata": {
        "id": "wTFDl8ScaFNr",
        "colab_type": "code",
        "colab": {
          "base_uri": "https://localhost:8080/",
          "height": 38
        },
        "outputId": "98fff22f-b144-44c3-ef5c-71cf3b027eff"
      },
      "source": [
        "#speed of light\n",
        "const.c"
      ],
      "execution_count": null,
      "outputs": [
        {
          "output_type": "execute_result",
          "data": {
            "text/latex": "$2.9979246 \\times 10^{8} \\; \\mathrm{\\frac{m}{s}}$",
            "text/plain": [
              "<<class 'astropy.constants.codata2018.CODATA2018'> name='Speed of light in vacuum' value=299792458.0 uncertainty=0.0 unit='m / s' reference='CODATA 2018'>"
            ]
          },
          "metadata": {
            "tags": []
          },
          "execution_count": 5
        }
      ]
    },
    {
      "cell_type": "code",
      "metadata": {
        "id": "qnJ3JNutnYnz",
        "colab_type": "code",
        "colab": {
          "base_uri": "https://localhost:8080/",
          "height": 42
        },
        "outputId": "d0444fc5-ff52-408c-ed31-131c7af48d32"
      },
      "source": [
        "#want G in cgs?\n",
        "const.G.cgs"
      ],
      "execution_count": null,
      "outputs": [
        {
          "output_type": "execute_result",
          "data": {
            "text/latex": "$6.6743 \\times 10^{-8} \\; \\mathrm{\\frac{cm^{3}}{g\\,s^{2}}}$",
            "text/plain": [
              "<Quantity 6.6743e-08 cm3 / (g s2)>"
            ]
          },
          "metadata": {
            "tags": []
          },
          "execution_count": 7
        }
      ]
    },
    {
      "cell_type": "markdown",
      "metadata": {
        "id": "WPg2Qvb4Wta4",
        "colab_type": "text"
      },
      "source": [
        "See [List of Constants](https://docs.astropy.org/en/stable/constants/) for complete list of available constants."
      ]
    },
    {
      "cell_type": "markdown",
      "metadata": {
        "id": "OVM7ty2jUMzx",
        "colab_type": "text"
      },
      "source": [
        "### Units"
      ]
    },
    {
      "cell_type": "markdown",
      "metadata": {
        "id": "klY4R5ASn75r",
        "colab_type": "text"
      },
      "source": [
        "Units allow us to attach dimensions to scalar and vector quantities. Doing so creates an Astropy `Quantity` object, which among other things allows us to convert among units with relative ease."
      ]
    },
    {
      "cell_type": "code",
      "metadata": {
        "id": "bdEa8DZpYC4x",
        "colab_type": "code",
        "colab": {}
      },
      "source": [
        "#load up the units module\n",
        "import astropy.units as u"
      ],
      "execution_count": null,
      "outputs": []
    },
    {
      "cell_type": "code",
      "metadata": {
        "id": "cSSgnr2BYL8j",
        "colab_type": "code",
        "colab": {
          "base_uri": "https://localhost:8080/",
          "height": 37
        },
        "outputId": "7baa94e2-22de-4a2c-be0c-127e25582549"
      },
      "source": [
        "u.watt"
      ],
      "execution_count": null,
      "outputs": [
        {
          "output_type": "execute_result",
          "data": {
            "text/latex": "$\\mathrm{W}$",
            "text/plain": [
              "Unit(\"W\")"
            ]
          },
          "metadata": {
            "tags": []
          },
          "execution_count": 9
        }
      ]
    },
    {
      "cell_type": "code",
      "metadata": {
        "id": "IcWKUBOyYXyq",
        "colab_type": "code",
        "colab": {
          "base_uri": "https://localhost:8080/",
          "height": 37
        },
        "outputId": "e0911e04-6bf3-4694-9929-6eacfc5a76af"
      },
      "source": [
        "632.3 * u.watt"
      ],
      "execution_count": null,
      "outputs": [
        {
          "output_type": "execute_result",
          "data": {
            "text/latex": "$632.3 \\; \\mathrm{W}$",
            "text/plain": [
              "<Quantity 632.3 W>"
            ]
          },
          "metadata": {
            "tags": []
          },
          "execution_count": 10
        }
      ]
    },
    {
      "cell_type": "code",
      "metadata": {
        "id": "kMPXMIzhYfic",
        "colab_type": "code",
        "colab": {
          "base_uri": "https://localhost:8080/",
          "height": 34
        },
        "outputId": "c08a6863-1d97-4460-f191-b2570f31d4db"
      },
      "source": [
        "type(632.3), type(u.watt), type(632.3*u.watt)"
      ],
      "execution_count": null,
      "outputs": [
        {
          "output_type": "execute_result",
          "data": {
            "text/plain": [
              "(float, astropy.units.core.Unit, astropy.units.quantity.Quantity)"
            ]
          },
          "metadata": {
            "tags": []
          },
          "execution_count": 11
        }
      ]
    },
    {
      "cell_type": "code",
      "metadata": {
        "id": "Qc5GHiwQY2BO",
        "colab_type": "code",
        "colab": {}
      },
      "source": [
        "w = 632.3*u.watt"
      ],
      "execution_count": null,
      "outputs": []
    },
    {
      "cell_type": "code",
      "metadata": {
        "id": "2QsfM3QpY6Z3",
        "colab_type": "code",
        "colab": {
          "base_uri": "https://localhost:8080/",
          "height": 34
        },
        "outputId": "674cedc5-07cd-4c3c-dd0a-3721a292e0a5"
      },
      "source": [
        "#what did we get, how to take it apart\n",
        "type(w), w.value, w.unit"
      ],
      "execution_count": null,
      "outputs": [
        {
          "output_type": "execute_result",
          "data": {
            "text/plain": [
              "(astropy.units.quantity.Quantity, 632.3, Unit(\"W\"))"
            ]
          },
          "metadata": {
            "tags": []
          },
          "execution_count": 13
        }
      ]
    },
    {
      "cell_type": "markdown",
      "metadata": {
        "id": "HNjSrEqBUSqc",
        "colab_type": "text"
      },
      "source": [
        "### Unit Conversion"
      ]
    },
    {
      "cell_type": "markdown",
      "metadata": {
        "id": "GR8sFE4-XSbO",
        "colab_type": "text"
      },
      "source": [
        "We can convert from one set of units to another, say nanometers to Angstroms using the Quantity `to` method, below for the Hydrogen Alpha line at 656.28 nanometers:"
      ]
    },
    {
      "cell_type": "code",
      "metadata": {
        "id": "GbcTBnFoZRua",
        "colab_type": "code",
        "colab": {}
      },
      "source": [
        "# specify the h_alpha line in nanometers\n",
        "h_alpha =  656.28*u.nm"
      ],
      "execution_count": null,
      "outputs": []
    },
    {
      "cell_type": "code",
      "metadata": {
        "id": "FAvHO3qwZzeO",
        "colab_type": "code",
        "colab": {
          "base_uri": "https://localhost:8080/",
          "height": 38
        },
        "outputId": "1ce6df3f-0498-48a0-a123-bc101d3befca"
      },
      "source": [
        "#convert to angrstrom:\n",
        "h_alpha.to(u.angstrom)"
      ],
      "execution_count": null,
      "outputs": [
        {
          "output_type": "execute_result",
          "data": {
            "text/latex": "$6562.8 \\; \\mathrm{\\mathring{A}}$",
            "text/plain": [
              "<Quantity 6562.8 Angstrom>"
            ]
          },
          "metadata": {
            "tags": []
          },
          "execution_count": 15
        }
      ]
    },
    {
      "cell_type": "markdown",
      "metadata": {
        "id": "ao6edK9_U81z",
        "colab_type": "text"
      },
      "source": [
        "Divide the h_alpha wavelength: ($\\lambda$) into the speed of light to get frequency:\n",
        "nu = const.c/h_alpha"
      ]
    },
    {
      "cell_type": "code",
      "metadata": {
        "id": "OnDy-c98aav7",
        "colab_type": "code",
        "colab": {
          "base_uri": "https://localhost:8080/",
          "height": 38
        },
        "outputId": "45b3ca5d-f2a0-45fb-8299-52fa52a55e63"
      },
      "source": [
        "nu = const.c/h_alpha\n",
        "nu"
      ],
      "execution_count": null,
      "outputs": [
        {
          "output_type": "execute_result",
          "data": {
            "text/latex": "$456805.72 \\; \\mathrm{\\frac{m}{nm\\,s}}$",
            "text/plain": [
              "<Quantity 456805.72011946 m / (nm s)>"
            ]
          },
          "metadata": {
            "tags": []
          },
          "execution_count": 16
        }
      ]
    },
    {
      "cell_type": "markdown",
      "metadata": {
        "id": "qn9zZL4iYW9v",
        "colab_type": "text"
      },
      "source": [
        "Hmmm, meters per nanometers per second, technically correct, but not very useful. Let's look at this in gigahertz"
      ]
    },
    {
      "cell_type": "code",
      "metadata": {
        "id": "Wg51zDvOato_",
        "colab_type": "code",
        "colab": {
          "base_uri": "https://localhost:8080/",
          "height": 37
        },
        "outputId": "5e382158-7f71-402b-c051-02cb50de0182"
      },
      "source": [
        "nu.to(u.gigahertz)"
      ],
      "execution_count": null,
      "outputs": [
        {
          "output_type": "execute_result",
          "data": {
            "text/latex": "$456805.72 \\; \\mathrm{GHz}$",
            "text/plain": [
              "<Quantity 456805.72011946 GHz>"
            ]
          },
          "metadata": {
            "tags": []
          },
          "execution_count": 17
        }
      ]
    },
    {
      "cell_type": "code",
      "metadata": {
        "id": "UkgkqoBzqy7u",
        "colab_type": "code",
        "colab": {}
      },
      "source": [
        "#work with angles:\n",
        "from astropy.coordinates import Angle"
      ],
      "execution_count": null,
      "outputs": []
    },
    {
      "cell_type": "code",
      "metadata": {
        "id": "0zwfPNJYqOdL",
        "colab_type": "code",
        "colab": {}
      },
      "source": [
        "def showdeg(theta:Angle):\n",
        "  print(f'Theta: {theta.deg} degrees')"
      ],
      "execution_count": null,
      "outputs": []
    },
    {
      "cell_type": "code",
      "metadata": {
        "id": "9BQez7_irFBQ",
        "colab_type": "code",
        "colab": {
          "base_uri": "https://localhost:8080/",
          "height": 34
        },
        "outputId": "414a7be7-c97b-4a01-ebf9-61ecf22f060f"
      },
      "source": [
        "showdeg(Angle(60*u.degree))"
      ],
      "execution_count": null,
      "outputs": [
        {
          "output_type": "stream",
          "text": [
            "Theta: 60.0 degrees\n"
          ],
          "name": "stdout"
        }
      ]
    },
    {
      "cell_type": "code",
      "metadata": {
        "id": "u0UNGFlhrZ7E",
        "colab_type": "code",
        "colab": {
          "base_uri": "https://localhost:8080/",
          "height": 34
        },
        "outputId": "8d5636ea-d6a6-4c9a-f7d7-1f984a45dbca"
      },
      "source": [
        "#specify the angle in milliarcseconds:\n",
        "showdeg(Angle(3600*1000*u.mas))"
      ],
      "execution_count": null,
      "outputs": [
        {
          "output_type": "stream",
          "text": [
            "Theta: 1.0000000000000002 degrees\n"
          ],
          "name": "stdout"
        }
      ]
    },
    {
      "cell_type": "markdown",
      "metadata": {
        "id": "D0DlkRBXuKFp",
        "colab_type": "text"
      },
      "source": [
        "Lots lots lots more at [Units Tutorial](https://docs.astropy.org/en/stable/units/).  Especially see the section [Using Astropy.units](https://docs.astropy.org/en/stable/units/#using-astropy-units). Also take a look at: [Working with Angles](https://docs.astropy.org/en/stable/coordinates/angles.html)\n"
      ]
    },
    {
      "cell_type": "markdown",
      "metadata": {
        "id": "xqusV_d_UgAI",
        "colab_type": "text"
      },
      "source": [
        "## Coordinates"
      ]
    },
    {
      "cell_type": "markdown",
      "metadata": {
        "id": "GVac5fZgaZQb",
        "colab_type": "text"
      },
      "source": [
        "[Coordinates Class](https://docs.astropy.org/en/stable/coordinates/)\n",
        "\n",
        "\n",
        "[SkyCoords](https://docs.astropy.org/en/stable/api/astropy.coordinates.SkyCoord.html)"
      ]
    },
    {
      "cell_type": "code",
      "metadata": {
        "id": "YAbU4aGwZseX",
        "colab_type": "code",
        "colab": {}
      },
      "source": [
        "#more astropy libraries\n",
        "import astropy.coordinates as coord\n",
        "from astropy.coordinates import SkyCoord, EarthLocation"
      ],
      "execution_count": null,
      "outputs": []
    },
    {
      "cell_type": "code",
      "metadata": {
        "id": "m-s-HQ-wZ-x8",
        "colab_type": "code",
        "colab": {
          "base_uri": "https://localhost:8080/",
          "height": 51
        },
        "outputId": "5315229d-f4cc-40fe-a7dc-361f7786671d"
      },
      "source": [
        "pleiades = SkyCoord.from_name('pleiades')\n",
        "pleiades"
      ],
      "execution_count": null,
      "outputs": [
        {
          "output_type": "execute_result",
          "data": {
            "text/plain": [
              "<SkyCoord (ICRS): (ra, dec) in deg\n",
              "    (56.75, 24.11666667)>"
            ]
          },
          "metadata": {
            "tags": []
          },
          "execution_count": 24
        }
      ]
    },
    {
      "cell_type": "code",
      "metadata": {
        "id": "17xc-r6WcoWc",
        "colab_type": "code",
        "colab": {
          "base_uri": "https://localhost:8080/",
          "height": 37
        },
        "outputId": "b41ac39c-9aa5-4572-c2c2-19be5d28690d"
      },
      "source": [
        "#get the right ascension\n",
        "pleiades.ra"
      ],
      "execution_count": null,
      "outputs": [
        {
          "output_type": "execute_result",
          "data": {
            "text/latex": "$56^\\circ45{}^\\prime00{}^{\\prime\\prime}$",
            "text/plain": [
              "<Longitude 56.75 deg>"
            ]
          },
          "metadata": {
            "tags": []
          },
          "execution_count": 25
        }
      ]
    },
    {
      "cell_type": "markdown",
      "metadata": {
        "id": "kpCQdkvTg5pR",
        "colab_type": "text"
      },
      "source": [
        "Notice that by default, RA comes out in degrees, minutes, seconds. To see H:M:S, convert to string with a format parmeter:"
      ]
    },
    {
      "cell_type": "code",
      "metadata": {
        "id": "ZMTZr2yWgrPc",
        "colab_type": "code",
        "colab": {
          "base_uri": "https://localhost:8080/",
          "height": 35
        },
        "outputId": "e265f1c9-fadb-4881-a309-14e59807cf91"
      },
      "source": [
        "pleiades.ra.to_string(u.hour)"
      ],
      "execution_count": null,
      "outputs": [
        {
          "output_type": "execute_result",
          "data": {
            "application/vnd.google.colaboratory.intrinsic+json": {
              "type": "string"
            },
            "text/plain": [
              "'3h47m00s'"
            ]
          },
          "metadata": {
            "tags": []
          },
          "execution_count": 26
        }
      ]
    },
    {
      "cell_type": "code",
      "metadata": {
        "id": "cFXafFldiLD_",
        "colab_type": "code",
        "colab": {
          "base_uri": "https://localhost:8080/",
          "height": 51
        },
        "outputId": "e8152f2d-4778-469d-ff0a-46bf84a5ff24"
      },
      "source": [
        "#galactic coordinates\n",
        "pleiades.galactic"
      ],
      "execution_count": null,
      "outputs": [
        {
          "output_type": "execute_result",
          "data": {
            "text/plain": [
              "<SkyCoord (Galactic): (l, b) in deg\n",
              "    (166.57066283, -23.52116779)>"
            ]
          },
          "metadata": {
            "tags": []
          },
          "execution_count": 27
        }
      ]
    },
    {
      "cell_type": "markdown",
      "metadata": {
        "id": "FsfWa3_IVT_5",
        "colab_type": "text"
      },
      "source": [
        "## Catalog Query"
      ]
    },
    {
      "cell_type": "markdown",
      "metadata": {
        "id": "CJZJ-6QyVaqL",
        "colab_type": "text"
      },
      "source": [
        "### Simbad"
      ]
    },
    {
      "cell_type": "markdown",
      "metadata": {
        "id": "v6IxNFQrVjM_",
        "colab_type": "text"
      },
      "source": [
        "### Sloan Digital Sky Survey"
      ]
    },
    {
      "cell_type": "markdown",
      "metadata": {
        "id": "o5nhQkN-WyjH",
        "colab_type": "text"
      },
      "source": [
        "## Observation Planning"
      ]
    },
    {
      "cell_type": "markdown",
      "metadata": {
        "id": "K4L5Dqnaxa8j",
        "colab_type": "text"
      },
      "source": [
        "## Read FITS file"
      ]
    },
    {
      "cell_type": "markdown",
      "metadata": {
        "id": "KFRr9fq_zzCy",
        "colab_type": "text"
      },
      "source": [
        "Astropy can read and write Flexible Image Transport System (fits) files, both locally and remotely. See [FITS File Handling](https://docs.astropy.org/en/stable/io/fits/).\n",
        "\n",
        "In this section, we'll open a .psrfits file, a .fits file that follows certain conventions for capturing pulsar data. To do so, we need first to mount a storage device into our Colab server."
      ]
    },
    {
      "cell_type": "markdown",
      "metadata": {
        "id": "idMfIK9lxymy",
        "colab_type": "text"
      },
      "source": [
        "### Mount drive with demo fits file"
      ]
    },
    {
      "cell_type": "code",
      "metadata": {
        "id": "-w8ul9MnzPk2",
        "colab_type": "code",
        "colab": {}
      },
      "source": [
        "from google.colab import drive, auth\n",
        "auth.authenticate_user()"
      ],
      "execution_count": 28,
      "outputs": []
    },
    {
      "cell_type": "code",
      "metadata": {
        "id": "jtBTlypEzlUJ",
        "colab_type": "code",
        "colab": {
          "base_uri": "https://localhost:8080/",
          "height": 122
        },
        "outputId": "6c4adeca-6457-43fc-da4a-c450e711ffa0"
      },
      "source": [
        "drive.mount('/content/drive')"
      ],
      "execution_count": 29,
      "outputs": [
        {
          "output_type": "stream",
          "text": [
            "Go to this URL in a browser: https://accounts.google.com/o/oauth2/auth?client_id=947318989803-6bn6qk8qdgf4n4g3pfee6491hc0brc4i.apps.googleusercontent.com&redirect_uri=urn%3aietf%3awg%3aoauth%3a2.0%3aoob&response_type=code&scope=email%20https%3a%2f%2fwww.googleapis.com%2fauth%2fdocs.test%20https%3a%2f%2fwww.googleapis.com%2fauth%2fdrive%20https%3a%2f%2fwww.googleapis.com%2fauth%2fdrive.photos.readonly%20https%3a%2f%2fwww.googleapis.com%2fauth%2fpeopleapi.readonly\n",
            "\n",
            "Enter your authorization code:\n",
            "··········\n",
            "Mounted at /content/drive\n"
          ],
          "name": "stdout"
        }
      ]
    },
    {
      "cell_type": "code",
      "metadata": {
        "id": "k2arGnshxgGc",
        "colab_type": "code",
        "colab": {
          "base_uri": "https://localhost:8080/",
          "height": 323
        },
        "outputId": "446b9514-7806-4a87-c9c3-23bdc6d09521"
      },
      "source": [
        "!echo \"deb http://packages.cloud.google.com/apt gcsfuse-bionic main\" > /etc/apt/sources.list.d/gcsfuse.list\n",
        "!curl https://packages.cloud.google.com/apt/doc/apt-key.gpg | apt-key add -\n",
        "!apt -qq update\n",
        "!apt -qq install gcsfuse"
      ],
      "execution_count": 30,
      "outputs": [
        {
          "output_type": "stream",
          "text": [
            "  % Total    % Received % Xferd  Average Speed   Time    Time     Time  Current\n",
            "                                 Dload  Upload   Total   Spent    Left  Speed\n",
            "\r  0     0    0     0    0     0      0      0 --:--:-- --:--:-- --:--:--     0\r100   653  100   653    0     0  23321      0 --:--:-- --:--:-- --:--:-- 23321\n",
            "OK\n",
            "37 packages can be upgraded. Run 'apt list --upgradable' to see them.\n",
            "The following package was automatically installed and is no longer required:\n",
            "  libnvidia-common-440\n",
            "Use 'apt autoremove' to remove it.\n",
            "The following NEW packages will be installed:\n",
            "  gcsfuse\n",
            "0 upgraded, 1 newly installed, 0 to remove and 37 not upgraded.\n",
            "Need to get 4,278 kB of archives.\n",
            "After this operation, 12.8 MB of additional disk space will be used.\n",
            "Selecting previously unselected package gcsfuse.\n",
            "(Reading database ... 144487 files and directories currently installed.)\n",
            "Preparing to unpack .../gcsfuse_0.30.0_amd64.deb ...\n",
            "Unpacking gcsfuse (0.30.0) ...\n",
            "Setting up gcsfuse (0.30.0) ...\n"
          ],
          "name": "stdout"
        }
      ]
    },
    {
      "cell_type": "code",
      "metadata": {
        "id": "79jk1SD-xtw5",
        "colab_type": "code",
        "colab": {
          "base_uri": "https://localhost:8080/",
          "height": 102
        },
        "outputId": "f8d674a9-d857-47b2-e21b-c3cf2bb51bab"
      },
      "source": [
        "#Mount the drive\n",
        "!mkdir fits_data\n",
        "!gcsfuse --implicit-dirs --limit-bytes-per-sec -1 --limit-ops-per-sec -1 society-amateur-radio-astronomers fits_data"
      ],
      "execution_count": 31,
      "outputs": [
        {
          "output_type": "stream",
          "text": [
            "Using mount point: /content/fits_data\n",
            "Opening GCS connection...\n",
            "Opening bucket...\n",
            "Mounting file system...\n",
            "File system has been successfully mounted.\n"
          ],
          "name": "stdout"
        }
      ]
    },
    {
      "cell_type": "markdown",
      "metadata": {
        "id": "9UKBBJX4gmti",
        "colab_type": "text"
      },
      "source": [
        "### Pulsar Fits File Exploration\n",
        "\n",
        "Herein, we shall explore the structure of a *.psrfits* file. This type of file is the result of an observation session on the Greenbank Observatory 20M telescope in **pulsar** mode. Observations using the telescope's other modes produce different kinds (formats) of *.fits* files.\n",
        "\n",
        "FITS = Flexible Image Transort System\n",
        "\n",
        "*.psrfits* appear to be *.fits* specially tailored to capture pulsar observations.  The general case *.psrfits* is documented here:\n",
        "\n",
        "[PSR FITS file documentation](https://www.atnf.csiro.au/research/pulsar/psrfits_definition/PsrfitsDocumentation.html)"
      ]
    },
    {
      "cell_type": "code",
      "metadata": {
        "id": "aUAN8ZE-yAHD",
        "colab_type": "code",
        "colab": {
          "base_uri": "https://localhost:8080/",
          "height": 85
        },
        "outputId": "e9ddc185-0b20-4a47-eb6f-50c87cd56674"
      },
      "source": [
        "from astropy.io import fits\n",
        "fpath = 'fits_data/B0329+54_pulsar.fits'\n",
        "\n",
        "pulsar_hdul = fits.open(fpath)\n",
        "pulsar_hdul.info()"
      ],
      "execution_count": 32,
      "outputs": [
        {
          "output_type": "stream",
          "text": [
            "Filename: fits_data/B0329+54_pulsar.fits\n",
            "No.    Name      Ver    Type      Cards   Dimensions   Format\n",
            "  0  PRIMARY       1 PrimaryHDU      67   ()      \n",
            "  1  SUBINT        1 BinTableHDU     74   1373R x 17C   [1D, 1D, 1D, 1D, 1D, 1D, 1D, 1E, 1E, 1E, 1E, 1E, 1024E, 1024E, 4096E, 4096E, 262144B]   \n"
          ],
          "name": "stdout"
        }
      ]
    },
    {
      "cell_type": "code",
      "metadata": {
        "id": "4yYdcEVl1zDY",
        "colab_type": "code",
        "colab": {
          "base_uri": "https://localhost:8080/",
          "height": 1000
        },
        "outputId": "1540334a-a855-4572-bf6f-72dce9a2306c"
      },
      "source": [
        "pulsar_hdul[0].header"
      ],
      "execution_count": 33,
      "outputs": [
        {
          "output_type": "execute_result",
          "data": {
            "text/plain": [
              "SIMPLE  =                    T / file does conform to FITS standard             \n",
              "BITPIX  =                    8 / number of bits per data pixel                  \n",
              "NAXIS   =                    0 / number of data axes                            \n",
              "EXTEND  =                    T / FITS dataset may contain extensions            \n",
              "COMMENT   FITS (Flexible Image Transport System) format is defined in 'Astronomy\n",
              "COMMENT   and Astrophysics', volume 376, page 359; bibcode: 2001A&A...376..359H \n",
              "HDRVER  = '3.4             '   / Header version                                 \n",
              "FITSTYPE= 'PSRFITS '           / FITS definition for pulsar data files          \n",
              "DATE    = '2019-06-21T12:02:03' / File creation date (YYYY-MM-DDThh:mm:ss UTC)  \n",
              "OBSERVER= 'kevin.mcmanus_25127' / Observer name(s)                              \n",
              "PROJID  = 'Skynet_58655_B0329+54klm1_39979' / Project name                      \n",
              "TELESCOP= 'NRAO20  '           / Telescope name                                 \n",
              "ANT_X   =          883772.7974 / [m] Antenna ITRF X-coordinate (D)              \n",
              "ANT_Y   =        -4924385.5975 / [m] Antenna ITRF Y-coordinate (D)              \n",
              "ANT_Z   =         3944042.4991 / [m] Antenna ITRF Z-coordinate (D)              \n",
              "FRONTEND= 'Rx1_2   '           / Rx and feed ID                                 \n",
              "NRCVR   =                    2 / Number of receiver polarisation channels       \n",
              "FD_POLN = 'LIN     '           / LIN or CIRC                                    \n",
              "FD_HAND =                   -1 / +/- 1. +1 is LIN:A=X,B=Y, CIRC:A=L,B=R (I)     \n",
              "FD_SANG =                  45. / [deg] FA of E vect for equal sig in A&B (E)    \n",
              "FD_XYPH =                   0. / [deg] Phase of A^* B for injected cal (E)      \n",
              "BACKEND = 'CYBORG  '           / Backend ID                                     \n",
              "BECONFIG= 'N/A     '           / Backend configuration file name                \n",
              "BE_PHASE=                   -1 / 0/+1/-1 BE cross-phase:0 unknown,+/-1 std/rev  \n",
              "BE_DCC  =                    0 / 0/1 BE downconversion conjugation corrected    \n",
              "BE_DELAY=                   0. / [s] Backend propn delay from digitiser input   \n",
              "TCYCLE  =                   0. / [s] On-line cycle time (D)                     \n",
              "OBS_MODE= 'SEARCH  '           / (PSR, CAL, SEARCH)                             \n",
              "DATE-OBS= '2019-06-21T12:02:03.000' / Date of observation (YYYY-MM-DDThh:mm:ss U\n",
              "OBSFREQ =                1550. / [MHz] Centre frequency for observation         \n",
              "OBSBW   =                -500. / [MHz] Bandwidth for observation                \n",
              "OBSNCHAN=                 1024 / Number of frequency channels (original)        \n",
              "CHAN_DM =                   0. / DM used to de-disperse each channel (pc/cm^3)  \n",
              "SRC_NAME= 'B0329+54klm1'       / Source or scan ID                              \n",
              "COORD_MD= 'J2000   '           / Coordinate mode (J2000, GAL, ECLIP, etc.)      \n",
              "EQUINOX =                2000. / Equinox of coords (e.g. 2000.0)                \n",
              "RA      = '03:33:23.27'        / Right ascension (hh:mm:ss.ssss)                \n",
              "DEC     = '54:34:44.42'        / Declination (-dd:mm:ss.sss)                    \n",
              "BMAJ    =                   0. / [deg] Beam major axis length                   \n",
              "BMIN    =                   0. / [deg] Beam minor axis length                   \n",
              "BPA     =                   0. / [deg] Beam position angle                      \n",
              "STT_CRD1= '03:33:23.27'        / Start coord 1 (hh:mm:ss.sss or ddd.ddd)        \n",
              "STT_CRD2= '54:34:44.42'        / Start coord 2 (-dd:mm:ss.sss or -dd.ddd)       \n",
              "TRK_MODE= 'Unknown '           / Track mode (TRACK, SCANGC, SCANLAT)            \n",
              "STP_CRD1= '03:33:23.27'        / Stop coord 1 (hh:mm:ss.sss or ddd.ddd)         \n",
              "STP_CRD2= '54:34:44.42'        / Stop coord 2 (-dd:mm:ss.sss or -dd.ddd)        \n",
              "SCANLEN =                 180. / [s] Requested scan length (E)                  \n",
              "FD_MODE = 'FA      '           / Feed track mode - FA, CPA, SPA, TPA            \n",
              "FA_REQ  =                   0. / [deg] Feed/Posn angle requested (E)            \n",
              "CAL_MODE= 'OFF     '           / Cal mode (OFF, SYNC, EXT1, EXT2)               \n",
              "CAL_FREQ=                  25. / [Hz] Cal modulation frequency (E)              \n",
              "CAL_DCYC=                  0.5 / Cal duty cycle (E)                             \n",
              "CAL_PHS =                   0. / Cal phase (wrt start time) (E)                 \n",
              "STT_IMJD=                58655 / Start MJD (UTC days) (J - long integer)        \n",
              "STT_SMJD=                43322 / [s] Start time (sec past UTC 00h) (J)          \n",
              "STT_OFFS=     0.99999999999045 / [s] Start time offset (D)                      \n",
              "STT_LST =                2420. / [s] Start LST (D)                              \n",
              "HISTORY BASENAME /raid/scratch/cyborg/SkynetData/Skynet_58655_B0329+54klm1_39979\n",
              "HISTORY /Cyborg/Skynet_58655_B0329+54klm1_39979_47901                           \n",
              "HISTORY DATAMODE PSR_SEARCH                                                     \n",
              "HISTORY FOCUS   37.093    / 20-meter box focus, mm                              \n",
              "HISTORY RFFILTER    1300_1800       / Receiver feed/filter                      \n",
              "HISTORY START,STOP channels 100, 920   / range for continuum                    \n",
              "HISTORY IF attenuators   10.00,    0.00   / in dB                               \n",
              "HISTORY LO1 tuning    7000.0000    / actual LO1 synthesizer setting, MHz        \n",
              "HISTORY ACCLEN    2048      / Roach accumulation length                         \n",
              "HISTORY WARNING None          / Warning of error conditions                     "
            ]
          },
          "metadata": {
            "tags": []
          },
          "execution_count": 33
        }
      ]
    },
    {
      "cell_type": "code",
      "metadata": {
        "id": "PAP0y-d62Oju",
        "colab_type": "code",
        "colab": {
          "base_uri": "https://localhost:8080/",
          "height": 1000
        },
        "outputId": "c18ed878-2a1c-430e-eef1-aa9dc8350b4c"
      },
      "source": [
        "hdr1 = pulsar_hdul[1].header\n",
        "hdr1"
      ],
      "execution_count": 34,
      "outputs": [
        {
          "output_type": "execute_result",
          "data": {
            "text/plain": [
              "XTENSION= 'BINTABLE'           / ***** Subintegration data  *****               \n",
              "BITPIX  =                    8 / N/A                                            \n",
              "NAXIS   =                    2 / 2-dimensional binary table                     \n",
              "NAXIS1  =               303180 / width of table in bytes                        \n",
              "NAXIS2  =                 1373 / Number of rows in table (NSUBINT)              \n",
              "PCOUNT  =                    0 / size of special data area                      \n",
              "GCOUNT  =                    1 / one data group (required keyword)              \n",
              "TFIELDS =                   17 / Number of fields per row                       \n",
              "TTYPE1  = 'TSUBINT '           / Length of subintegration                       \n",
              "TFORM1  = '1D      '           / Double                                         \n",
              "TTYPE2  = 'OFFS_SUB'           / Offset from Start of subint centre             \n",
              "TFORM2  = '1D      '           / Double                                         \n",
              "TTYPE3  = 'LST_SUB '           / LST at subint centre                           \n",
              "TFORM3  = '1D      '           / Double                                         \n",
              "TTYPE4  = 'RA_SUB  '           / RA (J2000) at subint centre                    \n",
              "TFORM4  = '1D      '           / Double                                         \n",
              "TTYPE5  = 'DEC_SUB '           / Dec (J2000) at subint centre                   \n",
              "TFORM5  = '1D      '           / Double                                         \n",
              "TTYPE6  = 'GLON_SUB'           / [deg] Gal longitude at subint centre           \n",
              "TFORM6  = '1D      '           / Double                                         \n",
              "TTYPE7  = 'GLAT_SUB'           / [deg] Gal latitude at subint centre            \n",
              "TFORM7  = '1D      '           / Double                                         \n",
              "TTYPE8  = 'FD_ANG  '           / [deg] Feed angle at subint centre              \n",
              "TFORM8  = '1E      '           / Float                                          \n",
              "TTYPE9  = 'POS_ANG '           / [deg] Position angle of feed at subint centre  \n",
              "TFORM9  = '1E      '           / Float                                          \n",
              "TTYPE10 = 'PAR_ANG '           / [deg] Parallactic angle at subint centre       \n",
              "TFORM10 = '1E      '           / Float                                          \n",
              "TTYPE11 = 'TEL_AZ  '           / [deg] Telescope azimuth at subint centre       \n",
              "TFORM11 = '1E      '           / Float                                          \n",
              "TTYPE12 = 'TEL_ZEN '           / [deg] Telescope zenith angle at subint centre  \n",
              "TFORM12 = '1E      '           / Float                                          \n",
              "TTYPE13 = 'DAT_FREQ'           / [MHz] Centre frequency for each channel        \n",
              "TFORM13 = '1024E   '           / NCHAN floats                                   \n",
              "TTYPE14 = 'DAT_WTS '           / Weights for each channel                       \n",
              "TFORM14 = '1024E   '           / NCHAN floats                                   \n",
              "TTYPE15 = 'DAT_OFFS'           / Data offset for each channel                   \n",
              "TFORM15 = '4096E   '           / NCHAN*NPOL floats                              \n",
              "TTYPE16 = 'DAT_SCL '           / Data scale factor for each channel             \n",
              "TFORM16 = '4096E   '           / NCHAN*NPOL floats                              \n",
              "TTYPE17 = 'DATA    '           / Subint data table                              \n",
              "TFORM17 = '262144B '           / NBIN*NCHAN*NPOL*NSBLK int, byte(B) or bit(X)   \n",
              "INT_TYPE= 'TIME    '           / Time axis (TIME, BINPHSPERI, BINLNGASC, etc)   \n",
              "INT_UNIT= 'SEC     '           / Unit of time axis (SEC, PHS (0-1), DEG)        \n",
              "SCALE   = 'FluxDen '           / Intensity units (FluxDen/RefFlux/Jansky)       \n",
              "NPOL    =                    4 / Nr of polarisations                            \n",
              "POL_TYPE= 'IQUV    '           / Polarisation identifier (e.g., AABBCRCI, AA+BB)\n",
              "TBIN    =          0.004194304 / [s] Time per bin or sample                     \n",
              "NBIN    =                    1 / Nr of bins (PSR/CAL mode; else 1)              \n",
              "NBIN_PRD=                    0 / Nr of bins/pulse period (for gated data)       \n",
              "PHS_OFFS=                   0. / Phase offset of bin 0 for gated data           \n",
              "NBITS   =                   16 / Nr of bits/datum (SEARCH mode 'X' data, else 1)\n",
              "NSUBOFFS=                    0 / Subint offset (Contiguous SEARCH-mode files)   \n",
              "NCHAN   =                 1024 / Number of channels/sub-bands in this file      \n",
              "CHAN_BW =          -0.48828125 / [MHz] Channel/sub-band width                   \n",
              "NCHNOFFS=                    0 / Channel/sub-band offset for split files        \n",
              "NSBLK   =                   32 / Samples/row (SEARCH mode, else 1)              \n",
              "EXTNAME = 'SUBINT  '           / name of this binary table extension            \n",
              "TUNIT1  = 's       '           / Units of field                                 \n",
              "TUNIT2  = 's       '           / Units of field                                 \n",
              "TUNIT3  = 's       '           / Units of field                                 \n",
              "TUNIT4  = 'deg     '           / Units of field                                 \n",
              "TUNIT5  = 'deg     '           / Units of field                                 \n",
              "TUNIT6  = 'deg     '           / Units of field                                 \n",
              "TUNIT7  = 'deg     '           / Units of field                                 \n",
              "TUNIT8  = 'deg     '           / Units of field                                 \n",
              "TUNIT9  = 'deg     '           / Units of field                                 \n",
              "TUNIT10 = 'deg     '           / Units of field                                 \n",
              "TUNIT11 = 'deg     '           / Units of field                                 \n",
              "TUNIT12 = 'deg     '           / Units of field                                 \n",
              "TUNIT13 = 'MHz     '           / Units of field                                 \n",
              "TDIM17  = '(2,1024,4,32)'      / Dimensions (NBITS or NBIN,NCHAN,NPOL,NSBLK)    \n",
              "TUNIT17 = 'Jy      '           / Units of subint data                           \n",
              "EXTVER  =                    1 / auto assigned by template parser               "
            ]
          },
          "metadata": {
            "tags": []
          },
          "execution_count": 34
        }
      ]
    },
    {
      "cell_type": "markdown",
      "metadata": {
        "id": "H9RD2RfS1BuS",
        "colab_type": "text"
      },
      "source": [
        "### Read Remote FITS file"
      ]
    },
    {
      "cell_type": "code",
      "metadata": {
        "id": "XdR6zmXN1g57",
        "colab_type": "code",
        "colab": {}
      },
      "source": [
        "#read fits file from Vizier\n",
        "fits_url = 'https://cdsarc.unistra.fr/viz-bin/nph-Cat/fits.gz?J/A+A/616/A10/tablea1b.dat.gz'\n",
        "tablea1b = Table.read(fits_url)"
      ],
      "execution_count": 35,
      "outputs": []
    },
    {
      "cell_type": "code",
      "metadata": {
        "id": "5ATvOBwz2QUx",
        "colab_type": "code",
        "colab": {
          "base_uri": "https://localhost:8080/",
          "height": 204
        },
        "outputId": "41dfec0d-5e18-4db4-8a4f-795cb3582382"
      },
      "source": [
        "tablea1b[0:5]"
      ],
      "execution_count": 36,
      "outputs": [
        {
          "output_type": "execute_result",
          "data": {
            "text/html": [
              "<i>Table length=5</i>\n",
              "<table id=\"table139862995982040\" class=\"table-striped table-bordered table-condensed\">\n",
              "<thead><tr><th>Source</th><th>Cluster</th><th>RAdeg</th><th>DEdeg</th><th>Gmag</th><th>plx</th><th>e_plx</th></tr></thead>\n",
              "<thead><tr><th></th><th></th><th>deg</th><th>deg</th><th>mag</th><th>mas</th><th>mas</th></tr></thead>\n",
              "<thead><tr><th>int32</th><th>bytes8</th><th>float64</th><th>float64</th><th>float64</th><th>float64</th><th>float64</th></tr></thead>\n",
              "<tr><td>1215360</td><td>NGC0188</td><td>11.62916</td><td>84.77862</td><td>18.198</td><td>0.000</td><td>0.000</td></tr>\n",
              "<tr><td>1275776</td><td>NGC0188</td><td>12.51558</td><td>84.84479</td><td>19.199</td><td>0.000</td><td>0.000</td></tr>\n",
              "<tr><td>310912</td><td>NGC0188</td><td>9.11054</td><td>85.11362</td><td>19.262</td><td>0.000</td><td>0.000</td></tr>\n",
              "<tr><td>1118720</td><td>NGC0188</td><td>10.38709</td><td>84.69476</td><td>19.873</td><td>0.000</td><td>0.000</td></tr>\n",
              "<tr><td>335616</td><td>NGC0188</td><td>6.11274</td><td>85.16839</td><td>18.966</td><td>0.000</td><td>0.000</td></tr>\n",
              "</table>"
            ],
            "text/plain": [
              "<Table length=5>\n",
              "        Source         Cluster    RAdeg     DEdeg     Gmag    plx    e_plx \n",
              "                                   deg       deg      mag     mas     mas  \n",
              "        int32           bytes8   float64   float64  float64 float64 float64\n",
              "---------------------- -------- --------- --------- ------- ------- -------\n",
              "               1215360 NGC0188   11.62916  84.77862  18.198   0.000   0.000\n",
              "               1275776 NGC0188   12.51558  84.84479  19.199   0.000   0.000\n",
              "                310912 NGC0188    9.11054  85.11362  19.262   0.000   0.000\n",
              "               1118720 NGC0188   10.38709  84.69476  19.873   0.000   0.000\n",
              "                335616 NGC0188    6.11274  85.16839  18.966   0.000   0.000"
            ]
          },
          "metadata": {
            "tags": []
          },
          "execution_count": 36
        }
      ]
    },
    {
      "cell_type": "markdown",
      "metadata": {
        "id": "utJb0XtBE2GB",
        "colab_type": "text"
      },
      "source": [
        "## For later"
      ]
    },
    {
      "cell_type": "code",
      "metadata": {
        "id": "zDOLruXPEJ_n",
        "colab_type": "code",
        "colab": {}
      },
      "source": [
        "clusters = ['Blanco 1',\n",
        " 'Collinder 140',\n",
        " 'Coma Berenices Cluster',\n",
        " 'Hyades',\n",
        " 'Pleiades',\n",
        " 'Praesepe',\n",
        " 'alpha Per']"
      ],
      "execution_count": null,
      "outputs": []
    },
    {
      "cell_type": "code",
      "metadata": {
        "id": "qgRwHzfPkEvk",
        "colab_type": "code",
        "colab": {}
      },
      "source": [
        "# set up the Simbad query\n",
        "from astroquery.simbad import Simbad\n",
        "from astropy.time import Time\n",
        "mySimbad = Simbad()\n",
        "mySimbad.add_votable_fields('parallax', 'pm','velocity','typed_id')\n",
        "mySimbad.get_votable_fields()\n"
      ],
      "execution_count": null,
      "outputs": []
    },
    {
      "cell_type": "code",
      "metadata": {
        "id": "7KY8I2UBkych",
        "colab_type": "code",
        "colab": {}
      },
      "source": [
        "#from astropy.table import Table, vstack\n",
        "res_table = vstack([mySimbad.query_object(c) for c in clusters],join_type='exact')"
      ],
      "execution_count": null,
      "outputs": []
    },
    {
      "cell_type": "code",
      "metadata": {
        "id": "HNTNMPsGlD03",
        "colab_type": "code",
        "colab": {}
      },
      "source": [
        "def fix_table(res_table):\n",
        "  cluster_info=Table(res_table['TYPED_ID', 'PLX_VALUE', 'PLX_PREC','RA', 'RA_PREC', 'DEC', 'DEC_PREC',\n",
        "                              'PMRA', 'PMDEC', 'RVZ_RADVEL', 'RVZ_ERROR'])\n",
        "\n",
        "  #gotta be a better way to do this:\n",
        "  cluster_info['TYPED_ID'] = [c.decode('utf-8') for c in cluster_info['TYPED_ID']]\n",
        "\n",
        "  #rename the columns to look like Gaia\n",
        "  cluster_info.rename_column('TYPED_ID','cluster')\n",
        "  cluster_info.rename_column('PLX_VALUE','parallax')\n",
        "  cluster_info.rename_column('PLX_PREC', 'parallax_error')\n",
        "  cluster_info.rename_column('RA', 'ra')\n",
        "  cluster_info.rename_column('RA_PREC','ra_error')\n",
        "  cluster_info.rename_column('DEC', 'dec')\n",
        "  cluster_info.rename_column('DEC_PREC','dec_error')\n",
        "  cluster_info.rename_column('PMRA', 'pmra')\n",
        "  cluster_info.rename_column('PMDEC', 'pmdec')\n",
        "  cluster_info.rename_column('RVZ_RADVEL','radial_velocity')\n",
        "  cluster_info.rename_column('RVZ_ERROR', 'rv_error')\n",
        "\n",
        "  #unmask the columns\n",
        "  cluster_info = cluster_info.filled() \n",
        "\n",
        "\n",
        "  #index on the cluster name\n",
        "  cluster_info.add_index('cluster')\n",
        "\n",
        "  # coordinates,  note the update to J2015.5 to match with Gaia\n",
        "  cluster_info['coords'] = \\\n",
        "      SkyCoord(ra = cluster_info['ra'],\n",
        "          dec = cluster_info['dec'], unit = (u.hour, u.deg),\n",
        "          obstime = 'J2000',  #simbad returns J2000 coords\n",
        "          distance = coord.Distance(parallax=Quantity(cluster_info['parallax'])),\n",
        "          pm_ra_cosdec = cluster_info['pmra'],\n",
        "          pm_dec = cluster_info['pmdec'],\n",
        "          radial_velocity = cluster_info['radial_velocity']).apply_space_motion(new_obstime=Time('2015.5',format='decimalyear'))\n",
        "\n",
        "  return cluster_info"
      ],
      "execution_count": null,
      "outputs": []
    },
    {
      "cell_type": "code",
      "metadata": {
        "id": "wroi75xEvC5N",
        "colab_type": "code",
        "colab": {}
      },
      "source": [
        "open_cluster_info=fix_table(res_table)"
      ],
      "execution_count": null,
      "outputs": []
    },
    {
      "cell_type": "code",
      "metadata": {
        "id": "klzOX0mhl6oG",
        "colab_type": "code",
        "colab": {}
      },
      "source": [
        "fig = plt.figure(figsize=(12,8))\n",
        "ax = fig.add_subplot(111, projection='mollweide')\n",
        "ax.pcolormesh(l_vec.radian,\n",
        "           b_vec.radian,\n",
        "           image_gal,\n",
        "           cmap='viridis', norm=colors.LogNorm())\n",
        "\n",
        "# plot the clusters\n",
        "color=iter(plt.cm.rainbow(np.linspace(0,1,len(clusters))))\n",
        "for c in clusters:\n",
        "  ax.scatter(open_cluster_info.loc[c]['coords'].galactic.l.wrap_at(180*u.deg).radian, open_cluster_info.loc[c]['coords'].galactic.b.radian, \n",
        "    color=next(color), s=50, label=c)\n",
        "ax.grid()\n",
        "ax.legend(loc='upper right')"
      ],
      "execution_count": null,
      "outputs": []
    },
    {
      "cell_type": "code",
      "metadata": {
        "id": "LKDyLCtkrqTe",
        "colab_type": "code",
        "colab": {}
      },
      "source": [
        "glob_clusters=['NGC0104', 'NGC0288', 'NGC0362', 'NGC1851', 'NGC5272', 'NGC5904',\n",
        "       'NGC6205', 'NGC6218', 'NGC6341', 'NGC6397', 'NGC6656', 'NGC6752',\n",
        "       'NGC6809', 'NGC7099']"
      ],
      "execution_count": null,
      "outputs": []
    },
    {
      "cell_type": "code",
      "metadata": {
        "id": "yxv3_UT2wBTv",
        "colab_type": "code",
        "colab": {}
      },
      "source": [
        "#from astropy.table import Table, vstack\n",
        "res_table = vstack([mySimbad.query_object(c) for c in glob_clusters],join_type='exact')"
      ],
      "execution_count": null,
      "outputs": []
    },
    {
      "cell_type": "code",
      "metadata": {
        "id": "hyyddBF-wK11",
        "colab_type": "code",
        "colab": {}
      },
      "source": [
        "glob_cluster_info = fix_table(res_table)"
      ],
      "execution_count": null,
      "outputs": []
    },
    {
      "cell_type": "code",
      "metadata": {
        "id": "SBSglUHDc3t2",
        "colab_type": "code",
        "colab": {}
      },
      "source": [
        "import matplotlib.gridspec as gridspec\n",
        "from mpl_toolkits.axes_grid1 import make_axes_locatable"
      ],
      "execution_count": null,
      "outputs": []
    },
    {
      "cell_type": "code",
      "metadata": {
        "id": "j9UUIEkFwXSY",
        "colab_type": "code",
        "colab": {}
      },
      "source": [
        "fig = plt.figure(figsize=(16,12))\n",
        "\n",
        "#gs1 = gridspec.GridSpec(1, 2, width_ratios=(1,9))\n",
        "\n",
        "#main plot axis\n",
        "#ax = plt.subplot(gs1[0,1], projection='mollweide')\n",
        "ax = fig.add_subplot(111, projection='mollweide')\n",
        "pcm = ax.pcolormesh(l_vec.radian,\n",
        "           b_vec.radian,\n",
        "           image_gal,\n",
        "           cmap='Greys', norm=colors.LogNorm(),alpha=0.3)\n",
        "\n",
        "# plot the clusters\n",
        "color=iter(plt.cm.tab20(np.linspace(0,1,20)))\n",
        "for c in clusters:\n",
        "  ax.scatter(open_cluster_info.loc[c]['coords'].galactic.l.wrap_at(180*u.deg).radian, open_cluster_info.loc[c]['coords'].galactic.b.radian, \n",
        "    marker='P',color=next(color), s=200, label=c, alpha=1.0)\n",
        "  \n",
        "# plot the globs\n",
        "color=iter(plt.cm.tab20(np.linspace(0,1,20)))\n",
        "for c in glob_clusters:\n",
        "  ax.scatter(glob_cluster_info.loc[c]['coords'].galactic.l.wrap_at(180*u.deg).radian, glob_cluster_info.loc[c]['coords'].galactic.b.radian, \n",
        "    marker='X',color=next(color), s=200, label=c, alpha=1.0)\n",
        "ax.grid()\n",
        "ax.legend(bbox_to_anchor=(1.25, 1), loc='upper right', borderaxespad=0.05)\n",
        "#ax.legend(loc='upper right')\n",
        "#ax.invert_xaxis()\n",
        "ax.tick_params(axis='x', colors='white')\n",
        "ax.set_xlabel('Galactic Longitude', color='White')\n",
        "ax.set_ylabel('Galactic Latitude', color='white')\n",
        "#put the colorbar to the left\n",
        "#divider = make_axes_locatable(ax)\n",
        "#cax = divider.append_axes(\"left\", size=\"5%\", pad=0.05)\n",
        "#cax = plt.subplot(gs1[0,0])\n",
        "cb = plt.colorbar(pcm, ax=[ax], location=\"left\", shrink=0.5)\n",
        "cb.ax.set_ylabel('log(NHI)')\n"
      ],
      "execution_count": null,
      "outputs": []
    },
    {
      "cell_type": "code",
      "metadata": {
        "id": "pdKRWyUecBNm",
        "colab_type": "code",
        "colab": {}
      },
      "source": [
        "fig = plt.figure()\n",
        "ax = fig.add_subplot(111)\n",
        "axp = ax.imshow(np.random.randint(0, 100, (100, 100)))\n",
        "cb = plt.colorbar(axp,ax=[ax],location='left')\n",
        "plt.show()"
      ],
      "execution_count": null,
      "outputs": []
    },
    {
      "cell_type": "code",
      "metadata": {
        "id": "xKXrrELxjRap",
        "colab_type": "code",
        "colab": {}
      },
      "source": [
        " = ax.imshow(np.arange(100).reshape((10,10)))\n",
        "\n",
        "# create an axes on the right side of ax. The width of cax will be 5%\n",
        "# of ax and the padding between cax and ax will be fixed at 0.05 inch.\n",
        "divider = make_axes_locatable(ax)\n",
        "cax = divider.append_axes(\"right\", size=\"5%\", pad=0.05)\n"
      ],
      "execution_count": null,
      "outputs": []
    },
    {
      "cell_type": "code",
      "metadata": {
        "id": "0lqeyEqHbHEE",
        "colab_type": "code",
        "colab": {}
      },
      "source": [
        "fig = plt.figure(figsize=(12,8))\n",
        "\n",
        "#axis for main plot\n",
        "ax = fig.add_subplot(111, projection='mollweide')\n",
        "pcm = ax.pcolormesh(l_vec.radian,\n",
        "           b_vec.radian,\n",
        "           image_gal,\n",
        "           cmap='viridis', norm=colors.LogNorm(),alpha=0.3)\n",
        "\n",
        "# plot the clusters\n",
        "color=iter(plt.cm.tab20(np.linspace(0,1,20)))\n",
        "for c in clusters:\n",
        "  ax.scatter(open_cluster_info.loc[c]['coords'].galactic.l.wrap_at(180*u.deg).radian, open_cluster_info.loc[c]['coords'].galactic.b.radian, \n",
        "    color=next(color), s=100, label=c)\n",
        "  \n",
        "# plot the globs\n",
        "color=iter(plt.cm.tab20(np.linspace(0,1,20)))\n",
        "for c in glob_clusters:\n",
        "  ax.scatter(glob_cluster_info.loc[c]['coords'].galactic.l.wrap_at(180*u.deg).radian, glob_cluster_info.loc[c]['coords'].galactic.b.radian, \n",
        "    marker='+',color=next(color), s=100, label=c)\n",
        "ax.grid()\n",
        "ax.legend(loc='upper right')\n",
        "\n",
        "cb = fig.colorbar(pcm, ax=ax)\n",
        "cb.ax.set_ylabel('log(NHI)',rotation=270)\n",
        "#ax.invert_xaxis()"
      ],
      "execution_count": null,
      "outputs": []
    },
    {
      "cell_type": "code",
      "metadata": {
        "id": "ArUsfDGHExBy",
        "colab_type": "code",
        "colab": {}
      },
      "source": [
        "# reduce resolution to 3600 x 1800\n",
        "rastep = 0.1 # tenth degree steps\n",
        "decstep = 0.1 # tenth degree steps\n"
      ],
      "execution_count": null,
      "outputs": []
    },
    {
      "cell_type": "code",
      "metadata": {
        "id": "VQJjiU4eK48K",
        "colab_type": "code",
        "colab": {}
      },
      "source": [
        "hi4pi['RAint'] = (hi4pi.RAdeg//rastep).astype(int)\n",
        "hi4pi['DEint'] = ((90+hi4pi.DEdeg)//decstep).astype(int)\n"
      ],
      "execution_count": null,
      "outputs": []
    },
    {
      "cell_type": "code",
      "metadata": {
        "id": "3KhZiLOUcpl7",
        "colab_type": "code",
        "colab": {}
      },
      "source": [
        "hi4pi.head()"
      ],
      "execution_count": null,
      "outputs": []
    },
    {
      "cell_type": "code",
      "metadata": {
        "id": "EbhIioXtV29g",
        "colab_type": "code",
        "colab": {}
      },
      "source": [
        "hi4pi_01 = hi4pi[['RAint','DEint','NHI']].groupby(['DEint','RAint']).mean().reset_index()\n",
        "hi4pi_image = pd.pivot_table(hi4pi_01,index='DEint',columns='RAint', values='NHI',aggfunc=np.mean).to_numpy( copy=True)"
      ],
      "execution_count": null,
      "outputs": []
    },
    {
      "cell_type": "code",
      "metadata": {
        "id": "ym98NzYJLtrt",
        "colab_type": "code",
        "colab": {}
      },
      "source": [
        "ra_vec = np.linspace(0,360, 3600,  endpoint=False)\n",
        "dec_vec= np.linspace(-90,90,1800, endpoint=False)"
      ],
      "execution_count": null,
      "outputs": []
    },
    {
      "cell_type": "code",
      "metadata": {
        "id": "AH89La7qgMgX",
        "colab_type": "code",
        "colab": {}
      },
      "source": [
        "decdec, rara = np.meshgrid(dec_vec, ra_vec)"
      ],
      "execution_count": null,
      "outputs": []
    },
    {
      "cell_type": "code",
      "metadata": {
        "id": "-AsmHjEMgiZn",
        "colab_type": "code",
        "colab": {}
      },
      "source": [
        "decdec.shape"
      ],
      "execution_count": null,
      "outputs": []
    },
    {
      "cell_type": "code",
      "metadata": {
        "id": "I1VkAbwJhWhR",
        "colab_type": "code",
        "colab": {}
      },
      "source": [
        "xx=np.arange(10)"
      ],
      "execution_count": null,
      "outputs": []
    },
    {
      "cell_type": "code",
      "metadata": {
        "id": "nh-rEsUChZ5r",
        "colab_type": "code",
        "colab": {}
      },
      "source": [
        "xx[:len(xx)-1]"
      ],
      "execution_count": null,
      "outputs": []
    },
    {
      "cell_type": "code",
      "metadata": {
        "id": "jlWlo175VJPV",
        "colab_type": "code",
        "colab": {}
      },
      "source": [
        "\n",
        "fig = plt.figure(figsize=(12,12))\n",
        "ax = fig.add_subplot(111)\n",
        "ax.pcolormesh(ra_vec,dec_vec, hi4pi_image, cmap='gnuplot', norm=colors.LogNorm())\n",
        "ax.invert_xaxis()"
      ],
      "execution_count": null,
      "outputs": []
    },
    {
      "cell_type": "code",
      "metadata": {
        "id": "L2CCWWFwlya8",
        "colab_type": "code",
        "colab": {}
      },
      "source": [
        "from astropy.coordinates import Angle\n",
        "import astropy.units as u"
      ],
      "execution_count": null,
      "outputs": []
    },
    {
      "cell_type": "code",
      "metadata": {
        "id": "ljrJlUblVLXa",
        "colab_type": "code",
        "colab": {}
      },
      "source": [
        "fig = plt.figure(figsize=(12,12))\n",
        "ax = fig.add_subplot(111, projection='mollweide')\n",
        "#ax.pcolormesh(Angle(ra_vec*u.degree).wrap_at(180*u.degree).radian,\n",
        "#              Angle(dec_vec*u.degree).radian,\n",
        "#              hi4pi_image, cmap='gnuplot', norm=colors.LogNorm())\n",
        "ax.scatter(hi4pi1.RAdeg1, hi4pi1.DEdeg1, c=hi4pi1.NHI, cmap='gnuplot', norm=colors.LogNorm())\n",
        "\n",
        "#ax.invert_xaxis()"
      ],
      "execution_count": null,
      "outputs": []
    },
    {
      "cell_type": "code",
      "metadata": {
        "id": "5aByHiaRvIKf",
        "colab_type": "code",
        "colab": {}
      },
      "source": [
        "Angle(90*u.degree).wrap_at('180d').radian"
      ],
      "execution_count": null,
      "outputs": []
    },
    {
      "cell_type": "code",
      "metadata": {
        "id": "S63SPmXd2Mav",
        "colab_type": "code",
        "colab": {}
      },
      "source": [
        "hi4pi1.head()"
      ],
      "execution_count": null,
      "outputs": []
    },
    {
      "cell_type": "code",
      "metadata": {
        "id": "GflDO3sZyiOW",
        "colab_type": "code",
        "colab": {}
      },
      "source": [
        "#this takes a while too!\n",
        "fig = plt.figure(figsize=(12,12))\n",
        "ax = fig.add_subplot(111, projection='mollweide')\n",
        "ax.scatter(Angle(np.array(hi4pi1.RAdeg1)*u.degree).wrap_at(180*u.degree).radian,\n",
        "           Angle(np.array(hi4pi1.DEdeg1)*u.degree).radian,\n",
        "           c=hi4pi1.NHI, cmap='gnuplot', norm=colors.LogNorm())\n",
        "#ax.invert_xaxis()"
      ],
      "execution_count": null,
      "outputs": []
    },
    {
      "cell_type": "code",
      "metadata": {
        "id": "bNPgC7C_kbSK",
        "colab_type": "code",
        "colab": {}
      },
      "source": [
        "fig = plt.figure()\n",
        "ax = fig.add_subplot(111, projection='mollweide')\n",
        "arr = np.random.rand(180, 360)\n",
        "\n",
        "lon = np.linspace(-np.pi, np.pi,360)\n",
        "lat = np.linspace(-np.pi/2., np.pi/2.,180)\n",
        "Lon,Lat = np.meshgrid(lon,lat)\n",
        "\n",
        "im = ax.pcolormesh(Lon,Lat,arr, cmap=plt.cm.jet)"
      ],
      "execution_count": null,
      "outputs": []
    },
    {
      "cell_type": "code",
      "metadata": {
        "id": "zR0vHMNOtHGk",
        "colab_type": "code",
        "colab": {}
      },
      "source": [
        "plt.plot(Angle(ra_vec*u.degree).radian)"
      ],
      "execution_count": null,
      "outputs": []
    },
    {
      "cell_type": "code",
      "metadata": {
        "id": "9MJu_HmwxAbl",
        "colab_type": "code",
        "colab": {}
      },
      "source": [
        ""
      ],
      "execution_count": null,
      "outputs": []
    }
  ]
}
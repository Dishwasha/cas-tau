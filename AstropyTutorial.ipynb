{
  "nbformat": 4,
  "nbformat_minor": 0,
  "metadata": {
    "colab": {
      "name": "AstropyTutorial",
      "provenance": [],
      "collapsed_sections": [
        "CJZJ-6QyVaqL",
        "v6IxNFQrVjM_",
        "o5nhQkN-WyjH"
      ],
      "toc_visible": true,
      "authorship_tag": "ABX9TyNFh2kDn23BTt5Jr6aa8bqi",
      "include_colab_link": true
    },
    "kernelspec": {
      "name": "python3",
      "display_name": "Python 3"
    }
  },
  "cells": [
    {
      "cell_type": "markdown",
      "metadata": {
        "id": "view-in-github",
        "colab_type": "text"
      },
      "source": [
        "<a href=\"https://colab.research.google.com/github/kevinmcmanus/cas-tau/blob/master/AstropyTutorial.ipynb\" target=\"_parent\"><img src=\"https://colab.research.google.com/assets/colab-badge.svg\" alt=\"Open In Colab\"/></a>"
      ]
    },
    {
      "cell_type": "markdown",
      "metadata": {
        "id": "bwu91h1kTzxX",
        "colab_type": "text"
      },
      "source": [
        "# Introduction to Astropy"
      ]
    },
    {
      "cell_type": "markdown",
      "metadata": {
        "id": "Ai-8WKSbWFja",
        "colab_type": "text"
      },
      "source": [
        "Astropy is a collecction of Python libraries for use in Astronomy. Its capabilities are vast.  See these two links for an overview and to get an idea of the capabilities Astropy provides:\n",
        "\n",
        "[Learn Astropy](http://learn.astropy.org/)\n",
        "\n",
        "[Astropy Tutorials](http://learn.astropy.org/tutorials.html)\n",
        "\n",
        "In this tutorial, we'll just scratch surface to give you a hands-on encounter with Astropy. After this tutorial you'll know where to look for more information."
      ]
    },
    {
      "cell_type": "markdown",
      "metadata": {
        "id": "9kla2x1ZU_aH",
        "colab_type": "text"
      },
      "source": [
        "## Fancy Plots"
      ]
    },
    {
      "cell_type": "markdown",
      "metadata": {
        "id": "giGvXKwddpTx",
        "colab_type": "text"
      },
      "source": [
        "### Bunch of Set Up Stuff"
      ]
    },
    {
      "cell_type": "code",
      "metadata": {
        "id": "aIh00hmAkZ4Y",
        "colab_type": "code",
        "colab": {}
      },
      "source": [
        "!pip install astroquery"
      ],
      "execution_count": null,
      "outputs": []
    },
    {
      "cell_type": "code",
      "metadata": {
        "id": "yqshz8qL5uHF",
        "colab_type": "code",
        "colab": {}
      },
      "source": [
        "# libraries for general data mashing and plotting\n",
        "import numpy as np\n",
        "import pandas as pd\n",
        "\n",
        "import matplotlib.pyplot as plt\n",
        "\n",
        "import matplotlib.colors as colors\n",
        "%matplotlib inline"
      ],
      "execution_count": 2,
      "outputs": []
    },
    {
      "cell_type": "code",
      "metadata": {
        "id": "SImke3C09SL7",
        "colab_type": "code",
        "colab": {}
      },
      "source": [
        "from astropy.coordinates import Angle, Distance\n",
        "from astropy.units import Quantity\n",
        "import astropy.units as u\n",
        "from astroquery.simbad import Simbad\n",
        "import astropy.coordinates as coord\n",
        "from astropy.coordinates.sky_coordinate import SkyCoord\n",
        "from astropy.table import QTable, Table, vstack\n",
        "from astropy.units import Quantity"
      ],
      "execution_count": 3,
      "outputs": []
    },
    {
      "cell_type": "markdown",
      "metadata": {
        "id": "sg77QN4A_Noz",
        "colab_type": "text"
      },
      "source": [
        "### Construct HR-Diagram for the Pleiades with Gaia Data"
      ]
    },
    {
      "cell_type": "markdown",
      "metadata": {
        "id": "CxvHxXow_VzA",
        "colab_type": "text"
      },
      "source": [
        "A first approximation to obtaining the members of the Pleiades open cluster is to execute a cone search of the Gaia Archive using astrometrics from Simbad.\n",
        "In the case fo the Pleiades, these are:\n",
        "```\n",
        "ra = 56.75 degree\n",
        "dec = 24.1167 degree\n",
        "parallax = 7.364 mas\n",
        "pmra = 19.997 mas/year\n",
        "pmdec = -45.548 mas/year\n",
        "```"
      ]
    },
    {
      "cell_type": "code",
      "metadata": {
        "id": "hrpxUt1at-ao",
        "colab_type": "code",
        "colab": {}
      },
      "source": [
        "from astroquery.gaia import Gaia\n",
        "\n",
        "# construct ADL query using astrometrics from above, add some obs quality constraints\n",
        "job3 = Gaia.launch_job(\"SELECT source_id, ra, dec, phot_g_mean_mag, phot_bp_mean_mag, phot_rp_mean_mag, parallax \\\n",
        "    FROM gaiadr2.gaia_source \\\n",
        "    WHERE CONTAINS(POINT('ICRS',gaiadr2.gaia_source.ra,gaiadr2.gaia_source.dec),CIRCLE('ICRS',56.75,24.1167,2))=1 \\\n",
        "    AND abs(pmra_error/pmra)<0.10 \\\n",
        "    AND abs(pmdec_error/pmdec)<0.10 \\\n",
        "    AND pmra IS NOT NULL AND abs(pmra)>0 \\\n",
        "    AND pmdec IS NOT NULL AND abs(pmdec)>0 \\\n",
        "    AND pmra BETWEEN 15 AND 25 \\\n",
        "    AND pmdec BETWEEN -55 AND -40;\")\n",
        "pleiades_table = job3.get_results()\n",
        "\n",
        "#examine first 10 records\n",
        "pleiades_table[0:10]"
      ],
      "execution_count": null,
      "outputs": []
    },
    {
      "cell_type": "code",
      "metadata": {
        "id": "cGDF-Nxk7sqd",
        "colab_type": "code",
        "colab": {}
      },
      "source": [
        "#from astropy.coordinates import Distance\n",
        "#from astropy.units import Quantity\n",
        "# get distance from parallax\n",
        "distance = Distance(parallax=Quantity(pleiades_table['parallax']))\n",
        "\n",
        "#absolute magnitude is the apparent magnitude (phot_g_mean_mag) scaled up to a standard distance of 10pc.  distmod does this\n",
        "abs_mag=pleiades_table['phot_g_mean_mag'] - distance.distmod\n",
        "star_color = pleiades_table['phot_bp_mean_mag'] - pleiades_table['phot_rp_mean_mag']"
      ],
      "execution_count": 5,
      "outputs": []
    },
    {
      "cell_type": "code",
      "metadata": {
        "id": "NWW42Ya49Y-R",
        "colab_type": "code",
        "colab": {}
      },
      "source": [
        "#ready to plot!\n",
        "fig = plt.figure(figsize=(8,6))\n",
        "ax = fig.add_subplot(111)\n",
        "\n",
        "ax.scatter(star_color, abs_mag, s=4)\n",
        "ax.invert_yaxis()\n",
        "\n",
        "ax.set_title('Color-Magnitude Diagram: Pleiades')\n",
        "ax.set_xlabel(r'Color: $BP\\ - \\ RP$')\n",
        "ax.set_ylabel(r'Absolute Magnitude: $m_g - distmod$')"
      ],
      "execution_count": null,
      "outputs": []
    },
    {
      "cell_type": "markdown",
      "metadata": {
        "id": "ZrMvYXbEIpMO",
        "colab_type": "text"
      },
      "source": [
        "### Galactic Hydrogen Plot"
      ]
    },
    {
      "cell_type": "markdown",
      "metadata": {
        "id": "xKytM3sT6sD8",
        "colab_type": "text"
      },
      "source": [
        "#### Fetch the Hydrogen Data"
      ]
    },
    {
      "cell_type": "markdown",
      "metadata": {
        "id": "DqQCCkaG9S0t",
        "colab_type": "text"
      },
      "source": [
        "Data from the [HI4PI: A full-sky HI survey based on EBHIS and GASS](https://arxiv.org/abs/1610.06175)\n",
        "\n",
        "Data File format:\n",
        "```\n",
        "Byte-by-byte Description of file: nhi_hpx.dat\n",
        "--------------------------------------------------------------------------------\n",
        "   Bytes Format  Units   Label     Explanations\n",
        "--------------------------------------------------------------------------------\n",
        "   1-  8  I8     ---     HPX       HPX index (HPXINDEX)\n",
        "  10- 18  F9.5   deg     RAdeg     Right ascension (J2000)\n",
        "  20- 28  F9.5   deg     DEdeg     Declination (J2000)\n",
        "  30- 38  F9.5   deg     GLON      Galactic longitude (J2000)\n",
        "  40- 48  F9.5   deg     GLAT      Galactic latitude (J2000)\n",
        "  50- 71  E22.15 cm-2    NHI       HI column density\n",
        "--------------------------------------------------------------------------------\n",
        "```"
      ]
    },
    {
      "cell_type": "code",
      "metadata": {
        "id": "91wtUtWa8rPB",
        "colab_type": "code",
        "colab": {}
      },
      "source": [
        "url = 'https://cdsarc.unistra.fr/ftp/J/A+A/594/A116/nhi_hpx.dat.gz'\n",
        "cols = ['HPX', 'RAdeg','DEdeg','GLON','GLAT', 'NHI']\n",
        "\n",
        "hi4pi = pd.read_csv(url, delim_whitespace=True, names=cols, header=None)\n",
        "print(f'hi4pi has {len(hi4pi)} records')\n"
      ],
      "execution_count": null,
      "outputs": []
    },
    {
      "cell_type": "code",
      "metadata": {
        "id": "eolsrBm298bR",
        "colab_type": "code",
        "colab": {}
      },
      "source": [
        "hi4pi.head()"
      ],
      "execution_count": null,
      "outputs": []
    },
    {
      "cell_type": "code",
      "metadata": {
        "id": "rpQmy0PR_a5q",
        "colab_type": "code",
        "colab": {}
      },
      "source": [
        "#don't run this code -- takes 20 minutes\n",
        "#fig = plt.figure(figsize=(12,12))\n",
        "#ax = fig.add_subplot(111)\n",
        "#ax.scatter(hi4pi.RAdeg, hi4pi.DEdeg, c=hi4pi.NHI, cmap='gnuplot')\n",
        "#ax.invert_xaxis()"
      ],
      "execution_count": null,
      "outputs": []
    },
    {
      "cell_type": "markdown",
      "metadata": {
        "id": "14m3-H126ggQ",
        "colab_type": "text"
      },
      "source": [
        "#### Crunch the Data Array"
      ]
    },
    {
      "cell_type": "code",
      "metadata": {
        "id": "84h4FR_-CmaY",
        "colab_type": "code",
        "colab": {}
      },
      "source": [
        "#round to 1/10 degree precision\n",
        "hi4pi['RAdeg1'] = np.round(hi4pi.RAdeg,1)\n",
        "hi4pi['DEdeg1'] = np.round(hi4pi.DEdeg, 1)\n",
        "hi4pi['GLAT1'] = np.round(hi4pi.GLAT,1)\n",
        "hi4pi['GLON1'] = np.round(hi4pi.GLON,1)\n",
        "\n",
        "#get the mean NHI value at the new precision level, rename the columns to good ol' ra and dec\n",
        "\n",
        "#equatorial coords\n",
        "hi4pi_eq = hi4pi[['RAdeg1', 'DEdeg1', 'NHI']].groupby(['RAdeg1','DEdeg1']).mean().reset_index()\n",
        "hi4pi_eq.rename(columns={\"RAdeg1\":\"ra\", \"DEdeg1\":\"dec\"}, inplace=True)\n",
        "\n",
        "#galactic coords\n",
        "hi4pi_gal = hi4pi[['GLON1', 'GLAT1', 'NHI']].groupby(['GLON1','GLAT1']).mean().reset_index()\n",
        "hi4pi_gal.rename(columns={\"GLON1\":\"l\", \"GLAT1\":\"b\"}, inplace=True)\n",
        "\n",
        "#convert everybody to angles and wrap the longitude\n",
        "hi4pi_eq.ra = Angle(np.array(hi4pi_eq.ra)*u.degree).wrap_at(180*u.degree)\n",
        "hi4pi_eq.dec = Angle(np.array(hi4pi_eq.dec)*u.degree)\n",
        "\n",
        "hi4pi_gal.l = Angle(np.array(hi4pi_gal.l)*u.degree).wrap_at(180*u.degree)\n",
        "hi4pi_gal.b = Angle(np.array(hi4pi_gal.b)*u.degree)\n",
        "\n",
        "#create the image arrays\n",
        "#note declination and lattitude in 'x' (row) positions and ra and longitude in 'y' (column) positions\n",
        "image_eq = pd.pivot_table(hi4pi_eq,index='dec',columns='ra', values='NHI',aggfunc=np.mean).to_numpy( copy=True)\n",
        "\n",
        "image_gal = pd.pivot_table(hi4pi_gal,index='b',columns='l', values='NHI',aggfunc=np.mean).to_numpy( copy=True)\n",
        "image_eq.shape, image_gal.shape\n"
      ],
      "execution_count": null,
      "outputs": []
    },
    {
      "cell_type": "code",
      "metadata": {
        "id": "KJ1APFmAECI2",
        "colab_type": "code",
        "colab": {}
      },
      "source": [
        "# create x and y axis vectors for eq. and gal. coords\n",
        "ra_vec = Angle(np.linspace(hi4pi_eq.ra.min(), hi4pi_eq.ra.max(), image_eq.shape[1], endpoint=False)*u.degree)\n",
        "dec_vec= Angle(np.linspace(hi4pi_eq.dec.min(), hi4pi_eq.dec.max(), image_eq.shape[0], endpoint=False)*u.degree)\n",
        "\n",
        "l_vec = Angle(np.linspace(hi4pi_gal.l.min(), hi4pi_gal.l.max(), image_gal.shape[1], endpoint=False)*u.degree)\n",
        "b_vec = Angle(np.linspace(hi4pi_gal.b.min(), hi4pi_gal.b.max(), image_gal.shape[0], endpoint=False)*u.degree)"
      ],
      "execution_count": 10,
      "outputs": []
    },
    {
      "cell_type": "markdown",
      "metadata": {
        "id": "NfgcdJuB65tm",
        "colab_type": "text"
      },
      "source": [
        "#### Create Plots"
      ]
    },
    {
      "cell_type": "code",
      "metadata": {
        "id": "6rSxioSAbsZz",
        "colab_type": "code",
        "colab": {}
      },
      "source": [
        "# plot in equatorial coordinates\n",
        "\n",
        "fig = plt.figure(figsize=(9,6))\n",
        "ax = fig.add_subplot(111, projection='mollweide')\n",
        "pcm = ax.pcolormesh(ra_vec.radian,\n",
        "           dec_vec.radian,\n",
        "           image_eq,\n",
        "           cmap='viridis', norm=colors.LogNorm())\n",
        "ax.grid()\n",
        "ax.set_title('Neutral Hydrogen Density\\nEquatorial Coordinates')\n",
        "\n",
        "plt.colorbar(pcm, orientation='horizontal',label='Column Density')\n"
      ],
      "execution_count": null,
      "outputs": []
    },
    {
      "cell_type": "code",
      "metadata": {
        "id": "M5cZ7VZIEGDb",
        "colab_type": "code",
        "colab": {}
      },
      "source": [
        "fig = plt.figure(figsize=(9,6))\n",
        "ax = fig.add_subplot(111, projection='mollweide')\n",
        "pcm=ax.pcolormesh(l_vec.radian,\n",
        "           b_vec.radian,\n",
        "           image_gal,\n",
        "           cmap='viridis', norm=colors.LogNorm())\n",
        "ax.grid()\n",
        "ax.set_title('Neutral Hydrogen Density\\nGalactic Coordinates')\n",
        "\n",
        "plt.colorbar(pcm, orientation='horizontal',label='Column Density')\n"
      ],
      "execution_count": null,
      "outputs": []
    },
    {
      "cell_type": "markdown",
      "metadata": {
        "id": "aLkW2ebQUBmZ",
        "colab_type": "text"
      },
      "source": [
        "## Basics"
      ]
    },
    {
      "cell_type": "markdown",
      "metadata": {
        "id": "VjKo6-4Njuv-",
        "colab_type": "text"
      },
      "source": [
        "To install Astropy on your local machine, execute the following:\n",
        "```\n",
        "pip install astropy\n",
        "```\n",
        "or if you're using Anaconda to manage your Python environments\n",
        "```\n",
        "conda install astropy\n",
        "```\n",
        "\n",
        "In the environment provided by Google Colab, astropy is already provided so we don't need to do anything.\n",
        "\n",
        "The next few sub-sections demonstrate some operations with Constants, Units and Coordinates that the more advanced Astropy modules rely on."
      ]
    },
    {
      "cell_type": "markdown",
      "metadata": {
        "id": "XHGcCIZqUIvi",
        "colab_type": "text"
      },
      "source": [
        "### Constants"
      ]
    },
    {
      "cell_type": "markdown",
      "metadata": {
        "id": "oioyOnNLXvUl",
        "colab_type": "text"
      },
      "source": [
        "Many (most) astronomical calculations involve constants: speed of light, graviational constant, Stefan-Boltzman constant and the like.  Astropy provides many of these, in a module called (what else) `constants`\n",
        "\n",
        "For a more in-depth discussion of Astropy contants, see: \n",
        "[Constants Tutorial](https://docs.astropy.org/en/stable/constants/index.html)"
      ]
    },
    {
      "cell_type": "code",
      "metadata": {
        "id": "7DoGHMzwXAxb",
        "colab_type": "code",
        "colab": {}
      },
      "source": [
        "# need the constants module\n",
        "import astropy.constants as const"
      ],
      "execution_count": 13,
      "outputs": []
    },
    {
      "cell_type": "code",
      "metadata": {
        "id": "sGraqf9-XNCh",
        "colab_type": "code",
        "colab": {}
      },
      "source": [
        "# Gravitational constant G\n",
        "const.G"
      ],
      "execution_count": null,
      "outputs": []
    },
    {
      "cell_type": "code",
      "metadata": {
        "id": "ar6jghyxXafz",
        "colab_type": "code",
        "colab": {}
      },
      "source": [
        "print(const.G)"
      ],
      "execution_count": null,
      "outputs": []
    },
    {
      "cell_type": "code",
      "metadata": {
        "id": "iF9uAfwVXtcb",
        "colab_type": "code",
        "colab": {}
      },
      "source": [
        "#Planck's constant\n",
        "print (const.h)"
      ],
      "execution_count": null,
      "outputs": []
    },
    {
      "cell_type": "code",
      "metadata": {
        "id": "wTFDl8ScaFNr",
        "colab_type": "code",
        "colab": {}
      },
      "source": [
        "#speed of light\n",
        "const.c"
      ],
      "execution_count": null,
      "outputs": []
    },
    {
      "cell_type": "code",
      "metadata": {
        "id": "qnJ3JNutnYnz",
        "colab_type": "code",
        "colab": {}
      },
      "source": [
        "#want G in cgs?\n",
        "const.G.cgs"
      ],
      "execution_count": null,
      "outputs": []
    },
    {
      "cell_type": "markdown",
      "metadata": {
        "id": "WPg2Qvb4Wta4",
        "colab_type": "text"
      },
      "source": [
        "See [List of Constants](https://docs.astropy.org/en/stable/constants/) for complete list of available constants."
      ]
    },
    {
      "cell_type": "markdown",
      "metadata": {
        "id": "OVM7ty2jUMzx",
        "colab_type": "text"
      },
      "source": [
        "### Units"
      ]
    },
    {
      "cell_type": "markdown",
      "metadata": {
        "id": "klY4R5ASn75r",
        "colab_type": "text"
      },
      "source": [
        "Units allow us to attach dimensions to scalar and vector quantities. Doing so creates an Astropy `Quantity` object, which among other things allows us to convert among units with relative ease."
      ]
    },
    {
      "cell_type": "code",
      "metadata": {
        "id": "bdEa8DZpYC4x",
        "colab_type": "code",
        "colab": {}
      },
      "source": [
        "#load up the units module\n",
        "import astropy.units as u"
      ],
      "execution_count": 19,
      "outputs": []
    },
    {
      "cell_type": "code",
      "metadata": {
        "id": "cSSgnr2BYL8j",
        "colab_type": "code",
        "colab": {}
      },
      "source": [
        "u.watt"
      ],
      "execution_count": null,
      "outputs": []
    },
    {
      "cell_type": "code",
      "metadata": {
        "id": "IcWKUBOyYXyq",
        "colab_type": "code",
        "colab": {}
      },
      "source": [
        "632.3 * u.watt"
      ],
      "execution_count": null,
      "outputs": []
    },
    {
      "cell_type": "code",
      "metadata": {
        "id": "kMPXMIzhYfic",
        "colab_type": "code",
        "colab": {}
      },
      "source": [
        "type(632.3), type(u.watt), type(632.3*u.watt)"
      ],
      "execution_count": null,
      "outputs": []
    },
    {
      "cell_type": "code",
      "metadata": {
        "id": "Qc5GHiwQY2BO",
        "colab_type": "code",
        "colab": {}
      },
      "source": [
        "w = 632.3*u.watt"
      ],
      "execution_count": 23,
      "outputs": []
    },
    {
      "cell_type": "code",
      "metadata": {
        "id": "2QsfM3QpY6Z3",
        "colab_type": "code",
        "colab": {}
      },
      "source": [
        "#what did we get, how to take it apart\n",
        "type(w), w.value, w.unit"
      ],
      "execution_count": null,
      "outputs": []
    },
    {
      "cell_type": "markdown",
      "metadata": {
        "id": "HNjSrEqBUSqc",
        "colab_type": "text"
      },
      "source": [
        "### Unit Conversion"
      ]
    },
    {
      "cell_type": "markdown",
      "metadata": {
        "id": "GR8sFE4-XSbO",
        "colab_type": "text"
      },
      "source": [
        "We can convert from one set of units to another, say nanometers to Angstroms using the Quantity `to` method, below for the Hydrogen Alpha line at 656.28 nanometers:"
      ]
    },
    {
      "cell_type": "code",
      "metadata": {
        "id": "GbcTBnFoZRua",
        "colab_type": "code",
        "colab": {}
      },
      "source": [
        "# specify the h_alpha line in nanometers\n",
        "h_alpha =  656.28*u.nm"
      ],
      "execution_count": 25,
      "outputs": []
    },
    {
      "cell_type": "code",
      "metadata": {
        "id": "FAvHO3qwZzeO",
        "colab_type": "code",
        "colab": {}
      },
      "source": [
        "#convert to angrstrom:\n",
        "h_alpha.to(u.angstrom)"
      ],
      "execution_count": null,
      "outputs": []
    },
    {
      "cell_type": "markdown",
      "metadata": {
        "id": "ao6edK9_U81z",
        "colab_type": "text"
      },
      "source": [
        "Divide the h_alpha wavelength: ($\\lambda$) into the speed of light to get frequency:\n",
        "nu = const.c/h_alpha"
      ]
    },
    {
      "cell_type": "code",
      "metadata": {
        "id": "OnDy-c98aav7",
        "colab_type": "code",
        "colab": {}
      },
      "source": [
        "nu = const.c/h_alpha\n",
        "nu"
      ],
      "execution_count": null,
      "outputs": []
    },
    {
      "cell_type": "markdown",
      "metadata": {
        "id": "qn9zZL4iYW9v",
        "colab_type": "text"
      },
      "source": [
        "Hmmm, meters per nanometers per second, technically correct, but not very useful. Let's look at this in gigahertz"
      ]
    },
    {
      "cell_type": "code",
      "metadata": {
        "id": "Wg51zDvOato_",
        "colab_type": "code",
        "colab": {}
      },
      "source": [
        "nu.to(u.gigahertz)"
      ],
      "execution_count": null,
      "outputs": []
    },
    {
      "cell_type": "code",
      "metadata": {
        "id": "UkgkqoBzqy7u",
        "colab_type": "code",
        "colab": {}
      },
      "source": [
        "#work with angles:\n",
        "from astropy.coordinates import Angle"
      ],
      "execution_count": 29,
      "outputs": []
    },
    {
      "cell_type": "code",
      "metadata": {
        "id": "0zwfPNJYqOdL",
        "colab_type": "code",
        "colab": {}
      },
      "source": [
        "def showdeg(theta:Angle):\n",
        "  print(f'Theta: {theta.deg} degrees')"
      ],
      "execution_count": 30,
      "outputs": []
    },
    {
      "cell_type": "code",
      "metadata": {
        "id": "9BQez7_irFBQ",
        "colab_type": "code",
        "colab": {}
      },
      "source": [
        "showdeg(Angle(60*u.degree))"
      ],
      "execution_count": null,
      "outputs": []
    },
    {
      "cell_type": "code",
      "metadata": {
        "id": "u0UNGFlhrZ7E",
        "colab_type": "code",
        "colab": {}
      },
      "source": [
        "#specify the angle in milliarcseconds:\n",
        "showdeg(Angle(3600*1000*u.mas))"
      ],
      "execution_count": null,
      "outputs": []
    },
    {
      "cell_type": "markdown",
      "metadata": {
        "id": "D0DlkRBXuKFp",
        "colab_type": "text"
      },
      "source": [
        "Lots lots lots more at [Units Tutorial](https://docs.astropy.org/en/stable/units/).  Especially see the section [Using Astropy.units](https://docs.astropy.org/en/stable/units/#using-astropy-units). Also take a look at: [Working with Angles](https://docs.astropy.org/en/stable/coordinates/angles.html)\n"
      ]
    },
    {
      "cell_type": "markdown",
      "metadata": {
        "id": "xqusV_d_UgAI",
        "colab_type": "text"
      },
      "source": [
        "## Coordinates"
      ]
    },
    {
      "cell_type": "markdown",
      "metadata": {
        "id": "GVac5fZgaZQb",
        "colab_type": "text"
      },
      "source": [
        "[Coordinates Class](https://docs.astropy.org/en/stable/coordinates/)\n",
        "\n",
        "\n",
        "[SkyCoords](https://docs.astropy.org/en/stable/api/astropy.coordinates.SkyCoord.html)"
      ]
    },
    {
      "cell_type": "code",
      "metadata": {
        "id": "YAbU4aGwZseX",
        "colab_type": "code",
        "colab": {}
      },
      "source": [
        "#more astropy libraries\n",
        "import astropy.coordinates as coord\n",
        "from astropy.coordinates import SkyCoord, EarthLocation"
      ],
      "execution_count": 33,
      "outputs": []
    },
    {
      "cell_type": "code",
      "metadata": {
        "id": "m-s-HQ-wZ-x8",
        "colab_type": "code",
        "colab": {}
      },
      "source": [
        "pleiades = SkyCoord.from_name('pleiades')\n",
        "pleiades"
      ],
      "execution_count": null,
      "outputs": []
    },
    {
      "cell_type": "code",
      "metadata": {
        "id": "17xc-r6WcoWc",
        "colab_type": "code",
        "colab": {}
      },
      "source": [
        "#get the right ascension\n",
        "pleiades.ra"
      ],
      "execution_count": null,
      "outputs": []
    },
    {
      "cell_type": "markdown",
      "metadata": {
        "id": "kpCQdkvTg5pR",
        "colab_type": "text"
      },
      "source": [
        "Notice that by default, RA comes out in degrees, minutes, seconds. To see H:M:S, convert to string with a format parmeter:"
      ]
    },
    {
      "cell_type": "code",
      "metadata": {
        "id": "ZMTZr2yWgrPc",
        "colab_type": "code",
        "colab": {}
      },
      "source": [
        "pleiades.ra.to_string(u.hour)"
      ],
      "execution_count": null,
      "outputs": []
    },
    {
      "cell_type": "code",
      "metadata": {
        "id": "cFXafFldiLD_",
        "colab_type": "code",
        "colab": {}
      },
      "source": [
        "#galactic coordinates\n",
        "pleiades.galactic"
      ],
      "execution_count": null,
      "outputs": []
    },
    {
      "cell_type": "markdown",
      "metadata": {
        "id": "FsfWa3_IVT_5",
        "colab_type": "text"
      },
      "source": [
        "## Catalog Query"
      ]
    },
    {
      "cell_type": "markdown",
      "metadata": {
        "id": "CJZJ-6QyVaqL",
        "colab_type": "text"
      },
      "source": [
        "### Simbad"
      ]
    },
    {
      "cell_type": "markdown",
      "metadata": {
        "id": "0ci2q8E2KkrB",
        "colab_type": "text"
      },
      "source": [
        "Simbad provides on-line catalog information for celestial objects. See [SIMBAD Astronomical Database - CDS (Strasbourg)](http://simbad.u-strasbg.fr/simbad/). Below, we'll query for catalog entries for seven nearby open clusters"
      ]
    },
    {
      "cell_type": "code",
      "metadata": {
        "id": "HGFi5X_qKWwP",
        "colab_type": "code",
        "colab": {}
      },
      "source": [
        "clusters = ['Blanco 1',\n",
        " 'Collinder 140',\n",
        " 'Coma Berenices Cluster',\n",
        " 'Hyades',\n",
        " 'Pleiades',\n",
        " 'Praesepe',\n",
        " 'alpha Per']"
      ],
      "execution_count": 38,
      "outputs": []
    },
    {
      "cell_type": "code",
      "metadata": {
        "id": "PP8fBwYELJ7Z",
        "colab_type": "code",
        "colab": {}
      },
      "source": [
        "# customize the query so that it returns parallax and proper motion measurements\n",
        "#Need the Simbad module from Astroquery\n",
        "from astroquery.simbad import Simbad\n",
        "from astropy.time import Time\n",
        "\n",
        "mySimbad = Simbad()\n",
        "mySimbad.add_votable_fields('parallax', 'pm','velocity','typed_id')\n",
        "mySimbad.get_votable_fields()"
      ],
      "execution_count": null,
      "outputs": []
    },
    {
      "cell_type": "code",
      "metadata": {
        "id": "RTFfxfnjLpHQ",
        "colab_type": "code",
        "colab": {}
      },
      "source": [
        "#from astropy.table import Table, vstack\n",
        "res_table = vstack([mySimbad.query_object(c) for c in clusters],join_type='exact')"
      ],
      "execution_count": null,
      "outputs": []
    },
    {
      "cell_type": "code",
      "metadata": {
        "id": "DQDPxl70Lvm8",
        "colab_type": "code",
        "colab": {}
      },
      "source": [
        "res_table[['TYPED_ID','RA', 'DEC','PMRA','PMDEC','PLX_VALUE','RVZ_RADVEL']]"
      ],
      "execution_count": null,
      "outputs": []
    },
    {
      "cell_type": "code",
      "metadata": {
        "id": "W6h12oryM2U9",
        "colab_type": "code",
        "colab": {}
      },
      "source": [
        "#get coordinates for the results, notice vector operations:\n",
        "clust_coords = SkyCoord(ra=res_table['RA'], dec=res_table['DEC'], unit=(u.hour, u.deg),\n",
        "                        distance = Distance(parallax=Quantity(res_table['PLX_VALUE'])),\n",
        "                        pm_ra_cosdec = res_table['PMRA'],\n",
        "                        pm_dec = res_table['PMDEC'],\n",
        "                        radial_velocity = res_table['RVZ_RADVEL'] )\n",
        "\n",
        "clust_coords"
      ],
      "execution_count": null,
      "outputs": []
    },
    {
      "cell_type": "code",
      "metadata": {
        "id": "rrGew7qnNRkB",
        "colab_type": "code",
        "colab": {}
      },
      "source": [
        "#convert to galactic coords\n",
        "clust_coords.galactic"
      ],
      "execution_count": null,
      "outputs": []
    },
    {
      "cell_type": "code",
      "metadata": {
        "id": "vD5uaJM8QGGT",
        "colab_type": "code",
        "colab": {}
      },
      "source": [
        "clust_coords.cartesian"
      ],
      "execution_count": null,
      "outputs": []
    },
    {
      "cell_type": "code",
      "metadata": {
        "id": "rNAD_n9cboiI",
        "colab_type": "code",
        "colab": {}
      },
      "source": [
        "# plot in equatorial coordinates\n",
        "\n",
        "fig = plt.figure(figsize=(9,6))\n",
        "ax = fig.add_subplot(111, projection='mollweide')\n",
        "pcm = ax.pcolormesh(ra_vec.radian,\n",
        "           dec_vec.radian,\n",
        "           image_eq,\n",
        "           cmap='viridis', norm=colors.LogNorm())\n",
        "#plot the clusters\n",
        "for c, n in zip(clust_coords, res_table['TYPED_ID']):\n",
        "  ax.scatter(c.ra.wrap_at(180*u.degree).radian, c.dec.radian, s=500, marker='*',\n",
        "             label=n.decode('utf-8'))\n",
        "\n",
        "ax.grid()\n",
        "ax.set_title('Neutral Hydrogen Density\\nEquatorial Coordinates')\n",
        "ax.legend(loc='upper left', bbox_to_anchor=[1.05, 1.0])\n",
        "\n",
        "plt.colorbar(pcm, orientation='horizontal',label='Column Density')"
      ],
      "execution_count": null,
      "outputs": []
    },
    {
      "cell_type": "markdown",
      "metadata": {
        "id": "K4L5Dqnaxa8j",
        "colab_type": "text"
      },
      "source": [
        "## Read FITS file"
      ]
    },
    {
      "cell_type": "markdown",
      "metadata": {
        "id": "KFRr9fq_zzCy",
        "colab_type": "text"
      },
      "source": [
        "Astropy can read and write Flexible Image Transport System (fits) files, both locally and remotely. See [FITS File Handling](https://docs.astropy.org/en/stable/io/fits/).\n",
        "\n",
        "In this section, we'll open a .psrfits file, a .fits file that follows certain conventions for capturing pulsar data. To do so, we need first to mount a storage device into our Colab server."
      ]
    },
    {
      "cell_type": "markdown",
      "metadata": {
        "id": "idMfIK9lxymy",
        "colab_type": "text"
      },
      "source": [
        "### Mount drive with demo fits file"
      ]
    },
    {
      "cell_type": "code",
      "metadata": {
        "id": "-w8ul9MnzPk2",
        "colab_type": "code",
        "colab": {}
      },
      "source": [
        "from google.colab import drive, auth\n",
        "auth.authenticate_user()"
      ],
      "execution_count": 48,
      "outputs": []
    },
    {
      "cell_type": "code",
      "metadata": {
        "id": "jtBTlypEzlUJ",
        "colab_type": "code",
        "colab": {}
      },
      "source": [
        "#drive.mount('/content/drive')"
      ],
      "execution_count": null,
      "outputs": []
    },
    {
      "cell_type": "code",
      "metadata": {
        "id": "k2arGnshxgGc",
        "colab_type": "code",
        "colab": {}
      },
      "source": [
        "!echo \"deb http://packages.cloud.google.com/apt gcsfuse-bionic main\" > /etc/apt/sources.list.d/gcsfuse.list\n",
        "!curl https://packages.cloud.google.com/apt/doc/apt-key.gpg | apt-key add -\n",
        "!apt -qq update\n",
        "!apt -qq install gcsfuse"
      ],
      "execution_count": null,
      "outputs": []
    },
    {
      "cell_type": "code",
      "metadata": {
        "id": "79jk1SD-xtw5",
        "colab_type": "code",
        "colab": {}
      },
      "source": [
        "#Mount the drive\n",
        "!mkdir fits_data\n",
        "!gcsfuse --implicit-dirs --limit-bytes-per-sec -1 --limit-ops-per-sec -1 society-amateur-radio-astronomers fits_data"
      ],
      "execution_count": null,
      "outputs": []
    },
    {
      "cell_type": "markdown",
      "metadata": {
        "id": "9UKBBJX4gmti",
        "colab_type": "text"
      },
      "source": [
        "### Pulsar Fits File Exploration\n",
        "\n",
        "Below, we shall explore the structure of a *.psrfits* file. This type of file is the result of an observation session on the Greenbank Observatory 20M telescope in **pulsar** mode. Observations using the telescope's other modes produce different kinds (formats) of *.fits* files.\n",
        "\n",
        "FITS = Flexible Image Transort System\n",
        "\n",
        "*.psrfits* appear to be *.fits* specially tailored to capture pulsar observations.  The general case *.psrfits* is documented here:\n",
        "\n",
        "[PSR FITS file documentation](https://www.atnf.csiro.au/research/pulsar/psrfits_definition/PsrfitsDocumentation.html)"
      ]
    },
    {
      "cell_type": "code",
      "metadata": {
        "id": "aUAN8ZE-yAHD",
        "colab_type": "code",
        "colab": {}
      },
      "source": [
        "from astropy.io import fits\n",
        "fpath = 'fits_data/B0329+54_pulsar.fits'\n",
        "\n",
        "pulsar_hdul = fits.open(fpath)\n",
        "pulsar_hdul.info()"
      ],
      "execution_count": null,
      "outputs": []
    },
    {
      "cell_type": "code",
      "metadata": {
        "id": "4yYdcEVl1zDY",
        "colab_type": "code",
        "colab": {}
      },
      "source": [
        "pulsar_hdul[0].header"
      ],
      "execution_count": null,
      "outputs": []
    },
    {
      "cell_type": "code",
      "metadata": {
        "id": "PAP0y-d62Oju",
        "colab_type": "code",
        "colab": {}
      },
      "source": [
        "hdr1 = pulsar_hdul[1].header\n",
        "hdr1"
      ],
      "execution_count": null,
      "outputs": []
    },
    {
      "cell_type": "markdown",
      "metadata": {
        "id": "gASvYjXF4XJq",
        "colab_type": "text"
      },
      "source": [
        "#### Subint Data Table\n",
        "\n",
        "All the observational data is contained in a data table in `pulsar_hdul[1].data`\n",
        "\n",
        "\n",
        "### Dr. Frank Ghigo (Greenbank 20M Telescope Expert) Expanation:\n",
        ">>\n",
        "the first index (NBITS) is the number of bytes per sample,\n",
        "usually 2, i.e. 16-bit samples.  You have to put them together\n",
        " i.e.,  value = byte0 + 256*byte1. (unless its the other way\n",
        "around.)   The data values (\"byte0\" and \"byte1\" have to be\n",
        "treated as unsigned integers.)\n",
        ">>\n",
        "NPOL is usually 4, representing the 4 stokes parameters,\n",
        "I,Q,U,V.  Usually use just the first one, index=0, which is\n",
        "I, the sum of the X and Y channels.  Ignore the others unless\n",
        "you really want to analyze the polarization properties.\n",
        ">>\n",
        "If you use python for example:\n",
        "\n",
        "  ssdata = hdulist[1].data;\n",
        "  ddata  = ssdata['DATA']`\n",
        ">>\n",
        "the order is reverse of the documentation:\n",
        "  indexes: [nblocks, npol, nchan, nbytes]\n",
        ">>\n",
        "Also look at the DAT_WTS column to get the weights.\n",
        "For 20-meter data there are always 1024 frequency channels,\n",
        "and they always range from 1300 to 1800 MHz.\n",
        "Depending on what filter is chosen when you make the observation,\n",
        "the weights are set to zero for the part of the spectrum that\n",
        "is not being observed.  If you select the full spectrum, the\n",
        "weights are set to zero out the part of the spectrum which is usually\n",
        "full of RFI.\n",
        ">>\n",
        "Also use the DAT_FREQ column to identify which channel is which\n",
        "frequency.  Note the frequency runs in the opposite direction\n",
        "to the channel number.\n",
        ">>\n",
        "--frank"
      ]
    },
    {
      "cell_type": "code",
      "metadata": {
        "id": "yXZbYoa_2EbP",
        "colab_type": "code",
        "colab": {}
      },
      "source": [
        "#Sampling Frequency and intersample time\n",
        "ist = hdr1['TBIN']\n",
        "Fs = 1/ist\n",
        "print(f'Sampling Frequency: {Fs} samples per second, Intersample Time: {ist} seconds')"
      ],
      "execution_count": null,
      "outputs": []
    },
    {
      "cell_type": "code",
      "metadata": {
        "id": "NhDqzRYy1oIl",
        "colab_type": "code",
        "colab": {}
      },
      "source": [
        "#relevant primary header fields:\n",
        "for f in ['OBS_MODE','NRCVR','OBSNCHAN','FD_POLN','FD_HAND','SCANLEN']:\n",
        "    print(f'Field: {f}, Value: {pulsar_hdul[0].header[f]}, Comment: {pulsar_hdul[0].header.comments[f]}')"
      ],
      "execution_count": null,
      "outputs": []
    },
    {
      "cell_type": "code",
      "metadata": {
        "id": "pmzgVOc01LnI",
        "colab_type": "code",
        "colab": {}
      },
      "source": [
        "#relevant subint header fields:\n",
        "for f in ['NBITS','NBIN','NCHAN','NPOL','NSBLK','POL_TYPE','TUNIT17']:\n",
        "  print(f'Field: {f}, Value: {hdr1[f]}, Comment: {hdr1.comments[f]}')"
      ],
      "execution_count": null,
      "outputs": []
    },
    {
      "cell_type": "code",
      "metadata": {
        "id": "tRAIDeDqqLBA",
        "colab_type": "code",
        "colab": {}
      },
      "source": [
        "pulsar_data = pulsar_hdul[1].data\n",
        "pulsar_data.shape"
      ],
      "execution_count": null,
      "outputs": []
    },
    {
      "cell_type": "markdown",
      "metadata": {
        "id": "qggy7rgeqdex",
        "colab_type": "text"
      },
      "source": [
        "1373 `Subint` records, each record has the following fields:"
      ]
    },
    {
      "cell_type": "code",
      "metadata": {
        "id": "0mCVSJVSrtJX",
        "colab_type": "code",
        "colab": {}
      },
      "source": [
        "hdr = pulsar_hdul[1].header\n",
        "for i in range(hdr['TFIELDS']):\n",
        "  f = i+1\n",
        "  fname = 'TTYPE'+str(f)\n",
        "  print(f'Field: {f}, Name: {hdr[fname]}, {hdr.comments[fname]}')"
      ],
      "execution_count": null,
      "outputs": []
    },
    {
      "cell_type": "markdown",
      "metadata": {
        "id": "cszGcZawry90",
        "colab_type": "text"
      },
      "source": [
        "Shape of the `Subint` data table:"
      ]
    },
    {
      "cell_type": "code",
      "metadata": {
        "id": "Q4kjO4dJqnfv",
        "colab_type": "code",
        "colab": {}
      },
      "source": [
        "#get shape of data table and element data type of first subint record\n",
        "pulsar_data[0]['DATA'].shape, pulsar_data[0]['DATA'].dtype"
      ],
      "execution_count": null,
      "outputs": []
    },
    {
      "cell_type": "markdown",
      "metadata": {
        "id": "dsUaZqrdubJj",
        "colab_type": "text"
      },
      "source": [
        "Dimension 0 (leftmost) is `pulsar_hdul[1].header['TSBLK']` which specifies the number of samples on each `subint` record. 32 samples per record in this case.\n",
        "\n",
        "Dimension 1 is `pulsar_hdul[1].header['NPOL']` which is 4, the number of polarisations dimensions, corresponding respectively to Stokes I, Q U and V parameters.\n",
        "\n",
        "Dimension 2 is `pulsar_hdul[1].header['NCHAN']`, Value of 1024, which is the  number of channels/sub-bands in this file, the center frequency of each channel can be obtained in `pulsar_hdul[1].data[i]['DAT_FREQ']`. Whether each channel is 'good' (not subject to RFI) or 'bad' (subject to RFI) can be found in `pulsar_hdul[1].data[i]['DAT_WTS']`. 1 = good, 0 = bad.\n",
        "\n",
        "Dimension 3 (rightmost) are the least and most significant bytes, respectively of a sixteen-bit integer value."
      ]
    },
    {
      "cell_type": "code",
      "metadata": {
        "id": "7z7Es0zf10yk",
        "colab_type": "code",
        "colab": {}
      },
      "source": [
        "# stack all the subint data tables into  one long array\n",
        "obs_data_raw = np.concatenate([r['DATA'] for r in pulsar_data])\n",
        "obs_data_raw.shape"
      ],
      "execution_count": null,
      "outputs": []
    },
    {
      "cell_type": "code",
      "metadata": {
        "id": "YfBEro7f2lNc",
        "colab_type": "code",
        "colab": {}
      },
      "source": [
        "#combine the two bytes into an int\n",
        "obs_data_ints = obs_data_raw[:,:,:,0]+obs_data_raw[:,:,:,1]*256\n",
        "obs_data_ints.shape"
      ],
      "execution_count": null,
      "outputs": []
    },
    {
      "cell_type": "code",
      "metadata": {
        "id": "ifIq3-Nt26-a",
        "colab_type": "code",
        "colab": {}
      },
      "source": [
        "#first transpose to more useful shape, put time dimension as lowest order dim\n",
        "obs_data_all = np.transpose(obs_data_ints,[1,2,0])\n",
        "obs_data_all.shape"
      ],
      "execution_count": null,
      "outputs": []
    },
    {
      "cell_type": "code",
      "metadata": {
        "id": "hC14_RNy2n96",
        "colab_type": "code",
        "colab": {}
      },
      "source": [
        "#get just the I row (row 0) of Stokes' IQUV\n",
        "obs_data = obs_data_all[0]\n",
        "obs_data.shape"
      ],
      "execution_count": null,
      "outputs": []
    },
    {
      "cell_type": "code",
      "metadata": {
        "id": "E3x7Eycg3WXu",
        "colab_type": "code",
        "colab": {}
      },
      "source": [
        "#first row of data table\n",
        "r0 = pulsar_data[0]"
      ],
      "execution_count": 71,
      "outputs": []
    },
    {
      "cell_type": "code",
      "metadata": {
        "id": "PpOYykrb3FCB",
        "colab_type": "code",
        "colab": {}
      },
      "source": [
        "stokes_I = obs_data.mean(axis=0)\n",
        "#get the DAT_WTS from the first subint table record\n",
        "msk = r0['DAT_WTS'] == 1 # easier as a boolean vector\n",
        "stokes_I_masked = obs_data[msk,:].mean(axis=0)"
      ],
      "execution_count": 72,
      "outputs": []
    },
    {
      "cell_type": "code",
      "metadata": {
        "id": "sVE7q7If3tLM",
        "colab_type": "code",
        "colab": {}
      },
      "source": [
        "fig = plt.figure(figsize=(16,4))\n",
        "fig.suptitle(f'Average Spectral Intensity (Stokes\\' I)\\nBy Time')\n",
        "ax = fig.subplots(nrows=1, ncols=2)\n",
        "ax[0].plot(np.arange(len(stokes_I))/Fs, stokes_I)\n",
        "ax[0].set_title('Full Spectrum')\n",
        "ax[0].set_ylabel('Stokes I')\n",
        "ax[0].set_xlabel('Time (Sec)')\n",
        "ax[0].grid()\n",
        "\n",
        "ax[1].plot(np.arange(len(stokes_I_masked))/Fs, stokes_I_masked)\n",
        "ax[1].set_title('RFI Channels Masked')\n",
        "ax[1].set_ylabel('Stokes I')\n",
        "ax[1].set_xlabel('Time (Sec)')\n",
        "ax[1].grid()"
      ],
      "execution_count": null,
      "outputs": []
    },
    {
      "cell_type": "markdown",
      "metadata": {
        "id": "o71I0QWbIbaj",
        "colab_type": "text"
      },
      "source": [
        "#### Observe the Pulse Period"
      ]
    },
    {
      "cell_type": "code",
      "metadata": {
        "id": "cbdREWK9z-b0",
        "colab_type": "code",
        "colab": {}
      },
      "source": [
        "#look at the period 125 through 150 seconds\n",
        "\n",
        "fig = plt.figure(figsize=(16,4))\n",
        "fig.suptitle(f'Average Spectral Intensity (Stokes\\' I) By Time')\n",
        "ax = fig.subplots(nrows=1, ncols=1)\n",
        "ax.plot(np.arange(len(stokes_I_masked))/Fs, stokes_I_masked)\n",
        "ax.set_title('RFI Channels Masked')\n",
        "ax.set_ylabel('Stokes I')\n",
        "ax.set_xlabel('Time (Sec)')\n",
        "ax.grid()\n",
        "ax.set_xlim(125,150)"
      ],
      "execution_count": null,
      "outputs": []
    },
    {
      "cell_type": "code",
      "metadata": {
        "id": "e4OyNQtV1lY6",
        "colab_type": "code",
        "colab": {}
      },
      "source": [
        "#get the sample numbers for the bounds of the window: 125 through 150 seconds\n",
        "start_i = int(125*Fs); stop_i= int(150*Fs)\n",
        "\n",
        "# deal with just the observations in the window\n",
        "stokes_I_win=stokes_I_masked[start_i:stop_i]\n",
        "\n",
        "start_i, stop_i"
      ],
      "execution_count": null,
      "outputs": []
    },
    {
      "cell_type": "markdown",
      "metadata": {
        "id": "dvMyN3ZaI4w4",
        "colab_type": "text"
      },
      "source": [
        "We'll use folding to find the interval."
      ]
    },
    {
      "cell_type": "code",
      "metadata": {
        "id": "BuD2-VvV5-PS",
        "colab_type": "code",
        "colab": {}
      },
      "source": [
        "def fold(obsvec, n):\n",
        "  n_rows = len(obsvec)//n\n",
        "  n_samples = n_rows*n\n",
        "\n",
        "  folded = obsvec[:n_samples].reshape((n_rows,-1))\n",
        "\n",
        "  return folded.mean(axis=0).max()"
      ],
      "execution_count": 121,
      "outputs": []
    },
    {
      "cell_type": "code",
      "metadata": {
        "id": "opkpn4Fr7lX_",
        "colab_type": "code",
        "colab": {}
      },
      "source": [
        "#we know a-priori that the period is around 0.73 sec, so let's search btwn 0.65 and 0.75\n",
        "fold_periods = np.arange(int(0.65*Fs), int(0.75*Fs))\n",
        "peak_pwr = np.array([fold(stokes_I_win, w) for w in fold_periods])"
      ],
      "execution_count": 123,
      "outputs": []
    },
    {
      "cell_type": "code",
      "metadata": {
        "id": "eKFmtqbjB0Of",
        "colab_type": "code",
        "colab": {}
      },
      "source": [
        "plt.plot(fold_periods, peak_pwr)"
      ],
      "execution_count": null,
      "outputs": []
    },
    {
      "cell_type": "code",
      "metadata": {
        "id": "oKFzJp6G6h8X",
        "colab_type": "code",
        "colab": {}
      },
      "source": [
        "peak = peak_pwr.argmax()\n",
        "obs_period = fold_periods[peak]/Fs"
      ],
      "execution_count": 129,
      "outputs": []
    },
    {
      "cell_type": "code",
      "metadata": {
        "id": "F_gIjyDxFjzl",
        "colab_type": "code",
        "colab": {}
      },
      "source": [
        "# Get the GBO Pulsar Catalog\n",
        "p = 'http://www.gb.nrao.edu/20m/pulsars_all_GBT.cat.txt'\n",
        "colnames = ['name','jname','alias','ra','dec','l','b','P','DM','S400','S1400', 'binary']\n",
        "pulsars = pd.read_csv(p, skiprows = 4, delim_whitespace=True,names=colnames)\n",
        "\n",
        "# Get the period for B0329+54\n",
        "pub_period = pulsars.query('name == \\'B0329+54\\'').P.iloc[0]"
      ],
      "execution_count": 130,
      "outputs": []
    },
    {
      "cell_type": "code",
      "metadata": {
        "id": "3IzmtrWOFaFu",
        "colab_type": "code",
        "colab": {}
      },
      "source": [
        "print (f'Observed Period:  {obs_period} seconds')\n",
        "print (f'Published Period: {pub_period} seconds')"
      ],
      "execution_count": null,
      "outputs": []
    },
    {
      "cell_type": "markdown",
      "metadata": {
        "id": "VDxoCiqPESBm",
        "colab_type": "text"
      },
      "source": [
        "#### Exercise for Reader"
      ]
    },
    {
      "cell_type": "markdown",
      "metadata": {
        "id": "dwcgdyhkEWkJ",
        "colab_type": "text"
      },
      "source": [
        "Compute FFT and measure the period!"
      ]
    },
    {
      "cell_type": "code",
      "metadata": {
        "id": "yIxS1BGg2jWh",
        "colab_type": "code",
        "colab": {}
      },
      "source": [
        "plt.plot(np.fft.fft(stokes_I_masked[start_i:stop_i])[1:])"
      ],
      "execution_count": null,
      "outputs": []
    },
    {
      "cell_type": "markdown",
      "metadata": {
        "id": "H9RD2RfS1BuS",
        "colab_type": "text"
      },
      "source": [
        "### Read Remote FITS file"
      ]
    },
    {
      "cell_type": "code",
      "metadata": {
        "id": "XdR6zmXN1g57",
        "colab_type": "code",
        "colab": {}
      },
      "source": [
        "#read fits file from Vizier\n",
        "fits_url = 'https://cdsarc.unistra.fr/viz-bin/nph-Cat/fits.gz?J/A+A/616/A10/tablea1b.dat.gz'\n",
        "tablea1b = Table.read(fits_url)"
      ],
      "execution_count": null,
      "outputs": []
    },
    {
      "cell_type": "code",
      "metadata": {
        "id": "5ATvOBwz2QUx",
        "colab_type": "code",
        "colab": {}
      },
      "source": [
        "tablea1b[0:5]"
      ],
      "execution_count": null,
      "outputs": []
    }
  ]
}
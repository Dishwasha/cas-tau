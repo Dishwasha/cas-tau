{
  "nbformat": 4,
  "nbformat_minor": 0,
  "metadata": {
    "colab": {
      "name": "AstropyTutorial",
      "provenance": [],
      "authorship_tag": "ABX9TyNRvRU9AzJfB0q29uE36TDo",
      "include_colab_link": true
    },
    "kernelspec": {
      "name": "python3",
      "display_name": "Python 3"
    }
  },
  "cells": [
    {
      "cell_type": "markdown",
      "metadata": {
        "id": "view-in-github",
        "colab_type": "text"
      },
      "source": [
        "<a href=\"https://colab.research.google.com/github/kevinmcmanus/cas-tau/blob/master/AstropyTutorial.ipynb\" target=\"_parent\"><img src=\"https://colab.research.google.com/assets/colab-badge.svg\" alt=\"Open In Colab\"/></a>"
      ]
    },
    {
      "cell_type": "markdown",
      "metadata": {
        "id": "bwu91h1kTzxX",
        "colab_type": "text"
      },
      "source": [
        "# Introduction to Astropy"
      ]
    },
    {
      "cell_type": "markdown",
      "metadata": {
        "id": "aLkW2ebQUBmZ",
        "colab_type": "text"
      },
      "source": [
        "## Basics"
      ]
    },
    {
      "cell_type": "markdown",
      "metadata": {
        "id": "XHGcCIZqUIvi",
        "colab_type": "text"
      },
      "source": [
        "### Constants"
      ]
    },
    {
      "cell_type": "code",
      "metadata": {
        "id": "7DoGHMzwXAxb",
        "colab_type": "code",
        "colab": {}
      },
      "source": [
        "# need the constants module\n",
        "import astropy.constants as const"
      ],
      "execution_count": null,
      "outputs": []
    },
    {
      "cell_type": "code",
      "metadata": {
        "id": "sGraqf9-XNCh",
        "colab_type": "code",
        "colab": {}
      },
      "source": [
        "const.G"
      ],
      "execution_count": null,
      "outputs": []
    },
    {
      "cell_type": "code",
      "metadata": {
        "id": "ar6jghyxXafz",
        "colab_type": "code",
        "colab": {}
      },
      "source": [
        "print(const.G)"
      ],
      "execution_count": null,
      "outputs": []
    },
    {
      "cell_type": "code",
      "metadata": {
        "id": "iF9uAfwVXtcb",
        "colab_type": "code",
        "colab": {}
      },
      "source": [
        "print (const.h)"
      ],
      "execution_count": null,
      "outputs": []
    },
    {
      "cell_type": "code",
      "metadata": {
        "id": "wTFDl8ScaFNr",
        "colab_type": "code",
        "colab": {}
      },
      "source": [
        "print (const.c)"
      ],
      "execution_count": null,
      "outputs": []
    },
    {
      "cell_type": "markdown",
      "metadata": {
        "id": "WPg2Qvb4Wta4",
        "colab_type": "text"
      },
      "source": [
        "See [List of Constants](https://docs.astropy.org/en/stable/constants/) for complete list"
      ]
    },
    {
      "cell_type": "markdown",
      "metadata": {
        "id": "OVM7ty2jUMzx",
        "colab_type": "text"
      },
      "source": [
        "### Units"
      ]
    },
    {
      "cell_type": "code",
      "metadata": {
        "id": "bdEa8DZpYC4x",
        "colab_type": "code",
        "colab": {}
      },
      "source": [
        "import astropy.units as u"
      ],
      "execution_count": null,
      "outputs": []
    },
    {
      "cell_type": "code",
      "metadata": {
        "id": "cSSgnr2BYL8j",
        "colab_type": "code",
        "colab": {}
      },
      "source": [
        "u.watt"
      ],
      "execution_count": null,
      "outputs": []
    },
    {
      "cell_type": "code",
      "metadata": {
        "id": "IcWKUBOyYXyq",
        "colab_type": "code",
        "colab": {}
      },
      "source": [
        "632.3 * u.watt"
      ],
      "execution_count": null,
      "outputs": []
    },
    {
      "cell_type": "code",
      "metadata": {
        "id": "kMPXMIzhYfic",
        "colab_type": "code",
        "colab": {}
      },
      "source": [
        "type(632.3), type(u.watt), type(632.3*u.watt)"
      ],
      "execution_count": null,
      "outputs": []
    },
    {
      "cell_type": "code",
      "metadata": {
        "id": "Qc5GHiwQY2BO",
        "colab_type": "code",
        "colab": {}
      },
      "source": [
        "w = 632.3*u.watt"
      ],
      "execution_count": null,
      "outputs": []
    },
    {
      "cell_type": "code",
      "metadata": {
        "id": "2QsfM3QpY6Z3",
        "colab_type": "code",
        "colab": {}
      },
      "source": [
        "type(w)"
      ],
      "execution_count": null,
      "outputs": []
    },
    {
      "cell_type": "markdown",
      "metadata": {
        "id": "aER_SvJWW-7Q",
        "colab_type": "text"
      },
      "source": [
        "The `value` and `unit` methods on quantity objects retrieve just the value as a scalar and the unit, as in:"
      ]
    },
    {
      "cell_type": "code",
      "metadata": {
        "id": "15wh0_W_Y_QY",
        "colab_type": "code",
        "colab": {}
      },
      "source": [
        "w.value"
      ],
      "execution_count": null,
      "outputs": []
    },
    {
      "cell_type": "code",
      "metadata": {
        "id": "XtcCCdZkZDE-",
        "colab_type": "code",
        "colab": {}
      },
      "source": [
        "w.unit"
      ],
      "execution_count": null,
      "outputs": []
    },
    {
      "cell_type": "code",
      "metadata": {
        "id": "weOSdeFefaRY",
        "colab_type": "code",
        "colab": {}
      },
      "source": [
        "u"
      ],
      "execution_count": null,
      "outputs": []
    },
    {
      "cell_type": "markdown",
      "metadata": {
        "id": "HNjSrEqBUSqc",
        "colab_type": "text"
      },
      "source": [
        "### Unit Conversion"
      ]
    },
    {
      "cell_type": "code",
      "metadata": {
        "id": "zWW79Q3zkP2T",
        "colab_type": "code",
        "colab": {}
      },
      "source": [
        "print(3*u.km/3*u.m)"
      ],
      "execution_count": null,
      "outputs": []
    },
    {
      "cell_type": "markdown",
      "metadata": {
        "id": "GR8sFE4-XSbO",
        "colab_type": "text"
      },
      "source": [
        "We can convert from one set of units to another, say nanometers to Angstroms using the Quantity `to` method, below for the Hydrogen Alpha line at 656.28 nanometers:"
      ]
    },
    {
      "cell_type": "code",
      "metadata": {
        "id": "GbcTBnFoZRua",
        "colab_type": "code",
        "colab": {}
      },
      "source": [
        "# specify the h_alpha line in nanometers\n",
        "h_alpha =  656.28*u.nm"
      ],
      "execution_count": null,
      "outputs": []
    },
    {
      "cell_type": "code",
      "metadata": {
        "id": "FAvHO3qwZzeO",
        "colab_type": "code",
        "colab": {}
      },
      "source": [
        "#convert to angrstrom:\n",
        "h_alpha.to(u.angstrom)"
      ],
      "execution_count": null,
      "outputs": []
    },
    {
      "cell_type": "markdown",
      "metadata": {
        "id": "ao6edK9_U81z",
        "colab_type": "text"
      },
      "source": [
        "Divide the h_alpha wavelength: ($\\lambda$) into the speed of light to get frequency:\n",
        "nu = const.c/h_alpha"
      ]
    },
    {
      "cell_type": "code",
      "metadata": {
        "id": "OnDy-c98aav7",
        "colab_type": "code",
        "colab": {}
      },
      "source": [
        "nu = const.c/h_alpha"
      ],
      "execution_count": null,
      "outputs": []
    },
    {
      "cell_type": "code",
      "metadata": {
        "id": "TKJZk4FnaWwC",
        "colab_type": "code",
        "colab": {}
      },
      "source": [
        "nu"
      ],
      "execution_count": null,
      "outputs": []
    },
    {
      "cell_type": "markdown",
      "metadata": {
        "id": "qn9zZL4iYW9v",
        "colab_type": "text"
      },
      "source": [
        "Hmmm, meters per nanometers per second, let's look at this in megahertz"
      ]
    },
    {
      "cell_type": "code",
      "metadata": {
        "id": "Wg51zDvOato_",
        "colab_type": "code",
        "colab": {}
      },
      "source": [
        "nu.to(u.megahertz)"
      ],
      "execution_count": null,
      "outputs": []
    },
    {
      "cell_type": "code",
      "metadata": {
        "id": "AIuAQeqegQ0P",
        "colab_type": "code",
        "colab": {}
      },
      "source": [
        "# plancks law, energy per photon\n",
        "energy = const.h * nu.to(1/u.s)"
      ],
      "execution_count": null,
      "outputs": []
    },
    {
      "cell_type": "code",
      "metadata": {
        "id": "A00PAQmkhBoB",
        "colab_type": "code",
        "colab": {}
      },
      "source": [
        "print(const.h)"
      ],
      "execution_count": null,
      "outputs": []
    },
    {
      "cell_type": "code",
      "metadata": {
        "id": "cVU3Ywx5e33u",
        "colab_type": "code",
        "colab": {}
      },
      "source": [
        "#want cgs?\n",
        "const.h.cgs"
      ],
      "execution_count": null,
      "outputs": []
    },
    {
      "cell_type": "code",
      "metadata": {
        "id": "QzizX0Ajgalw",
        "colab_type": "code",
        "colab": {}
      },
      "source": [
        "energy"
      ],
      "execution_count": null,
      "outputs": []
    },
    {
      "cell_type": "code",
      "metadata": {
        "id": "JXRWdxQGirbJ",
        "colab_type": "code",
        "colab": {}
      },
      "source": [
        "# apply energy each second\n",
        "eps = energy/(1*u.s)"
      ],
      "execution_count": null,
      "outputs": []
    },
    {
      "cell_type": "code",
      "metadata": {
        "id": "HG4wy0ezggXr",
        "colab_type": "code",
        "colab": {}
      },
      "source": [
        "eps.to(u.watt)"
      ],
      "execution_count": null,
      "outputs": []
    },
    {
      "cell_type": "markdown",
      "metadata": {
        "id": "xqusV_d_UgAI",
        "colab_type": "text"
      },
      "source": [
        "## Coordinates"
      ]
    },
    {
      "cell_type": "markdown",
      "metadata": {
        "id": "GVac5fZgaZQb",
        "colab_type": "text"
      },
      "source": [
        "[Coordinates Class](https://docs.astropy.org/en/stable/coordinates/)\n",
        "\n",
        "\n",
        "[SkyCoords](https://docs.astropy.org/en/stable/api/astropy.coordinates.SkyCoord.html)"
      ]
    },
    {
      "cell_type": "code",
      "metadata": {
        "id": "YAbU4aGwZseX",
        "colab_type": "code",
        "colab": {}
      },
      "source": [
        "#more astropy libraries\n",
        "import astropy.coordinates as coord\n",
        "from astropy.coordinates.sky_coordinate import SkyCoord, EarthLocation"
      ],
      "execution_count": null,
      "outputs": []
    },
    {
      "cell_type": "code",
      "metadata": {
        "id": "m-s-HQ-wZ-x8",
        "colab_type": "code",
        "colab": {}
      },
      "source": [
        "pleiades = SkyCoord.from_name('pleiades')"
      ],
      "execution_count": null,
      "outputs": []
    },
    {
      "cell_type": "code",
      "metadata": {
        "id": "iuEswRzWci3x",
        "colab_type": "code",
        "colab": {}
      },
      "source": [
        "pleiades"
      ],
      "execution_count": null,
      "outputs": []
    },
    {
      "cell_type": "code",
      "metadata": {
        "id": "17xc-r6WcoWc",
        "colab_type": "code",
        "colab": {}
      },
      "source": [
        "#get the right ascension\n",
        "pleiades.ra"
      ],
      "execution_count": null,
      "outputs": []
    },
    {
      "cell_type": "markdown",
      "metadata": {
        "id": "kpCQdkvTg5pR",
        "colab_type": "text"
      },
      "source": [
        "Notice that by default, RA comes out in degrees, minutes, seconds. To see H:M:S, convert to string with a format parmeter:"
      ]
    },
    {
      "cell_type": "code",
      "metadata": {
        "id": "ZMTZr2yWgrPc",
        "colab_type": "code",
        "colab": {}
      },
      "source": [
        "pleiades.ra.to_string(u.hour)"
      ],
      "execution_count": null,
      "outputs": []
    },
    {
      "cell_type": "code",
      "metadata": {
        "id": "cFXafFldiLD_",
        "colab_type": "code",
        "colab": {}
      },
      "source": [
        "#galactic coordinates\n",
        "pleiades.galactic"
      ],
      "execution_count": null,
      "outputs": []
    },
    {
      "cell_type": "markdown",
      "metadata": {
        "id": "FsfWa3_IVT_5",
        "colab_type": "text"
      },
      "source": [
        "## Catalog Query"
      ]
    },
    {
      "cell_type": "markdown",
      "metadata": {
        "id": "CJZJ-6QyVaqL",
        "colab_type": "text"
      },
      "source": [
        "### Simbad"
      ]
    },
    {
      "cell_type": "markdown",
      "metadata": {
        "id": "v6IxNFQrVjM_",
        "colab_type": "text"
      },
      "source": [
        "### Sloan Digital Sky Survey"
      ]
    },
    {
      "cell_type": "markdown",
      "metadata": {
        "id": "o5nhQkN-WyjH",
        "colab_type": "text"
      },
      "source": [
        "## Observation Planning"
      ]
    },
    {
      "cell_type": "markdown",
      "metadata": {
        "id": "9kla2x1ZU_aH",
        "colab_type": "text"
      },
      "source": [
        "## Fancy Plot"
      ]
    },
    {
      "cell_type": "code",
      "metadata": {
        "id": "aIh00hmAkZ4Y",
        "colab_type": "code",
        "colab": {}
      },
      "source": [
        "!pip install astroquery"
      ],
      "execution_count": null,
      "outputs": []
    },
    {
      "cell_type": "code",
      "metadata": {
        "id": "bUa3ccwo8dvt",
        "colab_type": "code",
        "colab": {}
      },
      "source": [
        "import numpy as np\n",
        "import pandas as pd\n",
        "\n",
        "import matplotlib.pyplot as plt\n",
        "\n",
        "import matplotlib.colors as colors\n",
        "%matplotlib inline"
      ],
      "execution_count": null,
      "outputs": []
    },
    {
      "cell_type": "code",
      "metadata": {
        "id": "SImke3C09SL7",
        "colab_type": "code",
        "colab": {}
      },
      "source": [
        "from astropy.coordinates import Angle\n",
        "import astropy.units as u\n",
        "from astroquery.simbad import Simbad\n",
        "import astropy.coordinates as coord\n",
        "from astropy.coordinates.sky_coordinate import SkyCoord\n",
        "from astropy.table import QTable, Table, vstack\n",
        "from astropy.units import Quantity"
      ],
      "execution_count": null,
      "outputs": []
    },
    {
      "cell_type": "markdown",
      "metadata": {
        "id": "DqQCCkaG9S0t",
        "colab_type": "text"
      },
      "source": [
        "```\n",
        "Byte-by-byte Description of file: nhi_hpx.dat\n",
        "--------------------------------------------------------------------------------\n",
        "   Bytes Format  Units   Label     Explanations\n",
        "--------------------------------------------------------------------------------\n",
        "   1-  8  I8     ---     HPX       HPX index (HPXINDEX)\n",
        "  10- 18  F9.5   deg     RAdeg     Right ascension (J2000)\n",
        "  20- 28  F9.5   deg     DEdeg     Declination (J2000)\n",
        "  30- 38  F9.5   deg     GLON      Galactic longitude (J2000)\n",
        "  40- 48  F9.5   deg     GLAT      Galactic latitude (J2000)\n",
        "  50- 71  E22.15 cm-2    NHI       HI column density\n",
        "--------------------------------------------------------------------------------\n",
        "```"
      ]
    },
    {
      "cell_type": "code",
      "metadata": {
        "id": "91wtUtWa8rPB",
        "colab_type": "code",
        "colab": {}
      },
      "source": [
        "\n",
        "url = 'https://cdsarc.unistra.fr/ftp/J/A+A/594/A116/nhi_hpx.dat.gz'\n",
        "cols = ['HPX', 'RAdeg','DEdeg','GLON','GLAT', 'NHI']\n",
        "\n",
        "hi4pi = pd.read_csv(url, delim_whitespace=True, names=cols, header=None)"
      ],
      "execution_count": null,
      "outputs": []
    },
    {
      "cell_type": "code",
      "metadata": {
        "id": "eolsrBm298bR",
        "colab_type": "code",
        "colab": {}
      },
      "source": [
        "hi4pi.head()"
      ],
      "execution_count": null,
      "outputs": []
    },
    {
      "cell_type": "code",
      "metadata": {
        "id": "rpQmy0PR_a5q",
        "colab_type": "code",
        "colab": {}
      },
      "source": [
        "#don't run this code -- takes 20 minutes\n",
        "#fig = plt.figure(figsize=(12,12))\n",
        "#ax = fig.add_subplot(111)\n",
        "#ax.scatter(hi4pi.RAdeg, hi4pi.DEdeg, c=hi4pi.NHI, cmap='gnuplot')\n",
        "#ax.invert_xaxis()"
      ],
      "execution_count": null,
      "outputs": []
    },
    {
      "cell_type": "code",
      "metadata": {
        "id": "84h4FR_-CmaY",
        "colab_type": "code",
        "colab": {}
      },
      "source": [
        "#round to 1/10 degree precision\n",
        "hi4pi['RAdeg1'] = np.round(hi4pi.RAdeg,1)\n",
        "hi4pi['DEdeg1'] = np.round(hi4pi.DEdeg, 1)\n",
        "hi4pi['GLAT1'] = np.round(hi4pi.GLAT,1)\n",
        "hi4pi['GLON1'] = np.round(hi4pi.GLON,1)"
      ],
      "execution_count": null,
      "outputs": []
    },
    {
      "cell_type": "code",
      "metadata": {
        "id": "IG2mNHSNDdAk",
        "colab_type": "code",
        "colab": {}
      },
      "source": [
        "#equatorial coords\n",
        "hi4pi_eq = hi4pi[['RAdeg1', 'DEdeg1', 'NHI']].groupby(['RAdeg1','DEdeg1']).mean().reset_index()\n",
        "hi4pi_eq.rename(columns={\"RAdeg1\":\"ra\", \"DEdeg1\":\"dec\"}, inplace=True)\n",
        "\n",
        "#galactic coords\n",
        "hi4pi_gal = hi4pi[['GLON1', 'GLAT1', 'NHI']].groupby(['GLON1','GLAT1']).mean().reset_index()\n",
        "hi4pi_gal.rename(columns={\"GLON1\":\"l\", \"GLAT1\":\"b\"}, inplace=True)"
      ],
      "execution_count": null,
      "outputs": []
    },
    {
      "cell_type": "code",
      "metadata": {
        "id": "R5sDQzGvVwgg",
        "colab_type": "code",
        "colab": {}
      },
      "source": [
        "#convert everybody to angles and wrap the longitude\n",
        "hi4pi_eq.ra = Angle(np.array(hi4pi_eq.ra)*u.degree).wrap_at(180*u.degree)\n",
        "hi4pi_eq.dec = Angle(np.array(hi4pi_eq.dec)*u.degree)\n",
        "\n",
        "hi4pi_gal.l = Angle(np.array(hi4pi_gal.l)*u.degree).wrap_at(180*u.degree)\n",
        "hi4pi_gal.b = Angle(np.array(hi4pi_gal.b)*u.degree)"
      ],
      "execution_count": null,
      "outputs": []
    },
    {
      "cell_type": "code",
      "metadata": {
        "id": "DFRLh_8BVwdd",
        "colab_type": "code",
        "colab": {}
      },
      "source": [
        "#create the image arrays\n",
        "#note declination and lattitude in 'x' (row) positions and ra and longitude in 'y' (column) positions\n",
        "image_eq = pd.pivot_table(hi4pi_eq,index='dec',columns='ra', values='NHI',aggfunc=np.mean).to_numpy( copy=True)\n",
        "\n",
        "image_gal = pd.pivot_table(hi4pi_gal,index='b',columns='l', values='NHI',aggfunc=np.mean).to_numpy( copy=True)\n",
        "image_eq.shape, image_gal.shape"
      ],
      "execution_count": null,
      "outputs": []
    },
    {
      "cell_type": "markdown",
      "metadata": {
        "id": "kpXrnBw4dl8N",
        "colab_type": "text"
      },
      "source": [
        ""
      ]
    },
    {
      "cell_type": "code",
      "metadata": {
        "id": "KJ1APFmAECI2",
        "colab_type": "code",
        "colab": {}
      },
      "source": [
        "ra_vec = Angle(np.linspace(hi4pi_eq.ra.min(), hi4pi_eq.ra.max(), image_eq.shape[1], endpoint=False)*u.degree)\n",
        "dec_vec= Angle(np.linspace(hi4pi_eq.dec.min(), hi4pi_eq.dec.max(), image_eq.shape[0], endpoint=False)*u.degree)\n",
        "\n",
        "l_vec = Angle(np.linspace(hi4pi_gal.l.min(), hi4pi_gal.l.max(), image_gal.shape[1], endpoint=False)*u.degree)\n",
        "b_vec = Angle(np.linspace(hi4pi_gal.b.min(), hi4pi_gal.b.max(), image_gal.shape[0], endpoint=False)*u.degree)"
      ],
      "execution_count": null,
      "outputs": []
    },
    {
      "cell_type": "markdown",
      "metadata": {
        "id": "1t6szLbzcdaY",
        "colab_type": "text"
      },
      "source": [
        ""
      ]
    },
    {
      "cell_type": "code",
      "metadata": {
        "id": "6rSxioSAbsZz",
        "colab_type": "code",
        "colab": {}
      },
      "source": [
        "fig = plt.figure(figsize=(12,12))\n",
        "ax = fig.add_subplot(111, projection='mollweide')\n",
        "ax.pcolormesh(ra_vec.radian,\n",
        "           dec_vec.radian,\n",
        "           image_eq,\n",
        "           cmap='jet', norm=colors.LogNorm())\n",
        "ax.grid()"
      ],
      "execution_count": null,
      "outputs": []
    },
    {
      "cell_type": "code",
      "metadata": {
        "id": "M5cZ7VZIEGDb",
        "colab_type": "code",
        "colab": {}
      },
      "source": [
        "fig = plt.figure(figsize=(12,8))\n",
        "ax = fig.add_subplot(111, projection='mollweide')\n",
        "ax.pcolormesh(l_vec.radian,\n",
        "           b_vec.radian,\n",
        "           image_gal,\n",
        "           cmap='jet', norm=colors.LogNorm())\n",
        "ax.grid()"
      ],
      "execution_count": null,
      "outputs": []
    },
    {
      "cell_type": "code",
      "metadata": {
        "id": "zDOLruXPEJ_n",
        "colab_type": "code",
        "colab": {}
      },
      "source": [
        "clusters = ['Blanco 1',\n",
        " 'Collinder 140',\n",
        " 'Coma Berenices Cluster',\n",
        " 'Hyades',\n",
        " 'Pleiades',\n",
        " 'Praesepe',\n",
        " 'alpha Per']"
      ],
      "execution_count": null,
      "outputs": []
    },
    {
      "cell_type": "code",
      "metadata": {
        "id": "qgRwHzfPkEvk",
        "colab_type": "code",
        "colab": {}
      },
      "source": [
        "# set up the Simbad query\n",
        "from astroquery.simbad import Simbad\n",
        "from astropy.time import Time\n",
        "mySimbad = Simbad()\n",
        "mySimbad.add_votable_fields('parallax', 'pm','velocity','typed_id')\n",
        "mySimbad.get_votable_fields()\n"
      ],
      "execution_count": null,
      "outputs": []
    },
    {
      "cell_type": "code",
      "metadata": {
        "id": "7KY8I2UBkych",
        "colab_type": "code",
        "colab": {}
      },
      "source": [
        "#from astropy.table import Table, vstack\n",
        "res_table = vstack([mySimbad.query_object(c) for c in clusters],join_type='exact')"
      ],
      "execution_count": null,
      "outputs": []
    },
    {
      "cell_type": "code",
      "metadata": {
        "id": "HNTNMPsGlD03",
        "colab_type": "code",
        "colab": {}
      },
      "source": [
        "def fix_table(res_table):\n",
        "  cluster_info=Table(res_table['TYPED_ID', 'PLX_VALUE', 'PLX_PREC','RA', 'RA_PREC', 'DEC', 'DEC_PREC',\n",
        "                              'PMRA', 'PMDEC', 'RVZ_RADVEL', 'RVZ_ERROR'])\n",
        "\n",
        "  #gotta be a better way to do this:\n",
        "  cluster_info['TYPED_ID'] = [c.decode('utf-8') for c in cluster_info['TYPED_ID']]\n",
        "\n",
        "  #rename the columns to look like Gaia\n",
        "  cluster_info.rename_column('TYPED_ID','cluster')\n",
        "  cluster_info.rename_column('PLX_VALUE','parallax')\n",
        "  cluster_info.rename_column('PLX_PREC', 'parallax_error')\n",
        "  cluster_info.rename_column('RA', 'ra')\n",
        "  cluster_info.rename_column('RA_PREC','ra_error')\n",
        "  cluster_info.rename_column('DEC', 'dec')\n",
        "  cluster_info.rename_column('DEC_PREC','dec_error')\n",
        "  cluster_info.rename_column('PMRA', 'pmra')\n",
        "  cluster_info.rename_column('PMDEC', 'pmdec')\n",
        "  cluster_info.rename_column('RVZ_RADVEL','radial_velocity')\n",
        "  cluster_info.rename_column('RVZ_ERROR', 'rv_error')\n",
        "\n",
        "  #unmask the columns\n",
        "  cluster_info = cluster_info.filled() \n",
        "\n",
        "\n",
        "  #index on the cluster name\n",
        "  cluster_info.add_index('cluster')\n",
        "\n",
        "  # coordinates,  note the update to J2015.5 to match with Gaia\n",
        "  cluster_info['coords'] = \\\n",
        "      SkyCoord(ra = cluster_info['ra'],\n",
        "          dec = cluster_info['dec'], unit = (u.hour, u.deg),\n",
        "          obstime = 'J2000',  #simbad returns J2000 coords\n",
        "          distance = coord.Distance(parallax=Quantity(cluster_info['parallax'])),\n",
        "          pm_ra_cosdec = cluster_info['pmra'],\n",
        "          pm_dec = cluster_info['pmdec'],\n",
        "          radial_velocity = cluster_info['radial_velocity']).apply_space_motion(new_obstime=Time('2015.5',format='decimalyear'))\n",
        "\n",
        "  return cluster_info"
      ],
      "execution_count": null,
      "outputs": []
    },
    {
      "cell_type": "code",
      "metadata": {
        "id": "wroi75xEvC5N",
        "colab_type": "code",
        "colab": {}
      },
      "source": [
        "open_cluster_info=fix_table(res_table)"
      ],
      "execution_count": null,
      "outputs": []
    },
    {
      "cell_type": "code",
      "metadata": {
        "id": "klzOX0mhl6oG",
        "colab_type": "code",
        "colab": {}
      },
      "source": [
        "fig = plt.figure(figsize=(12,8))\n",
        "ax = fig.add_subplot(111, projection='mollweide')\n",
        "ax.pcolormesh(l_vec.radian,\n",
        "           b_vec.radian,\n",
        "           image_gal,\n",
        "           cmap='viridis', norm=colors.LogNorm())\n",
        "\n",
        "# plot the clusters\n",
        "color=iter(plt.cm.rainbow(np.linspace(0,1,len(clusters))))\n",
        "for c in clusters:\n",
        "  ax.scatter(open_cluster_info.loc[c]['coords'].galactic.l.wrap_at(180*u.deg).radian, open_cluster_info.loc[c]['coords'].galactic.b.radian, \n",
        "    color=next(color), s=50, label=c)\n",
        "ax.grid()\n",
        "ax.legend(loc='upper right')"
      ],
      "execution_count": null,
      "outputs": []
    },
    {
      "cell_type": "code",
      "metadata": {
        "id": "LKDyLCtkrqTe",
        "colab_type": "code",
        "colab": {}
      },
      "source": [
        "glob_clusters=['NGC0104', 'NGC0288', 'NGC0362', 'NGC1851', 'NGC5272', 'NGC5904',\n",
        "       'NGC6205', 'NGC6218', 'NGC6341', 'NGC6397', 'NGC6656', 'NGC6752',\n",
        "       'NGC6809', 'NGC7099']"
      ],
      "execution_count": null,
      "outputs": []
    },
    {
      "cell_type": "code",
      "metadata": {
        "id": "yxv3_UT2wBTv",
        "colab_type": "code",
        "colab": {}
      },
      "source": [
        "#from astropy.table import Table, vstack\n",
        "res_table = vstack([mySimbad.query_object(c) for c in glob_clusters],join_type='exact')"
      ],
      "execution_count": null,
      "outputs": []
    },
    {
      "cell_type": "code",
      "metadata": {
        "id": "hyyddBF-wK11",
        "colab_type": "code",
        "colab": {}
      },
      "source": [
        "glob_cluster_info = fix_table(res_table)"
      ],
      "execution_count": null,
      "outputs": []
    },
    {
      "cell_type": "code",
      "metadata": {
        "id": "SBSglUHDc3t2",
        "colab_type": "code",
        "colab": {}
      },
      "source": [
        "import matplotlib.gridspec as gridspec\n",
        "from mpl_toolkits.axes_grid1 import make_axes_locatable"
      ],
      "execution_count": null,
      "outputs": []
    },
    {
      "cell_type": "code",
      "metadata": {
        "id": "j9UUIEkFwXSY",
        "colab_type": "code",
        "colab": {}
      },
      "source": [
        "fig = plt.figure(figsize=(16,12))\n",
        "\n",
        "#gs1 = gridspec.GridSpec(1, 2, width_ratios=(1,9))\n",
        "\n",
        "#main plot axis\n",
        "#ax = plt.subplot(gs1[0,1], projection='mollweide')\n",
        "ax = fig.add_subplot(111, projection='mollweide')\n",
        "pcm = ax.pcolormesh(l_vec.radian,\n",
        "           b_vec.radian,\n",
        "           image_gal,\n",
        "           cmap='Greys', norm=colors.LogNorm(),alpha=0.3)\n",
        "\n",
        "# plot the clusters\n",
        "color=iter(plt.cm.tab20(np.linspace(0,1,20)))\n",
        "for c in clusters:\n",
        "  ax.scatter(open_cluster_info.loc[c]['coords'].galactic.l.wrap_at(180*u.deg).radian, open_cluster_info.loc[c]['coords'].galactic.b.radian, \n",
        "    marker='P',color=next(color), s=200, label=c, alpha=1.0)\n",
        "  \n",
        "# plot the globs\n",
        "color=iter(plt.cm.tab20(np.linspace(0,1,20)))\n",
        "for c in glob_clusters:\n",
        "  ax.scatter(glob_cluster_info.loc[c]['coords'].galactic.l.wrap_at(180*u.deg).radian, glob_cluster_info.loc[c]['coords'].galactic.b.radian, \n",
        "    marker='X',color=next(color), s=200, label=c, alpha=1.0)\n",
        "ax.grid()\n",
        "ax.legend(bbox_to_anchor=(1.25, 1), loc='upper right', borderaxespad=0.05)\n",
        "#ax.legend(loc='upper right')\n",
        "#ax.invert_xaxis()\n",
        "ax.tick_params(axis='x', colors='white')\n",
        "ax.set_xlabel('Galactic Longitude', color='White')\n",
        "ax.set_ylabel('Galactic Latitude', color='white')\n",
        "#put the colorbar to the left\n",
        "#divider = make_axes_locatable(ax)\n",
        "#cax = divider.append_axes(\"left\", size=\"5%\", pad=0.05)\n",
        "#cax = plt.subplot(gs1[0,0])\n",
        "cb = plt.colorbar(pcm, ax=[ax], location=\"left\", shrink=0.5)\n",
        "cb.ax.set_ylabel('log(NHI)')\n"
      ],
      "execution_count": null,
      "outputs": []
    },
    {
      "cell_type": "code",
      "metadata": {
        "id": "pdKRWyUecBNm",
        "colab_type": "code",
        "colab": {}
      },
      "source": [
        "fig = plt.figure()\n",
        "ax = fig.add_subplot(111)\n",
        "axp = ax.imshow(np.random.randint(0, 100, (100, 100)))\n",
        "cb = plt.colorbar(axp,ax=[ax],location='left')\n",
        "plt.show()"
      ],
      "execution_count": null,
      "outputs": []
    },
    {
      "cell_type": "code",
      "metadata": {
        "id": "xKXrrELxjRap",
        "colab_type": "code",
        "colab": {}
      },
      "source": [
        " = ax.imshow(np.arange(100).reshape((10,10)))\n",
        "\n",
        "# create an axes on the right side of ax. The width of cax will be 5%\n",
        "# of ax and the padding between cax and ax will be fixed at 0.05 inch.\n",
        "divider = make_axes_locatable(ax)\n",
        "cax = divider.append_axes(\"right\", size=\"5%\", pad=0.05)\n"
      ],
      "execution_count": null,
      "outputs": []
    },
    {
      "cell_type": "code",
      "metadata": {
        "id": "0lqeyEqHbHEE",
        "colab_type": "code",
        "colab": {}
      },
      "source": [
        "fig = plt.figure(figsize=(12,8))\n",
        "\n",
        "#axis for main plot\n",
        "ax = fig.add_subplot(111, projection='mollweide')\n",
        "pcm = ax.pcolormesh(l_vec.radian,\n",
        "           b_vec.radian,\n",
        "           image_gal,\n",
        "           cmap='viridis', norm=colors.LogNorm(),alpha=0.3)\n",
        "\n",
        "# plot the clusters\n",
        "color=iter(plt.cm.tab20(np.linspace(0,1,20)))\n",
        "for c in clusters:\n",
        "  ax.scatter(open_cluster_info.loc[c]['coords'].galactic.l.wrap_at(180*u.deg).radian, open_cluster_info.loc[c]['coords'].galactic.b.radian, \n",
        "    color=next(color), s=100, label=c)\n",
        "  \n",
        "# plot the globs\n",
        "color=iter(plt.cm.tab20(np.linspace(0,1,20)))\n",
        "for c in glob_clusters:\n",
        "  ax.scatter(glob_cluster_info.loc[c]['coords'].galactic.l.wrap_at(180*u.deg).radian, glob_cluster_info.loc[c]['coords'].galactic.b.radian, \n",
        "    marker='+',color=next(color), s=100, label=c)\n",
        "ax.grid()\n",
        "ax.legend(loc='upper right')\n",
        "\n",
        "cb = fig.colorbar(pcm, ax=ax)\n",
        "cb.ax.set_ylabel('log(NHI)',rotation=270)\n",
        "#ax.invert_xaxis()"
      ],
      "execution_count": null,
      "outputs": []
    },
    {
      "cell_type": "code",
      "metadata": {
        "id": "ArUsfDGHExBy",
        "colab_type": "code",
        "colab": {}
      },
      "source": [
        "# reduce resolution to 3600 x 1800\n",
        "rastep = 0.1 # tenth degree steps\n",
        "decstep = 0.1 # tenth degree steps\n"
      ],
      "execution_count": null,
      "outputs": []
    },
    {
      "cell_type": "code",
      "metadata": {
        "id": "VQJjiU4eK48K",
        "colab_type": "code",
        "colab": {}
      },
      "source": [
        "hi4pi['RAint'] = (hi4pi.RAdeg//rastep).astype(int)\n",
        "hi4pi['DEint'] = ((90+hi4pi.DEdeg)//decstep).astype(int)\n"
      ],
      "execution_count": null,
      "outputs": []
    },
    {
      "cell_type": "code",
      "metadata": {
        "id": "3KhZiLOUcpl7",
        "colab_type": "code",
        "colab": {}
      },
      "source": [
        "hi4pi.head()"
      ],
      "execution_count": null,
      "outputs": []
    },
    {
      "cell_type": "code",
      "metadata": {
        "id": "EbhIioXtV29g",
        "colab_type": "code",
        "colab": {}
      },
      "source": [
        "hi4pi_01 = hi4pi[['RAint','DEint','NHI']].groupby(['DEint','RAint']).mean().reset_index()\n",
        "hi4pi_image = pd.pivot_table(hi4pi_01,index='DEint',columns='RAint', values='NHI',aggfunc=np.mean).to_numpy( copy=True)"
      ],
      "execution_count": null,
      "outputs": []
    },
    {
      "cell_type": "code",
      "metadata": {
        "id": "ym98NzYJLtrt",
        "colab_type": "code",
        "colab": {}
      },
      "source": [
        "ra_vec = np.linspace(0,360, 3600,  endpoint=False)\n",
        "dec_vec= np.linspace(-90,90,1800, endpoint=False)"
      ],
      "execution_count": null,
      "outputs": []
    },
    {
      "cell_type": "code",
      "metadata": {
        "id": "AH89La7qgMgX",
        "colab_type": "code",
        "colab": {}
      },
      "source": [
        "decdec, rara = np.meshgrid(dec_vec, ra_vec)"
      ],
      "execution_count": null,
      "outputs": []
    },
    {
      "cell_type": "code",
      "metadata": {
        "id": "-AsmHjEMgiZn",
        "colab_type": "code",
        "colab": {}
      },
      "source": [
        "decdec.shape"
      ],
      "execution_count": null,
      "outputs": []
    },
    {
      "cell_type": "code",
      "metadata": {
        "id": "I1VkAbwJhWhR",
        "colab_type": "code",
        "colab": {}
      },
      "source": [
        "xx=np.arange(10)"
      ],
      "execution_count": null,
      "outputs": []
    },
    {
      "cell_type": "code",
      "metadata": {
        "id": "nh-rEsUChZ5r",
        "colab_type": "code",
        "colab": {}
      },
      "source": [
        "xx[:len(xx)-1]"
      ],
      "execution_count": null,
      "outputs": []
    },
    {
      "cell_type": "code",
      "metadata": {
        "id": "jlWlo175VJPV",
        "colab_type": "code",
        "colab": {}
      },
      "source": [
        "\n",
        "fig = plt.figure(figsize=(12,12))\n",
        "ax = fig.add_subplot(111)\n",
        "ax.pcolormesh(ra_vec,dec_vec, hi4pi_image, cmap='gnuplot', norm=colors.LogNorm())\n",
        "ax.invert_xaxis()"
      ],
      "execution_count": null,
      "outputs": []
    },
    {
      "cell_type": "code",
      "metadata": {
        "id": "L2CCWWFwlya8",
        "colab_type": "code",
        "colab": {}
      },
      "source": [
        "from astropy.coordinates import Angle\n",
        "import astropy.units as u"
      ],
      "execution_count": null,
      "outputs": []
    },
    {
      "cell_type": "code",
      "metadata": {
        "id": "ljrJlUblVLXa",
        "colab_type": "code",
        "colab": {}
      },
      "source": [
        "fig = plt.figure(figsize=(12,12))\n",
        "ax = fig.add_subplot(111, projection='mollweide')\n",
        "#ax.pcolormesh(Angle(ra_vec*u.degree).wrap_at(180*u.degree).radian,\n",
        "#              Angle(dec_vec*u.degree).radian,\n",
        "#              hi4pi_image, cmap='gnuplot', norm=colors.LogNorm())\n",
        "ax.scatter(hi4pi1.RAdeg1, hi4pi1.DEdeg1, c=hi4pi1.NHI, cmap='gnuplot', norm=colors.LogNorm())\n",
        "\n",
        "#ax.invert_xaxis()"
      ],
      "execution_count": null,
      "outputs": []
    },
    {
      "cell_type": "code",
      "metadata": {
        "id": "5aByHiaRvIKf",
        "colab_type": "code",
        "colab": {}
      },
      "source": [
        "Angle(90*u.degree).wrap_at('180d').radian"
      ],
      "execution_count": null,
      "outputs": []
    },
    {
      "cell_type": "code",
      "metadata": {
        "id": "S63SPmXd2Mav",
        "colab_type": "code",
        "colab": {}
      },
      "source": [
        "hi4pi1.head()"
      ],
      "execution_count": null,
      "outputs": []
    },
    {
      "cell_type": "code",
      "metadata": {
        "id": "GflDO3sZyiOW",
        "colab_type": "code",
        "colab": {}
      },
      "source": [
        "#this takes a while too!\n",
        "fig = plt.figure(figsize=(12,12))\n",
        "ax = fig.add_subplot(111, projection='mollweide')\n",
        "ax.scatter(Angle(np.array(hi4pi1.RAdeg1)*u.degree).wrap_at(180*u.degree).radian,\n",
        "           Angle(np.array(hi4pi1.DEdeg1)*u.degree).radian,\n",
        "           c=hi4pi1.NHI, cmap='gnuplot', norm=colors.LogNorm())\n",
        "#ax.invert_xaxis()"
      ],
      "execution_count": null,
      "outputs": []
    },
    {
      "cell_type": "code",
      "metadata": {
        "id": "bNPgC7C_kbSK",
        "colab_type": "code",
        "colab": {}
      },
      "source": [
        "fig = plt.figure()\n",
        "ax = fig.add_subplot(111, projection='mollweide')\n",
        "arr = np.random.rand(180, 360)\n",
        "\n",
        "lon = np.linspace(-np.pi, np.pi,360)\n",
        "lat = np.linspace(-np.pi/2., np.pi/2.,180)\n",
        "Lon,Lat = np.meshgrid(lon,lat)\n",
        "\n",
        "im = ax.pcolormesh(Lon,Lat,arr, cmap=plt.cm.jet)"
      ],
      "execution_count": null,
      "outputs": []
    },
    {
      "cell_type": "code",
      "metadata": {
        "id": "zR0vHMNOtHGk",
        "colab_type": "code",
        "colab": {}
      },
      "source": [
        "plt.plot(Angle(ra_vec*u.degree).radian)"
      ],
      "execution_count": null,
      "outputs": []
    },
    {
      "cell_type": "code",
      "metadata": {
        "id": "9MJu_HmwxAbl",
        "colab_type": "code",
        "colab": {}
      },
      "source": [
        ""
      ],
      "execution_count": null,
      "outputs": []
    }
  ]
}
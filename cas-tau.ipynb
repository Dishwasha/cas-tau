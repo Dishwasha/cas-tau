{
 "cells": [
  {
   "cell_type": "markdown",
   "metadata": {
    "colab_type": "text",
    "id": "TmUYknx2XKNT"
   },
   "source": [
    "# Preliminaries"
   ]
  },
  {
   "cell_type": "markdown",
   "metadata": {
    "colab_type": "text",
    "id": "fBWJHCkSiZD7"
   },
   "source": [
    "\n",
    "[Catalog of sources](https://cdsarc.unistra.fr/viz-bin/cat/J/A%2bA/628/A66)\n",
    "\n",
    "Not sure how to render this:\n",
    "```\n",
    "@MISC{ vizier:J/A+A/628/A66, \n",
    "author = {Lodieu N., Perez-Garrido A., Smart R.L., Silvotti, R.}, \n",
    "title = \"{VizieR Online Data Catalog: alpha Persei, Pleiades and Praesepe clusters}\", \n",
    "year = \"2019\", \n",
    "doi = {10.26093/cds/vizier.36280066}, \n",
    "journal = {\\aap}\n",
    "}\n",
    "```"
   ]
  },
  {
   "cell_type": "code",
   "execution_count": 1,
   "metadata": {
    "colab": {
     "base_uri": "https://localhost:8080/",
     "height": 187
    },
    "colab_type": "code",
    "executionInfo": {
     "elapsed": 60681,
     "status": "ok",
     "timestamp": 1588509655930,
     "user": {
      "displayName": "Kevin McManus",
      "photoUrl": "https://lh3.googleusercontent.com/a-/AOh14GgwMjEuJarceAV9suB6UiTnSaIG6DRyBo2IeQ9r0g=s64",
      "userId": "04016601920382855806"
     },
     "user_tz": 360
    },
    "id": "s1Nfk0aQSN7_",
    "outputId": "77924141-fe81-4749-865d-7bd842f4a0d1"
   },
   "outputs": [
    {
     "name": "stdout",
     "output_type": "stream",
     "text": [
      "Created TAP+ (v1.2.1) - Connection:\n",
      "\tHost: gea.esac.esa.int\n",
      "\tUse HTTPS: True\n",
      "\tPort: 443\n",
      "\tSSL Port: 443\n",
      "Created TAP+ (v1.2.1) - Connection:\n",
      "\tHost: geadata.esac.esa.int\n",
      "\tUse HTTPS: True\n",
      "\tPort: 443\n",
      "\tSSL Port: 443\n"
     ]
    }
   ],
   "source": [
    "import astropy.coordinates as coord\n",
    "from astropy.table import QTable, vstack\n",
    "\n",
    "import astropy.units as u\n",
    "from astropy.coordinates.sky_coordinate import SkyCoord\n",
    "from astropy.units import Quantity\n",
    "from astroquery.gaia import Gaia\n",
    "from astroquery.simbad import Simbad\n",
    "import pandas as pd\n",
    "import pickle\n",
    "import os"
   ]
  },
  {
   "cell_type": "code",
   "execution_count": 2,
   "metadata": {
    "colab": {},
    "colab_type": "code",
    "id": "BmQh8xfGSN8H"
   },
   "outputs": [],
   "source": [
    "%matplotlib inline\n",
    "import matplotlib.pyplot as plt\n",
    "from matplotlib.pyplot import cm\n",
    "import numpy as np"
   ]
  },
  {
   "cell_type": "code",
   "execution_count": 3,
   "metadata": {},
   "outputs": [],
   "source": [
    "from cluster import cluster as cl\n",
    "from fieldstars import fieldstars as fs"
   ]
  },
  {
   "cell_type": "markdown",
   "metadata": {
    "colab_type": "text",
    "id": "9nKnnfIdjyXJ"
   },
   "source": [
    "# Get Lodieu Data Files\n",
    "\n",
    "Details of processing these data files are [here](https://drive.google.com/file/d/1-BXGwshTcOD1bptRXy_pKGCemQnDY22z/view?usp=sharing)\n"
   ]
  },
  {
   "cell_type": "code",
   "execution_count": 4,
   "metadata": {
    "colab": {},
    "colab_type": "code",
    "id": "McXtqNEyjxeS"
   },
   "outputs": [],
   "source": [
    "alpha_per_lodieu = cl('alpha_per','./data/J_A+A_628_A66')"
   ]
  },
  {
   "cell_type": "code",
   "execution_count": 5,
   "metadata": {},
   "outputs": [],
   "source": [
    "#column mapper to map to field star class\n",
    "colmapper= {'source_id':'SourceCP', 'ra':'RAdeg', 'dec':'DEdeg','parallax':'Plx',\n",
    "            'pmra':'pmRA', 'pmdec':'pmDE', 'radial_velocity':'RVCP',\n",
    "            'phot_g_mean_mag':'Gmag', 'phot_bp_mean_mag':'BPmag', 'phot_rp_mean_mag':'RPmag','r_est':'rest'}"
   ]
  },
  {
   "cell_type": "code",
   "execution_count": 6,
   "metadata": {
    "colab": {
     "base_uri": "https://localhost:8080/",
     "height": 253
    },
    "colab_type": "code",
    "executionInfo": {
     "elapsed": 63023,
     "status": "ok",
     "timestamp": 1588509658295,
     "user": {
      "displayName": "Kevin McManus",
      "photoUrl": "https://lh3.googleusercontent.com/a-/AOh14GgwMjEuJarceAV9suB6UiTnSaIG6DRyBo2IeQ9r0g=s64",
      "userId": "04016601920382855806"
     },
     "user_tz": 360
    },
    "id": "vgsZ6GmMlZQr",
    "outputId": "8c4f4313-8cf3-42b5-c901-6cad7b5963aa"
   },
   "outputs": [],
   "source": [
    "from fieldstars import from_pandas\n",
    "alpha_per=from_pandas(alpha_per_lodieu.objs, colmapper, name='alpha_per')"
   ]
  },
  {
   "cell_type": "code",
   "execution_count": 7,
   "metadata": {
    "colab": {
     "base_uri": "https://localhost:8080/",
     "height": 34
    },
    "colab_type": "code",
    "executionInfo": {
     "elapsed": 63010,
     "status": "ok",
     "timestamp": 1588509658296,
     "user": {
      "displayName": "Kevin McManus",
      "photoUrl": "https://lh3.googleusercontent.com/a-/AOh14GgwMjEuJarceAV9suB6UiTnSaIG6DRyBo2IeQ9r0g=s64",
      "userId": "04016601920382855806"
     },
     "user_tz": 360
    },
    "id": "mxk7IHACZP2r",
    "outputId": "c536e25d-f249-42bd-b128-d66688079259"
   },
   "outputs": [
    {
     "data": {
      "text/plain": [
       "'alpha_per'"
      ]
     },
     "execution_count": 7,
     "metadata": {},
     "output_type": "execute_result"
    }
   ],
   "source": [
    "alpha_per.name"
   ]
  },
  {
   "cell_type": "code",
   "execution_count": 8,
   "metadata": {},
   "outputs": [
    {
     "data": {
      "text/plain": [
       "3162"
      ]
     },
     "execution_count": 8,
     "metadata": {},
     "output_type": "execute_result"
    }
   ],
   "source": [
    "len(alpha_per.objs)"
   ]
  },
  {
   "cell_type": "code",
   "execution_count": 9,
   "metadata": {},
   "outputs": [
    {
     "data": {
      "text/latex": [
       "$11^\\circ27{}^\\prime44.9101{}^{\\prime\\prime}$"
      ],
      "text/plain": [
       "<Angle 11.46247503 deg>"
      ]
     },
     "execution_count": 9,
     "metadata": {},
     "output_type": "execute_result"
    }
   ],
   "source": [
    "alpha_per.maxsep()"
   ]
  },
  {
   "cell_type": "code",
   "execution_count": 10,
   "metadata": {},
   "outputs": [
    {
     "data": {
      "text/plain": [
       "3162"
      ]
     },
     "execution_count": 10,
     "metadata": {},
     "output_type": "execute_result"
    }
   ],
   "source": [
    "len(alpha_per.coords)"
   ]
  },
  {
   "cell_type": "code",
   "execution_count": 11,
   "metadata": {
    "colab": {
     "base_uri": "https://localhost:8080/",
     "height": 51
    },
    "colab_type": "code",
    "executionInfo": {
     "elapsed": 62998,
     "status": "ok",
     "timestamp": 1588509658297,
     "user": {
      "displayName": "Kevin McManus",
      "photoUrl": "https://lh3.googleusercontent.com/a-/AOh14GgwMjEuJarceAV9suB6UiTnSaIG6DRyBo2IeQ9r0g=s64",
      "userId": "04016601920382855806"
     },
     "user_tz": 360
    },
    "id": "Ea2T5F4blm3W",
    "outputId": "816764e7-81ff-471d-ebbf-2e9601818b96"
   },
   "outputs": [
    {
     "data": {
      "text/plain": [
       "{'units': 'pc',\n",
       " 'desc': 'Distance from the center of the cluster (dist_center)'}"
      ]
     },
     "execution_count": 11,
     "metadata": {},
     "output_type": "execute_result"
    }
   ],
   "source": [
    "alpha_per_lodieu.coldefs['distC']"
   ]
  },
  {
   "cell_type": "code",
   "execution_count": 12,
   "metadata": {
    "colab": {
     "base_uri": "https://localhost:8080/",
     "height": 34
    },
    "colab_type": "code",
    "executionInfo": {
     "elapsed": 62989,
     "status": "ok",
     "timestamp": 1588509658298,
     "user": {
      "displayName": "Kevin McManus",
      "photoUrl": "https://lh3.googleusercontent.com/a-/AOh14GgwMjEuJarceAV9suB6UiTnSaIG6DRyBo2IeQ9r0g=s64",
      "userId": "04016601920382855806"
     },
     "user_tz": 360
    },
    "id": "nPJ6N-3vlycE",
    "outputId": "6001a7d1-fbb4-419c-b4fa-230496f9ee25"
   },
   "outputs": [
    {
     "data": {
      "text/plain": [
       "{'units': 'pc', 'desc': 'Galactic X coordinate (b_x)'}"
      ]
     },
     "execution_count": 12,
     "metadata": {},
     "output_type": "execute_result"
    }
   ],
   "source": [
    "alpha_per_lodieu.coldefs['bx']"
   ]
  },
  {
   "cell_type": "code",
   "execution_count": 13,
   "metadata": {
    "colab": {
     "base_uri": "https://localhost:8080/",
     "height": 190
    },
    "colab_type": "code",
    "executionInfo": {
     "elapsed": 62972,
     "status": "ok",
     "timestamp": 1588509658300,
     "user": {
      "displayName": "Kevin McManus",
      "photoUrl": "https://lh3.googleusercontent.com/a-/AOh14GgwMjEuJarceAV9suB6UiTnSaIG6DRyBo2IeQ9r0g=s64",
      "userId": "04016601920382855806"
     },
     "user_tz": 360
    },
    "id": "vWppFM7DVB1M",
    "outputId": "ce5cf30b-df49-488e-c9d7-6d4835959207"
   },
   "outputs": [
    {
     "data": {
      "text/plain": [
       "[('PlxCP', 'Parallax (Plx_CP)'),\n",
       " ('e_PlxCP', 'Parallax error (ePlx_CP)'),\n",
       " ('Plx', 'Gaia DR2 parallax (parallax)'),\n",
       " ('e_Plx', 'Gaia DR2 parallax error (parallax_error)'),\n",
       " ('RAPlxcor',\n",
       "  '? Correlation between right ascension and parallax (ra_parallax_corr)'),\n",
       " ('DEPlxcor',\n",
       "  '? Correlation between declination and parallax (dec_parallax_corr)'),\n",
       " ('PlxpmRAcor',\n",
       "  '? Correlation between parallax and proper motion in right ascension (parallax_pmra_corr)'),\n",
       " ('PlxpmDEcor',\n",
       "  '? Correlation between parallax and proper motion in declination (parallax_pmdec_corr)'),\n",
       " ('fvarpi', 'Mean Parallax factor AL (mean_varpi_factor_al)')]"
      ]
     },
     "execution_count": 13,
     "metadata": {},
     "output_type": "execute_result"
    }
   ],
   "source": [
    "alpha_per_lodieu.findcolumns('parallax')"
   ]
  },
  {
   "cell_type": "markdown",
   "metadata": {
    "colab_type": "text",
    "id": "r-0sBsdZZrd9"
   },
   "source": [
    "### Cut the data by distance from Cluster Center"
   ]
  },
  {
   "cell_type": "code",
   "execution_count": 14,
   "metadata": {
    "colab": {},
    "colab_type": "code",
    "id": "GmMDszfEMlnd"
   },
   "outputs": [],
   "source": [
    "cuts = np.array([0,2.3,5.6, 9.5, 28.5,50,75,100])\n",
    "labs = [f'Within {d} pc' for d in cuts[1:]]\n",
    "#sm = cm.ScalarMappable(cmap=cm.Set1)\n",
    "#bin_colors = sm.to_rgba(range(len(labs)), alpha=0.8)\n",
    "bin_colors = ['black', 'blue', 'green', 'red','magenta','orange', 'yellow']\n",
    "alpha_per_lodieu.objs['DistanceBin']  =pd.cut(alpha_per_lodieu.objs.distC, cuts, labels=labs)\n"
   ]
  },
  {
   "cell_type": "code",
   "execution_count": 15,
   "metadata": {
    "colab": {
     "base_uri": "https://localhost:8080/",
     "height": 153
    },
    "colab_type": "code",
    "executionInfo": {
     "elapsed": 62955,
     "status": "ok",
     "timestamp": 1588509658301,
     "user": {
      "displayName": "Kevin McManus",
      "photoUrl": "https://lh3.googleusercontent.com/a-/AOh14GgwMjEuJarceAV9suB6UiTnSaIG6DRyBo2IeQ9r0g=s64",
      "userId": "04016601920382855806"
     },
     "user_tz": 360
    },
    "id": "y65cXAp_Zync",
    "outputId": "347f00a7-e309-42c2-8fa5-4b7866cf1d56"
   },
   "outputs": [
    {
     "data": {
      "text/plain": [
       "Within 28.5 pc     1552\n",
       "Within 50.0 pc     1060\n",
       "Within 9.5 pc       293\n",
       "Within 5.6 pc       201\n",
       "Within 2.3 pc        23\n",
       "Within 75.0 pc        9\n",
       "Within 100.0 pc       4\n",
       "Name: DistanceBin, dtype: int64"
      ]
     },
     "execution_count": 15,
     "metadata": {},
     "output_type": "execute_result"
    }
   ],
   "source": [
    "alpha_per_lodieu.objs.DistanceBin.value_counts()"
   ]
  },
  {
   "cell_type": "markdown",
   "metadata": {
    "colab_type": "text",
    "id": "tAFq9cIYm6cg"
   },
   "source": [
    "# Lodieu Plots\n",
    "\n",
    "The plots below reproduce Figure A.1 in Appendix A of Lodieu's paper. Not all of the 3,162 objects in the data file are plotted, just the 2,069 objects within 28.5 parsecs of $\\alpha Per$ center in keeping with the Lodieu's methodology."
   ]
  },
  {
   "cell_type": "code",
   "execution_count": 16,
   "metadata": {
    "cellView": "form",
    "colab": {
     "base_uri": "https://localhost:8080/",
     "height": 408
    },
    "colab_type": "code",
    "executionInfo": {
     "elapsed": 64029,
     "status": "ok",
     "timestamp": 1588509659389,
     "user": {
      "displayName": "Kevin McManus",
      "photoUrl": "https://lh3.googleusercontent.com/a-/AOh14GgwMjEuJarceAV9suB6UiTnSaIG6DRyBo2IeQ9r0g=s64",
      "userId": "04016601920382855806"
     },
     "user_tz": 360
    },
    "id": "EtXfqA2_qjwu",
    "outputId": "65c0df17-c222-4790-acd0-f24247e98388"
   },
   "outputs": [
    {
     "data": {
      "image/png": "[encoded data removed]",
      "text/plain": [
       "<Figure size 864x432 with 2 Axes>"
      ]
     },
     "metadata": {
      "needs_background": "light"
     },
     "output_type": "display_data"
    }
   ],
   "source": [
    "#@title RA, Dec, and PM\n",
    "\n",
    "fig, ax = plt.subplots(1, 2, figsize=(12, 6))\n",
    "\n",
    "for i in range(3,-1,-1):\n",
    "  pdf = alpha_per_lodieu.objs.query('DistanceBin == @labs[@i]')\n",
    "  ax[0].scatter(pdf.RAdeg, pdf.DEdeg, color=bin_colors[i], label=labs[i], s=4)\n",
    "#ax[0].legend(loc='center right', bbox_to_anchor=(1.4, 0.75))\n",
    "ax[0].set_xlabel('Right Ascension')\n",
    "_=ax[0].set_ylabel('Declination')\n",
    "\n",
    "for i in range(3,-1,-1):\n",
    "  pdf = alpha_per_lodieu.objs.query('DistanceBin == @labs[@i]')\n",
    "  ax[1].scatter(pdf.pmRA, pdf.pmDE, color=bin_colors[i], label=labs[i], s=4)\n",
    "ax[1].legend(loc='center right', bbox_to_anchor=(1.4, 0.75))\n",
    "ax[1].set_xlabel('PM RA (mas/yr)')\n",
    "_=ax[1].set_ylabel('PM Dec (mas/yr)')\n"
   ]
  },
  {
   "cell_type": "code",
   "execution_count": 17,
   "metadata": {
    "cellView": "form",
    "colab": {
     "base_uri": "https://localhost:8080/",
     "height": 360
    },
    "colab_type": "code",
    "executionInfo": {
     "elapsed": 64479,
     "status": "ok",
     "timestamp": 1588509659858,
     "user": {
      "displayName": "Kevin McManus",
      "photoUrl": "https://lh3.googleusercontent.com/a-/AOh14GgwMjEuJarceAV9suB6UiTnSaIG6DRyBo2IeQ9r0g=s64",
      "userId": "04016601920382855806"
     },
     "user_tz": 360
    },
    "id": "mhNIWhXrP9N_",
    "outputId": "93fdc752-94a0-4b3f-dc1e-1b76ae382f72"
   },
   "outputs": [
    {
     "data": {
      "image/png": "[encoded data removed]",
      "text/plain": [
       "<Figure size 864x432 with 2 Axes>"
      ]
     },
     "metadata": {
      "needs_background": "light"
     },
     "output_type": "display_data"
    }
   ],
   "source": [
    "#@title Magnitude and PM v. Parallax\n",
    "\n",
    "fig, ax = plt.subplots(1, 2, figsize=(12, 6))\n",
    "\n",
    "for i in range(3,-1,-1):\n",
    "  pdf = alpha_per_lodieu.objs.query('DistanceBin == @labs[@i]')\n",
    "  ax[0].scatter(pdf.Plx, pdf.Gmag, color=bin_colors[i], label=labs[i], s=4)\n",
    "#ax[0].legend(loc='center right', bbox_to_anchor=(1.4, 0.75))\n",
    "ax[0].set_xlabel('Gaia G-Mag')\n",
    "ax[0].invert_yaxis()\n",
    "_=ax[0].set_ylabel('Gaia Parallax (MAS)')\n",
    "\n",
    "for i in range(3,-1,-1):\n",
    "  pdf = alpha_per_lodieu.objs.query('DistanceBin == @labs[@i]')\n",
    "  ax[1].scatter(pdf.Plx,\n",
    "                np.sqrt(pdf.pmRA**2 + pdf.pmDE**2),\n",
    "                 color=bin_colors[i], label=labs[i], s=4)\n",
    "ax[1].legend(loc='center right', bbox_to_anchor=(1.4, 0.75))\n",
    "ax[1].set_ylabel('Total PM (MAS/yr')\n",
    "_=ax[1].set_xlabel('Gaia Parallax (MAS)')"
   ]
  },
  {
   "cell_type": "code",
   "execution_count": 18,
   "metadata": {
    "cellView": "form",
    "colab": {
     "base_uri": "https://localhost:8080/",
     "height": 409
    },
    "colab_type": "code",
    "executionInfo": {
     "elapsed": 64826,
     "status": "ok",
     "timestamp": 1588509660221,
     "user": {
      "displayName": "Kevin McManus",
      "photoUrl": "https://lh3.googleusercontent.com/a-/AOh14GgwMjEuJarceAV9suB6UiTnSaIG6DRyBo2IeQ9r0g=s64",
      "userId": "04016601920382855806"
     },
     "user_tz": 360
    },
    "id": "lwfslhqlm_k9",
    "outputId": "4b890e54-a233-4864-9c3c-87a9f4b284ae"
   },
   "outputs": [
    {
     "data": {
      "text/plain": [
       "Text(0.5, 1.0, 'Count by Distance Bin')"
      ]
     },
     "execution_count": 18,
     "metadata": {},
     "output_type": "execute_result"
    },
    {
     "data": {
      "image/png": "[encoded data removed]",
      "text/plain": [
       "<Figure size 1152x432 with 2 Axes>"
      ]
     },
     "metadata": {
      "needs_background": "light"
     },
     "output_type": "display_data"
    }
   ],
   "source": [
    "#@title Distance from Center Histograms\n",
    "fig, ax = plt.subplots(1, 2, figsize=(16, 6))\n",
    "zz=ax[0].hist(alpha_per_lodieu.objs.distC, bins=np.linspace(0,500,100, endpoint=True))\n",
    "ax[0].set_ylabel('Number of objects')\n",
    "un = u.parsec\n",
    "ax[0].set_xlabel(f'Distance ({un})')\n",
    "ax[0].set_title('Distance From Cluster Center')\n",
    "N = len(alpha_per_lodieu.objs)\n",
    "mode = zz[1][zz[0].argmax()]\n",
    "ax[0].text(0.60, 0.60,f'N = {N}\\nmodal bucket = {mode:.0f} pc',transform=ax[0].transAxes)\n",
    "ax[0].grid(axis='y')\n",
    "#ax.axvline(alf_per_dist, color='red',label=r'$\\alpha Per$')\n",
    "#ax.legend()\n",
    "\n",
    "alpha_per_lodieu.objs.groupby('DistanceBin').size().plot(kind='bar', ax=ax[1])\n",
    "ax[1].set_ylabel('Number of Stars')\n",
    "ax[1].set_xlabel('Distance from Center')\n",
    "ax[1].grid(axis='y')\n",
    "ax[1].set_title(\"Count by Distance Bin\")"
   ]
  },
  {
   "cell_type": "code",
   "execution_count": null,
   "metadata": {
    "colab": {},
    "colab_type": "code",
    "id": "W-A_GfRU5TLT"
   },
   "outputs": [],
   "source": []
  },
  {
   "cell_type": "markdown",
   "metadata": {
    "colab_type": "text",
    "id": "Einpy10OD9hC"
   },
   "source": [
    "# Query Gaia"
   ]
  },
  {
   "cell_type": "markdown",
   "metadata": {
    "colab_type": "text",
    "id": "B-ml5APrMJhx"
   },
   "source": [
    "From Lodieu mean distance to $\\alpha Per$ is Per $177.68\\pm0.84 pc $ so we'll query 170 and 185 PC."
   ]
  },
  {
   "cell_type": "code",
   "execution_count": 19,
   "metadata": {
    "colab": {
     "base_uri": "https://localhost:8080/",
     "height": 34
    },
    "colab_type": "code",
    "executionInfo": {
     "elapsed": 614,
     "status": "ok",
     "timestamp": 1588510609669,
     "user": {
      "displayName": "Kevin McManus",
      "photoUrl": "https://lh3.googleusercontent.com/a-/AOh14GgwMjEuJarceAV9suB6UiTnSaIG6DRyBo2IeQ9r0g=s64",
      "userId": "04016601920382855806"
     },
     "user_tz": 360
    },
    "id": "J55tl-MsmDh0",
    "outputId": "ae89fb73-196e-4dff-9431-52b2ba7316dd"
   },
   "outputs": [
    {
     "data": {
      "text/plain": [
       "(183.5005, 276.5058393421885, 362.46938235938984, 142.66899999999998, 3140.5)"
      ]
     },
     "execution_count": 19,
     "metadata": {},
     "output_type": "execute_result"
    }
   ],
   "source": [
    "np.median(alpha_per.objs.r_est),alpha_per.objs.r_est.mean(), alpha_per.objs.r_est.std(), alpha_per.objs.r_est.min(), alpha_per.objs.r_est.max()"
   ]
  },
  {
   "cell_type": "code",
   "execution_count": 28,
   "metadata": {
    "colab": {
     "base_uri": "https://localhost:8080/",
     "height": 51
    },
    "colab_type": "code",
    "executionInfo": {
     "elapsed": 622,
     "status": "ok",
     "timestamp": 1588511065490,
     "user": {
      "displayName": "Kevin McManus",
      "photoUrl": "https://lh3.googleusercontent.com/a-/AOh14GgwMjEuJarceAV9suB6UiTnSaIG6DRyBo2IeQ9r0g=s64",
      "userId": "04016601920382855806"
     },
     "user_tz": 360
    },
    "id": "v8MkWH1CQ8ni",
    "outputId": "69650b43-6c50-47d0-8ae4-afe004cd3d7f"
   },
   "outputs": [
    {
     "name": "stdout",
     "output_type": "stream",
     "text": [
      "Search cone: ra: 52.074625695066345, dec: 48.932707471347136, search radius: 11.462475027258863 deg\n",
      "Distance constraint: between 165.15045 and 201.85055\n"
     ]
    }
   ],
   "source": [
    "# center of the observations:\n",
    "ra = alpha_per.objs.ra.mean(); dec = alpha_per.objs.dec.mean()\n",
    "\n",
    "\n",
    "search_r = alpha_per.maxsep()\n",
    "#search_r=17.6246967327452*u.degree\n",
    "\n",
    "#distance constraint (10% on either side of median):\n",
    "med_dist = np.median(alpha_per.objs.r_est)\n",
    "\n",
    "print(f'Search cone: ra: {ra}, dec: {dec}, search radius: {search_r}')\n",
    "print(f'Distance constraint: between {med_dist*.9} and {med_dist*1.1}')"
   ]
  },
  {
   "cell_type": "code",
   "execution_count": 43,
   "metadata": {},
   "outputs": [],
   "source": [
    "alpha_per_fs=fs(name = 'alpha_per_vicinity')\n",
    "alpha_per_fs.conesearch(ra*u.degree, dec*u.degree, search_r, name='alpha_per_vicinity', r_est= (165.15045, 201.85055),maxrec=75000,plx_error_thresh=5)"
   ]
  },
  {
   "cell_type": "code",
   "execution_count": 44,
   "metadata": {},
   "outputs": [
    {
     "name": "stdout",
     "output_type": "stream",
     "text": [
      "query returned 12824 rows\n"
     ]
    }
   ],
   "source": [
    "print(f'query returned {len(alpha_per_fs.objs)} rows')"
   ]
  },
  {
   "cell_type": "code",
   "execution_count": 45,
   "metadata": {},
   "outputs": [
    {
     "name": "stdout",
     "output_type": "stream",
     "text": [
      "SELECT \n",
      "\t\t source_id\n",
      "\t\t,ra\n",
      "\t\t,dec\n",
      "\t\t,parallax\n",
      "\t\t,pmra\n",
      "\t\t,pmdec\n",
      "\t\t,radial_velocity\n",
      "\t\t,phot_g_mean_mag\n",
      "\t\t,phot_bp_mean_mag\n",
      "\t\t,phot_rp_mean_mag\n",
      "\t\t,r_est\n",
      "FROM gaiadr2_complements.geometric_distance gd\n",
      "\tINNER JOIN gaiadr2.gaia_source gs using (source_id) \n",
      "WHERE \n",
      "\tCONTAINS(POINT('', gs.ra, gs.dec), \n",
      "\t\tCIRCLE('', 52.074625695066345, 48.932707471347136, 11.462475027258863)) = 1 \n",
      "\tAND gd.r_est BETWEEN 165.15045 AND 201.85055\n",
      "\tAND parallax_over_error >= 5\n"
     ]
    }
   ],
   "source": [
    "print(alpha_per_fs.tap_query_string)"
   ]
  },
  {
   "cell_type": "markdown",
   "metadata": {
    "colab_type": "text",
    "id": "AKdYVAE8aBzd"
   },
   "source": [
    "### Make Consolidated Data Frame"
   ]
  },
  {
   "cell_type": "code",
   "execution_count": 46,
   "metadata": {},
   "outputs": [],
   "source": [
    "consol_df = alpha_per_fs.objs.merge(alpha_per.objs,left_index=True, right_index=True, how='outer', indicator=True)"
   ]
  },
  {
   "cell_type": "code",
   "execution_count": 47,
   "metadata": {
    "colab": {
     "base_uri": "https://localhost:8080/",
     "height": 85
    },
    "colab_type": "code",
    "executionInfo": {
     "elapsed": 517,
     "status": "ok",
     "timestamp": 1588527425010,
     "user": {
      "displayName": "Kevin McManus",
      "photoUrl": "https://lh3.googleusercontent.com/a-/AOh14GgwMjEuJarceAV9suB6UiTnSaIG6DRyBo2IeQ9r0g=s64",
      "userId": "04016601920382855806"
     },
     "user_tz": 360
    },
    "id": "pgEbRlP5dixZ",
    "outputId": "0bee961f-90fb-4575-d788-6f27a4ce031f"
   },
   "outputs": [
    {
     "data": {
      "text/plain": [
       "left_only     11108\n",
       "both           1716\n",
       "right_only     1446\n",
       "Name: _merge, dtype: int64"
      ]
     },
     "execution_count": 47,
     "metadata": {},
     "output_type": "execute_result"
    }
   ],
   "source": [
    "consol_df._merge.value_counts()"
   ]
  },
  {
   "cell_type": "code",
   "execution_count": 48,
   "metadata": {
    "colab": {},
    "colab_type": "code",
    "id": "Vgt9PhkLcL37"
   },
   "outputs": [],
   "source": [
    "mycols = alpha_per.objs.columns\n",
    "consol_df['which'] = consol_df._merge.apply(lambda s: 'lodieu' if s == 'right_only' else 'tap' if s == 'left_only' else 'both')\n",
    "for c in mycols:\n",
    "  consol_df[c]=np.where(np.isnan(consol_df[c+'_x']), consol_df[c+'_y'], consol_df[c+'_x'])\n",
    "\n",
    "consol_df.drop(columns = [s+'_x' for s in mycols]+[s+'_y' for s in mycols], inplace=True)"
   ]
  },
  {
   "cell_type": "code",
   "execution_count": 49,
   "metadata": {
    "colab": {
     "base_uri": "https://localhost:8080/",
     "height": 85
    },
    "colab_type": "code",
    "executionInfo": {
     "elapsed": 597,
     "status": "ok",
     "timestamp": 1588527451469,
     "user": {
      "displayName": "Kevin McManus",
      "photoUrl": "https://lh3.googleusercontent.com/a-/AOh14GgwMjEuJarceAV9suB6UiTnSaIG6DRyBo2IeQ9r0g=s64",
      "userId": "04016601920382855806"
     },
     "user_tz": 360
    },
    "id": "G-lZnA6Oc4Gu",
    "outputId": "c60e1f3e-9396-4fa0-f2b9-4738e98d511a"
   },
   "outputs": [
    {
     "data": {
      "text/plain": [
       "tap       11108\n",
       "both       1716\n",
       "lodieu     1446\n",
       "Name: which, dtype: int64"
      ]
     },
     "execution_count": 49,
     "metadata": {},
     "output_type": "execute_result"
    }
   ],
   "source": [
    "consol_df.which.value_counts()"
   ]
  },
  {
   "cell_type": "code",
   "execution_count": 50,
   "metadata": {
    "colab": {
     "base_uri": "https://localhost:8080/",
     "height": 224
    },
    "colab_type": "code",
    "executionInfo": {
     "elapsed": 565,
     "status": "ok",
     "timestamp": 1588527463844,
     "user": {
      "displayName": "Kevin McManus",
      "photoUrl": "https://lh3.googleusercontent.com/a-/AOh14GgwMjEuJarceAV9suB6UiTnSaIG6DRyBo2IeQ9r0g=s64",
      "userId": "04016601920382855806"
     },
     "user_tz": 360
    },
    "id": "rLaiHcXa3YW7",
    "outputId": "b080f777-ea73-404f-9c5f-89d3929359d1"
   },
   "outputs": [
    {
     "data": {
      "text/html": [
       "<div>\n",
       "<style scoped>\n",
       "    .dataframe tbody tr th:only-of-type {\n",
       "        vertical-align: middle;\n",
       "    }\n",
       "\n",
       "    .dataframe tbody tr th {\n",
       "        vertical-align: top;\n",
       "    }\n",
       "\n",
       "    .dataframe thead th {\n",
       "        text-align: right;\n",
       "    }\n",
       "</style>\n",
       "<table border=\"1\" class=\"dataframe\">\n",
       "  <thead>\n",
       "    <tr style=\"text-align: right;\">\n",
       "      <th></th>\n",
       "      <th>_merge</th>\n",
       "      <th>which</th>\n",
       "      <th>ra</th>\n",
       "      <th>dec</th>\n",
       "      <th>parallax</th>\n",
       "      <th>pmra</th>\n",
       "      <th>pmdec</th>\n",
       "      <th>radial_velocity</th>\n",
       "      <th>phot_g_mean_mag</th>\n",
       "      <th>phot_bp_mean_mag</th>\n",
       "      <th>phot_rp_mean_mag</th>\n",
       "      <th>r_est</th>\n",
       "    </tr>\n",
       "    <tr>\n",
       "      <th>source_id</th>\n",
       "      <th></th>\n",
       "      <th></th>\n",
       "      <th></th>\n",
       "      <th></th>\n",
       "      <th></th>\n",
       "      <th></th>\n",
       "      <th></th>\n",
       "      <th></th>\n",
       "      <th></th>\n",
       "      <th></th>\n",
       "      <th></th>\n",
       "      <th></th>\n",
       "    </tr>\n",
       "  </thead>\n",
       "  <tbody>\n",
       "    <tr>\n",
       "      <th>142839204833313408</th>\n",
       "      <td>right_only</td>\n",
       "      <td>lodieu</td>\n",
       "      <td>45.528660</td>\n",
       "      <td>39.168667</td>\n",
       "      <td>5.5849</td>\n",
       "      <td>7.028</td>\n",
       "      <td>-16.292</td>\n",
       "      <td>-9999.0</td>\n",
       "      <td>20.7358</td>\n",
       "      <td>21.193600</td>\n",
       "      <td>19.559299</td>\n",
       "      <td>580.823</td>\n",
       "    </tr>\n",
       "    <tr>\n",
       "      <th>142942627646175104</th>\n",
       "      <td>right_only</td>\n",
       "      <td>lodieu</td>\n",
       "      <td>45.778371</td>\n",
       "      <td>39.477138</td>\n",
       "      <td>5.3342</td>\n",
       "      <td>6.980</td>\n",
       "      <td>-12.677</td>\n",
       "      <td>-9999.0</td>\n",
       "      <td>20.7254</td>\n",
       "      <td>21.044701</td>\n",
       "      <td>20.805799</td>\n",
       "      <td>407.573</td>\n",
       "    </tr>\n",
       "    <tr>\n",
       "      <th>143481701875966592</th>\n",
       "      <td>right_only</td>\n",
       "      <td>lodieu</td>\n",
       "      <td>43.921781</td>\n",
       "      <td>39.802850</td>\n",
       "      <td>5.7946</td>\n",
       "      <td>12.688</td>\n",
       "      <td>-9.771</td>\n",
       "      <td>-9999.0</td>\n",
       "      <td>20.4017</td>\n",
       "      <td>21.095699</td>\n",
       "      <td>19.008400</td>\n",
       "      <td>215.083</td>\n",
       "    </tr>\n",
       "    <tr>\n",
       "      <th>143595707487785856</th>\n",
       "      <td>right_only</td>\n",
       "      <td>lodieu</td>\n",
       "      <td>45.358971</td>\n",
       "      <td>39.384358</td>\n",
       "      <td>5.6180</td>\n",
       "      <td>5.195</td>\n",
       "      <td>-6.908</td>\n",
       "      <td>-9999.0</td>\n",
       "      <td>20.9837</td>\n",
       "      <td>20.517200</td>\n",
       "      <td>19.780300</td>\n",
       "      <td>834.562</td>\n",
       "    </tr>\n",
       "    <tr>\n",
       "      <th>143690712164105728</th>\n",
       "      <td>right_only</td>\n",
       "      <td>lodieu</td>\n",
       "      <td>44.899103</td>\n",
       "      <td>40.114218</td>\n",
       "      <td>5.7505</td>\n",
       "      <td>9.647</td>\n",
       "      <td>-12.088</td>\n",
       "      <td>-9999.0</td>\n",
       "      <td>20.4038</td>\n",
       "      <td>21.398399</td>\n",
       "      <td>19.030100</td>\n",
       "      <td>215.054</td>\n",
       "    </tr>\n",
       "  </tbody>\n",
       "</table>\n",
       "</div>"
      ],
      "text/plain": [
       "                        _merge   which         ra        dec  parallax  \\\n",
       "source_id                                                                \n",
       "142839204833313408  right_only  lodieu  45.528660  39.168667    5.5849   \n",
       "142942627646175104  right_only  lodieu  45.778371  39.477138    5.3342   \n",
       "143481701875966592  right_only  lodieu  43.921781  39.802850    5.7946   \n",
       "143595707487785856  right_only  lodieu  45.358971  39.384358    5.6180   \n",
       "143690712164105728  right_only  lodieu  44.899103  40.114218    5.7505   \n",
       "\n",
       "                      pmra   pmdec  radial_velocity  phot_g_mean_mag  \\\n",
       "source_id                                                              \n",
       "142839204833313408   7.028 -16.292          -9999.0          20.7358   \n",
       "142942627646175104   6.980 -12.677          -9999.0          20.7254   \n",
       "143481701875966592  12.688  -9.771          -9999.0          20.4017   \n",
       "143595707487785856   5.195  -6.908          -9999.0          20.9837   \n",
       "143690712164105728   9.647 -12.088          -9999.0          20.4038   \n",
       "\n",
       "                    phot_bp_mean_mag  phot_rp_mean_mag    r_est  \n",
       "source_id                                                        \n",
       "142839204833313408         21.193600         19.559299  580.823  \n",
       "142942627646175104         21.044701         20.805799  407.573  \n",
       "143481701875966592         21.095699         19.008400  215.083  \n",
       "143595707487785856         20.517200         19.780300  834.562  \n",
       "143690712164105728         21.398399         19.030100  215.054  "
      ]
     },
     "execution_count": 50,
     "metadata": {},
     "output_type": "execute_result"
    }
   ],
   "source": [
    "consol_df.query('which == \\'lodieu\\'').head()"
   ]
  },
  {
   "cell_type": "code",
   "execution_count": 51,
   "metadata": {
    "colab": {
     "base_uri": "https://localhost:8080/",
     "height": 365
    },
    "colab_type": "code",
    "executionInfo": {
     "elapsed": 1866,
     "status": "ok",
     "timestamp": 1588527549098,
     "user": {
      "displayName": "Kevin McManus",
      "photoUrl": "https://lh3.googleusercontent.com/a-/AOh14GgwMjEuJarceAV9suB6UiTnSaIG6DRyBo2IeQ9r0g=s64",
      "userId": "04016601920382855806"
     },
     "user_tz": 360
    },
    "id": "AQWF2qL5jlea",
    "outputId": "f5a39da3-ddf4-4feb-e397-f39971163348"
   },
   "outputs": [
    {
     "data": {
      "image/png": "[encoded data removed]",
      "text/plain": [
       "<Figure size 864x432 with 2 Axes>"
      ]
     },
     "metadata": {
      "needs_background": "light"
     },
     "output_type": "display_data"
    }
   ],
   "source": [
    "fig, ax = plt.subplots(1, 2, figsize=(12, 6))\n",
    "\n",
    "for s,c in zip(['tap','both','lodieu',],['red','green','blue']):\n",
    "  pdf = consol_df.query('which == @s')\n",
    "  ax[0].scatter(pdf.ra, pdf.dec, color=c, label=s, s=2, alpha=0.3)\n",
    "#ax[0].legend(loc='center right', bbox_to_anchor=(1.4, 0.75))\n",
    "ax[0].set_xlabel('Right Ascension')\n",
    "_=ax[0].set_ylabel('Declination')\n",
    "\n",
    "for s,c in zip(['tap','both','lodieu'],['red','green','blue']):\n",
    "  pdf = consol_df.query('which == @s')\n",
    "  ax[1].scatter(pdf.pmra, pdf.pmdec, color=c, label=s, s=2, alpha=0.3)\n",
    "ax[1].legend(loc='center right', bbox_to_anchor=(1.4, 0.75))\n",
    "ax[1].set_xlabel('PM RA (mas/yr)')\n",
    "_=ax[1].set_ylabel('PM Dec (mas/yr)')\n"
   ]
  },
  {
   "cell_type": "code",
   "execution_count": 53,
   "metadata": {
    "colab": {
     "base_uri": "https://localhost:8080/",
     "height": 224
    },
    "colab_type": "code",
    "executionInfo": {
     "elapsed": 618,
     "status": "ok",
     "timestamp": 1588527373736,
     "user": {
      "displayName": "Kevin McManus",
      "photoUrl": "https://lh3.googleusercontent.com/a-/AOh14GgwMjEuJarceAV9suB6UiTnSaIG6DRyBo2IeQ9r0g=s64",
      "userId": "04016601920382855806"
     },
     "user_tz": 360
    },
    "id": "KEw_yMONm1mQ",
    "outputId": "d0520ae0-468f-4d5c-a155-453548f23836"
   },
   "outputs": [
    {
     "data": {
      "text/html": [
       "<div>\n",
       "<style scoped>\n",
       "    .dataframe tbody tr th:only-of-type {\n",
       "        vertical-align: middle;\n",
       "    }\n",
       "\n",
       "    .dataframe tbody tr th {\n",
       "        vertical-align: top;\n",
       "    }\n",
       "\n",
       "    .dataframe thead th {\n",
       "        text-align: right;\n",
       "    }\n",
       "</style>\n",
       "<table border=\"1\" class=\"dataframe\">\n",
       "  <thead>\n",
       "    <tr style=\"text-align: right;\">\n",
       "      <th></th>\n",
       "      <th>_merge</th>\n",
       "      <th>which</th>\n",
       "      <th>ra</th>\n",
       "      <th>dec</th>\n",
       "      <th>parallax</th>\n",
       "      <th>pmra</th>\n",
       "      <th>pmdec</th>\n",
       "      <th>radial_velocity</th>\n",
       "      <th>phot_g_mean_mag</th>\n",
       "      <th>phot_bp_mean_mag</th>\n",
       "      <th>phot_rp_mean_mag</th>\n",
       "      <th>r_est</th>\n",
       "    </tr>\n",
       "    <tr>\n",
       "      <th>source_id</th>\n",
       "      <th></th>\n",
       "      <th></th>\n",
       "      <th></th>\n",
       "      <th></th>\n",
       "      <th></th>\n",
       "      <th></th>\n",
       "      <th></th>\n",
       "      <th></th>\n",
       "      <th></th>\n",
       "      <th></th>\n",
       "      <th></th>\n",
       "      <th></th>\n",
       "    </tr>\n",
       "  </thead>\n",
       "  <tbody>\n",
       "    <tr>\n",
       "      <th>142839204833313408</th>\n",
       "      <td>right_only</td>\n",
       "      <td>lodieu</td>\n",
       "      <td>45.528660</td>\n",
       "      <td>39.168667</td>\n",
       "      <td>5.5849</td>\n",
       "      <td>7.028</td>\n",
       "      <td>-16.292</td>\n",
       "      <td>-9999.0</td>\n",
       "      <td>20.7358</td>\n",
       "      <td>21.193600</td>\n",
       "      <td>19.559299</td>\n",
       "      <td>580.823</td>\n",
       "    </tr>\n",
       "    <tr>\n",
       "      <th>142942627646175104</th>\n",
       "      <td>right_only</td>\n",
       "      <td>lodieu</td>\n",
       "      <td>45.778371</td>\n",
       "      <td>39.477138</td>\n",
       "      <td>5.3342</td>\n",
       "      <td>6.980</td>\n",
       "      <td>-12.677</td>\n",
       "      <td>-9999.0</td>\n",
       "      <td>20.7254</td>\n",
       "      <td>21.044701</td>\n",
       "      <td>20.805799</td>\n",
       "      <td>407.573</td>\n",
       "    </tr>\n",
       "    <tr>\n",
       "      <th>143481701875966592</th>\n",
       "      <td>right_only</td>\n",
       "      <td>lodieu</td>\n",
       "      <td>43.921781</td>\n",
       "      <td>39.802850</td>\n",
       "      <td>5.7946</td>\n",
       "      <td>12.688</td>\n",
       "      <td>-9.771</td>\n",
       "      <td>-9999.0</td>\n",
       "      <td>20.4017</td>\n",
       "      <td>21.095699</td>\n",
       "      <td>19.008400</td>\n",
       "      <td>215.083</td>\n",
       "    </tr>\n",
       "    <tr>\n",
       "      <th>143595707487785856</th>\n",
       "      <td>right_only</td>\n",
       "      <td>lodieu</td>\n",
       "      <td>45.358971</td>\n",
       "      <td>39.384358</td>\n",
       "      <td>5.6180</td>\n",
       "      <td>5.195</td>\n",
       "      <td>-6.908</td>\n",
       "      <td>-9999.0</td>\n",
       "      <td>20.9837</td>\n",
       "      <td>20.517200</td>\n",
       "      <td>19.780300</td>\n",
       "      <td>834.562</td>\n",
       "    </tr>\n",
       "    <tr>\n",
       "      <th>143690712164105728</th>\n",
       "      <td>right_only</td>\n",
       "      <td>lodieu</td>\n",
       "      <td>44.899103</td>\n",
       "      <td>40.114218</td>\n",
       "      <td>5.7505</td>\n",
       "      <td>9.647</td>\n",
       "      <td>-12.088</td>\n",
       "      <td>-9999.0</td>\n",
       "      <td>20.4038</td>\n",
       "      <td>21.398399</td>\n",
       "      <td>19.030100</td>\n",
       "      <td>215.054</td>\n",
       "    </tr>\n",
       "  </tbody>\n",
       "</table>\n",
       "</div>"
      ],
      "text/plain": [
       "                        _merge   which         ra        dec  parallax  \\\n",
       "source_id                                                                \n",
       "142839204833313408  right_only  lodieu  45.528660  39.168667    5.5849   \n",
       "142942627646175104  right_only  lodieu  45.778371  39.477138    5.3342   \n",
       "143481701875966592  right_only  lodieu  43.921781  39.802850    5.7946   \n",
       "143595707487785856  right_only  lodieu  45.358971  39.384358    5.6180   \n",
       "143690712164105728  right_only  lodieu  44.899103  40.114218    5.7505   \n",
       "\n",
       "                      pmra   pmdec  radial_velocity  phot_g_mean_mag  \\\n",
       "source_id                                                              \n",
       "142839204833313408   7.028 -16.292          -9999.0          20.7358   \n",
       "142942627646175104   6.980 -12.677          -9999.0          20.7254   \n",
       "143481701875966592  12.688  -9.771          -9999.0          20.4017   \n",
       "143595707487785856   5.195  -6.908          -9999.0          20.9837   \n",
       "143690712164105728   9.647 -12.088          -9999.0          20.4038   \n",
       "\n",
       "                    phot_bp_mean_mag  phot_rp_mean_mag    r_est  \n",
       "source_id                                                        \n",
       "142839204833313408         21.193600         19.559299  580.823  \n",
       "142942627646175104         21.044701         20.805799  407.573  \n",
       "143481701875966592         21.095699         19.008400  215.083  \n",
       "143595707487785856         20.517200         19.780300  834.562  \n",
       "143690712164105728         21.398399         19.030100  215.054  "
      ]
     },
     "execution_count": 53,
     "metadata": {},
     "output_type": "execute_result"
    }
   ],
   "source": [
    "consol_df.query('which == \\'lodieu\\'').head()"
   ]
  },
  {
   "cell_type": "markdown",
   "metadata": {
    "colab_type": "text",
    "id": "48xuRC7Roy1-"
   },
   "source": []
  },
  {
   "cell_type": "code",
   "execution_count": 55,
   "metadata": {
    "colab": {
     "base_uri": "https://localhost:8080/",
     "height": 391
    },
    "colab_type": "code",
    "executionInfo": {
     "elapsed": 2006,
     "status": "ok",
     "timestamp": 1588528144379,
     "user": {
      "displayName": "Kevin McManus",
      "photoUrl": "https://lh3.googleusercontent.com/a-/AOh14GgwMjEuJarceAV9suB6UiTnSaIG6DRyBo2IeQ9r0g=s64",
      "userId": "04016601920382855806"
     },
     "user_tz": 360
    },
    "id": "AgryzKktoiLa",
    "outputId": "a23e4cea-2dd3-4e2e-eb9c-933565386cef"
   },
   "outputs": [
    {
     "data": {
      "text/plain": [
       "<matplotlib.legend.Legend at 0x7f74b431ee90>"
      ]
     },
     "execution_count": 55,
     "metadata": {},
     "output_type": "execute_result"
    },
    {
     "data": {
      "image/png": "[encoded data removed]",
      "text/plain": [
       "<Figure size 432x432 with 1 Axes>"
      ]
     },
     "metadata": {
      "needs_background": "light"
     },
     "output_type": "display_data"
    }
   ],
   "source": [
    "fig, ax = plt.subplots(1, 1, figsize=(6, 6))\n",
    "for s,c in zip(['tap','both','lodieu',],['red','green','blue']):\n",
    "  pdf = consol_df.query('which == @s')\n",
    "  ax.set_yscale('log')\n",
    "  ax.hist(pdf.r_est,bins=np.linspace(0,500,100, endpoint=True), color=c, label=s,  alpha=0.3)\n",
    "ax.legend()"
   ]
  },
  {
   "cell_type": "code",
   "execution_count": 56,
   "metadata": {
    "colab": {
     "base_uri": "https://localhost:8080/",
     "height": 85
    },
    "colab_type": "code",
    "executionInfo": {
     "elapsed": 798,
     "status": "ok",
     "timestamp": 1588528511880,
     "user": {
      "displayName": "Kevin McManus",
      "photoUrl": "https://lh3.googleusercontent.com/a-/AOh14GgwMjEuJarceAV9suB6UiTnSaIG6DRyBo2IeQ9r0g=s64",
      "userId": "04016601920382855806"
     },
     "user_tz": 360
    },
    "id": "SSwCEd8VrCGH",
    "outputId": "fe856f40-5364-4eb0-e158-1231c7010d86"
   },
   "outputs": [
    {
     "data": {
      "text/plain": [
       "tap       11108\n",
       "both       1716\n",
       "lodieu      176\n",
       "Name: which, dtype: int64"
      ]
     },
     "execution_count": 56,
     "metadata": {},
     "output_type": "execute_result"
    }
   ],
   "source": [
    "consol_df.query('r_est >= 165.15045  and r_est <=201.85055').which.value_counts()"
   ]
  },
  {
   "cell_type": "code",
   "execution_count": 40,
   "metadata": {
    "colab": {
     "base_uri": "https://localhost:8080/",
     "height": 85
    },
    "colab_type": "code",
    "executionInfo": {
     "elapsed": 507,
     "status": "ok",
     "timestamp": 1588534571488,
     "user": {
      "displayName": "Kevin McManus",
      "photoUrl": "https://lh3.googleusercontent.com/a-/AOh14GgwMjEuJarceAV9suB6UiTnSaIG6DRyBo2IeQ9r0g=s64",
      "userId": "04016601920382855806"
     },
     "user_tz": 360
    },
    "id": "HTF61gentBrT",
    "outputId": "8f993555-8819-431f-c271-3827c6161cef"
   },
   "outputs": [
    {
     "ename": "NameError",
     "evalue": "name 'consol_df' is not defined",
     "output_type": "error",
     "traceback": [
      "\u001b[0;31m---------------------------------------------------------------------------\u001b[0m",
      "\u001b[0;31mNameError\u001b[0m                                 Traceback (most recent call last)",
      "\u001b[0;32m<ipython-input-40-4cb7142e50eb>\u001b[0m in \u001b[0;36m<module>\u001b[0;34m\u001b[0m\n\u001b[1;32m      1\u001b[0m \u001b[0;31m#build balanced data frame\u001b[0m\u001b[0;34m\u001b[0m\u001b[0;34m\u001b[0m\u001b[0;34m\u001b[0m\u001b[0m\n\u001b[0;32m----> 2\u001b[0;31m \u001b[0mmembers\u001b[0m \u001b[0;34m=\u001b[0m \u001b[0mconsol_df\u001b[0m\u001b[0;34m.\u001b[0m\u001b[0mquery\u001b[0m\u001b[0;34m(\u001b[0m\u001b[0;34m'which==\\'both\\''\u001b[0m\u001b[0;34m)\u001b[0m\u001b[0;34m\u001b[0m\u001b[0;34m\u001b[0m\u001b[0m\n\u001b[0m\u001b[1;32m      3\u001b[0m \u001b[0mn_both\u001b[0m \u001b[0;34m=\u001b[0m \u001b[0mlen\u001b[0m\u001b[0;34m(\u001b[0m\u001b[0mmembers\u001b[0m\u001b[0;34m)\u001b[0m\u001b[0;34m\u001b[0m\u001b[0;34m\u001b[0m\u001b[0m\n\u001b[1;32m      4\u001b[0m \u001b[0mnon_members\u001b[0m \u001b[0;34m=\u001b[0m \u001b[0mconsol_df\u001b[0m\u001b[0;34m.\u001b[0m\u001b[0mquery\u001b[0m\u001b[0;34m(\u001b[0m\u001b[0;34m'which==\\'tap\\''\u001b[0m\u001b[0;34m)\u001b[0m\u001b[0;34m.\u001b[0m\u001b[0msample\u001b[0m\u001b[0;34m(\u001b[0m\u001b[0mn\u001b[0m\u001b[0;34m=\u001b[0m\u001b[0mn_both\u001b[0m\u001b[0;34m,\u001b[0m \u001b[0mrandom_state\u001b[0m\u001b[0;34m=\u001b[0m\u001b[0;36m1234\u001b[0m\u001b[0;34m)\u001b[0m\u001b[0;34m\u001b[0m\u001b[0;34m\u001b[0m\u001b[0m\n\u001b[1;32m      5\u001b[0m \u001b[0mbalanced_df\u001b[0m \u001b[0;34m=\u001b[0m \u001b[0mpd\u001b[0m\u001b[0;34m.\u001b[0m\u001b[0mconcat\u001b[0m\u001b[0;34m(\u001b[0m\u001b[0;34m[\u001b[0m\u001b[0mmembers\u001b[0m\u001b[0;34m,\u001b[0m \u001b[0mnon_members\u001b[0m\u001b[0;34m]\u001b[0m\u001b[0;34m)\u001b[0m\u001b[0;34m\u001b[0m\u001b[0;34m\u001b[0m\u001b[0m\n",
      "\u001b[0;31mNameError\u001b[0m: name 'consol_df' is not defined"
     ]
    }
   ],
   "source": [
    "#build balanced data frame\n",
    "members = consol_df.query('which==\\'both\\'')\n",
    "n_both = len(members)\n",
    "non_members = consol_df.query('which==\\'tap\\'').sample(n=n_both, random_state=1234)\n",
    "balanced_df = pd.concat([members, non_members])\n",
    "\n",
    "#shuffle it up\n",
    "np.random.seed(4321)\n",
    "balanced_df = balanced_df.loc[np.random.permutation(balanced_df.index)]\n",
    "\n",
    "#ditch rows with NaNs\n",
    "balanced_df.dropna(inplace=True)\n",
    "\n",
    "#binary value for candidacy\n",
    "balanced_df['candidate'] = np.where(balanced_df.which == 'both', 1, 0)\n",
    "\n",
    "balanced_df.which.value_counts()"
   ]
  },
  {
   "cell_type": "code",
   "execution_count": 41,
   "metadata": {
    "colab": {
     "base_uri": "https://localhost:8080/",
     "height": 340
    },
    "colab_type": "code",
    "executionInfo": {
     "elapsed": 598,
     "status": "ok",
     "timestamp": 1588534594096,
     "user": {
      "displayName": "Kevin McManus",
      "photoUrl": "https://lh3.googleusercontent.com/a-/AOh14GgwMjEuJarceAV9suB6UiTnSaIG6DRyBo2IeQ9r0g=s64",
      "userId": "04016601920382855806"
     },
     "user_tz": 360
    },
    "id": "NsvhzkoiBr93",
    "outputId": "0ace2a6a-dd92-4c74-c61e-dda751e1be48"
   },
   "outputs": [
    {
     "ename": "NameError",
     "evalue": "name 'balanced_df' is not defined",
     "output_type": "error",
     "traceback": [
      "\u001b[0;31m---------------------------------------------------------------------------\u001b[0m",
      "\u001b[0;31mNameError\u001b[0m                                 Traceback (most recent call last)",
      "\u001b[0;32m<ipython-input-41-ac7d1b0291b2>\u001b[0m in \u001b[0;36m<module>\u001b[0;34m\u001b[0m\n\u001b[0;32m----> 1\u001b[0;31m \u001b[0mbalanced_df\u001b[0m\u001b[0;34m.\u001b[0m\u001b[0minfo\u001b[0m\u001b[0;34m(\u001b[0m\u001b[0;34m)\u001b[0m\u001b[0;34m\u001b[0m\u001b[0;34m\u001b[0m\u001b[0m\n\u001b[0m",
      "\u001b[0;31mNameError\u001b[0m: name 'balanced_df' is not defined"
     ]
    }
   ],
   "source": [
    "balanced_df.info()"
   ]
  },
  {
   "cell_type": "code",
   "execution_count": 42,
   "metadata": {
    "colab": {
     "base_uri": "https://localhost:8080/",
     "height": 34
    },
    "colab_type": "code",
    "executionInfo": {
     "elapsed": 515,
     "status": "ok",
     "timestamp": 1588534597848,
     "user": {
      "displayName": "Kevin McManus",
      "photoUrl": "https://lh3.googleusercontent.com/a-/AOh14GgwMjEuJarceAV9suB6UiTnSaIG6DRyBo2IeQ9r0g=s64",
      "userId": "04016601920382855806"
     },
     "user_tz": 360
    },
    "id": "kHTLuM8aB8T2",
    "outputId": "cc880ae3-5399-4301-9905-8b01c46ecf6a"
   },
   "outputs": [
    {
     "ename": "NameError",
     "evalue": "name 'balanced_df' is not defined",
     "output_type": "error",
     "traceback": [
      "\u001b[0;31m---------------------------------------------------------------------------\u001b[0m",
      "\u001b[0;31mNameError\u001b[0m                                 Traceback (most recent call last)",
      "\u001b[0;32m<ipython-input-42-a71cc19d7943>\u001b[0m in \u001b[0;36m<module>\u001b[0;34m\u001b[0m\n\u001b[0;32m----> 1\u001b[0;31m \u001b[0mnp\u001b[0m\u001b[0;34m.\u001b[0m\u001b[0many\u001b[0m\u001b[0;34m(\u001b[0m\u001b[0mbalanced_df\u001b[0m\u001b[0;34m.\u001b[0m\u001b[0mgmag\u001b[0m\u001b[0;34m==\u001b[0m\u001b[0;34m-\u001b[0m\u001b[0;36m9999.0\u001b[0m\u001b[0;34m)\u001b[0m\u001b[0;34m\u001b[0m\u001b[0;34m\u001b[0m\u001b[0m\n\u001b[0m",
      "\u001b[0;31mNameError\u001b[0m: name 'balanced_df' is not defined"
     ]
    }
   ],
   "source": [
    "np.any(balanced_df.gmag==-9999.0)"
   ]
  },
  {
   "cell_type": "code",
   "execution_count": 43,
   "metadata": {
    "colab": {
     "base_uri": "https://localhost:8080/",
     "height": 34
    },
    "colab_type": "code",
    "executionInfo": {
     "elapsed": 663,
     "status": "ok",
     "timestamp": 1588534600416,
     "user": {
      "displayName": "Kevin McManus",
      "photoUrl": "https://lh3.googleusercontent.com/a-/AOh14GgwMjEuJarceAV9suB6UiTnSaIG6DRyBo2IeQ9r0g=s64",
      "userId": "04016601920382855806"
     },
     "user_tz": 360
    },
    "id": "Ko1JKB8563ba",
    "outputId": "194e2fad-3e92-40f4-a2d5-38e51cf329f9"
   },
   "outputs": [
    {
     "ename": "NameError",
     "evalue": "name 'balanced_df' is not defined",
     "output_type": "error",
     "traceback": [
      "\u001b[0;31m---------------------------------------------------------------------------\u001b[0m",
      "\u001b[0;31mNameError\u001b[0m                                 Traceback (most recent call last)",
      "\u001b[0;32m<ipython-input-43-7edf21e42c3f>\u001b[0m in \u001b[0;36m<module>\u001b[0;34m\u001b[0m\n\u001b[1;32m      1\u001b[0m \u001b[0;31m# partition to train, val and test dataframes\u001b[0m\u001b[0;34m\u001b[0m\u001b[0;34m\u001b[0m\u001b[0;34m\u001b[0m\u001b[0m\n\u001b[1;32m      2\u001b[0m \u001b[0mtest_frac\u001b[0m \u001b[0;34m=\u001b[0m \u001b[0;36m0.2\u001b[0m\u001b[0;34m;\u001b[0m \u001b[0mtrain_frac\u001b[0m \u001b[0;34m=\u001b[0m \u001b[0;36m0.65\u001b[0m\u001b[0;34m;\u001b[0m \u001b[0mval_frac\u001b[0m \u001b[0;34m=\u001b[0m \u001b[0;36m1.0\u001b[0m \u001b[0;34m-\u001b[0m \u001b[0mtest_frac\u001b[0m \u001b[0;34m-\u001b[0m \u001b[0mtrain_frac\u001b[0m\u001b[0;34m\u001b[0m\u001b[0;34m\u001b[0m\u001b[0m\n\u001b[0;32m----> 3\u001b[0;31m \u001b[0mnrows\u001b[0m \u001b[0;34m=\u001b[0m \u001b[0mlen\u001b[0m\u001b[0;34m(\u001b[0m\u001b[0mbalanced_df\u001b[0m\u001b[0;34m)\u001b[0m\u001b[0;34m\u001b[0m\u001b[0;34m\u001b[0m\u001b[0m\n\u001b[0m\u001b[1;32m      4\u001b[0m \u001b[0mtest_n\u001b[0m \u001b[0;34m=\u001b[0m \u001b[0mint\u001b[0m\u001b[0;34m(\u001b[0m\u001b[0mtest_frac\u001b[0m\u001b[0;34m*\u001b[0m\u001b[0mnrows\u001b[0m\u001b[0;34m)\u001b[0m\u001b[0;34m;\u001b[0m \u001b[0mtrain_n\u001b[0m\u001b[0;34m=\u001b[0m\u001b[0mint\u001b[0m\u001b[0;34m(\u001b[0m\u001b[0mtrain_frac\u001b[0m\u001b[0;34m*\u001b[0m\u001b[0mnrows\u001b[0m\u001b[0;34m)\u001b[0m\u001b[0;34m;\u001b[0m \u001b[0mval_n\u001b[0m\u001b[0;34m=\u001b[0m\u001b[0mnrows\u001b[0m\u001b[0;34m-\u001b[0m\u001b[0mtest_n\u001b[0m\u001b[0;34m-\u001b[0m\u001b[0mtrain_n\u001b[0m\u001b[0;34m\u001b[0m\u001b[0;34m\u001b[0m\u001b[0m\n\u001b[1;32m      5\u001b[0m \u001b[0;34m\u001b[0m\u001b[0m\n",
      "\u001b[0;31mNameError\u001b[0m: name 'balanced_df' is not defined"
     ]
    }
   ],
   "source": [
    "# partition to train, val and test dataframes\n",
    "test_frac = 0.2; train_frac = 0.65; val_frac = 1.0 - test_frac - train_frac\n",
    "nrows = len(balanced_df)\n",
    "test_n = int(test_frac*nrows); train_n=int(train_frac*nrows); val_n=nrows-test_n-train_n\n",
    "\n",
    "train_df = balanced_df.iloc[:train_n]\n",
    "val_df = balanced_df.iloc[train_n:train_n+val_n]\n",
    "test_df = balanced_df.iloc[train_n+val_n:]\n",
    "\n",
    "len(train_df), len(val_df), len(test_df), nrows"
   ]
  },
  {
   "cell_type": "markdown",
   "metadata": {
    "colab_type": "text",
    "id": "y4qPotv79owS"
   },
   "source": [
    "# Classifier Models"
   ]
  },
  {
   "cell_type": "code",
   "execution_count": 44,
   "metadata": {
    "colab": {},
    "colab_type": "code",
    "id": "HYxs2-nQ_Dso"
   },
   "outputs": [],
   "source": [
    "# some needed libraries\n",
    "from sklearn.model_selection import train_test_split # to partition the dataset into training and test\n",
    "from sklearn.metrics import accuracy_score, confusion_matrix # for model evaluation\n",
    "from sklearn.linear_model import LogisticRegression # classifier model to test"
   ]
  },
  {
   "cell_type": "code",
   "execution_count": 45,
   "metadata": {
    "colab": {},
    "colab_type": "code",
    "id": "IP2kCRe7-8io"
   },
   "outputs": [],
   "source": [
    "# function to create features from input data set\n",
    "# returns (n,4) feature matrix and (n,) label vector\n",
    "def get_features_labels(df):\n",
    "    features = np.zeros((len(df), 5))\n",
    "    features[:,0] = np.array(df.pmra)\n",
    "    features[:,1] = np.array(df.pmde)\n",
    "    features[:,2] = np.array(df.bpmag - df.gmag)\n",
    "    features[:,3] = np.array(df.gmag - df.rpmag)\n",
    "    features[:,4] = np.array(np.sqrt(df.pmra**2+df.pmde**2))\n",
    "    labels = np.array(df.candidate)\n",
    "    return features, labels"
   ]
  },
  {
   "cell_type": "code",
   "execution_count": 46,
   "metadata": {
    "colab": {},
    "colab_type": "code",
    "id": "RpSJ72vc_Mc0"
   },
   "outputs": [
    {
     "ename": "NameError",
     "evalue": "name 'train_df' is not defined",
     "output_type": "error",
     "traceback": [
      "\u001b[0;31m---------------------------------------------------------------------------\u001b[0m",
      "\u001b[0;31mNameError\u001b[0m                                 Traceback (most recent call last)",
      "\u001b[0;32m<ipython-input-46-4172e8d3e440>\u001b[0m in \u001b[0;36m<module>\u001b[0;34m\u001b[0m\n\u001b[1;32m      1\u001b[0m \u001b[0;31m#get the features and labels for each of the sets\u001b[0m\u001b[0;34m\u001b[0m\u001b[0;34m\u001b[0m\u001b[0;34m\u001b[0m\u001b[0m\n\u001b[0;32m----> 2\u001b[0;31m \u001b[0mx_train\u001b[0m\u001b[0;34m,\u001b[0m  \u001b[0my_train\u001b[0m  \u001b[0;34m=\u001b[0m \u001b[0mget_features_labels\u001b[0m\u001b[0;34m(\u001b[0m\u001b[0mtrain_df\u001b[0m\u001b[0;34m)\u001b[0m\u001b[0;34m\u001b[0m\u001b[0;34m\u001b[0m\u001b[0m\n\u001b[0m\u001b[1;32m      3\u001b[0m \u001b[0mx_val\u001b[0m\u001b[0;34m,\u001b[0m  \u001b[0my_val\u001b[0m  \u001b[0;34m=\u001b[0m \u001b[0mget_features_labels\u001b[0m\u001b[0;34m(\u001b[0m\u001b[0mval_df\u001b[0m\u001b[0;34m)\u001b[0m\u001b[0;34m\u001b[0m\u001b[0;34m\u001b[0m\u001b[0m\n\u001b[1;32m      4\u001b[0m \u001b[0mx_test\u001b[0m\u001b[0;34m,\u001b[0m \u001b[0my_test\u001b[0m \u001b[0;34m=\u001b[0m \u001b[0mget_features_labels\u001b[0m\u001b[0;34m(\u001b[0m\u001b[0mtest_df\u001b[0m\u001b[0;34m)\u001b[0m\u001b[0;34m\u001b[0m\u001b[0;34m\u001b[0m\u001b[0m\n",
      "\u001b[0;31mNameError\u001b[0m: name 'train_df' is not defined"
     ]
    }
   ],
   "source": [
    "#get the features and labels for each of the sets\n",
    "x_train,  y_train  = get_features_labels(train_df)\n",
    "x_val,  y_val  = get_features_labels(val_df)\n",
    "x_test, y_test = get_features_labels(test_df)"
   ]
  },
  {
   "cell_type": "markdown",
   "metadata": {
    "colab_type": "text",
    "id": "oFTaRNB3ArKR"
   },
   "source": [
    "## Logit Classifier"
   ]
  },
  {
   "cell_type": "code",
   "execution_count": 47,
   "metadata": {
    "colab": {
     "base_uri": "https://localhost:8080/",
     "height": 102
    },
    "colab_type": "code",
    "executionInfo": {
     "elapsed": 516,
     "status": "ok",
     "timestamp": 1588535692850,
     "user": {
      "displayName": "Kevin McManus",
      "photoUrl": "https://lh3.googleusercontent.com/a-/AOh14GgwMjEuJarceAV9suB6UiTnSaIG6DRyBo2IeQ9r0g=s64",
      "userId": "04016601920382855806"
     },
     "user_tz": 360
    },
    "id": "vkc83NGyAqzd",
    "outputId": "899eab0f-d371-40a1-8366-2d7b230794e3"
   },
   "outputs": [
    {
     "ename": "NameError",
     "evalue": "name 'x_train' is not defined",
     "output_type": "error",
     "traceback": [
      "\u001b[0;31m---------------------------------------------------------------------------\u001b[0m",
      "\u001b[0;31mNameError\u001b[0m                                 Traceback (most recent call last)",
      "\u001b[0;32m<ipython-input-47-e298ba33458e>\u001b[0m in \u001b[0;36m<module>\u001b[0;34m\u001b[0m\n\u001b[1;32m      1\u001b[0m \u001b[0mlogit_model\u001b[0m \u001b[0;34m=\u001b[0m \u001b[0mLogisticRegression\u001b[0m\u001b[0;34m(\u001b[0m\u001b[0;34m)\u001b[0m\u001b[0;34m\u001b[0m\u001b[0;34m\u001b[0m\u001b[0m\n\u001b[0;32m----> 2\u001b[0;31m \u001b[0mlogit_model\u001b[0m\u001b[0;34m.\u001b[0m\u001b[0mfit\u001b[0m\u001b[0;34m(\u001b[0m\u001b[0mx_train\u001b[0m\u001b[0;34m,\u001b[0m\u001b[0my_train\u001b[0m\u001b[0;34m)\u001b[0m\u001b[0;34m\u001b[0m\u001b[0;34m\u001b[0m\u001b[0m\n\u001b[0m",
      "\u001b[0;31mNameError\u001b[0m: name 'x_train' is not defined"
     ]
    }
   ],
   "source": [
    "logit_model = LogisticRegression()\n",
    "logit_model.fit(x_train,y_train)"
   ]
  },
  {
   "cell_type": "code",
   "execution_count": 49,
   "metadata": {
    "colab": {
     "base_uri": "https://localhost:8080/",
     "height": 51
    },
    "colab_type": "code",
    "executionInfo": {
     "elapsed": 550,
     "status": "ok",
     "timestamp": 1588535694861,
     "user": {
      "displayName": "Kevin McManus",
      "photoUrl": "https://lh3.googleusercontent.com/a-/AOh14GgwMjEuJarceAV9suB6UiTnSaIG6DRyBo2IeQ9r0g=s64",
      "userId": "04016601920382855806"
     },
     "user_tz": 360
    },
    "id": "Rc7qsj6_DH9j",
    "outputId": "4093c060-66ea-42be-94fc-804bf279c25b"
   },
   "outputs": [
    {
     "ename": "NameError",
     "evalue": "name 'x_train' is not defined",
     "output_type": "error",
     "traceback": [
      "\u001b[0;31m---------------------------------------------------------------------------\u001b[0m",
      "\u001b[0;31mNameError\u001b[0m                                 Traceback (most recent call last)",
      "\u001b[0;32m<ipython-input-49-76df1543ecb9>\u001b[0m in \u001b[0;36m<module>\u001b[0;34m\u001b[0m\n\u001b[1;32m      1\u001b[0m \u001b[0;31m# calculate prediction accuracy on the dev set\u001b[0m\u001b[0;34m\u001b[0m\u001b[0;34m\u001b[0m\u001b[0;34m\u001b[0m\u001b[0m\n\u001b[0;32m----> 2\u001b[0;31m \u001b[0mpred_ovr_train\u001b[0m \u001b[0;34m=\u001b[0m \u001b[0mlogit_model\u001b[0m\u001b[0;34m.\u001b[0m\u001b[0mpredict\u001b[0m\u001b[0;34m(\u001b[0m\u001b[0mx_train\u001b[0m\u001b[0;34m)\u001b[0m\u001b[0;34m\u001b[0m\u001b[0;34m\u001b[0m\u001b[0m\n\u001b[0m\u001b[1;32m      3\u001b[0m \u001b[0macc_ovr_train\u001b[0m \u001b[0;34m=\u001b[0m \u001b[0maccuracy_score\u001b[0m\u001b[0;34m(\u001b[0m\u001b[0my_train\u001b[0m\u001b[0;34m,\u001b[0m \u001b[0mpred_ovr_train\u001b[0m\u001b[0;34m)\u001b[0m\u001b[0;34m\u001b[0m\u001b[0;34m\u001b[0m\u001b[0m\n\u001b[1;32m      4\u001b[0m \u001b[0;34m\u001b[0m\u001b[0m\n\u001b[1;32m      5\u001b[0m \u001b[0;31m#calculate prediction accuracy on the validation set\u001b[0m\u001b[0;34m\u001b[0m\u001b[0;34m\u001b[0m\u001b[0;34m\u001b[0m\u001b[0m\n",
      "\u001b[0;31mNameError\u001b[0m: name 'x_train' is not defined"
     ]
    }
   ],
   "source": [
    "# calculate prediction accuracy on the dev set\n",
    "pred_ovr_train = logit_model.predict(x_train)\n",
    "acc_ovr_train = accuracy_score(y_train, pred_ovr_train)\n",
    "\n",
    "#calculate prediction accuracy on the validation set\n",
    "pred_ovr_val = logit_model.predict(x_val)\n",
    "acc_ovr_val = accuracy_score(y_val, pred_ovr_val)\n",
    "\n",
    "print('OVR Training Set Accuracy: ', acc_ovr_train)\n",
    "print('OVR Validation Set Accuracy: ', acc_ovr_val)"
   ]
  },
  {
   "cell_type": "code",
   "execution_count": 50,
   "metadata": {
    "colab": {
     "base_uri": "https://localhost:8080/",
     "height": 51
    },
    "colab_type": "code",
    "executionInfo": {
     "elapsed": 696,
     "status": "ok",
     "timestamp": 1588535715514,
     "user": {
      "displayName": "Kevin McManus",
      "photoUrl": "https://lh3.googleusercontent.com/a-/AOh14GgwMjEuJarceAV9suB6UiTnSaIG6DRyBo2IeQ9r0g=s64",
      "userId": "04016601920382855806"
     },
     "user_tz": 360
    },
    "id": "QkGNps2TE2yS",
    "outputId": "0838ddd6-bb3e-415a-b205-d5ca930b7ecb"
   },
   "outputs": [
    {
     "ename": "NameError",
     "evalue": "name 'y_val' is not defined",
     "output_type": "error",
     "traceback": [
      "\u001b[0;31m---------------------------------------------------------------------------\u001b[0m",
      "\u001b[0;31mNameError\u001b[0m                                 Traceback (most recent call last)",
      "\u001b[0;32m<ipython-input-50-a609f1379d51>\u001b[0m in \u001b[0;36m<module>\u001b[0;34m\u001b[0m\n\u001b[0;32m----> 1\u001b[0;31m \u001b[0mconfusion_matrix\u001b[0m\u001b[0;34m(\u001b[0m\u001b[0my_val\u001b[0m\u001b[0;34m,\u001b[0m \u001b[0mpred_ovr_val\u001b[0m\u001b[0;34m)\u001b[0m\u001b[0;34m\u001b[0m\u001b[0;34m\u001b[0m\u001b[0m\n\u001b[0m",
      "\u001b[0;31mNameError\u001b[0m: name 'y_val' is not defined"
     ]
    }
   ],
   "source": [
    "confusion_matrix(y_val, pred_ovr_val)"
   ]
  },
  {
   "cell_type": "code",
   "execution_count": 51,
   "metadata": {
    "colab": {
     "base_uri": "https://localhost:8080/",
     "height": 34
    },
    "colab_type": "code",
    "executionInfo": {
     "elapsed": 521,
     "status": "ok",
     "timestamp": 1588536203566,
     "user": {
      "displayName": "Kevin McManus",
      "photoUrl": "https://lh3.googleusercontent.com/a-/AOh14GgwMjEuJarceAV9suB6UiTnSaIG6DRyBo2IeQ9r0g=s64",
      "userId": "04016601920382855806"
     },
     "user_tz": 360
    },
    "id": "i5USMM-xIn_0",
    "outputId": "e82fa916-1da8-4d3a-e89f-35af10e57f0b"
   },
   "outputs": [
    {
     "ename": "AttributeError",
     "evalue": "'LogisticRegression' object has no attribute 'classes_'",
     "output_type": "error",
     "traceback": [
      "\u001b[0;31m---------------------------------------------------------------------------\u001b[0m",
      "\u001b[0;31mAttributeError\u001b[0m                            Traceback (most recent call last)",
      "\u001b[0;32m<ipython-input-51-118e81824097>\u001b[0m in \u001b[0;36m<module>\u001b[0;34m\u001b[0m\n\u001b[0;32m----> 1\u001b[0;31m \u001b[0mlogit_model\u001b[0m\u001b[0;34m.\u001b[0m\u001b[0mclasses_\u001b[0m\u001b[0;34m\u001b[0m\u001b[0;34m\u001b[0m\u001b[0m\n\u001b[0m",
      "\u001b[0;31mAttributeError\u001b[0m: 'LogisticRegression' object has no attribute 'classes_'"
     ]
    }
   ],
   "source": [
    "logit_model.classes_"
   ]
  },
  {
   "cell_type": "markdown",
   "metadata": {
    "colab_type": "text",
    "id": "AadheAFgKBe3"
   },
   "source": [
    "## K Nearest Neighbors"
   ]
  },
  {
   "cell_type": "code",
   "execution_count": 52,
   "metadata": {
    "colab": {},
    "colab_type": "code",
    "id": "8IFzGHgzKgeN"
   },
   "outputs": [],
   "source": [
    "from sklearn.neighbors import KNeighborsClassifier"
   ]
  },
  {
   "cell_type": "code",
   "execution_count": 53,
   "metadata": {
    "colab": {
     "base_uri": "https://localhost:8080/",
     "height": 68
    },
    "colab_type": "code",
    "executionInfo": {
     "elapsed": 507,
     "status": "ok",
     "timestamp": 1588536785802,
     "user": {
      "displayName": "Kevin McManus",
      "photoUrl": "https://lh3.googleusercontent.com/a-/AOh14GgwMjEuJarceAV9suB6UiTnSaIG6DRyBo2IeQ9r0g=s64",
      "userId": "04016601920382855806"
     },
     "user_tz": 360
    },
    "id": "bvPGvQl_KBGF",
    "outputId": "98ca4acd-716d-470e-b239-f745abbb1e5a"
   },
   "outputs": [
    {
     "ename": "NameError",
     "evalue": "name 'x_train' is not defined",
     "output_type": "error",
     "traceback": [
      "\u001b[0;31m---------------------------------------------------------------------------\u001b[0m",
      "\u001b[0;31mNameError\u001b[0m                                 Traceback (most recent call last)",
      "\u001b[0;32m<ipython-input-53-0bb33a0934c0>\u001b[0m in \u001b[0;36m<module>\u001b[0;34m\u001b[0m\n\u001b[1;32m      1\u001b[0m \u001b[0mneighbors\u001b[0m \u001b[0;34m=\u001b[0m \u001b[0mKNeighborsClassifier\u001b[0m\u001b[0;34m(\u001b[0m\u001b[0;34m)\u001b[0m\u001b[0;34m\u001b[0m\u001b[0;34m\u001b[0m\u001b[0m\n\u001b[0;32m----> 2\u001b[0;31m \u001b[0mneighbors\u001b[0m\u001b[0;34m.\u001b[0m\u001b[0mfit\u001b[0m\u001b[0;34m(\u001b[0m\u001b[0mx_train\u001b[0m\u001b[0;34m,\u001b[0m \u001b[0my_train\u001b[0m\u001b[0;34m)\u001b[0m\u001b[0;34m\u001b[0m\u001b[0;34m\u001b[0m\u001b[0m\n\u001b[0m",
      "\u001b[0;31mNameError\u001b[0m: name 'x_train' is not defined"
     ]
    }
   ],
   "source": [
    "neighbors = KNeighborsClassifier()\n",
    "neighbors.fit(x_train, y_train)"
   ]
  },
  {
   "cell_type": "code",
   "execution_count": 54,
   "metadata": {
    "colab": {
     "base_uri": "https://localhost:8080/",
     "height": 51
    },
    "colab_type": "code",
    "executionInfo": {
     "elapsed": 578,
     "status": "ok",
     "timestamp": 1588537088652,
     "user": {
      "displayName": "Kevin McManus",
      "photoUrl": "https://lh3.googleusercontent.com/a-/AOh14GgwMjEuJarceAV9suB6UiTnSaIG6DRyBo2IeQ9r0g=s64",
      "userId": "04016601920382855806"
     },
     "user_tz": 360
    },
    "id": "m_kUZXiRLBWt",
    "outputId": "75c6cec5-c8a9-4e65-d8e6-c5bd06841dde"
   },
   "outputs": [
    {
     "ename": "NameError",
     "evalue": "name 'x_train' is not defined",
     "output_type": "error",
     "traceback": [
      "\u001b[0;31m---------------------------------------------------------------------------\u001b[0m",
      "\u001b[0;31mNameError\u001b[0m                                 Traceback (most recent call last)",
      "\u001b[0;32m<ipython-input-54-f12b28c2dc8d>\u001b[0m in \u001b[0;36m<module>\u001b[0;34m\u001b[0m\n\u001b[1;32m      1\u001b[0m \u001b[0;31m# calculate prediction accuracy on the dev set\u001b[0m\u001b[0;34m\u001b[0m\u001b[0;34m\u001b[0m\u001b[0;34m\u001b[0m\u001b[0m\n\u001b[0;32m----> 2\u001b[0;31m \u001b[0mpred_knn_train\u001b[0m \u001b[0;34m=\u001b[0m \u001b[0mneighbors\u001b[0m\u001b[0;34m.\u001b[0m\u001b[0mpredict\u001b[0m\u001b[0;34m(\u001b[0m\u001b[0mx_train\u001b[0m\u001b[0;34m)\u001b[0m\u001b[0;34m\u001b[0m\u001b[0;34m\u001b[0m\u001b[0m\n\u001b[0m\u001b[1;32m      3\u001b[0m \u001b[0macc_knn_train\u001b[0m \u001b[0;34m=\u001b[0m \u001b[0maccuracy_score\u001b[0m\u001b[0;34m(\u001b[0m\u001b[0my_train\u001b[0m\u001b[0;34m,\u001b[0m \u001b[0mpred_knn_train\u001b[0m\u001b[0;34m)\u001b[0m\u001b[0;34m\u001b[0m\u001b[0;34m\u001b[0m\u001b[0m\n\u001b[1;32m      4\u001b[0m \u001b[0;34m\u001b[0m\u001b[0m\n\u001b[1;32m      5\u001b[0m \u001b[0;31m#calculate prediction accuracy on the validation set\u001b[0m\u001b[0;34m\u001b[0m\u001b[0;34m\u001b[0m\u001b[0;34m\u001b[0m\u001b[0m\n",
      "\u001b[0;31mNameError\u001b[0m: name 'x_train' is not defined"
     ]
    }
   ],
   "source": [
    "# calculate prediction accuracy on the dev set\n",
    "pred_knn_train = neighbors.predict(x_train)\n",
    "acc_knn_train = accuracy_score(y_train, pred_knn_train)\n",
    "\n",
    "#calculate prediction accuracy on the validation set\n",
    "pred_knn_val = neighbors.predict(x_val)\n",
    "acc_knn_val = accuracy_score(y_val, pred_knn_val)\n",
    "\n",
    "print('KNN Training Set Accuracy: ', acc_knn_train)\n",
    "print('KNN Validation Set Accuracy: ', acc_knn_val)"
   ]
  },
  {
   "cell_type": "code",
   "execution_count": 55,
   "metadata": {
    "colab": {
     "base_uri": "https://localhost:8080/",
     "height": 51
    },
    "colab_type": "code",
    "executionInfo": {
     "elapsed": 551,
     "status": "ok",
     "timestamp": 1588537135691,
     "user": {
      "displayName": "Kevin McManus",
      "photoUrl": "https://lh3.googleusercontent.com/a-/AOh14GgwMjEuJarceAV9suB6UiTnSaIG6DRyBo2IeQ9r0g=s64",
      "userId": "04016601920382855806"
     },
     "user_tz": 360
    },
    "id": "j0VRb02ZMNvN",
    "outputId": "ec858f31-1d7d-4084-b59a-ba144137ff7a"
   },
   "outputs": [
    {
     "ename": "NameError",
     "evalue": "name 'y_val' is not defined",
     "output_type": "error",
     "traceback": [
      "\u001b[0;31m---------------------------------------------------------------------------\u001b[0m",
      "\u001b[0;31mNameError\u001b[0m                                 Traceback (most recent call last)",
      "\u001b[0;32m<ipython-input-55-ca5290621206>\u001b[0m in \u001b[0;36m<module>\u001b[0;34m\u001b[0m\n\u001b[0;32m----> 1\u001b[0;31m \u001b[0mconfusion_matrix\u001b[0m\u001b[0;34m(\u001b[0m\u001b[0my_val\u001b[0m\u001b[0;34m,\u001b[0m \u001b[0mpred_knn_val\u001b[0m\u001b[0;34m)\u001b[0m\u001b[0;34m\u001b[0m\u001b[0;34m\u001b[0m\u001b[0m\n\u001b[0m",
      "\u001b[0;31mNameError\u001b[0m: name 'y_val' is not defined"
     ]
    }
   ],
   "source": [
    "confusion_matrix(y_val, pred_knn_val)"
   ]
  },
  {
   "cell_type": "markdown",
   "metadata": {
    "colab_type": "text",
    "id": "oD7-YbN0NF5s"
   },
   "source": [
    "## Decision Tree Classifier"
   ]
  },
  {
   "cell_type": "code",
   "execution_count": 56,
   "metadata": {
    "colab": {},
    "colab_type": "code",
    "id": "QF-BwhPOM8k5"
   },
   "outputs": [],
   "source": [
    "from sklearn.tree import DecisionTreeClassifier"
   ]
  },
  {
   "cell_type": "code",
   "execution_count": 57,
   "metadata": {
    "colab": {
     "base_uri": "https://localhost:8080/",
     "height": 119
    },
    "colab_type": "code",
    "executionInfo": {
     "elapsed": 717,
     "status": "ok",
     "timestamp": 1588537453112,
     "user": {
      "displayName": "Kevin McManus",
      "photoUrl": "https://lh3.googleusercontent.com/a-/AOh14GgwMjEuJarceAV9suB6UiTnSaIG6DRyBo2IeQ9r0g=s64",
      "userId": "04016601920382855806"
     },
     "user_tz": 360
    },
    "id": "qrQAZQCNNTiR",
    "outputId": "a2519c87-b855-4d55-eed9-571d54b0f09d"
   },
   "outputs": [
    {
     "ename": "NameError",
     "evalue": "name 'x_train' is not defined",
     "output_type": "error",
     "traceback": [
      "\u001b[0;31m---------------------------------------------------------------------------\u001b[0m",
      "\u001b[0;31mNameError\u001b[0m                                 Traceback (most recent call last)",
      "\u001b[0;32m<ipython-input-57-52e50651a323>\u001b[0m in \u001b[0;36m<module>\u001b[0;34m\u001b[0m\n\u001b[1;32m      1\u001b[0m \u001b[0mdtc\u001b[0m \u001b[0;34m=\u001b[0m \u001b[0mDecisionTreeClassifier\u001b[0m\u001b[0;34m(\u001b[0m\u001b[0;34m)\u001b[0m\u001b[0;34m\u001b[0m\u001b[0;34m\u001b[0m\u001b[0m\n\u001b[0;32m----> 2\u001b[0;31m \u001b[0mdtc\u001b[0m\u001b[0;34m.\u001b[0m\u001b[0mfit\u001b[0m\u001b[0;34m(\u001b[0m\u001b[0mx_train\u001b[0m\u001b[0;34m,\u001b[0m \u001b[0my_train\u001b[0m\u001b[0;34m)\u001b[0m\u001b[0;34m\u001b[0m\u001b[0;34m\u001b[0m\u001b[0m\n\u001b[0m",
      "\u001b[0;31mNameError\u001b[0m: name 'x_train' is not defined"
     ]
    }
   ],
   "source": [
    "dtc = DecisionTreeClassifier()\n",
    "dtc.fit(x_train, y_train)"
   ]
  },
  {
   "cell_type": "code",
   "execution_count": 58,
   "metadata": {
    "colab": {
     "base_uri": "https://localhost:8080/",
     "height": 51
    },
    "colab_type": "code",
    "executionInfo": {
     "elapsed": 571,
     "status": "ok",
     "timestamp": 1588537594882,
     "user": {
      "displayName": "Kevin McManus",
      "photoUrl": "https://lh3.googleusercontent.com/a-/AOh14GgwMjEuJarceAV9suB6UiTnSaIG6DRyBo2IeQ9r0g=s64",
      "userId": "04016601920382855806"
     },
     "user_tz": 360
    },
    "id": "ZhzX5sraNidk",
    "outputId": "8b69fc9e-cc86-4e97-8372-4380906bd7ee"
   },
   "outputs": [
    {
     "ename": "NameError",
     "evalue": "name 'x_train' is not defined",
     "output_type": "error",
     "traceback": [
      "\u001b[0;31m---------------------------------------------------------------------------\u001b[0m",
      "\u001b[0;31mNameError\u001b[0m                                 Traceback (most recent call last)",
      "\u001b[0;32m<ipython-input-58-d19370d93c18>\u001b[0m in \u001b[0;36m<module>\u001b[0;34m\u001b[0m\n\u001b[1;32m      1\u001b[0m \u001b[0;31m# calculate prediction accuracy on the dev set\u001b[0m\u001b[0;34m\u001b[0m\u001b[0;34m\u001b[0m\u001b[0;34m\u001b[0m\u001b[0m\n\u001b[0;32m----> 2\u001b[0;31m \u001b[0mpred_dtc_train\u001b[0m \u001b[0;34m=\u001b[0m \u001b[0mdtc\u001b[0m\u001b[0;34m.\u001b[0m\u001b[0mpredict\u001b[0m\u001b[0;34m(\u001b[0m\u001b[0mx_train\u001b[0m\u001b[0;34m)\u001b[0m\u001b[0;34m\u001b[0m\u001b[0;34m\u001b[0m\u001b[0m\n\u001b[0m\u001b[1;32m      3\u001b[0m \u001b[0macc_dtc_train\u001b[0m \u001b[0;34m=\u001b[0m \u001b[0maccuracy_score\u001b[0m\u001b[0;34m(\u001b[0m\u001b[0my_train\u001b[0m\u001b[0;34m,\u001b[0m \u001b[0mpred_dtc_train\u001b[0m\u001b[0;34m)\u001b[0m\u001b[0;34m\u001b[0m\u001b[0;34m\u001b[0m\u001b[0m\n\u001b[1;32m      4\u001b[0m \u001b[0;34m\u001b[0m\u001b[0m\n\u001b[1;32m      5\u001b[0m \u001b[0;31m#calculate prediction accuracy on the validation set\u001b[0m\u001b[0;34m\u001b[0m\u001b[0;34m\u001b[0m\u001b[0;34m\u001b[0m\u001b[0m\n",
      "\u001b[0;31mNameError\u001b[0m: name 'x_train' is not defined"
     ]
    }
   ],
   "source": [
    "# calculate prediction accuracy on the dev set\n",
    "pred_dtc_train = dtc.predict(x_train)\n",
    "acc_dtc_train = accuracy_score(y_train, pred_dtc_train)\n",
    "\n",
    "#calculate prediction accuracy on the validation set\n",
    "pred_dtc_val = dtc.predict(x_val)\n",
    "acc_dtc_val = accuracy_score(y_val, pred_dtc_val)\n",
    "\n",
    "print('DTC Training Set Accuracy: ', acc_dtc_train)\n",
    "print('DTC Validation Set Accuracy: ', acc_dtc_val)"
   ]
  },
  {
   "cell_type": "markdown",
   "metadata": {
    "colab_type": "text",
    "id": "Z-gIc4-bRj9W"
   },
   "source": [
    "## Ensemble"
   ]
  },
  {
   "cell_type": "code",
   "execution_count": 59,
   "metadata": {
    "colab": {},
    "colab_type": "code",
    "id": "nvt1mnPrRiVn"
   },
   "outputs": [],
   "source": [
    "def ensemble(modlist, X):\n",
    "  \"\"\"\n",
    "  only works for binary classifiers\n",
    "  \"\"\"\n",
    "  thresh = np.ceil(len(modlist)/2.0)\n",
    "  yhat = np.array([m.predict(X) for m in modlist])\n",
    "  yhat_ens = np.where(yhat.sum(axis=0)>=thresh,1,0)\n",
    "  return yhat_ens\n"
   ]
  },
  {
   "cell_type": "code",
   "execution_count": 60,
   "metadata": {
    "colab": {},
    "colab_type": "code",
    "id": "d6DL5-TtTcFy"
   },
   "outputs": [],
   "source": [
    "modlist = [logit_model, neighbors, dtc]"
   ]
  },
  {
   "cell_type": "code",
   "execution_count": 61,
   "metadata": {
    "colab": {
     "base_uri": "https://localhost:8080/",
     "height": 51
    },
    "colab_type": "code",
    "executionInfo": {
     "elapsed": 623,
     "status": "ok",
     "timestamp": 1588542373328,
     "user": {
      "displayName": "Kevin McManus",
      "photoUrl": "https://lh3.googleusercontent.com/a-/AOh14GgwMjEuJarceAV9suB6UiTnSaIG6DRyBo2IeQ9r0g=s64",
      "userId": "04016601920382855806"
     },
     "user_tz": 360
    },
    "id": "mFI4sOVzULy2",
    "outputId": "25758b7a-2ed9-4fb4-e6a1-1055c0cb51c9"
   },
   "outputs": [
    {
     "ename": "NameError",
     "evalue": "name 'x_train' is not defined",
     "output_type": "error",
     "traceback": [
      "\u001b[0;31m---------------------------------------------------------------------------\u001b[0m",
      "\u001b[0;31mNameError\u001b[0m                                 Traceback (most recent call last)",
      "\u001b[0;32m<ipython-input-61-1b1ec96765f5>\u001b[0m in \u001b[0;36m<module>\u001b[0;34m\u001b[0m\n\u001b[1;32m      1\u001b[0m \u001b[0;31m# calculate prediction accuracy on the dev set\u001b[0m\u001b[0;34m\u001b[0m\u001b[0;34m\u001b[0m\u001b[0;34m\u001b[0m\u001b[0m\n\u001b[0;32m----> 2\u001b[0;31m \u001b[0mpred_ens_train\u001b[0m \u001b[0;34m=\u001b[0m \u001b[0mensemble\u001b[0m\u001b[0;34m(\u001b[0m\u001b[0mmodlist\u001b[0m\u001b[0;34m,\u001b[0m \u001b[0mx_train\u001b[0m\u001b[0;34m)\u001b[0m\u001b[0;34m\u001b[0m\u001b[0;34m\u001b[0m\u001b[0m\n\u001b[0m\u001b[1;32m      3\u001b[0m \u001b[0macc_ens_train\u001b[0m \u001b[0;34m=\u001b[0m \u001b[0maccuracy_score\u001b[0m\u001b[0;34m(\u001b[0m\u001b[0my_train\u001b[0m\u001b[0;34m,\u001b[0m \u001b[0mpred_ens_train\u001b[0m\u001b[0;34m)\u001b[0m\u001b[0;34m\u001b[0m\u001b[0;34m\u001b[0m\u001b[0m\n\u001b[1;32m      4\u001b[0m \u001b[0;34m\u001b[0m\u001b[0m\n\u001b[1;32m      5\u001b[0m \u001b[0;31m#calculate prediction accuracy on the validation set\u001b[0m\u001b[0;34m\u001b[0m\u001b[0;34m\u001b[0m\u001b[0;34m\u001b[0m\u001b[0m\n",
      "\u001b[0;31mNameError\u001b[0m: name 'x_train' is not defined"
     ]
    }
   ],
   "source": [
    "# calculate prediction accuracy on the dev set\n",
    "pred_ens_train = ensemble(modlist, x_train)\n",
    "acc_ens_train = accuracy_score(y_train, pred_ens_train)\n",
    "\n",
    "#calculate prediction accuracy on the validation set\n",
    "pred_ens_val = ensemble(modlist, x_val)\n",
    "acc_ens_val = accuracy_score(y_val, pred_ens_val)\n",
    "\n",
    "print('ENS Training Set Accuracy: ', acc_ens_train)\n",
    "print('ENS Validation Set Accuracy: ', acc_ens_val)"
   ]
  },
  {
   "cell_type": "code",
   "execution_count": 62,
   "metadata": {
    "colab": {
     "base_uri": "https://localhost:8080/",
     "height": 51
    },
    "colab_type": "code",
    "executionInfo": {
     "elapsed": 947,
     "status": "ok",
     "timestamp": 1588542377921,
     "user": {
      "displayName": "Kevin McManus",
      "photoUrl": "https://lh3.googleusercontent.com/a-/AOh14GgwMjEuJarceAV9suB6UiTnSaIG6DRyBo2IeQ9r0g=s64",
      "userId": "04016601920382855806"
     },
     "user_tz": 360
    },
    "id": "O09xkPh2WAPu",
    "outputId": "7edaf3e8-1cc1-4768-8d6e-2a2ca49cbede"
   },
   "outputs": [
    {
     "ename": "NameError",
     "evalue": "name 'y_val' is not defined",
     "output_type": "error",
     "traceback": [
      "\u001b[0;31m---------------------------------------------------------------------------\u001b[0m",
      "\u001b[0;31mNameError\u001b[0m                                 Traceback (most recent call last)",
      "\u001b[0;32m<ipython-input-62-faaa132df0b9>\u001b[0m in \u001b[0;36m<module>\u001b[0;34m\u001b[0m\n\u001b[0;32m----> 1\u001b[0;31m \u001b[0mconfusion_matrix\u001b[0m\u001b[0;34m(\u001b[0m\u001b[0my_val\u001b[0m\u001b[0;34m,\u001b[0m \u001b[0mpred_ens_val\u001b[0m\u001b[0;34m)\u001b[0m\u001b[0;34m\u001b[0m\u001b[0;34m\u001b[0m\u001b[0m\n\u001b[0m",
      "\u001b[0;31mNameError\u001b[0m: name 'y_val' is not defined"
     ]
    }
   ],
   "source": [
    "confusion_matrix(y_val, pred_ens_val)"
   ]
  },
  {
   "cell_type": "code",
   "execution_count": 63,
   "metadata": {
    "colab": {},
    "colab_type": "code",
    "id": "HX_JDNnVWpwQ"
   },
   "outputs": [
    {
     "ename": "NameError",
     "evalue": "name 'y_val' is not defined",
     "output_type": "error",
     "traceback": [
      "\u001b[0;31m---------------------------------------------------------------------------\u001b[0m",
      "\u001b[0;31mNameError\u001b[0m                                 Traceback (most recent call last)",
      "\u001b[0;32m<ipython-input-63-532ec94533e5>\u001b[0m in \u001b[0;36m<module>\u001b[0;34m\u001b[0m\n\u001b[0;32m----> 1\u001b[0;31m confusion = pd.DataFrame([confusion_matrix(y_val, pred_ovr_val).flatten(),\n\u001b[0m\u001b[1;32m      2\u001b[0m                           \u001b[0mconfusion_matrix\u001b[0m\u001b[0;34m(\u001b[0m\u001b[0my_val\u001b[0m\u001b[0;34m,\u001b[0m \u001b[0mpred_knn_val\u001b[0m\u001b[0;34m)\u001b[0m\u001b[0;34m.\u001b[0m\u001b[0mflatten\u001b[0m\u001b[0;34m(\u001b[0m\u001b[0;34m)\u001b[0m\u001b[0;34m,\u001b[0m\u001b[0;34m\u001b[0m\u001b[0;34m\u001b[0m\u001b[0m\n\u001b[1;32m      3\u001b[0m                           \u001b[0mconfusion_matrix\u001b[0m\u001b[0;34m(\u001b[0m\u001b[0my_val\u001b[0m\u001b[0;34m,\u001b[0m \u001b[0mpred_dtc_val\u001b[0m\u001b[0;34m)\u001b[0m\u001b[0;34m.\u001b[0m\u001b[0mflatten\u001b[0m\u001b[0;34m(\u001b[0m\u001b[0;34m)\u001b[0m\u001b[0;34m,\u001b[0m\u001b[0;34m\u001b[0m\u001b[0;34m\u001b[0m\u001b[0m\n\u001b[1;32m      4\u001b[0m                           confusion_matrix(y_val, pred_ens_val).flatten()],\n\u001b[1;32m      5\u001b[0m                     \u001b[0mindex\u001b[0m\u001b[0;34m=\u001b[0m\u001b[0;34m[\u001b[0m\u001b[0;34m'LogitRegr'\u001b[0m\u001b[0;34m,\u001b[0m\u001b[0;34m'KNN'\u001b[0m\u001b[0;34m,\u001b[0m \u001b[0;34m'DTC'\u001b[0m\u001b[0;34m,\u001b[0m \u001b[0;34m'Ens'\u001b[0m\u001b[0;34m]\u001b[0m\u001b[0;34m,\u001b[0m\u001b[0;34m\u001b[0m\u001b[0;34m\u001b[0m\u001b[0m\n",
      "\u001b[0;31mNameError\u001b[0m: name 'y_val' is not defined"
     ]
    }
   ],
   "source": [
    "confusion = pd.DataFrame([confusion_matrix(y_val, pred_ovr_val).flatten(),\n",
    "                          confusion_matrix(y_val, pred_knn_val).flatten(),\n",
    "                          confusion_matrix(y_val, pred_dtc_val).flatten(),\n",
    "                          confusion_matrix(y_val, pred_ens_val).flatten()],\n",
    "                    index=['LogitRegr','KNN', 'DTC', 'Ens'],\n",
    "                    columns = ['Tpos','Fneg','Fpos','Tneg'])"
   ]
  },
  {
   "cell_type": "code",
   "execution_count": 65,
   "metadata": {
    "colab": {
     "base_uri": "https://localhost:8080/",
     "height": 173
    },
    "colab_type": "code",
    "executionInfo": {
     "elapsed": 851,
     "status": "ok",
     "timestamp": 1588542380766,
     "user": {
      "displayName": "Kevin McManus",
      "photoUrl": "https://lh3.googleusercontent.com/a-/AOh14GgwMjEuJarceAV9suB6UiTnSaIG6DRyBo2IeQ9r0g=s64",
      "userId": "04016601920382855806"
     },
     "user_tz": 360
    },
    "id": "HxG98t4UYGA6",
    "outputId": "e3298bd2-ddcb-40d6-8c00-ca85255a42bf"
   },
   "outputs": [
    {
     "ename": "NameError",
     "evalue": "name 'confusion' is not defined",
     "output_type": "error",
     "traceback": [
      "\u001b[0;31m---------------------------------------------------------------------------\u001b[0m",
      "\u001b[0;31mNameError\u001b[0m                                 Traceback (most recent call last)",
      "\u001b[0;32m<ipython-input-65-b5fa23be01dc>\u001b[0m in \u001b[0;36m<module>\u001b[0;34m\u001b[0m\n\u001b[0;32m----> 1\u001b[0;31m \u001b[0mconfusion\u001b[0m\u001b[0;34m\u001b[0m\u001b[0;34m\u001b[0m\u001b[0m\n\u001b[0m",
      "\u001b[0;31mNameError\u001b[0m: name 'confusion' is not defined"
     ]
    }
   ],
   "source": [
    "confusion"
   ]
  },
  {
   "cell_type": "code",
   "execution_count": 66,
   "metadata": {
    "colab": {
     "base_uri": "https://localhost:8080/",
     "height": 34
    },
    "colab_type": "code",
    "executionInfo": {
     "elapsed": 555,
     "status": "ok",
     "timestamp": 1588542302716,
     "user": {
      "displayName": "Kevin McManus",
      "photoUrl": "https://lh3.googleusercontent.com/a-/AOh14GgwMjEuJarceAV9suB6UiTnSaIG6DRyBo2IeQ9r0g=s64",
      "userId": "04016601920382855806"
     },
     "user_tz": 360
    },
    "id": "0TRCJrYxT6OU",
    "outputId": "500085a6-527f-4d0a-8095-ace5c475188e"
   },
   "outputs": [
    {
     "ename": "NameError",
     "evalue": "name 'acc_ens_train' is not defined",
     "output_type": "error",
     "traceback": [
      "\u001b[0;31m---------------------------------------------------------------------------\u001b[0m",
      "\u001b[0;31mNameError\u001b[0m                                 Traceback (most recent call last)",
      "\u001b[0;32m<ipython-input-66-6e9169bb6b42>\u001b[0m in \u001b[0;36m<module>\u001b[0;34m\u001b[0m\n\u001b[0;32m----> 1\u001b[0;31m \u001b[0macc_ens_train\u001b[0m\u001b[0;34m.\u001b[0m\u001b[0mshape\u001b[0m\u001b[0;34m,\u001b[0m \u001b[0mpred_dtc_train\u001b[0m\u001b[0;34m.\u001b[0m\u001b[0mshape\u001b[0m\u001b[0;34m\u001b[0m\u001b[0;34m\u001b[0m\u001b[0m\n\u001b[0m",
      "\u001b[0;31mNameError\u001b[0m: name 'acc_ens_train' is not defined"
     ]
    }
   ],
   "source": [
    "acc_ens_train.shape, pred_dtc_train.shape"
   ]
  },
  {
   "cell_type": "code",
   "execution_count": 67,
   "metadata": {
    "colab": {
     "base_uri": "https://localhost:8080/",
     "height": 298
    },
    "colab_type": "code",
    "executionInfo": {
     "elapsed": 584,
     "status": "ok",
     "timestamp": 1588542391369,
     "user": {
      "displayName": "Kevin McManus",
      "photoUrl": "https://lh3.googleusercontent.com/a-/AOh14GgwMjEuJarceAV9suB6UiTnSaIG6DRyBo2IeQ9r0g=s64",
      "userId": "04016601920382855806"
     },
     "user_tz": 360
    },
    "id": "WRIBp06PPp-q",
    "outputId": "5f77ccd4-177c-4fc5-fa25-0a672981fad7"
   },
   "outputs": [
    {
     "ename": "NameError",
     "evalue": "name 'acc_ovr_train' is not defined",
     "output_type": "error",
     "traceback": [
      "\u001b[0;31m---------------------------------------------------------------------------\u001b[0m",
      "\u001b[0;31mNameError\u001b[0m                                 Traceback (most recent call last)",
      "\u001b[0;32m<ipython-input-67-1b77c7e5c6a9>\u001b[0m in \u001b[0;36m<module>\u001b[0;34m\u001b[0m\n\u001b[0;32m----> 1\u001b[0;31m \u001b[0mtrain_acc\u001b[0m \u001b[0;34m=\u001b[0m \u001b[0;34m(\u001b[0m\u001b[0macc_ovr_train\u001b[0m\u001b[0;34m,\u001b[0m \u001b[0macc_knn_train\u001b[0m\u001b[0;34m,\u001b[0m \u001b[0macc_dtc_train\u001b[0m\u001b[0;34m,\u001b[0m \u001b[0macc_ens_train\u001b[0m\u001b[0;34m)\u001b[0m\u001b[0;34m\u001b[0m\u001b[0;34m\u001b[0m\u001b[0m\n\u001b[0m\u001b[1;32m      2\u001b[0m \u001b[0mval_acc\u001b[0m \u001b[0;34m=\u001b[0m \u001b[0;34m(\u001b[0m\u001b[0macc_ovr_val\u001b[0m\u001b[0;34m,\u001b[0m \u001b[0macc_knn_val\u001b[0m\u001b[0;34m,\u001b[0m \u001b[0macc_dtc_val\u001b[0m\u001b[0;34m,\u001b[0m \u001b[0macc_ens_val\u001b[0m\u001b[0;34m)\u001b[0m\u001b[0;34m\u001b[0m\u001b[0;34m\u001b[0m\u001b[0m\n\u001b[1;32m      3\u001b[0m \u001b[0;34m\u001b[0m\u001b[0m\n\u001b[1;32m      4\u001b[0m \u001b[0mind\u001b[0m \u001b[0;34m=\u001b[0m \u001b[0mnp\u001b[0m\u001b[0;34m.\u001b[0m\u001b[0marange\u001b[0m\u001b[0;34m(\u001b[0m\u001b[0mlen\u001b[0m\u001b[0;34m(\u001b[0m\u001b[0mtrain_acc\u001b[0m\u001b[0;34m)\u001b[0m\u001b[0;34m)\u001b[0m  \u001b[0;31m# the x locations for the groups\u001b[0m\u001b[0;34m\u001b[0m\u001b[0;34m\u001b[0m\u001b[0m\n\u001b[1;32m      5\u001b[0m \u001b[0mwidth\u001b[0m \u001b[0;34m=\u001b[0m \u001b[0;36m0.35\u001b[0m  \u001b[0;31m# the width of the bars\u001b[0m\u001b[0;34m\u001b[0m\u001b[0;34m\u001b[0m\u001b[0m\n",
      "\u001b[0;31mNameError\u001b[0m: name 'acc_ovr_train' is not defined"
     ]
    }
   ],
   "source": [
    "train_acc = (acc_ovr_train, acc_knn_train, acc_dtc_train, acc_ens_train)\n",
    "val_acc = (acc_ovr_val, acc_knn_val, acc_dtc_val, acc_ens_val)\n",
    "\n",
    "ind = np.arange(len(train_acc))  # the x locations for the groups\n",
    "width = 0.35  # the width of the bars\n",
    "\n",
    "fig, ax = plt.subplots()\n",
    "rects1 = ax.bar(ind - width/2, train_acc, width, \n",
    "                label='Training')\n",
    "rects2 = ax.bar(ind + width/2, val_acc, width, \n",
    "                label='Validation')\n",
    "\n",
    "# Add some text for labels, title and custom x-axis tick labels, etc.\n",
    "ax.set_ylabel('Scores')\n",
    "ax.set_title('Scores by Method and Partition')\n",
    "ax.set_xticks(ind)\n",
    "ax.set_xticklabels(('LogitRegr', 'KNN', 'DecisionTree', 'Ensemble'))\n",
    "ax.legend()"
   ]
  },
  {
   "cell_type": "markdown",
   "metadata": {
    "colab_type": "text",
    "id": "Dn9cv1mE5L91"
   },
   "source": [
    "# Old Stuff"
   ]
  },
  {
   "cell_type": "code",
   "execution_count": 68,
   "metadata": {
    "colab": {},
    "colab_type": "code",
    "id": "P9fwsP_hSN8h"
   },
   "outputs": [],
   "source": [
    "def get_stars(ra, dec, rad=2.0*u.degree):\n",
    "    query_text = \"SELECT  \\\n",
    "                random_index, ra, dec, parallax, pmra, pmdec, radial_velocity,\\\n",
    "                phot_g_mean_mag, phot_bp_mean_mag, phot_rp_mean_mag, teff_val, radius_val, lum_val \\\n",
    "                FROM gaiadr2.gaia_source \\\n",
    "            WHERE CONTAINS(POINT('ICRS',gaiadr2.gaia_source.ra,gaiadr2.gaia_source.dec), \\\n",
    "                    CIRCLE('ICRS',{ra},{dec},{rad}))=1 \\\n",
    "                    and parallax_over_error > 5 \".format(ra=ra.value, dec=dec.value, rad=rad.value)\n",
    "                    #--AND abs(pmra_error/pmra)<0.10 \\\n",
    "                    #--AND abs(pmdec_error/pmdec)<0.10 \\\n",
    "                    #--AND pmra IS NOT NULL AND abs(pmra)>0 \\\n",
    "                    #--AND pmdec IS NOT NULL AND abs(pmdec)>0 \\\n",
    "                    #--and parallax IS NOT NULL and parallax > 0\".format(ra=ra.value, dec=dec.value, rad=rad.value)\n",
    "    \n",
    "    job = Gaia.launch_job_async(query_text)\n",
    "    gaia_data = job.get_results()\n",
    "\n",
    "    result_dict = {}\n",
    "    result_dict['dist'] = coord.Distance(parallax=u.Quantity(gaia_data['parallax']),allow_negative=True)\n",
    "    result_dict['coord']=  coord.SkyCoord(ra=gaia_data['ra'],\n",
    "                   dec=gaia_data['dec'],\n",
    "                   distance=result_dict['dist'],\n",
    "                   pm_ra_cosdec=gaia_data['pmra'],\n",
    "                   pm_dec=gaia_data['pmdec'],\n",
    "                   radial_velocity=gaia_data['radial_velocity'])\n",
    "    result_dict['M_G'] = gaia_data['phot_g_mean_mag'] - result_dict['dist'].distmod\n",
    "    result_dict['BP_RP'] = gaia_data['phot_bp_mean_mag'] - gaia_data['phot_rp_mean_mag']\n",
    "    \n",
    "    result_dict['data'] = gaia_data.to_pandas()\n",
    "\n",
    "    return result_dict"
   ]
  },
  {
   "cell_type": "code",
   "execution_count": 69,
   "metadata": {
    "colab": {},
    "colab_type": "code",
    "id": "qda9_SXMSN8k"
   },
   "outputs": [],
   "source": [
    "#don't execute this query\n",
    "#clust = get_stars(alf_per.ra, alf_per.dec)"
   ]
  },
  {
   "cell_type": "code",
   "execution_count": 70,
   "metadata": {
    "colab": {},
    "colab_type": "code",
    "id": "tSpzBZWhSN8n"
   },
   "outputs": [],
   "source": [
    "#nor this\n",
    "#len(clust['data'])"
   ]
  },
  {
   "cell_type": "code",
   "execution_count": 71,
   "metadata": {
    "colab": {},
    "colab_type": "code",
    "id": "52r1uMLFqtLO"
   },
   "outputs": [
    {
     "ename": "FileNotFoundError",
     "evalue": "[Errno 2] No such file or directory: './gdrive/My Drive/cas-tau/Cass-Tau/data/J_A+A_628_A66/colnames.txt'",
     "output_type": "error",
     "traceback": [
      "\u001b[0;31m---------------------------------------------------------------------------\u001b[0m",
      "\u001b[0;31mFileNotFoundError\u001b[0m                         Traceback (most recent call last)",
      "\u001b[0;32m<ipython-input-71-a26c8de48095>\u001b[0m in \u001b[0;36m<module>\u001b[0;34m\u001b[0m\n\u001b[1;32m      1\u001b[0m \u001b[0;31m# the file colnames.txt extracted from Readme.txt that came with the archive.  Provides column names for the alpha_per and pleiades data sets\u001b[0m\u001b[0;34m\u001b[0m\u001b[0;34m\u001b[0m\u001b[0;34m\u001b[0m\u001b[0m\n\u001b[1;32m      2\u001b[0m \u001b[0mcolnames_txt_path\u001b[0m \u001b[0;34m=\u001b[0m \u001b[0;34m'./gdrive/My Drive/cas-tau/Cass-Tau/data/J_A+A_628_A66/colnames.txt'\u001b[0m\u001b[0;34m\u001b[0m\u001b[0;34m\u001b[0m\u001b[0m\n\u001b[0;32m----> 3\u001b[0;31m \u001b[0;32mwith\u001b[0m \u001b[0mopen\u001b[0m\u001b[0;34m(\u001b[0m\u001b[0mcolnames_txt_path\u001b[0m\u001b[0;34m,\u001b[0m\u001b[0;34m'r'\u001b[0m\u001b[0;34m)\u001b[0m \u001b[0;32mas\u001b[0m \u001b[0mf\u001b[0m\u001b[0;34m:\u001b[0m\u001b[0;34m\u001b[0m\u001b[0;34m\u001b[0m\u001b[0m\n\u001b[0m\u001b[1;32m      4\u001b[0m     \u001b[0mcolnames_txt\u001b[0m \u001b[0;34m=\u001b[0m \u001b[0mf\u001b[0m\u001b[0;34m.\u001b[0m\u001b[0mreadlines\u001b[0m\u001b[0;34m(\u001b[0m\u001b[0;34m)\u001b[0m\u001b[0;34m\u001b[0m\u001b[0;34m\u001b[0m\u001b[0m\n\u001b[1;32m      5\u001b[0m \u001b[0mcolnames\u001b[0m \u001b[0;34m=\u001b[0m \u001b[0;34m[\u001b[0m\u001b[0ms\u001b[0m\u001b[0;34m.\u001b[0m\u001b[0mstrip\u001b[0m\u001b[0;34m(\u001b[0m\u001b[0;34m)\u001b[0m \u001b[0;32mfor\u001b[0m \u001b[0ms\u001b[0m \u001b[0;32min\u001b[0m \u001b[0mcolnames_txt\u001b[0m\u001b[0;34m]\u001b[0m\u001b[0;34m\u001b[0m\u001b[0;34m\u001b[0m\u001b[0m\n",
      "\u001b[0;31mFileNotFoundError\u001b[0m: [Errno 2] No such file or directory: './gdrive/My Drive/cas-tau/Cass-Tau/data/J_A+A_628_A66/colnames.txt'"
     ]
    }
   ],
   "source": [
    "# the file colnames.txt extracted from Readme.txt that came with the archive.  Provides column names for the alpha_per and pleiades data sets\n",
    "colnames_txt_path = './gdrive/My Drive/cas-tau/Cass-Tau/data/J_A+A_628_A66/colnames.txt'\n",
    "with open(colnames_txt_path,'r') as f:\n",
    "    colnames_txt = f.readlines()\n",
    "colnames = [s.strip() for s in colnames_txt]\n",
    "colnames = [s for s in colnames if s] #ditch the blanks"
   ]
  },
  {
   "cell_type": "code",
   "execution_count": 72,
   "metadata": {
    "colab": {},
    "colab_type": "code",
    "id": "qUm3OaDgrbzA"
   },
   "outputs": [
    {
     "ename": "NameError",
     "evalue": "name 'colnames' is not defined",
     "output_type": "error",
     "traceback": [
      "\u001b[0;31m---------------------------------------------------------------------------\u001b[0m",
      "\u001b[0;31mNameError\u001b[0m                                 Traceback (most recent call last)",
      "\u001b[0;32m<ipython-input-72-3741ade32d35>\u001b[0m in \u001b[0;36m<module>\u001b[0;34m\u001b[0m\n\u001b[1;32m      2\u001b[0m \u001b[0mpath\u001b[0m \u001b[0;34m=\u001b[0m \u001b[0;34m'./gdrive/My Drive/cas-tau/Cass-Tau/data/J_A+A_628_A66/alphaper.dat'\u001b[0m\u001b[0;34m\u001b[0m\u001b[0;34m\u001b[0m\u001b[0m\n\u001b[1;32m      3\u001b[0m alpha_per = pd.read_csv(path, delim_whitespace=True, error_bad_lines=False, warn_bad_lines=True,\n\u001b[0;32m----> 4\u001b[0;31m                         header=None,usecols=range(len(colnames)), names=colnames)\n\u001b[0m\u001b[1;32m      5\u001b[0m \u001b[0mpath\u001b[0m \u001b[0;34m=\u001b[0m \u001b[0;34m'./gdrive/My Drive/cas-tau/Cass-Tau/data/J_A+A_628_A66/pleiades.dat'\u001b[0m\u001b[0;34m\u001b[0m\u001b[0;34m\u001b[0m\u001b[0m\n\u001b[1;32m      6\u001b[0m pleiades = pd.read_csv(path, delim_whitespace=True, error_bad_lines=False, warn_bad_lines=True,\n",
      "\u001b[0;31mNameError\u001b[0m: name 'colnames' is not defined"
     ]
    }
   ],
   "source": [
    "# read up the two data files\n",
    "path = './gdrive/My Drive/cas-tau/Cass-Tau/data/J_A+A_628_A66/alphaper.dat'\n",
    "alpha_per = pd.read_csv(path, delim_whitespace=True, error_bad_lines=False, warn_bad_lines=True,\n",
    "                        header=None,usecols=range(len(colnames)), names=colnames)\n",
    "path = './gdrive/My Drive/cas-tau/Cass-Tau/data/J_A+A_628_A66/pleiades.dat'\n",
    "pleiades = pd.read_csv(path, delim_whitespace=True, error_bad_lines=False, warn_bad_lines=True,\n",
    "                        header=None,usecols=range(len(colnames)), names=colnames)"
   ]
  },
  {
   "cell_type": "code",
   "execution_count": 73,
   "metadata": {
    "colab": {},
    "colab_type": "code",
    "id": "sRfoUUu4r8dC"
   },
   "outputs": [
    {
     "ename": "AttributeError",
     "evalue": "'fieldstars' object has no attribute 'info'",
     "output_type": "error",
     "traceback": [
      "\u001b[0;31m---------------------------------------------------------------------------\u001b[0m",
      "\u001b[0;31mAttributeError\u001b[0m                            Traceback (most recent call last)",
      "\u001b[0;32m<ipython-input-73-8652df7ea58a>\u001b[0m in \u001b[0;36m<module>\u001b[0;34m\u001b[0m\n\u001b[0;32m----> 1\u001b[0;31m \u001b[0malpha_per\u001b[0m\u001b[0;34m.\u001b[0m\u001b[0minfo\u001b[0m\u001b[0;34m(\u001b[0m\u001b[0;34m)\u001b[0m\u001b[0;34m\u001b[0m\u001b[0;34m\u001b[0m\u001b[0m\n\u001b[0m",
      "\u001b[0;31mAttributeError\u001b[0m: 'fieldstars' object has no attribute 'info'"
     ]
    }
   ],
   "source": [
    "alpha_per.info()"
   ]
  },
  {
   "cell_type": "code",
   "execution_count": 74,
   "metadata": {
    "colab": {
     "base_uri": "https://localhost:8080/",
     "height": 34
    },
    "colab_type": "code",
    "executionInfo": {
     "elapsed": 999,
     "status": "ok",
     "timestamp": 1588210072032,
     "user": {
      "displayName": "Kevin McManus",
      "photoUrl": "https://lh3.googleusercontent.com/a-/AOh14GgwMjEuJarceAV9suB6UiTnSaIG6DRyBo2IeQ9r0g=s64",
      "userId": "04016601920382855806"
     },
     "user_tz": 360
    },
    "id": "ylui0pLSsOMy",
    "outputId": "2099fdc6-2679-4123-ff93-779f84219df7"
   },
   "outputs": [
    {
     "ename": "AttributeError",
     "evalue": "'fieldstars' object has no attribute 'RVCP'",
     "output_type": "error",
     "traceback": [
      "\u001b[0;31m---------------------------------------------------------------------------\u001b[0m",
      "\u001b[0;31mAttributeError\u001b[0m                            Traceback (most recent call last)",
      "\u001b[0;32m<ipython-input-74-bda58df68830>\u001b[0m in \u001b[0;36m<module>\u001b[0;34m\u001b[0m\n\u001b[0;32m----> 1\u001b[0;31m \u001b[0;34m(\u001b[0m\u001b[0malpha_per\u001b[0m\u001b[0;34m.\u001b[0m\u001b[0mRVCP\u001b[0m\u001b[0;34m==\u001b[0m\u001b[0;34m-\u001b[0m\u001b[0;36m9999.0\u001b[0m\u001b[0;34m)\u001b[0m\u001b[0;34m.\u001b[0m\u001b[0msum\u001b[0m\u001b[0;34m(\u001b[0m\u001b[0;34m)\u001b[0m\u001b[0;34m/\u001b[0m\u001b[0mlen\u001b[0m\u001b[0;34m(\u001b[0m\u001b[0malpha_per\u001b[0m\u001b[0;34m)\u001b[0m\u001b[0;34m\u001b[0m\u001b[0;34m\u001b[0m\u001b[0m\n\u001b[0m",
      "\u001b[0;31mAttributeError\u001b[0m: 'fieldstars' object has no attribute 'RVCP'"
     ]
    }
   ],
   "source": [
    "(alpha_per.RVCP==-9999.0).sum()/len(alpha_per)"
   ]
  },
  {
   "cell_type": "code",
   "execution_count": 75,
   "metadata": {
    "colab": {
     "base_uri": "https://localhost:8080/",
     "height": 421
    },
    "colab_type": "code",
    "executionInfo": {
     "elapsed": 1029,
     "status": "ok",
     "timestamp": 1588213630738,
     "user": {
      "displayName": "Kevin McManus",
      "photoUrl": "https://lh3.googleusercontent.com/a-/AOh14GgwMjEuJarceAV9suB6UiTnSaIG6DRyBo2IeQ9r0g=s64",
      "userId": "04016601920382855806"
     },
     "user_tz": 360
    },
    "id": "efjTmsp7SN8r",
    "outputId": "4f594004-171f-46b0-ea45-8aee5f11aaa9"
   },
   "outputs": [
    {
     "ename": "AttributeError",
     "evalue": "'fieldstars' object has no attribute 'rest'",
     "output_type": "error",
     "traceback": [
      "\u001b[0;31m---------------------------------------------------------------------------\u001b[0m",
      "\u001b[0;31mAttributeError\u001b[0m                            Traceback (most recent call last)",
      "\u001b[0;32m<ipython-input-75-7be08ba54ade>\u001b[0m in \u001b[0;36m<module>\u001b[0;34m\u001b[0m\n\u001b[1;32m      1\u001b[0m \u001b[0mfig\u001b[0m\u001b[0;34m,\u001b[0m \u001b[0max\u001b[0m \u001b[0;34m=\u001b[0m \u001b[0mplt\u001b[0m\u001b[0;34m.\u001b[0m\u001b[0msubplots\u001b[0m\u001b[0;34m(\u001b[0m\u001b[0;36m1\u001b[0m\u001b[0;34m,\u001b[0m \u001b[0;36m1\u001b[0m\u001b[0;34m,\u001b[0m \u001b[0mfigsize\u001b[0m\u001b[0;34m=\u001b[0m\u001b[0;34m(\u001b[0m\u001b[0;36m6\u001b[0m\u001b[0;34m,\u001b[0m \u001b[0;36m6\u001b[0m\u001b[0;34m)\u001b[0m\u001b[0;34m)\u001b[0m\u001b[0;34m\u001b[0m\u001b[0;34m\u001b[0m\u001b[0m\n\u001b[0;32m----> 2\u001b[0;31m \u001b[0mzz\u001b[0m\u001b[0;34m=\u001b[0m\u001b[0max\u001b[0m\u001b[0;34m.\u001b[0m\u001b[0mhist\u001b[0m\u001b[0;34m(\u001b[0m\u001b[0malpha_per\u001b[0m\u001b[0;34m.\u001b[0m\u001b[0mrest\u001b[0m\u001b[0;34m,\u001b[0m\u001b[0mbins\u001b[0m\u001b[0;34m=\u001b[0m\u001b[0mnp\u001b[0m\u001b[0;34m.\u001b[0m\u001b[0mlinspace\u001b[0m\u001b[0;34m(\u001b[0m\u001b[0;36m0\u001b[0m\u001b[0;34m,\u001b[0m\u001b[0;36m500\u001b[0m\u001b[0;34m,\u001b[0m\u001b[0;36m50\u001b[0m\u001b[0;34m,\u001b[0m \u001b[0mendpoint\u001b[0m\u001b[0;34m=\u001b[0m\u001b[0;32mTrue\u001b[0m\u001b[0;34m)\u001b[0m\u001b[0;34m)\u001b[0m\u001b[0;34m\u001b[0m\u001b[0;34m\u001b[0m\u001b[0m\n\u001b[0m\u001b[1;32m      3\u001b[0m \u001b[0max\u001b[0m\u001b[0;34m.\u001b[0m\u001b[0mset_ylabel\u001b[0m\u001b[0;34m(\u001b[0m\u001b[0;34m'Number of objects'\u001b[0m\u001b[0;34m)\u001b[0m\u001b[0;34m\u001b[0m\u001b[0;34m\u001b[0m\u001b[0m\n\u001b[1;32m      4\u001b[0m \u001b[0mun\u001b[0m \u001b[0;34m=\u001b[0m \u001b[0mu\u001b[0m\u001b[0;34m.\u001b[0m\u001b[0mparsec\u001b[0m\u001b[0;34m\u001b[0m\u001b[0;34m\u001b[0m\u001b[0m\n\u001b[1;32m      5\u001b[0m \u001b[0max\u001b[0m\u001b[0;34m.\u001b[0m\u001b[0mset_xlabel\u001b[0m\u001b[0;34m(\u001b[0m\u001b[0;34mf'Distance ({un})'\u001b[0m\u001b[0;34m)\u001b[0m\u001b[0;34m\u001b[0m\u001b[0;34m\u001b[0m\u001b[0m\n",
      "\u001b[0;31mAttributeError\u001b[0m: 'fieldstars' object has no attribute 'rest'"
     ]
    }
   ],
   "source": [
    "fig, ax = plt.subplots(1, 1, figsize=(6, 6))\n",
    "zz=ax.hist(alpha_per.rest,bins=np.linspace(0,500,50, endpoint=True))\n",
    "ax.set_ylabel('Number of objects')\n",
    "un = u.parsec\n",
    "ax.set_xlabel(f'Distance ({un})')\n",
    "ax.set_title('Distance Histogram')\n",
    "N = len(alpha_per)\n",
    "mode = zz[1][zz[0].argmax()]\n",
    "ax.text(0.60, 0.60,f'N = {N}\\nmodal bucket = {mode:.0f} pc',transform=ax.transAxes)\n",
    "ax.grid(axis='y')\n",
    "ax.axvline(alf_per_dist, color='red',label=r'$\\alpha Per$')\n",
    "ax.legend()"
   ]
  },
  {
   "cell_type": "code",
   "execution_count": 76,
   "metadata": {
    "colab": {
     "base_uri": "https://localhost:8080/",
     "height": 224
    },
    "colab_type": "code",
    "executionInfo": {
     "elapsed": 876,
     "status": "ok",
     "timestamp": 1588119688633,
     "user": {
      "displayName": "Kevin McManus",
      "photoUrl": "https://lh3.googleusercontent.com/a-/AOh14GgwMjEuJarceAV9suB6UiTnSaIG6DRyBo2IeQ9r0g=s64",
      "userId": "04016601920382855806"
     },
     "user_tz": 360
    },
    "id": "h6emy81WSN8u",
    "outputId": "6387c588-bf42-4d30-f212-3eb0956e837d"
   },
   "outputs": [
    {
     "ename": "NameError",
     "evalue": "name 'clust' is not defined",
     "output_type": "error",
     "traceback": [
      "\u001b[0;31m---------------------------------------------------------------------------\u001b[0m",
      "\u001b[0;31mNameError\u001b[0m                                 Traceback (most recent call last)",
      "\u001b[0;32m<ipython-input-76-58768e6f88ac>\u001b[0m in \u001b[0;36m<module>\u001b[0;34m\u001b[0m\n\u001b[0;32m----> 1\u001b[0;31m \u001b[0mclust\u001b[0m\u001b[0;34m[\u001b[0m\u001b[0;34m'data'\u001b[0m\u001b[0;34m]\u001b[0m\u001b[0;34m.\u001b[0m\u001b[0mhead\u001b[0m\u001b[0;34m(\u001b[0m\u001b[0;34m)\u001b[0m\u001b[0;34m\u001b[0m\u001b[0;34m\u001b[0m\u001b[0m\n\u001b[0m",
      "\u001b[0;31mNameError\u001b[0m: name 'clust' is not defined"
     ]
    }
   ],
   "source": [
    "clust['data'].head()"
   ]
  },
  {
   "cell_type": "code",
   "execution_count": 77,
   "metadata": {
    "colab": {
     "base_uri": "https://localhost:8080/",
     "height": 421
    },
    "colab_type": "code",
    "executionInfo": {
     "elapsed": 3067,
     "status": "ok",
     "timestamp": 1588119700064,
     "user": {
      "displayName": "Kevin McManus",
      "photoUrl": "https://lh3.googleusercontent.com/a-/AOh14GgwMjEuJarceAV9suB6UiTnSaIG6DRyBo2IeQ9r0g=s64",
      "userId": "04016601920382855806"
     },
     "user_tz": 360
    },
    "id": "MllNi2KJSN8x",
    "outputId": "6d2b8c4b-9373-4f9b-c661-97d2d4e1551f"
   },
   "outputs": [
    {
     "ename": "NameError",
     "evalue": "name 'clust' is not defined",
     "output_type": "error",
     "traceback": [
      "\u001b[0;31m---------------------------------------------------------------------------\u001b[0m",
      "\u001b[0;31mNameError\u001b[0m                                 Traceback (most recent call last)",
      "\u001b[0;32m<ipython-input-77-c7bf1640ee11>\u001b[0m in \u001b[0;36m<module>\u001b[0;34m\u001b[0m\n\u001b[1;32m      1\u001b[0m \u001b[0mfig\u001b[0m\u001b[0;34m,\u001b[0m \u001b[0max\u001b[0m \u001b[0;34m=\u001b[0m \u001b[0mplt\u001b[0m\u001b[0;34m.\u001b[0m\u001b[0msubplots\u001b[0m\u001b[0;34m(\u001b[0m\u001b[0;36m1\u001b[0m\u001b[0;34m,\u001b[0m \u001b[0;36m2\u001b[0m\u001b[0;34m,\u001b[0m \u001b[0mfigsize\u001b[0m\u001b[0;34m=\u001b[0m\u001b[0;34m(\u001b[0m\u001b[0;36m12\u001b[0m\u001b[0;34m,\u001b[0m \u001b[0;36m6\u001b[0m\u001b[0;34m)\u001b[0m\u001b[0;34m)\u001b[0m\u001b[0;34m\u001b[0m\u001b[0;34m\u001b[0m\u001b[0m\n\u001b[1;32m      2\u001b[0m \u001b[0;34m\u001b[0m\u001b[0m\n\u001b[0;32m----> 3\u001b[0;31m \u001b[0mzz\u001b[0m\u001b[0;34m=\u001b[0m\u001b[0max\u001b[0m\u001b[0;34m[\u001b[0m\u001b[0;36m0\u001b[0m\u001b[0;34m]\u001b[0m\u001b[0;34m.\u001b[0m\u001b[0mhist\u001b[0m\u001b[0;34m(\u001b[0m\u001b[0mnp\u001b[0m\u001b[0;34m.\u001b[0m\u001b[0marray\u001b[0m\u001b[0;34m(\u001b[0m\u001b[0mclust\u001b[0m\u001b[0;34m[\u001b[0m\u001b[0;34m'dist'\u001b[0m\u001b[0;34m]\u001b[0m\u001b[0;34m)\u001b[0m\u001b[0;34m,\u001b[0m\u001b[0mbins\u001b[0m\u001b[0;34m=\u001b[0m\u001b[0;36m50\u001b[0m\u001b[0;34m,\u001b[0m \u001b[0malpha\u001b[0m\u001b[0;34m=\u001b[0m\u001b[0;36m0.5\u001b[0m\u001b[0;34m)\u001b[0m\u001b[0;34m\u001b[0m\u001b[0;34m\u001b[0m\u001b[0m\n\u001b[0m\u001b[1;32m      4\u001b[0m \u001b[0max\u001b[0m\u001b[0;34m[\u001b[0m\u001b[0;36m0\u001b[0m\u001b[0;34m]\u001b[0m\u001b[0;34m.\u001b[0m\u001b[0mset_ylabel\u001b[0m\u001b[0;34m(\u001b[0m\u001b[0;34m'Number of objects'\u001b[0m\u001b[0;34m)\u001b[0m\u001b[0;34m\u001b[0m\u001b[0;34m\u001b[0m\u001b[0m\n\u001b[1;32m      5\u001b[0m \u001b[0mun\u001b[0m \u001b[0;34m=\u001b[0m \u001b[0mclust\u001b[0m\u001b[0;34m[\u001b[0m\u001b[0;34m'dist'\u001b[0m\u001b[0;34m]\u001b[0m\u001b[0;34m[\u001b[0m\u001b[0;36m0\u001b[0m\u001b[0;34m]\u001b[0m\u001b[0;34m.\u001b[0m\u001b[0munit\u001b[0m\u001b[0;34m\u001b[0m\u001b[0;34m\u001b[0m\u001b[0m\n",
      "\u001b[0;31mNameError\u001b[0m: name 'clust' is not defined"
     ]
    }
   ],
   "source": [
    "fig, ax = plt.subplots(1, 2, figsize=(12, 6))\n",
    "\n",
    "zz=ax[0].hist(np.array(clust['dist']),bins=50, alpha=0.5)\n",
    "ax[0].set_ylabel('Number of objects')\n",
    "un = clust['dist'][0].unit\n",
    "ax[0].set_xlabel(f'Distance ({un})')\n",
    "ax[0].set_title('Distance Histogram')\n",
    "N = len(clust['data'])\n",
    "ax[0].text(6000,4100,f'N = {N}')\n",
    "ax[0].grid(axis='y')\n",
    "ax[0].axvline(155, color='red',label=r'$\\alpha Per$')\n",
    "ax[0].legend()\n",
    "\n",
    "\n",
    "pcm=ax[1].scatter(clust['data'].pmra, clust['data'].pmdec, s=1., alpha=0.5,\n",
    "           c = clust['dist'],\n",
    "           cmap='plasma')\n",
    "\n",
    "un = clust['dist'][0].unit\n",
    "\n",
    "cbar = fig.colorbar(pcm)\n",
    "cbar.set_label(f'Distance ({un})', rotation=270)\n",
    "ax[1].set_xlim(-75,75)\n",
    "ax[1].set_ylim(-75,75)\n",
    "ax[1].set_title('Proper Motions')\n",
    "ax[1].set_ylabel('Declination')\n",
    "ax[1].set_xlabel('Right Ascension')"
   ]
  },
  {
   "cell_type": "code",
   "execution_count": 78,
   "metadata": {
    "colab": {
     "base_uri": "https://localhost:8080/",
     "height": 425
    },
    "colab_type": "code",
    "executionInfo": {
     "elapsed": 1298,
     "status": "ok",
     "timestamp": 1588119707000,
     "user": {
      "displayName": "Kevin McManus",
      "photoUrl": "https://lh3.googleusercontent.com/a-/AOh14GgwMjEuJarceAV9suB6UiTnSaIG6DRyBo2IeQ9r0g=s64",
      "userId": "04016601920382855806"
     },
     "user_tz": 360
    },
    "id": "T1lK3_HDSN82",
    "outputId": "cbbb731c-3f85-464c-e1b3-e5782c08910f"
   },
   "outputs": [
    {
     "ename": "NameError",
     "evalue": "name 'clust' is not defined",
     "output_type": "error",
     "traceback": [
      "\u001b[0;31m---------------------------------------------------------------------------\u001b[0m",
      "\u001b[0;31mNameError\u001b[0m                                 Traceback (most recent call last)",
      "\u001b[0;32m<ipython-input-78-366e41802fef>\u001b[0m in \u001b[0;36m<module>\u001b[0;34m\u001b[0m\n\u001b[1;32m      1\u001b[0m \u001b[0mfig\u001b[0m\u001b[0;34m,\u001b[0m \u001b[0max\u001b[0m \u001b[0;34m=\u001b[0m \u001b[0mplt\u001b[0m\u001b[0;34m.\u001b[0m\u001b[0msubplots\u001b[0m\u001b[0;34m(\u001b[0m\u001b[0;36m1\u001b[0m\u001b[0;34m,\u001b[0m \u001b[0;36m1\u001b[0m\u001b[0;34m,\u001b[0m \u001b[0mfigsize\u001b[0m\u001b[0;34m=\u001b[0m\u001b[0;34m(\u001b[0m\u001b[0;36m6\u001b[0m\u001b[0;34m,\u001b[0m \u001b[0;36m6\u001b[0m\u001b[0;34m)\u001b[0m\u001b[0;34m)\u001b[0m\u001b[0;34m\u001b[0m\u001b[0;34m\u001b[0m\u001b[0m\n\u001b[1;32m      2\u001b[0m \u001b[0;34m\u001b[0m\u001b[0m\n\u001b[0;32m----> 3\u001b[0;31m pcm = ax.scatter(clust['BP_RP'], clust['M_G'],\n\u001b[0m\u001b[1;32m      4\u001b[0m         marker='.', alpha=0.5,c = 'blue', s=2) #,\n\u001b[1;32m      5\u001b[0m            \u001b[0;31m#cmap='plasma_r', norm=colors.PowerNorm(gamma=0.5,vmin=gaia_data_r['teff_val'].min(), vmax=gaia_data_r['teff_val'].max()))\u001b[0m\u001b[0;34m\u001b[0m\u001b[0;34m\u001b[0m\u001b[0;34m\u001b[0m\u001b[0m\n",
      "\u001b[0;31mNameError\u001b[0m: name 'clust' is not defined"
     ]
    }
   ],
   "source": [
    "fig, ax = plt.subplots(1, 1, figsize=(6, 6))\n",
    "\n",
    "pcm = ax.scatter(clust['BP_RP'], clust['M_G'],\n",
    "        marker='.', alpha=0.5,c = 'blue', s=2) #,\n",
    "           #cmap='plasma_r', norm=colors.PowerNorm(gamma=0.5,vmin=gaia_data_r['teff_val'].min(), vmax=gaia_data_r['teff_val'].max()))\n",
    "\n",
    "#ax.set_xlim(0, 3)\n",
    "#ax.set_ylim(11, 1)\n",
    "ax.invert_yaxis()\n",
    "\n",
    "ax.set_xlabel('$G_{BP}-G_{RP}$')\n",
    "ax.set_ylabel('$M_G$')\n",
    "ax.set_title('HR Diagram')\n",
    "#cbar = fig.colorbar(pcm)\n",
    "#cbar.ax.set_ylabel( 'Effective Temperature (K)', rotation=270)"
   ]
  },
  {
   "cell_type": "code",
   "execution_count": null,
   "metadata": {
    "colab": {},
    "colab_type": "code",
    "id": "E4y550xISN87"
   },
   "outputs": [],
   "source": []
  }
 ],
 "metadata": {
  "colab": {
   "collapsed_sections": [
    "TmUYknx2XKNT",
    "9nKnnfIdjyXJ",
    "Dn9cv1mE5L91"
   ],
   "name": "cas-tau.ipynb",
   "provenance": [],
   "toc_visible": true
  },
  "kernelspec": {
   "display_name": "astro",
   "language": "python",
   "name": "astro"
  },
  "language_info": {
   "codemirror_mode": {
    "name": "ipython",
    "version": 3
   },
   "file_extension": ".py",
   "mimetype": "text/x-python",
   "name": "python",
   "nbconvert_exporter": "python",
   "pygments_lexer": "ipython3",
   "version": "3.7.7"
  }
 },
 "nbformat": 4,
 "nbformat_minor": 4
}
